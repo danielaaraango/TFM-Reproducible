{
 "cells": [
  {
   "cell_type": "markdown",
   "id": "4c9c3ea8-de93-44b3-9754-742877619c6d",
   "metadata": {},
   "source": [
    "# Amazon Sales Dataset"
   ]
  },
  {
   "cell_type": "markdown",
   "id": "176dfa4b-69e0-482f-8a71-2ba1dcd6d140",
   "metadata": {},
   "source": [
    "## Índice\n",
    "\n",
    "- [Depuración de los datos](#Depuración-de-los-datos)\n",
    "- [Análisis de contenido](#Análisis-de-contenido)\n",
    "- [Preprocesado y Normalización](#Preprocesado-y-Normalización)\n",
    "- [Creación de etiquetas y Vectorización](#Creación-de-etiquetas-y-Vectorización)\n",
    "- [División en train/test y Modelado](#División-en-train/test-y-Modelado)\n",
    "- [Predicción](#Predicción)\n",
    "- [Sistema de recomendación](#Sistema-de-recomendación)"
   ]
  },
  {
   "cell_type": "markdown",
   "id": "97e521e7-ae9c-4da0-b2df-687039acabbd",
   "metadata": {},
   "source": [
    "## Librerías y carga de archivo"
   ]
  },
  {
   "cell_type": "code",
   "execution_count": 1,
   "id": "05153eba-155e-43c7-883e-8b2c3a20388c",
   "metadata": {},
   "outputs": [
    {
     "name": "stderr",
     "output_type": "stream",
     "text": [
      "c:\\Users\\danie\\anaconda3\\envs\\risk_env\\Lib\\site-packages\\tqdm\\auto.py:21: TqdmWarning: IProgress not found. Please update jupyter and ipywidgets. See https://ipywidgets.readthedocs.io/en/stable/user_install.html\n",
      "  from .autonotebook import tqdm as notebook_tqdm\n",
      "None of PyTorch, TensorFlow >= 2.0, or Flax have been found. Models won't be available and only tokenizers, configuration and file/data utilities can be used.\n"
     ]
    }
   ],
   "source": [
    "import pandas as pd\n",
    "import numpy as np\n",
    "\n",
    "import matplotlib.pyplot as plt\n",
    "import seaborn as sns\n",
    "\n",
    "from nltk.corpus import stopwords\n",
    "from tqdm import tqdm\n",
    "from wordcloud import WordCloud\n",
    "tqdm.pandas()\n",
    "from transformers import AutoTokenizer\n",
    "import spacy\n",
    "import scipy as sp\n",
    "import en_core_web_sm\n",
    "from imblearn.over_sampling import SMOTE\n",
    "from textblob import TextBlob\n",
    "\n",
    "from sklearn.feature_extraction.text import TfidfVectorizer\n",
    "from sklearn.linear_model import LogisticRegression\n",
    "from sklearn.model_selection import train_test_split\n",
    "from sklearn.metrics import f1_score, confusion_matrix\n",
    "from sklearn.metrics import classification_report\n",
    "from sklearn.tree import DecisionTreeClassifier\n",
    "from sklearn.naive_bayes import GaussianNB\n",
    "from sklearn.ensemble import RandomForestClassifier\n",
    "from sklearn.metrics import f1_score, confusion_matrix\n",
    "from sklearn.metrics import classification_report\n",
    "from sklearn.model_selection import KFold\n",
    "from sklearn.model_selection import cross_val_score\n",
    "from sklearn.model_selection import GridSearchCV, RandomizedSearchCV\n",
    "\n",
    "from sklearn.metrics import ConfusionMatrixDisplay\n",
    "from sklearn.metrics.pairwise import cosine_similarity\n",
    "from sklearn.preprocessing import LabelEncoder\n",
    "\n",
    "from sklearn.model_selection import (KFold, cross_val_score,cross_validate)\n",
    "from sklearn.metrics import make_scorer, accuracy_score, precision_score, recall_score, f1_score\n",
    "\n",
    "import warnings\n",
    "warnings.filterwarnings('ignore')"
   ]
  },
  {
   "cell_type": "markdown",
   "id": "4cf60c45-79fa-4e48-b095-75e004771143",
   "metadata": {},
   "source": [
    "Cargamos el archivo csv que contiene los datos necesarios y renombramos las variables."
   ]
  },
  {
   "cell_type": "code",
   "execution_count": 2,
   "id": "559d7900-2037-48cf-85e9-da13e5f12570",
   "metadata": {},
   "outputs": [],
   "source": [
    "reviews = pd.read_csv('C:\\\\Users\\\\danie\\\\Desktop\\\\TFM\\\\Amazon Reviews.csv')"
   ]
  },
  {
   "cell_type": "code",
   "execution_count": 3,
   "id": "c06cda33-d2a8-4a0a-984d-175e24343e56",
   "metadata": {},
   "outputs": [],
   "source": [
    "reviews.rename({'product_id': 'ID_producto', 'product_name': 'Producto', 'category': 'Categoria', 'discounted_price': 'Precio_descontado', \n",
    "                'actual_price': 'Precio_real', 'discount_percentage': 'Porcentaje_descuento', 'rating': 'Calificacion', \n",
    "                'rating_count': 'Recuento_votos', 'about_product': 'Descripcion_producto', 'user_id': 'ID_usuario', 'user_name': 'Nombre_usuario', \n",
    "                'review_id': 'ID_reseña', 'review_title': 'Titulo_reseña', 'review_content': 'Reseña', 'img_link':'Link_imagen',\n",
    "                'product_link':'Link_producto'}, axis=1, inplace= True)"
   ]
  },
  {
   "cell_type": "markdown",
   "id": "30babaca-81d8-40cb-ab91-5715932b1e1c",
   "metadata": {},
   "source": [
    "## Depuración de los datos"
   ]
  },
  {
   "cell_type": "markdown",
   "id": "d35a6e1f-c8f9-48e2-8272-125d139f948d",
   "metadata": {},
   "source": [
    "Para comenzar, utilizaremos las funciones ```head()```, ```info()``` y ```nunique()```, que nos proporcionarán los primeros datos."
   ]
  },
  {
   "cell_type": "code",
   "execution_count": 4,
   "id": "0dd66774-a399-47a6-8291-204fcc5acca6",
   "metadata": {},
   "outputs": [
    {
     "data": {
      "text/html": [
       "<div>\n",
       "<style scoped>\n",
       "    .dataframe tbody tr th:only-of-type {\n",
       "        vertical-align: middle;\n",
       "    }\n",
       "\n",
       "    .dataframe tbody tr th {\n",
       "        vertical-align: top;\n",
       "    }\n",
       "\n",
       "    .dataframe thead th {\n",
       "        text-align: right;\n",
       "    }\n",
       "</style>\n",
       "<table border=\"1\" class=\"dataframe\">\n",
       "  <thead>\n",
       "    <tr style=\"text-align: right;\">\n",
       "      <th></th>\n",
       "      <th>ID_producto</th>\n",
       "      <th>Producto</th>\n",
       "      <th>Categoria</th>\n",
       "      <th>Precio_descontado</th>\n",
       "      <th>Precio_real</th>\n",
       "      <th>Porcentaje_descuento</th>\n",
       "      <th>Calificacion</th>\n",
       "      <th>Recuento_votos</th>\n",
       "      <th>Descripcion_producto</th>\n",
       "      <th>ID_usuario</th>\n",
       "      <th>Nombre_usuario</th>\n",
       "      <th>ID_reseña</th>\n",
       "      <th>Titulo_reseña</th>\n",
       "      <th>Reseña</th>\n",
       "      <th>Link_imagen</th>\n",
       "      <th>Link_producto</th>\n",
       "    </tr>\n",
       "  </thead>\n",
       "  <tbody>\n",
       "    <tr>\n",
       "      <th>0</th>\n",
       "      <td>B07JW9H4J1</td>\n",
       "      <td>Wayona Nylon Braided USB to Lightning Fast Cha...</td>\n",
       "      <td>Computers&amp;Accessories|Accessories&amp;Peripherals|...</td>\n",
       "      <td>₹399</td>\n",
       "      <td>₹1,099</td>\n",
       "      <td>64%</td>\n",
       "      <td>4.2</td>\n",
       "      <td>24,269</td>\n",
       "      <td>High Compatibility : Compatible With iPhone 12...</td>\n",
       "      <td>AG3D6O4STAQKAY2UVGEUV46KN35Q,AHMY5CWJMMK5BJRBB...</td>\n",
       "      <td>Manav,Adarsh gupta,Sundeep,S.Sayeed Ahmed,jasp...</td>\n",
       "      <td>R3HXWT0LRP0NMF,R2AJM3LFTLZHFO,R6AQJGUP6P86,R1K...</td>\n",
       "      <td>Satisfied,Charging is really fast,Value for mo...</td>\n",
       "      <td>Looks durable Charging is fine tooNo complains...</td>\n",
       "      <td>https://m.media-amazon.com/images/W/WEBP_40237...</td>\n",
       "      <td>https://www.amazon.in/Wayona-Braided-WN3LG1-Sy...</td>\n",
       "    </tr>\n",
       "    <tr>\n",
       "      <th>1</th>\n",
       "      <td>B098NS6PVG</td>\n",
       "      <td>Ambrane Unbreakable 60W / 3A Fast Charging 1.5...</td>\n",
       "      <td>Computers&amp;Accessories|Accessories&amp;Peripherals|...</td>\n",
       "      <td>₹199</td>\n",
       "      <td>₹349</td>\n",
       "      <td>43%</td>\n",
       "      <td>4.0</td>\n",
       "      <td>43,994</td>\n",
       "      <td>Compatible with all Type C enabled devices, be...</td>\n",
       "      <td>AECPFYFQVRUWC3KGNLJIOREFP5LQ,AGYYVPDD7YG7FYNBX...</td>\n",
       "      <td>ArdKn,Nirbhay kumar,Sagar Viswanathan,Asp,Plac...</td>\n",
       "      <td>RGIQEG07R9HS2,R1SMWZQ86XIN8U,R2J3Y1WL29GWDE,RY...</td>\n",
       "      <td>A Good Braided Cable for Your Type C Device,Go...</td>\n",
       "      <td>I ordered this cable to connect my phone to An...</td>\n",
       "      <td>https://m.media-amazon.com/images/W/WEBP_40237...</td>\n",
       "      <td>https://www.amazon.in/Ambrane-Unbreakable-Char...</td>\n",
       "    </tr>\n",
       "    <tr>\n",
       "      <th>2</th>\n",
       "      <td>B096MSW6CT</td>\n",
       "      <td>Sounce Fast Phone Charging Cable &amp; Data Sync U...</td>\n",
       "      <td>Computers&amp;Accessories|Accessories&amp;Peripherals|...</td>\n",
       "      <td>₹199</td>\n",
       "      <td>₹1,899</td>\n",
       "      <td>90%</td>\n",
       "      <td>3.9</td>\n",
       "      <td>7,928</td>\n",
       "      <td>【 Fast Charger&amp; Data Sync】-With built-in safet...</td>\n",
       "      <td>AGU3BBQ2V2DDAMOAKGFAWDDQ6QHA,AESFLDV2PT363T2AQ...</td>\n",
       "      <td>Kunal,Himanshu,viswanath,sai niharka,saqib mal...</td>\n",
       "      <td>R3J3EQQ9TZI5ZJ,R3E7WBGK7ID0KV,RWU79XKQ6I1QF,R2...</td>\n",
       "      <td>Good speed for earlier versions,Good Product,W...</td>\n",
       "      <td>Not quite durable and sturdy,https://m.media-a...</td>\n",
       "      <td>https://m.media-amazon.com/images/W/WEBP_40237...</td>\n",
       "      <td>https://www.amazon.in/Sounce-iPhone-Charging-C...</td>\n",
       "    </tr>\n",
       "    <tr>\n",
       "      <th>3</th>\n",
       "      <td>B08HDJ86NZ</td>\n",
       "      <td>boAt Deuce USB 300 2 in 1 Type-C &amp; Micro USB S...</td>\n",
       "      <td>Computers&amp;Accessories|Accessories&amp;Peripherals|...</td>\n",
       "      <td>₹329</td>\n",
       "      <td>₹699</td>\n",
       "      <td>53%</td>\n",
       "      <td>4.2</td>\n",
       "      <td>94,363</td>\n",
       "      <td>The boAt Deuce USB 300 2 in 1 cable is compati...</td>\n",
       "      <td>AEWAZDZZJLQUYVOVGBEUKSLXHQ5A,AG5HTSFRRE6NL3M5S...</td>\n",
       "      <td>Omkar dhale,JD,HEMALATHA,Ajwadh a.,amar singh ...</td>\n",
       "      <td>R3EEUZKKK9J36I,R3HJVYCLYOY554,REDECAZ7AMPQC,R1...</td>\n",
       "      <td>Good product,Good one,Nice,Really nice product...</td>\n",
       "      <td>Good product,long wire,Charges good,Nice,I bou...</td>\n",
       "      <td>https://m.media-amazon.com/images/I/41V5FtEWPk...</td>\n",
       "      <td>https://www.amazon.in/Deuce-300-Resistant-Tang...</td>\n",
       "    </tr>\n",
       "    <tr>\n",
       "      <th>4</th>\n",
       "      <td>B08CF3B7N1</td>\n",
       "      <td>Portronics Konnect L 1.2M Fast Charging 3A 8 P...</td>\n",
       "      <td>Computers&amp;Accessories|Accessories&amp;Peripherals|...</td>\n",
       "      <td>₹154</td>\n",
       "      <td>₹399</td>\n",
       "      <td>61%</td>\n",
       "      <td>4.2</td>\n",
       "      <td>16,905</td>\n",
       "      <td>[CHARGE &amp; SYNC FUNCTION]- This cable comes wit...</td>\n",
       "      <td>AE3Q6KSUK5P75D5HFYHCRAOLODSA,AFUGIFH5ZAFXRDSZH...</td>\n",
       "      <td>rahuls6099,Swasat Borah,Ajay Wadke,Pranali,RVK...</td>\n",
       "      <td>R1BP4L2HH9TFUP,R16PVJEXKV6QZS,R2UPDB81N66T4P,R...</td>\n",
       "      <td>As good as original,Decent,Good one for second...</td>\n",
       "      <td>Bought this instead of original apple, does th...</td>\n",
       "      <td>https://m.media-amazon.com/images/W/WEBP_40237...</td>\n",
       "      <td>https://www.amazon.in/Portronics-Konnect-POR-1...</td>\n",
       "    </tr>\n",
       "  </tbody>\n",
       "</table>\n",
       "</div>"
      ],
      "text/plain": [
       "  ID_producto                                           Producto  \\\n",
       "0  B07JW9H4J1  Wayona Nylon Braided USB to Lightning Fast Cha...   \n",
       "1  B098NS6PVG  Ambrane Unbreakable 60W / 3A Fast Charging 1.5...   \n",
       "2  B096MSW6CT  Sounce Fast Phone Charging Cable & Data Sync U...   \n",
       "3  B08HDJ86NZ  boAt Deuce USB 300 2 in 1 Type-C & Micro USB S...   \n",
       "4  B08CF3B7N1  Portronics Konnect L 1.2M Fast Charging 3A 8 P...   \n",
       "\n",
       "                                           Categoria Precio_descontado  \\\n",
       "0  Computers&Accessories|Accessories&Peripherals|...              ₹399   \n",
       "1  Computers&Accessories|Accessories&Peripherals|...              ₹199   \n",
       "2  Computers&Accessories|Accessories&Peripherals|...              ₹199   \n",
       "3  Computers&Accessories|Accessories&Peripherals|...              ₹329   \n",
       "4  Computers&Accessories|Accessories&Peripherals|...              ₹154   \n",
       "\n",
       "  Precio_real Porcentaje_descuento Calificacion Recuento_votos  \\\n",
       "0      ₹1,099                  64%          4.2         24,269   \n",
       "1        ₹349                  43%          4.0         43,994   \n",
       "2      ₹1,899                  90%          3.9          7,928   \n",
       "3        ₹699                  53%          4.2         94,363   \n",
       "4        ₹399                  61%          4.2         16,905   \n",
       "\n",
       "                                Descripcion_producto  \\\n",
       "0  High Compatibility : Compatible With iPhone 12...   \n",
       "1  Compatible with all Type C enabled devices, be...   \n",
       "2  【 Fast Charger& Data Sync】-With built-in safet...   \n",
       "3  The boAt Deuce USB 300 2 in 1 cable is compati...   \n",
       "4  [CHARGE & SYNC FUNCTION]- This cable comes wit...   \n",
       "\n",
       "                                          ID_usuario  \\\n",
       "0  AG3D6O4STAQKAY2UVGEUV46KN35Q,AHMY5CWJMMK5BJRBB...   \n",
       "1  AECPFYFQVRUWC3KGNLJIOREFP5LQ,AGYYVPDD7YG7FYNBX...   \n",
       "2  AGU3BBQ2V2DDAMOAKGFAWDDQ6QHA,AESFLDV2PT363T2AQ...   \n",
       "3  AEWAZDZZJLQUYVOVGBEUKSLXHQ5A,AG5HTSFRRE6NL3M5S...   \n",
       "4  AE3Q6KSUK5P75D5HFYHCRAOLODSA,AFUGIFH5ZAFXRDSZH...   \n",
       "\n",
       "                                      Nombre_usuario  \\\n",
       "0  Manav,Adarsh gupta,Sundeep,S.Sayeed Ahmed,jasp...   \n",
       "1  ArdKn,Nirbhay kumar,Sagar Viswanathan,Asp,Plac...   \n",
       "2  Kunal,Himanshu,viswanath,sai niharka,saqib mal...   \n",
       "3  Omkar dhale,JD,HEMALATHA,Ajwadh a.,amar singh ...   \n",
       "4  rahuls6099,Swasat Borah,Ajay Wadke,Pranali,RVK...   \n",
       "\n",
       "                                           ID_reseña  \\\n",
       "0  R3HXWT0LRP0NMF,R2AJM3LFTLZHFO,R6AQJGUP6P86,R1K...   \n",
       "1  RGIQEG07R9HS2,R1SMWZQ86XIN8U,R2J3Y1WL29GWDE,RY...   \n",
       "2  R3J3EQQ9TZI5ZJ,R3E7WBGK7ID0KV,RWU79XKQ6I1QF,R2...   \n",
       "3  R3EEUZKKK9J36I,R3HJVYCLYOY554,REDECAZ7AMPQC,R1...   \n",
       "4  R1BP4L2HH9TFUP,R16PVJEXKV6QZS,R2UPDB81N66T4P,R...   \n",
       "\n",
       "                                       Titulo_reseña  \\\n",
       "0  Satisfied,Charging is really fast,Value for mo...   \n",
       "1  A Good Braided Cable for Your Type C Device,Go...   \n",
       "2  Good speed for earlier versions,Good Product,W...   \n",
       "3  Good product,Good one,Nice,Really nice product...   \n",
       "4  As good as original,Decent,Good one for second...   \n",
       "\n",
       "                                              Reseña  \\\n",
       "0  Looks durable Charging is fine tooNo complains...   \n",
       "1  I ordered this cable to connect my phone to An...   \n",
       "2  Not quite durable and sturdy,https://m.media-a...   \n",
       "3  Good product,long wire,Charges good,Nice,I bou...   \n",
       "4  Bought this instead of original apple, does th...   \n",
       "\n",
       "                                         Link_imagen  \\\n",
       "0  https://m.media-amazon.com/images/W/WEBP_40237...   \n",
       "1  https://m.media-amazon.com/images/W/WEBP_40237...   \n",
       "2  https://m.media-amazon.com/images/W/WEBP_40237...   \n",
       "3  https://m.media-amazon.com/images/I/41V5FtEWPk...   \n",
       "4  https://m.media-amazon.com/images/W/WEBP_40237...   \n",
       "\n",
       "                                       Link_producto  \n",
       "0  https://www.amazon.in/Wayona-Braided-WN3LG1-Sy...  \n",
       "1  https://www.amazon.in/Ambrane-Unbreakable-Char...  \n",
       "2  https://www.amazon.in/Sounce-iPhone-Charging-C...  \n",
       "3  https://www.amazon.in/Deuce-300-Resistant-Tang...  \n",
       "4  https://www.amazon.in/Portronics-Konnect-POR-1...  "
      ]
     },
     "execution_count": 4,
     "metadata": {},
     "output_type": "execute_result"
    }
   ],
   "source": [
    "reviews.head()"
   ]
  },
  {
   "cell_type": "code",
   "execution_count": 5,
   "id": "54f7f3eb-a357-46e1-8bfc-a920a07a126c",
   "metadata": {},
   "outputs": [
    {
     "data": {
      "text/plain": [
       "Reseña\n",
       "I am not big on camera usage, personally. I was even mentally prepared for a bad camera, based on some reviews here. But I was pleasantly surprised that camera clicks good photos. They are not awesome, but they are decent photos that can even be shared.Now coming to my biggest grouse; heating issue. The phone started heating up while charging, but it was just a little and so I could have ignored it. But then it started heating up more and got me very concerned. I even ordered a replacement thinking I got a defective piece. But then, after further tests, I found that it is heating more when I download huge amounts of data, for example, when I restore data of my old phone, from back up. This is ok with me as, I don't perform huge data loads regularly, definitely not on phone. Then I tested by running tasks I usually perform such as checking office mails, attending office meeting on phone, watching a video from Amazon Prime, and so on. The phone did not heat up even a little. Personally, this is good for me.At this price range, this is a good phone. But if you are camera heavy user and expect to perform heavy downloads frequently, this phone may not for you. I am personally satisfied with this phone as it works for my type of usage. I will not go into plus points of this phone as they are covered by other reviews already. I am only attempting to clarify about how this phone can suit you (or not) in terms of camera and heating. I had many questions about these aspects before buying. Perhaps this review will help you make an informed decision to buy (or avoid). Cheers.,Display - BeautyCamera - decentPerformance - AmazingBattery - ok (in 5000mah u expect more tbh)Overall good phone...Also after 1day of use, i found some network connectivity issue in my jiosim, which I'm using right now in this phone, but I'll keep update this review after 1month of usage!,It's a decent mobile under this price but few things worried me , weight of the phone, too many procedure to change some settings, no screen casting. Apart from that it has good touch, a decent camera for day light , battery life is good.,I bought this smartphone for my mom. Samusung interface is very handful for easy use. Battery is superb, last whole day. Camera is mediocre but provide original colour pictures. All in all satisfied with this smartphone that i got in sale for 9499.,Unable to do video call within same service provider as in VOLTE within same service provider video call feature is available.,Product is fine.  Nothing Fancy but for the budget it is a good phone.,BATTERY : more than enough for normal use  Not sure in gamingCAMERA : good in this segment , can record  videos in FHD 30fpsDISPLAY : since it's a LCD display the quality is  a bit less , but goodV RAM : you can add upto 2gb of virtual ram  but have to sacrifice your storage  Space to use it  OVERALL A GOOD BUDGET PHONE,Finger print is working speedy battery backup is good camera quality is also good    8\n",
       "Worked on iPhone 7 and didn’t work on iPhone XR,https://m.media-amazon.com/images/I/71qFFAlV9ZL._SY88.jpg,Look-wise, I didn’t like it. Still, I use it for my work.,Product is quite good and is fast charging.Loved it.,I like it . Looks last long.,The sturdiness will depend on the manner of its use. But its speed of charging is great. Very good product for the average income group.,It's great for charging devices with various types of ports. But works best when charging one device at a time.,Good item.                                                                                                                                                                                                                                                                                                                                                                                                                                                                                                                                                                                                                                                                                                                                                                                                                                                                                                                                                                                                                                                                                                                                                                                                                                                                                                                                                                                                                                                                                                                                                                                                                                                                                                                                                                                                                                                                                                                                                                                                                                                                                                                                                                                                                                                                                                                                                                                                                                                                                                                                                                      7\n",
       "I ordered this cable to connect my phone to Android Auto of car. The cable is really strong and the connection ports are really well made. I already has a Micro USB cable from Ambrane and it's still in good shape. I connected my phone to the car using the cable and it got connected well and no issues. I also connected it to the charging port and yes it has Fast Charging support.,It quality is good at this price and the main thing is that i didn't ever thought that this cable will be so long it's good one and charging power is too good and also supports fast charging,Value for money, with extra length👍,Good, working fine,Product quality is good,Good,very good,Bought for my daughter's old phone.Brand new cable it was not charging, I already repacked and requested for replacement.I checked again, and there was some green colour paste/fungus inside the micro USB connector. I cleaned with an alcoholic and starts working again.Checked the ampere of charging speed got around 1400ma-1500ma - not bad, came with braided 1.5m long cable, pretty impressive for the price.Can't blame the manufacturer.But quality issues by the distributor, they might have stored in very humid place.                                                                                                                                                                                                                                                                                                                                                                                                                                                                                                                                                                                                                                                                                                                                                                                                                                                                                                                                                                                                                                                                                                                                                                                                                                                                                                                                                                                                                                                                                                                                                                                                                                                                                                                                                                                                                                                             7\n",
       "Good product,long wire,Charges good,Nice,I bought this cable for Rs.339 worthy product for this price, i tested it in various charger adapters 33w and 18w it supports fast charging as well.,Good,Ok,I had got this at good price on sale on Amazon and product is useful with warranty but for warranty you need to go very far not practical for such a cost and mine micro to type c connector stopped working after few days only.,I like this product                                                                                                                                                                                                                                                                                                                                                                                                                                                                                                                                                                                                                                                                                                                                                                                                                                                                                                                                                                                                                                                                                                                                                                                                                                                                                                                                                                                                                                                                                                                                                                                                                                                                                                                                                                                                                                                                                                                                                                                                                                                                                                                                                                                                                                                                                                                                                                                                                                                                                                                                                                                                                                    7\n",
       "128GB SD Card is showing 134GBDon't buy this product,It was a bit costly but prouduct is of great quality. Could have been made little bit cheaper cost wise.,All good,Fast and smooth,Ab mujhe computer ki jarurat nahi padti,Speed is fast but not as advertise I get around read speed 70MB/s and write speed 30MB/s,Good one,Product is ok.                                                                                                                                                                                                                                                                                                                                                                                                                                                                                                                                                                                                                                                                                                                                                                                                                                                                                                                                                                                                                                                                                                                                                                                                                                                                                                                                                                                                                                                                                                                                                                                                                                                                                                                                                                                                                                                                                                                                                                                                                                                                                                                                                                                                                                                                                                                                                                                                                                                                                                                                                                                                                                                                                                                                                6\n",
       "                                                                                                                                                                                                                                                                                                                                                                                                                                                                                                                                                                                                                                                                                                                                                                                                                                                                                                                                                                                                                                                                                                                                                                                                                                                                                                                                                                                                                                                                                                                                                                                                                                                                                                                                                                                                                                                                                                                                                                                                                                                                                                                                                                                                                                                                                                                                                                                                                                                                                                                                                                                                                                                                                                                                                                                                                                                                                                                                                                                                                                                                                              ..\n",
       "I generally don't write reviews on Amazon. But this product is worth every penny.Amazing Product1. It is sturdy2. Good heavy-quality metal is used yet still lightweight and portable.3. Can be easily carried in 1 hand4. On Full Open, total Height reaches 5ft 9in (so can even cover if there's a stage)After buying this, I even surveyed the local market, I can now confidently say I have invested in the right product.There are products available for 1,000 Rs, but paying another just 500Rs for such a quality product is a better decision (Keeping in mind long-term use).,Its been 1 yerar 3month i am using the stand fr my video shoots ... Either its indoor or outdoor ..the stand is so strong and so many option to manage your stability and angle.. Even its so handy that often i use it just holding it like a gimble (though it do not stabilize the video) but i am very use to of it bcs of its  compact look...Go fr it... You will not regret 🤞🏻,Likes:Robust, durable, very well assembled.Dislikes:Due to strong built up, and bigger in size it is difficult to record video of the downside part as tripod legs come in the picture along.As mentioned in the product details, phone holder not included. I purchased a new one alongwith this product. However, there was one phone holder given in the Tripod Box. Due to this false detail, I had to purchase one more phone holder which is under non-returnable products category and is to be kept now.,Same As shown In PicturesGood And Well StableReally Wanted One for My video shootsMust Have For Camera And SmartphonesThey Say It Doesn't Have phone Holder, But They have Sent One Included, So Don't Order Already One.Thank You Soo Much For That Merchant.,Mastttt,I really like this amazing product. Worthy money buying it. Don't worry about negative reviews.you are worth buying it. Tqs,Ok,                                                                                                                                                                                                                                                                                                                                                                                                                                                                                                                                                                                                                                                                                                                                                                                                                                                                                                                                                                                                                                                                                                                                                                                        1\n",
       "It's a china product to be clear. Look and feel is good. Base of the device is little wider, so if you have 3-pin socket points consecutively then ysing the next socket could be difficult.The wi-fi signal strength is good as extender but it reduces internet speed. For example my internet speed is 30 mbps which I get if directly connected to my primary router / network. But if connected through extender it downgrades to 18-19 mbps. Overall okay to use. I would have been happy to see a made in India device as the price is also not very low, but unfortunately India is not manufacturing any.. it seems.,https://m.media-amazon.com/images/W/WEBP_402378-T1/images/I/716UbI+jJjL._SY88.jpg,Single band is an ancient technology.This device will supply only 2.4 ghzThat means 5ghz will not be available in your room where you choose to use this.,It was difficult to use and install at first, after that it’s been working perfectly with great signal strength!,It is a good product valued for money but I think it should be sometimes give low speed,I wish I could have ordered dual band ...But so far it's giving satisfactory service,Working fine,Product is ok but it’s only for 2.4ghz mistakenly got it                                                                                                                                                                                                                                                                                                                                                                                                                                                                                                                                                                                                                                                                                                                                                                                                                                                                                                                                                                                                                                                                                                                                                                                                                                                                                                                                                                                                                                                                                                                                                                                                                                                                                                                                                                                                                                                  1\n",
       "Compact product to use during travels or even at home. I don't need to search for different items. I can just grab it and use it for multiple purposes. Go for it!,Good for taking notes and reminders in a single pack.,This is especially for those who are used to be more comfortable to be organised.,Nice product,You can carry it with you anywhere.... There is no need to worry about space. You can makea list make a note and absolutely you can re-use it.,Product is good indeed I wanted to buy it for long but it is costly,,Today i received my package and yeah it is really cute.Not fully satisfied with the cover but overall its good. Worth it. It is all in good condition and it also comes with a pen too.  Really recommend you to buy ut.                                                                                                                                                                                                                                                                                                                                                                                                                                                                                                                                                                                                                                                                                                                                                                                                                                                                                                                                                                                                                                                                                                                                                                                                                                                                                                                                                                                                                                                                                                                                                                                                                                                                                                                                                                                                                                                                                                                                                                                                                                                                                                                                                                                                                                                                                                                           1\n",
       "https://m.media-amazon.com/images/I/6171Cw2IlPL._SY88.jpg,100% genuine and perfect product.,Good,Worth the money as its a fun experience to use instant cam!Product is original with good packaging!,The top most amazing feature is it makes pictures look like the old 80’s.. but one problem is few don’t develop at all.,Nice, as per expectations,This is bad after 1 month,Okay productWorth the purchase.                                                                                                                                                                                                                                                                                                                                                                                                                                                                                                                                                                                                                                                                                                                                                                                                                                                                                                                                                                                                                                                                                                                                                                                                                                                                                                                                                                                                                                                                                                                                                                                                                                                                                                                                                                                                                                                                                                                                                                                                                                                                                                                                                                                                                                                                                                                                                                                                                                                                                                                                                                                                                                                                               1\n",
       "It does it job perfectly..only issue is temp control is not perfect . U need to keep checking the browness of sandwich untill it gets upto ur choise,Product is good, but the control knob is to be be modified cause after the cooking process completes the control knob should be return back to initial starting place. If not that process timer should be given basically. So think well what happens whether didn't had atleast one option.Not a indicator option.,It is a nice product, easy to use. The grilling function is also wonderful. But the exterior metallic finish picks up finger marks and other spots which tend to become permanent. Cleaning them is almost impossible.,Very good product,This is a pretty powerful sandwich maker, for home use. The product looks good, has a sturdy build, and heats up quick. The sandwiches are made pretty quickly, without burning.,बोरोसिल ब्रांड का यह \"सेंडविच मेकर\" देखने में तो अच्छा लगता है मगर इसकी बिल्ड क्वालिटी अच्छी नहीं है।  यह लगभग Rs 3000 के आसपास आता है।  इस प्रकार की बिल्ड क्वालिटी ₹2000 के करीब मिल जाती है तो कोई क्यों ₹1000 अधिक भुगतान करें।  पहले मैंने इसे review देखने के बाद ऑर्डर किया था लेकिन जब घर पर डिलीवरी होने के पश्चात  unboxing करके देखा तो इसकी बिल्ड क्वालिटी कुछ खास नहीं लगी इसलिए अपने पैसे बचाने के लिए मैंने इसे वापस भेज दिया। मैंने इसकी पैकेजिंग, मैनुअल और सैंडविच मेकर की फोटोग्राफ आप सभी से शेयर की है।  आप स्वयं देख के अनुमान लगा सकते हैं।,Recommend work as expected,Its easy tp use                                                                                                                                                                                                                                                                                                                                                                                                                                                                                                                                                                                                                                                                                                                                                                                                                                                                                                                                                                                                                                                                                                                                                                                                                                                                                                                                                                                                                                                                                                                                                                              1\n",
       "Name: count, Length: 1212, dtype: int64"
      ]
     },
     "execution_count": 5,
     "metadata": {},
     "output_type": "execute_result"
    }
   ],
   "source": [
    "reviews.Reseña.value_counts()"
   ]
  },
  {
   "cell_type": "code",
   "execution_count": 6,
   "id": "823f359a-30d6-4dba-bc26-ca0357aa35a1",
   "metadata": {},
   "outputs": [
    {
     "name": "stdout",
     "output_type": "stream",
     "text": [
      "<class 'pandas.core.frame.DataFrame'>\n",
      "RangeIndex: 1465 entries, 0 to 1464\n",
      "Data columns (total 16 columns):\n",
      " #   Column                Non-Null Count  Dtype \n",
      "---  ------                --------------  ----- \n",
      " 0   ID_producto           1465 non-null   object\n",
      " 1   Producto              1465 non-null   object\n",
      " 2   Categoria             1465 non-null   object\n",
      " 3   Precio_descontado     1465 non-null   object\n",
      " 4   Precio_real           1465 non-null   object\n",
      " 5   Porcentaje_descuento  1465 non-null   object\n",
      " 6   Calificacion          1465 non-null   object\n",
      " 7   Recuento_votos        1463 non-null   object\n",
      " 8   Descripcion_producto  1465 non-null   object\n",
      " 9   ID_usuario            1465 non-null   object\n",
      " 10  Nombre_usuario        1465 non-null   object\n",
      " 11  ID_reseña             1465 non-null   object\n",
      " 12  Titulo_reseña         1465 non-null   object\n",
      " 13  Reseña                1465 non-null   object\n",
      " 14  Link_imagen           1465 non-null   object\n",
      " 15  Link_producto         1465 non-null   object\n",
      "dtypes: object(16)\n",
      "memory usage: 183.3+ KB\n"
     ]
    }
   ],
   "source": [
    "reviews.info()"
   ]
  },
  {
   "cell_type": "code",
   "execution_count": 7,
   "id": "c394eb29-9b34-4d56-a7a2-4f4e06095a03",
   "metadata": {},
   "outputs": [
    {
     "data": {
      "text/plain": [
       "ID_producto             1351\n",
       "Producto                1337\n",
       "Categoria                211\n",
       "Precio_descontado        550\n",
       "Precio_real              449\n",
       "Porcentaje_descuento      92\n",
       "Calificacion              28\n",
       "Recuento_votos          1143\n",
       "Descripcion_producto    1293\n",
       "ID_usuario              1194\n",
       "Nombre_usuario          1194\n",
       "ID_reseña               1194\n",
       "Titulo_reseña           1194\n",
       "Reseña                  1212\n",
       "Link_imagen             1412\n",
       "Link_producto           1465\n",
       "dtype: int64"
      ]
     },
     "execution_count": 7,
     "metadata": {},
     "output_type": "execute_result"
    }
   ],
   "source": [
    "reviews.nunique()"
   ]
  },
  {
   "cell_type": "markdown",
   "id": "14e4ecfd-ae8d-47d6-8b74-b5ee850e6de9",
   "metadata": {},
   "source": [
    "Ahora utilizaremos la función ```isnull()``` para ver si hay nulos en el dataset."
   ]
  },
  {
   "cell_type": "code",
   "execution_count": 8,
   "id": "52db9d3f-5af4-45dd-9f56-160592316d09",
   "metadata": {
    "scrolled": true
   },
   "outputs": [
    {
     "data": {
      "text/plain": [
       "ID_producto             0\n",
       "Producto                0\n",
       "Categoria               0\n",
       "Precio_descontado       0\n",
       "Precio_real             0\n",
       "Porcentaje_descuento    0\n",
       "Calificacion            0\n",
       "Recuento_votos          2\n",
       "Descripcion_producto    0\n",
       "ID_usuario              0\n",
       "Nombre_usuario          0\n",
       "ID_reseña               0\n",
       "Titulo_reseña           0\n",
       "Reseña                  0\n",
       "Link_imagen             0\n",
       "Link_producto           0\n",
       "dtype: int64"
      ]
     },
     "execution_count": 8,
     "metadata": {},
     "output_type": "execute_result"
    }
   ],
   "source": [
    "reviews.isnull().sum()"
   ]
  },
  {
   "cell_type": "markdown",
   "id": "293909ef-ed00-49f7-95f0-548e8752cf78",
   "metadata": {},
   "source": [
    "Como solo hay dos nulos, lo que haremos será eliminarlos."
   ]
  },
  {
   "cell_type": "code",
   "execution_count": 9,
   "id": "b46184e0-4f4c-4b79-a8d4-088e9ca9c9f2",
   "metadata": {
    "scrolled": true
   },
   "outputs": [
    {
     "data": {
      "text/plain": [
       "ID_producto             0\n",
       "Producto                0\n",
       "Categoria               0\n",
       "Precio_descontado       0\n",
       "Precio_real             0\n",
       "Porcentaje_descuento    0\n",
       "Calificacion            0\n",
       "Recuento_votos          0\n",
       "Descripcion_producto    0\n",
       "ID_usuario              0\n",
       "Nombre_usuario          0\n",
       "ID_reseña               0\n",
       "Titulo_reseña           0\n",
       "Reseña                  0\n",
       "Link_imagen             0\n",
       "Link_producto           0\n",
       "dtype: int64"
      ]
     },
     "execution_count": 9,
     "metadata": {},
     "output_type": "execute_result"
    }
   ],
   "source": [
    "reviews = reviews.dropna()\n",
    "reviews.isnull().sum()"
   ]
  },
  {
   "cell_type": "markdown",
   "id": "733b52a6-c5d6-4f85-8ea3-97b65c5c4888",
   "metadata": {},
   "source": [
    "Si volvemos a observar el resultado obtenido con ```info()``` vemos que todas las variables son de tipo object, lo que a simple vista vemos que no es así. Debemos corregirlas.\n",
    "\n",
    "\n",
    "* A *Precio_descontado y Precio_real* habría que quitarles el símbolo de la rupia india y convertirlas a tipo float.\n",
    "\n",
    "* A *Porcentaje_descuento* habría que quitarle el símbolo del porcentaje (%) y convertirlo a tipo float.\n",
    "\n",
    "* A *Recuento_votos* habría que quitarle el símbolo de la coma (,) y convertirlo a tipo int.\n",
    "\n",
    "* *Calificacion* tiene en sus valores un valor | que hay que eliminar y convertir la variable a tipo float con ```to_numeric()```"
   ]
  },
  {
   "cell_type": "code",
   "execution_count": 10,
   "id": "417409a9-eb40-4b7e-bdf2-b91f3d9da36a",
   "metadata": {},
   "outputs": [],
   "source": [
    "reviews['Precio_descontado'] = reviews['Precio_descontado'].astype(str).str.replace('₹', '').str.replace(',', '').astype(float)\n",
    "reviews['Precio_real'] = reviews['Precio_real'].astype(str).str.replace('₹', '').str.replace(',', '').astype(float)\n",
    "reviews['Porcentaje_descuento'] = reviews['Porcentaje_descuento'].astype(str).str.replace('%', '').astype(float)\n",
    "reviews['Recuento_votos'] = reviews['Recuento_votos'].astype(str).str.replace(',', '').astype(int)\n",
    "reviews['Calificacion'] = pd.to_numeric(reviews['Calificacion'].astype(str).str.replace('|', ''), errors='coerce')"
   ]
  },
  {
   "cell_type": "markdown",
   "id": "e1c961f9-c3a2-44e7-a132-6ebc6de30481",
   "metadata": {},
   "source": [
    "Hacemos un ```dropna()``` para eliminar el nulo que se ha creado en la variable *Calificacion* al eliminar |"
   ]
  },
  {
   "cell_type": "code",
   "execution_count": 11,
   "id": "70ff8e38-ffc2-498f-b542-9e500b3d1271",
   "metadata": {},
   "outputs": [],
   "source": [
    "reviews = reviews.dropna() "
   ]
  },
  {
   "cell_type": "markdown",
   "id": "9d01bbcf-5a56-4b4d-a0ee-32c69a2207ae",
   "metadata": {},
   "source": [
    "Observamos nuestro dataset para ver las correcciones."
   ]
  },
  {
   "cell_type": "code",
   "execution_count": 12,
   "id": "9b9db06d-a383-4191-b521-439fa0628a53",
   "metadata": {},
   "outputs": [
    {
     "name": "stdout",
     "output_type": "stream",
     "text": [
      "<class 'pandas.core.frame.DataFrame'>\n",
      "Index: 1462 entries, 0 to 1464\n",
      "Data columns (total 16 columns):\n",
      " #   Column                Non-Null Count  Dtype  \n",
      "---  ------                --------------  -----  \n",
      " 0   ID_producto           1462 non-null   object \n",
      " 1   Producto              1462 non-null   object \n",
      " 2   Categoria             1462 non-null   object \n",
      " 3   Precio_descontado     1462 non-null   float64\n",
      " 4   Precio_real           1462 non-null   float64\n",
      " 5   Porcentaje_descuento  1462 non-null   float64\n",
      " 6   Calificacion          1462 non-null   float64\n",
      " 7   Recuento_votos        1462 non-null   int32  \n",
      " 8   Descripcion_producto  1462 non-null   object \n",
      " 9   ID_usuario            1462 non-null   object \n",
      " 10  Nombre_usuario        1462 non-null   object \n",
      " 11  ID_reseña             1462 non-null   object \n",
      " 12  Titulo_reseña         1462 non-null   object \n",
      " 13  Reseña                1462 non-null   object \n",
      " 14  Link_imagen           1462 non-null   object \n",
      " 15  Link_producto         1462 non-null   object \n",
      "dtypes: float64(4), int32(1), object(11)\n",
      "memory usage: 188.5+ KB\n"
     ]
    }
   ],
   "source": [
    "reviews.info()"
   ]
  },
  {
   "cell_type": "markdown",
   "id": "f4ccaf81-befc-4a52-9c5e-7077deb1a0e4",
   "metadata": {},
   "source": [
    "Podemos eliminar las variables *Link_imagen* y *Link_producto* ya que no las necesitamos para lo que queremos hacer."
   ]
  },
  {
   "cell_type": "code",
   "execution_count": 13,
   "id": "c36f7b62-0eda-4e1f-8207-a4ec347007b4",
   "metadata": {},
   "outputs": [],
   "source": [
    "reviews.drop(columns = [\"Link_imagen\", \"Link_producto\"], inplace = True)"
   ]
  },
  {
   "cell_type": "markdown",
   "id": "8b0de0b7-f8b0-4201-a86d-c993aff1e917",
   "metadata": {},
   "source": [
    "A continuación vamos a observar cada variable con ```value_counts()``` para ver que otras correcciones podemos realizar o a que otras conclusiones podemos llegar.\n",
    "\n",
    "1. **Categoria**: esta variable recoge las categorías de los productos de manera jerárquica separando las distintas jerarquías con el signo |. Realmente nos interesaría la última categorización, por lo que la solución que se propone es eliminar los signos | y quedarnos con esta última categoría. Así podremos luego pasarla a tipo category, que es su verdadera tipología."
   ]
  },
  {
   "cell_type": "code",
   "execution_count": 14,
   "id": "0b0520ad-07ad-4b1d-ab07-ec821e1b9c30",
   "metadata": {},
   "outputs": [
    {
     "data": {
      "text/plain": [
       "Categoria\n",
       "Computers&Accessories|Accessories&Peripherals|Cables&Accessories|Cables|USBCables                                          231\n",
       "Electronics|WearableTechnology|SmartWatches                                                                                 76\n",
       "Electronics|Mobiles&Accessories|Smartphones&BasicMobiles|Smartphones                                                        68\n",
       "Electronics|HomeTheater,TV&Video|Televisions|SmartTelevisions                                                               63\n",
       "Electronics|Headphones,Earbuds&Accessories|Headphones|In-Ear                                                                52\n",
       "                                                                                                                          ... \n",
       "Electronics|Cameras&Photography|Accessories|Batteries&Chargers|BatteryChargers                                               1\n",
       "Computers&Accessories|NetworkingDevices|DataCards&Dongles                                                                    1\n",
       "Electronics|HomeAudio|Speakers|MultimediaSpeakerSystems                                                                      1\n",
       "OfficeProducts|OfficePaperProducts|Paper|Copy&PrintingPaper|ColouredPaper                                                    1\n",
       "Home&Kitchen|Kitchen&HomeAppliances|Vacuum,Cleaning&Ironing|Vacuums&FloorCare|VacuumAccessories|VacuumBags|HandheldBags      1\n",
       "Name: count, Length: 211, dtype: int64"
      ]
     },
     "execution_count": 14,
     "metadata": {},
     "output_type": "execute_result"
    }
   ],
   "source": [
    "reviews.Categoria.value_counts()"
   ]
  },
  {
   "cell_type": "code",
   "execution_count": 15,
   "id": "9c668cef-cbee-42a3-953e-7c4431b7aa68",
   "metadata": {},
   "outputs": [],
   "source": [
    "reviews['Categoria'] = reviews['Categoria'].str.split('|').str[0]"
   ]
  },
  {
   "cell_type": "code",
   "execution_count": 16,
   "id": "d3ed7c72-3cce-4578-bc96-944d8e8d12d3",
   "metadata": {},
   "outputs": [
    {
     "data": {
      "text/plain": [
       "Categoria\n",
       "Electronics              526\n",
       "Computers&Accessories    451\n",
       "Home&Kitchen             447\n",
       "OfficeProducts            31\n",
       "MusicalInstruments         2\n",
       "HomeImprovement            2\n",
       "Toys&Games                 1\n",
       "Car&Motorbike              1\n",
       "Health&PersonalCare        1\n",
       "Name: count, dtype: int64"
      ]
     },
     "execution_count": 16,
     "metadata": {},
     "output_type": "execute_result"
    }
   ],
   "source": [
    "reviews.Categoria.value_counts()"
   ]
  },
  {
   "cell_type": "code",
   "execution_count": 17,
   "id": "4f5c08f1-b219-4599-851a-a15c5f8e5433",
   "metadata": {},
   "outputs": [],
   "source": [
    "reviews['Categoria'] = reviews['Categoria'].astype('category')"
   ]
  },
  {
   "cell_type": "code",
   "execution_count": 18,
   "id": "0f4d837d-2b5f-4c20-9966-9303f37b0e96",
   "metadata": {
    "scrolled": true
   },
   "outputs": [
    {
     "name": "stdout",
     "output_type": "stream",
     "text": [
      "<class 'pandas.core.frame.DataFrame'>\n",
      "Index: 1462 entries, 0 to 1464\n",
      "Data columns (total 14 columns):\n",
      " #   Column                Non-Null Count  Dtype   \n",
      "---  ------                --------------  -----   \n",
      " 0   ID_producto           1462 non-null   object  \n",
      " 1   Producto              1462 non-null   object  \n",
      " 2   Categoria             1462 non-null   category\n",
      " 3   Precio_descontado     1462 non-null   float64 \n",
      " 4   Precio_real           1462 non-null   float64 \n",
      " 5   Porcentaje_descuento  1462 non-null   float64 \n",
      " 6   Calificacion          1462 non-null   float64 \n",
      " 7   Recuento_votos        1462 non-null   int32   \n",
      " 8   Descripcion_producto  1462 non-null   object  \n",
      " 9   ID_usuario            1462 non-null   object  \n",
      " 10  Nombre_usuario        1462 non-null   object  \n",
      " 11  ID_reseña             1462 non-null   object  \n",
      " 12  Titulo_reseña         1462 non-null   object  \n",
      " 13  Reseña                1462 non-null   object  \n",
      "dtypes: category(1), float64(4), int32(1), object(8)\n",
      "memory usage: 156.0+ KB\n"
     ]
    }
   ],
   "source": [
    "reviews.info()"
   ]
  },
  {
   "cell_type": "markdown",
   "id": "b65045e6-06ee-44a5-9ad1-f24a066539e9",
   "metadata": {},
   "source": [
    "2. **Reseña**: con las reseñas vemos graves problemas que iremos desarrollando conforme vayamos identificando."
   ]
  },
  {
   "cell_type": "code",
   "execution_count": 19,
   "id": "c7a3ea75-08a8-44b2-930b-ee81922496f2",
   "metadata": {},
   "outputs": [
    {
     "data": {
      "text/plain": [
       "Reseña\n",
       "I am not big on camera usage, personally. I was even mentally prepared for a bad camera, based on some reviews here. But I was pleasantly surprised that camera clicks good photos. They are not awesome, but they are decent photos that can even be shared.Now coming to my biggest grouse; heating issue. The phone started heating up while charging, but it was just a little and so I could have ignored it. But then it started heating up more and got me very concerned. I even ordered a replacement thinking I got a defective piece. But then, after further tests, I found that it is heating more when I download huge amounts of data, for example, when I restore data of my old phone, from back up. This is ok with me as, I don't perform huge data loads regularly, definitely not on phone. Then I tested by running tasks I usually perform such as checking office mails, attending office meeting on phone, watching a video from Amazon Prime, and so on. The phone did not heat up even a little. Personally, this is good for me.At this price range, this is a good phone. But if you are camera heavy user and expect to perform heavy downloads frequently, this phone may not for you. I am personally satisfied with this phone as it works for my type of usage. I will not go into plus points of this phone as they are covered by other reviews already. I am only attempting to clarify about how this phone can suit you (or not) in terms of camera and heating. I had many questions about these aspects before buying. Perhaps this review will help you make an informed decision to buy (or avoid). Cheers.,Display - BeautyCamera - decentPerformance - AmazingBattery - ok (in 5000mah u expect more tbh)Overall good phone...Also after 1day of use, i found some network connectivity issue in my jiosim, which I'm using right now in this phone, but I'll keep update this review after 1month of usage!,It's a decent mobile under this price but few things worried me , weight of the phone, too many procedure to change some settings, no screen casting. Apart from that it has good touch, a decent camera for day light , battery life is good.,I bought this smartphone for my mom. Samusung interface is very handful for easy use. Battery is superb, last whole day. Camera is mediocre but provide original colour pictures. All in all satisfied with this smartphone that i got in sale for 9499.,Unable to do video call within same service provider as in VOLTE within same service provider video call feature is available.,Product is fine.  Nothing Fancy but for the budget it is a good phone.,BATTERY : more than enough for normal use  Not sure in gamingCAMERA : good in this segment , can record  videos in FHD 30fpsDISPLAY : since it's a LCD display the quality is  a bit less , but goodV RAM : you can add upto 2gb of virtual ram  but have to sacrifice your storage  Space to use it  OVERALL A GOOD BUDGET PHONE,Finger print is working speedy battery backup is good camera quality is also good    8\n",
       "I ordered this cable to connect my phone to Android Auto of car. The cable is really strong and the connection ports are really well made. I already has a Micro USB cable from Ambrane and it's still in good shape. I connected my phone to the car using the cable and it got connected well and no issues. I also connected it to the charging port and yes it has Fast Charging support.,It quality is good at this price and the main thing is that i didn't ever thought that this cable will be so long it's good one and charging power is too good and also supports fast charging,Value for money, with extra length👍,Good, working fine,Product quality is good,Good,very good,Bought for my daughter's old phone.Brand new cable it was not charging, I already repacked and requested for replacement.I checked again, and there was some green colour paste/fungus inside the micro USB connector. I cleaned with an alcoholic and starts working again.Checked the ampere of charging speed got around 1400ma-1500ma - not bad, came with braided 1.5m long cable, pretty impressive for the price.Can't blame the manufacturer.But quality issues by the distributor, they might have stored in very humid place.                                                                                                                                                                                                                                                                                                                                                                                                                                                                                                                                                                                                                                                                                                                                                                                                                                                                                                                                                                                                                                                                                                                                                                                                                                                                                                                                                                                                                                                                                                                                                                                                                                                                                                                                                                                                                                                             7\n",
       "Good product,long wire,Charges good,Nice,I bought this cable for Rs.339 worthy product for this price, i tested it in various charger adapters 33w and 18w it supports fast charging as well.,Good,Ok,I had got this at good price on sale on Amazon and product is useful with warranty but for warranty you need to go very far not practical for such a cost and mine micro to type c connector stopped working after few days only.,I like this product                                                                                                                                                                                                                                                                                                                                                                                                                                                                                                                                                                                                                                                                                                                                                                                                                                                                                                                                                                                                                                                                                                                                                                                                                                                                                                                                                                                                                                                                                                                                                                                                                                                                                                                                                                                                                                                                                                                                                                                                                                                                                                                                                                                                                                                                                                                                                                                                                                                                                                                                                                                                                                    7\n",
       "Worked on iPhone 7 and didn’t work on iPhone XR,https://m.media-amazon.com/images/I/71qFFAlV9ZL._SY88.jpg,Look-wise, I didn’t like it. Still, I use it for my work.,Product is quite good and is fast charging.Loved it.,I like it . Looks last long.,The sturdiness will depend on the manner of its use. But its speed of charging is great. Very good product for the average income group.,It's great for charging devices with various types of ports. But works best when charging one device at a time.,Good item.                                                                                                                                                                                                                                                                                                                                                                                                                                                                                                                                                                                                                                                                                                                                                                                                                                                                                                                                                                                                                                                                                                                                                                                                                                                                                                                                                                                                                                                                                                                                                                                                                                                                                                                                                                                                                                                                                                                                                                                                                                                                                                                                                                                                                                                                                                                                                                                                                                                                                                                                                                      7\n",
       "128GB SD Card is showing 134GBDon't buy this product,It was a bit costly but prouduct is of great quality. Could have been made little bit cheaper cost wise.,All good,Fast and smooth,Ab mujhe computer ki jarurat nahi padti,Speed is fast but not as advertise I get around read speed 70MB/s and write speed 30MB/s,Good one,Product is ok.                                                                                                                                                                                                                                                                                                                                                                                                                                                                                                                                                                                                                                                                                                                                                                                                                                                                                                                                                                                                                                                                                                                                                                                                                                                                                                                                                                                                                                                                                                                                                                                                                                                                                                                                                                                                                                                                                                                                                                                                                                                                                                                                                                                                                                                                                                                                                                                                                                                                                                                                                                                                                                                                                                                                                6\n",
       "                                                                                                                                                                                                                                                                                                                                                                                                                                                                                                                                                                                                                                                                                                                                                                                                                                                                                                                                                                                                                                                                                                                                                                                                                                                                                                                                                                                                                                                                                                                                                                                                                                                                                                                                                                                                                                                                                                                                                                                                                                                                                                                                                                                                                                                                                                                                                                                                                                                                                                                                                                                                                                                                                                                                                                                                                                                                                                                                                                                                                                                                                              ..\n",
       "Compact product to use during travels or even at home. I don't need to search for different items. I can just grab it and use it for multiple purposes. Go for it!,Good for taking notes and reminders in a single pack.,This is especially for those who are used to be more comfortable to be organised.,Nice product,You can carry it with you anywhere.... There is no need to worry about space. You can makea list make a note and absolutely you can re-use it.,Product is good indeed I wanted to buy it for long but it is costly,,Today i received my package and yeah it is really cute.Not fully satisfied with the cover but overall its good. Worth it. It is all in good condition and it also comes with a pen too.  Really recommend you to buy ut.                                                                                                                                                                                                                                                                                                                                                                                                                                                                                                                                                                                                                                                                                                                                                                                                                                                                                                                                                                                                                                                                                                                                                                                                                                                                                                                                                                                                                                                                                                                                                                                                                                                                                                                                                                                                                                                                                                                                                                                                                                                                                                                                                                                                                                                                                                                           1\n",
       "https://m.media-amazon.com/images/I/6171Cw2IlPL._SY88.jpg,100% genuine and perfect product.,Good,Worth the money as its a fun experience to use instant cam!Product is original with good packaging!,The top most amazing feature is it makes pictures look like the old 80’s.. but one problem is few don’t develop at all.,Nice, as per expectations,This is bad after 1 month,Okay productWorth the purchase.                                                                                                                                                                                                                                                                                                                                                                                                                                                                                                                                                                                                                                                                                                                                                                                                                                                                                                                                                                                                                                                                                                                                                                                                                                                                                                                                                                                                                                                                                                                                                                                                                                                                                                                                                                                                                                                                                                                                                                                                                                                                                                                                                                                                                                                                                                                                                                                                                                                                                                                                                                                                                                                                               1\n",
       "When I purchased this watch, I thought it couple be used to send sms, make calls, access notifications without being connected to the phone. I knew that third party notifications required the phone to be connected to the internet, but I thought the watch could place calls and send texts even if the phone is switched off. The product I ordered can only make calls when disconnected from the phone. Features such as SMS (surprising since this is an LTE version) and notifications (this includes watch apps such as outlook) that require internet are only synced with the watch on e it is connected to the phone VIA BLUETOOTHI did not check other features as the main reason I ordered this watch was accessibility to notifications without phone.,I have been using this since June'22. It looks good on the wrist,and has all useful features like calling,reading and replying whatsapp messages.The battery is too low though, I keep it switched off at night(I.e. never used it to track sleep), yet have to charge every couple of days. Plus it gets charged slow.,All features of the watch is good but battery backup is very poor. After full charge it runs 36-40 hours but after average uses it will run 20-22 hours only.,It's amazing with the lte function now I don't lug my phone to the gym!! But the battery life sucks and have to charge twice specially when I use lte ,also it heats for some reason and needs to cool down once in a while that time the watch automatically goes into hibernation and starts after some timePositives areAccuracySleep trackingO2 monitorRemote lte connectionWears amazing on the wristGreat screenNegativeBattery life,Using it for 1 month. Fits well, have wireless charger. You can also charge it from your phone if your phone supports wireless charging. One thing which is common to most smart watches is when you're traveling in bus or car in a bumby road, it will assume you are jogging and congratulate you for completing daily tasks 😄,Charging is too slow, which is to be expected.Unless you have a samsung flagship phone, you won't be able to see camera app on the watch, and you'll have to get third party applications, and they're just horrible.,Product is goodPros1 health accuracy is high2 ui is good3 Design and build quality is also goodCon1 app is not that good and facing connectivity issues,Good                                                                                                                                                                                                                                                                                                                                                                                                                                                                                                                                                                                                                                                                  1\n",
       "HONEST REVIEW :-I got these buds in ₹895/- and I only buy earbuds because of the music, movies, series...MUSIC EXPERIENCE- 4.5/5 (Tbh I like to hear balanced music like crystal clear sound with a balanced bass but yeah if you are bass lover then just think again before buying it)BATTERY - 5/5HYPERSYNC - 5/5BLUETOOTH - 3.5/5 (I checked the box and there it's written Bluetooth 5.3 but its range is low and that's not up to my expectations... But It will work for me...) So yeah if you are just buying it for Bluetooth 5.3... just think again...INSTACHARGE- 5/5 It actually works very well...BUDS- 4.5/5 ( In ear design is good and they fits perfectly also you can do workout, exercise, running etc... but if your own ears are somewhat different like so big then it's your problem Although it comes with different buds sizes so u can try them...;)Buds are really so light so yeah I personally like them...CALLING EXPERIENCE (VOICE/VIDEO CALL) 3.5/5These buds don't come with ANC Mode so please don't buy them just for ANC...And incall range is too low... :(  which I really don't expected... (But It will work for me),The sound quality is good, no doubt. But on a personal note, such buds dont suit my ear. Others who used it liked it though,very bad quality of product. Stop working after 2 months.please dont waste your money on this earbud.,Good sound/ good bass/all features is nice/Good in room or silent place...some background noise come in open area like road... during travel...but this prob in all companies,Like at this price , but noise cancellation is not so good.,Good product for this amount, rarely facing issue while redmi 10,For my listing music and it has great quality,The sound quality is very clear and the range is very good but the bass is not that great                                                                                                                                                                                                                                                                                                                                                                                                                                                                                                                                                                                                                                                                                                                                                                                                                                                                                                                                                                                                                                                                                                                                                                                                                                             1\n",
       "It does it job perfectly..only issue is temp control is not perfect . U need to keep checking the browness of sandwich untill it gets upto ur choise,Product is good, but the control knob is to be be modified cause after the cooking process completes the control knob should be return back to initial starting place. If not that process timer should be given basically. So think well what happens whether didn't had atleast one option.Not a indicator option.,It is a nice product, easy to use. The grilling function is also wonderful. But the exterior metallic finish picks up finger marks and other spots which tend to become permanent. Cleaning them is almost impossible.,Very good product,This is a pretty powerful sandwich maker, for home use. The product looks good, has a sturdy build, and heats up quick. The sandwiches are made pretty quickly, without burning.,बोरोसिल ब्रांड का यह \"सेंडविच मेकर\" देखने में तो अच्छा लगता है मगर इसकी बिल्ड क्वालिटी अच्छी नहीं है।  यह लगभग Rs 3000 के आसपास आता है।  इस प्रकार की बिल्ड क्वालिटी ₹2000 के करीब मिल जाती है तो कोई क्यों ₹1000 अधिक भुगतान करें।  पहले मैंने इसे review देखने के बाद ऑर्डर किया था लेकिन जब घर पर डिलीवरी होने के पश्चात  unboxing करके देखा तो इसकी बिल्ड क्वालिटी कुछ खास नहीं लगी इसलिए अपने पैसे बचाने के लिए मैंने इसे वापस भेज दिया। मैंने इसकी पैकेजिंग, मैनुअल और सैंडविच मेकर की फोटोग्राफ आप सभी से शेयर की है।  आप स्वयं देख के अनुमान लगा सकते हैं।,Recommend work as expected,Its easy tp use                                                                                                                                                                                                                                                                                                                                                                                                                                                                                                                                                                                                                                                                                                                                                                                                                                                                                                                                                                                                                                                                                                                                                                                                                                                                                                                                                                                                                                                                                                                                                                              1\n",
       "Name: count, Length: 1209, dtype: int64"
      ]
     },
     "execution_count": 19,
     "metadata": {},
     "output_type": "execute_result"
    }
   ],
   "source": [
    "reviews.Reseña.value_counts()"
   ]
  },
  {
   "cell_type": "markdown",
   "id": "13573584-faf8-4c29-b3a3-1b42b0ac6430",
   "metadata": {},
   "source": [
    "En primer lugar vamos a eliminar los duplicados que podamos encontrarnos en esta variable."
   ]
  },
  {
   "cell_type": "code",
   "execution_count": 20,
   "id": "585a76d5-8128-4874-b55b-87e42d1c664b",
   "metadata": {},
   "outputs": [],
   "source": [
    "reviews = reviews.drop_duplicates()"
   ]
  },
  {
   "cell_type": "code",
   "execution_count": 21,
   "id": "5a8d17c4-aa40-4667-af3d-a8daec9b4bfd",
   "metadata": {},
   "outputs": [],
   "source": [
    "reviews_sin_duplicados = reviews.drop_duplicates(subset=['ID_producto', 'Reseña'], keep='first')"
   ]
  },
  {
   "cell_type": "code",
   "execution_count": 22,
   "id": "9ecab106-528b-472e-89de-d1f00916fe93",
   "metadata": {},
   "outputs": [],
   "source": [
    "reviews = reviews.drop_duplicates(subset='Reseña', keep='first')"
   ]
  },
  {
   "cell_type": "markdown",
   "id": "b2258cf6-aa36-4609-a9dd-4d2be14e325f",
   "metadata": {},
   "source": [
    "Vamos a obtener adicionalmente un histograma con el que poder visualizar la longitud de las reseñas y la frecuencia de estas longitudes. "
   ]
  },
  {
   "cell_type": "code",
   "execution_count": 23,
   "id": "cd1caa59-d6fa-4540-92c9-91a4cb8b6006",
   "metadata": {
    "scrolled": true
   },
   "outputs": [
    {
     "data": {
      "text/plain": [
       "<Figure size 1400x1200 with 0 Axes>"
      ]
     },
     "metadata": {},
     "output_type": "display_data"
    },
    {
     "data": {
      "image/png": "[encoded data removed]",
      "text/plain": [
       "<Figure size 500x500 with 1 Axes>"
      ]
     },
     "metadata": {},
     "output_type": "display_data"
    }
   ],
   "source": [
    "reviews[\"char_len\"] = reviews[\"Reseña\"].apply(lambda x: len(x))\n",
    "\n",
    "fig = plt.figure(figsize=(14,12))\n",
    "sns.set_style(\"whitegrid\")\n",
    "\n",
    "sns.displot(data=reviews, x=\"char_len\", kde=True, legend=True)\n",
    "\n",
    "plt.xlabel('Caracteres', fontsize=12)\n",
    "plt.ylabel('Densidad', fontsize=12)\n",
    "plt.xlim(0,5000)\n",
    "\n",
    "plt.show()"
   ]
  },
  {
   "cell_type": "markdown",
   "id": "f12bdd39-45db-4186-80bd-bf8701d7b5a9",
   "metadata": {},
   "source": [
    "Si observamos el histograma vemos que la mayoría de las reseñas tienen una longitud aproximadamente de 5.000 caracteres, que de hecho es el límite de caracteres que impone Amazon para una reseña. Sin embargo, hay bastantes reseñas que superan esta cifra por lo que estas reseñas las identificamos como outliers.\n",
    "Para cerciorarnos a partir de qué longitud nos encontramos con outliers, vamos a observar el boxplot:"
   ]
  },
  {
   "cell_type": "code",
   "execution_count": 24,
   "id": "c9f08842-97f3-4d03-9c31-14a98f3e92d9",
   "metadata": {},
   "outputs": [
    {
     "data": {
      "text/plain": [
       "(0.0, 3000.0)"
      ]
     },
     "execution_count": 24,
     "metadata": {},
     "output_type": "execute_result"
    },
    {
     "data": {
      "image/png": "[encoded data removed]",
      "text/plain": [
       "<Figure size 640x480 with 1 Axes>"
      ]
     },
     "metadata": {},
     "output_type": "display_data"
    }
   ],
   "source": [
    "sns.boxplot(data=reviews, x=\"char_len\")\n",
    "plt.xlim(0,3000)"
   ]
  },
  {
   "cell_type": "markdown",
   "id": "8453d156-ff14-4d42-afa9-bb9d1816ccf4",
   "metadata": {},
   "source": [
    "Para saber concretamente el valor del límite superior, realizamos los cálculos necesarios:"
   ]
  },
  {
   "cell_type": "code",
   "execution_count": 25,
   "id": "eb74f1f6-7f96-4374-8abf-f4cf0f69a58a",
   "metadata": {},
   "outputs": [
    {
     "data": {
      "text/plain": [
       "2612.0"
      ]
     },
     "execution_count": 25,
     "metadata": {},
     "output_type": "execute_result"
    }
   ],
   "source": [
    "minimo = reviews[\"char_len\"].quantile(0.25)\n",
    "maximo = reviews[\"char_len\"].quantile(0.75)\n",
    "IQR = maximo - minimo\n",
    "limite_superior = maximo + 1.5 * IQR\n",
    "limite_superior"
   ]
  },
  {
   "cell_type": "code",
   "execution_count": 26,
   "id": "d5a0a8e4-9459-4772-8a82-10d42d39919e",
   "metadata": {
    "scrolled": true
   },
   "outputs": [
    {
     "data": {
      "text/plain": [
       "char_len\n",
       "False    1087\n",
       "True      122\n",
       "Name: count, dtype: int64"
      ]
     },
     "execution_count": 26,
     "metadata": {},
     "output_type": "execute_result"
    }
   ],
   "source": [
    "longitud = reviews[\"char_len\"]\n",
    "longitud_outliers = longitud > limite_superior\n",
    "longitud_outliers.value_counts()"
   ]
  },
  {
   "cell_type": "markdown",
   "id": "46a8f852-2f5e-47d6-857b-eec5327ddf06",
   "metadata": {},
   "source": [
    "Eliminamos los outliers que superan el limite superior, 2.612."
   ]
  },
  {
   "cell_type": "code",
   "execution_count": 27,
   "id": "cb5d4111-3dd5-4d2c-99e3-1d4e2e9eeb38",
   "metadata": {},
   "outputs": [],
   "source": [
    "reviews.drop(reviews[(reviews['char_len'] >limite_superior)].index, inplace=True)"
   ]
  },
  {
   "cell_type": "markdown",
   "id": "30d8ca38-0adf-4414-83a5-9be3718f4a86",
   "metadata": {},
   "source": [
    "## Análisis de contenido\n",
    "Vamos a realizar el análisis de contenido a través de la visualización de un Word Cloud. "
   ]
  },
  {
   "cell_type": "code",
   "execution_count": 28,
   "id": "4c9eea43-400a-4d54-9b4e-ef59ea70e4c3",
   "metadata": {},
   "outputs": [
    {
     "name": "stderr",
     "output_type": "stream",
     "text": [
      "[nltk_data] Downloading package stopwords to\n",
      "[nltk_data]     C:\\Users\\danie\\AppData\\Roaming\\nltk_data...\n",
      "[nltk_data]   Package stopwords is already up-to-date!\n"
     ]
    },
    {
     "data": {
      "text/plain": [
       "True"
      ]
     },
     "execution_count": 28,
     "metadata": {},
     "output_type": "execute_result"
    }
   ],
   "source": [
    "import nltk\n",
    "nltk.download('stopwords')"
   ]
  },
  {
   "cell_type": "code",
   "execution_count": 29,
   "id": "3de8451c-bd23-4c27-b95e-b1ff366f9bfc",
   "metadata": {},
   "outputs": [],
   "source": [
    "txt_reviews = reviews['Reseña'].to_list()\n",
    "combined_reviews = ','.join(txt_reviews)"
   ]
  },
  {
   "cell_type": "markdown",
   "id": "223e9483-a1c2-40d0-b7be-d5dba1a68d00",
   "metadata": {},
   "source": [
    "Creamos el objeto WordCloud con la correspondiente configuración para obtener las posteriores visualizaciones:"
   ]
  },
  {
   "cell_type": "code",
   "execution_count": 30,
   "id": "375cc559-6fd9-488b-8113-bf3e772ea4ac",
   "metadata": {},
   "outputs": [],
   "source": [
    "en_stopwords = stopwords.words('english')\n",
    "\n",
    "wordcloud = WordCloud(background_color=\"white\", max_words=5000, contour_width=0,\n",
    "                      contour_color='steelblue', stopwords=en_stopwords,\n",
    "                      normalize_plurals = True)"
   ]
  },
  {
   "cell_type": "code",
   "execution_count": 31,
   "id": "5d77e645-4506-4273-836c-1a17082cf90e",
   "metadata": {},
   "outputs": [
    {
     "data": {
      "image/jpeg": "[encoded data removed]",
      "image/png": "[encoded data removed]",
      "text/plain": [
       "<PIL.Image.Image image mode=RGB size=400x200>"
      ]
     },
     "execution_count": 31,
     "metadata": {},
     "output_type": "execute_result"
    }
   ],
   "source": [
    "wordcloud.generate(combined_reviews)\n",
    "wordcloud.to_image()"
   ]
  },
  {
   "cell_type": "markdown",
   "id": "52568393-8c7c-46fd-9127-35709bbdfc74",
   "metadata": {},
   "source": [
    "## Preprocesado y Normalización"
   ]
  },
  {
   "cell_type": "markdown",
   "id": "7ffeba55-4f20-4c7e-bd11-d563aaff9be2",
   "metadata": {},
   "source": [
    "Los pasos a realizar para el preprocesado de datos son los siguientes:"
   ]
  },
  {
   "cell_type": "markdown",
   "id": "890d1134-e38b-45f9-bbca-95434f5d8c0f",
   "metadata": {},
   "source": [
    "* **Expandir las contracciones**"
   ]
  },
  {
   "cell_type": "code",
   "execution_count": 32,
   "id": "288930e6-08c5-4590-9dbe-c66392c27a05",
   "metadata": {
    "scrolled": true
   },
   "outputs": [
    {
     "name": "stdout",
     "output_type": "stream",
     "text": [
      "Requirement already satisfied: contractions in c:\\users\\danie\\anaconda3\\envs\\risk_env\\lib\\site-packages (0.1.73)\n",
      "Requirement already satisfied: textsearch>=0.0.21 in c:\\users\\danie\\anaconda3\\envs\\risk_env\\lib\\site-packages (from contractions) (0.0.24)\n",
      "Requirement already satisfied: anyascii in c:\\users\\danie\\anaconda3\\envs\\risk_env\\lib\\site-packages (from textsearch>=0.0.21->contractions) (0.3.2)\n",
      "Requirement already satisfied: pyahocorasick in c:\\users\\danie\\anaconda3\\envs\\risk_env\\lib\\site-packages (from textsearch>=0.0.21->contractions) (2.1.0)\n"
     ]
    }
   ],
   "source": [
    "!pip install contractions\n",
    "import contractions"
   ]
  },
  {
   "cell_type": "code",
   "execution_count": 33,
   "id": "07767f5e-6e50-4c56-84c1-de845228902e",
   "metadata": {},
   "outputs": [],
   "source": [
    "def replace_contraction(text):\n",
    "    expanded_words = []\n",
    "\n",
    "    for t in text.split():\n",
    "        expanded_words.append(contractions.fix(t, slang = True))\n",
    "    expanded_text = ' '.join(expanded_words)\n",
    "    return expanded_text"
   ]
  },
  {
   "cell_type": "code",
   "execution_count": 34,
   "id": "bb1b7b57-e9e4-4639-a167-f2b06f944313",
   "metadata": {},
   "outputs": [],
   "source": [
    "reviews[\"Normalizado\"] = reviews[\"Reseña\"].apply(lambda x: replace_contraction(x))"
   ]
  },
  {
   "cell_type": "markdown",
   "id": "dea228f4-263f-4703-bae7-2a137e006445",
   "metadata": {},
   "source": [
    "* **Eliminar espacios extra y transformar a minísculas**"
   ]
  },
  {
   "cell_type": "code",
   "execution_count": 35,
   "id": "54d381ca-bbcf-4bae-a16e-48ff8bcd23aa",
   "metadata": {},
   "outputs": [],
   "source": [
    "def eliminar_espacios(text):\n",
    "    return  \" \".join(text.split())\n",
    "\n",
    "def texto_a_minisculas(text):\n",
    "  return text.lower()"
   ]
  },
  {
   "cell_type": "code",
   "execution_count": 36,
   "id": "37a167a0-621a-4801-b554-3d2735fe6cf2",
   "metadata": {},
   "outputs": [
    {
     "name": "stdout",
     "output_type": "stream",
     "text": [
      "Requirement already satisfied: tqdm in c:\\users\\danie\\anaconda3\\envs\\risk_env\\lib\\site-packages (4.66.5)\n",
      "Requirement already satisfied: colorama in c:\\users\\danie\\anaconda3\\envs\\risk_env\\lib\\site-packages (from tqdm) (0.4.6)\n",
      "Note: you may need to restart the kernel to use updated packages.\n"
     ]
    }
   ],
   "source": [
    "pip install tqdm"
   ]
  },
  {
   "cell_type": "code",
   "execution_count": 37,
   "id": "8f76c0f9-058a-4533-b70d-c435a6920aca",
   "metadata": {},
   "outputs": [
    {
     "name": "stderr",
     "output_type": "stream",
     "text": [
      "100%|██████████| 1087/1087 [00:00<00:00, 83172.95it/s]\n",
      "100%|██████████| 1087/1087 [00:00<00:00, 361526.32it/s]\n"
     ]
    }
   ],
   "source": [
    "reviews[\"Normalizado\"] = reviews[\"Normalizado\"].progress_apply(lambda x: eliminar_espacios(x))\n",
    "reviews[\"Normalizado\"] = reviews[\"Normalizado\"].progress_apply(lambda x: texto_a_minisculas(x))"
   ]
  },
  {
   "cell_type": "markdown",
   "id": "0a6e9340-7314-422f-ba9d-ae4776fbd9c2",
   "metadata": {},
   "source": [
    "*   **Tokenización y normalización URL y números por tokens comunes**"
   ]
  },
  {
   "cell_type": "code",
   "execution_count": 38,
   "id": "79ad018a-2c26-4685-9583-ec8e097f7f51",
   "metadata": {},
   "outputs": [],
   "source": [
    "tokenizer = AutoTokenizer.from_pretrained('bert-base-uncased')\n",
    "\n",
    "def normalizar_tokens(documento):\n",
    "    palabras = tokenizer.tokenize(documento)\n",
    "\n",
    "    for i in range(len(palabras)):\n",
    "        if palabras[i].startswith(\"http://\") or palabras[i].startswith(\"https://\") or palabras[i].startswith(\"www.\"):\n",
    "            palabras[i] = \"URL\"\n",
    "        elif palabras[i].isdigit():\n",
    "            palabras[i] = \"NUM\"\n",
    "    documento_modificado = ' '.join(palabras)\n",
    "\n",
    "    return documento_modificado"
   ]
  },
  {
   "cell_type": "code",
   "execution_count": 39,
   "id": "d60f159c-9ce4-4460-a0de-89493004b483",
   "metadata": {},
   "outputs": [
    {
     "name": "stderr",
     "output_type": "stream",
     "text": [
      "  0%|          | 0/1087 [00:00<?, ?it/s]Token indices sequence length is longer than the specified maximum sequence length for this model (569 > 512). Running this sequence through the model will result in indexing errors\n",
      "100%|██████████| 1087/1087 [00:00<00:00, 1506.50it/s]\n"
     ]
    }
   ],
   "source": [
    "reviews[\"Normalizado\"] = reviews[\"Normalizado\"].progress_apply(lambda x: normalizar_tokens(x))"
   ]
  },
  {
   "cell_type": "markdown",
   "id": "da0fbb4b-2972-4a58-8405-8d46476c9c92",
   "metadata": {},
   "source": [
    "*   **Lematizar tokens, eliminar stopwords y eliminar sígnos de puntuación**"
   ]
  },
  {
   "cell_type": "code",
   "execution_count": 40,
   "id": "1d4fb966-d821-4060-9246-64504b1fc037",
   "metadata": {},
   "outputs": [],
   "source": [
    "nlp = spacy.load('en_core_web_sm', disable=['parser', 'ner'])\n",
    "\n",
    "def lematizar_eliminacion_tokens(texto):\n",
    "    doc = nlp(texto)\n",
    "\n",
    "    lemas = [token.lemma_ for token in doc] # Lematizamos\n",
    "\n",
    "    tokens_filtrados = [token for token in lemas if token.isalpha() and token.lower() not in en_stopwords] # Eliminamos la puntuación y stopwords\n",
    "\n",
    "    texto_procesado = ' '.join(tokens_filtrados)\n",
    "\n",
    "    return texto_procesado"
   ]
  },
  {
   "cell_type": "code",
   "execution_count": 41,
   "id": "3a38cadd-8cfe-48c2-9676-1a5f90083bd0",
   "metadata": {},
   "outputs": [
    {
     "name": "stderr",
     "output_type": "stream",
     "text": [
      "100%|██████████| 1087/1087 [00:12<00:00, 85.26it/s]\n"
     ]
    }
   ],
   "source": [
    "reviews[\"Texto_preprocesado\"] = reviews[\"Normalizado\"].progress_apply(lambda x: lematizar_eliminacion_tokens(x))"
   ]
  },
  {
   "cell_type": "code",
   "execution_count": 42,
   "id": "55a7f9a9-2622-464a-82cf-689a86c165ca",
   "metadata": {},
   "outputs": [
    {
     "data": {
      "text/html": [
       "<div>\n",
       "<style scoped>\n",
       "    .dataframe tbody tr th:only-of-type {\n",
       "        vertical-align: middle;\n",
       "    }\n",
       "\n",
       "    .dataframe tbody tr th {\n",
       "        vertical-align: top;\n",
       "    }\n",
       "\n",
       "    .dataframe thead th {\n",
       "        text-align: right;\n",
       "    }\n",
       "</style>\n",
       "<table border=\"1\" class=\"dataframe\">\n",
       "  <thead>\n",
       "    <tr style=\"text-align: right;\">\n",
       "      <th></th>\n",
       "      <th>ID_producto</th>\n",
       "      <th>Producto</th>\n",
       "      <th>Categoria</th>\n",
       "      <th>Precio_descontado</th>\n",
       "      <th>Precio_real</th>\n",
       "      <th>Porcentaje_descuento</th>\n",
       "      <th>Calificacion</th>\n",
       "      <th>Recuento_votos</th>\n",
       "      <th>Descripcion_producto</th>\n",
       "      <th>ID_usuario</th>\n",
       "      <th>Nombre_usuario</th>\n",
       "      <th>ID_reseña</th>\n",
       "      <th>Titulo_reseña</th>\n",
       "      <th>Reseña</th>\n",
       "      <th>char_len</th>\n",
       "      <th>Normalizado</th>\n",
       "      <th>Texto_preprocesado</th>\n",
       "    </tr>\n",
       "  </thead>\n",
       "  <tbody>\n",
       "    <tr>\n",
       "      <th>0</th>\n",
       "      <td>B07JW9H4J1</td>\n",
       "      <td>Wayona Nylon Braided USB to Lightning Fast Cha...</td>\n",
       "      <td>Computers&amp;Accessories</td>\n",
       "      <td>399.0</td>\n",
       "      <td>1099.0</td>\n",
       "      <td>64.0</td>\n",
       "      <td>4.2</td>\n",
       "      <td>24269</td>\n",
       "      <td>High Compatibility : Compatible With iPhone 12...</td>\n",
       "      <td>AG3D6O4STAQKAY2UVGEUV46KN35Q,AHMY5CWJMMK5BJRBB...</td>\n",
       "      <td>Manav,Adarsh gupta,Sundeep,S.Sayeed Ahmed,jasp...</td>\n",
       "      <td>R3HXWT0LRP0NMF,R2AJM3LFTLZHFO,R6AQJGUP6P86,R1K...</td>\n",
       "      <td>Satisfied,Charging is really fast,Value for mo...</td>\n",
       "      <td>Looks durable Charging is fine tooNo complains...</td>\n",
       "      <td>483</td>\n",
       "      <td>looks durable charging is fine too ##no compla...</td>\n",
       "      <td>look durable charging fine complain charge rea...</td>\n",
       "    </tr>\n",
       "    <tr>\n",
       "      <th>1</th>\n",
       "      <td>B098NS6PVG</td>\n",
       "      <td>Ambrane Unbreakable 60W / 3A Fast Charging 1.5...</td>\n",
       "      <td>Computers&amp;Accessories</td>\n",
       "      <td>199.0</td>\n",
       "      <td>349.0</td>\n",
       "      <td>43.0</td>\n",
       "      <td>4.0</td>\n",
       "      <td>43994</td>\n",
       "      <td>Compatible with all Type C enabled devices, be...</td>\n",
       "      <td>AECPFYFQVRUWC3KGNLJIOREFP5LQ,AGYYVPDD7YG7FYNBX...</td>\n",
       "      <td>ArdKn,Nirbhay kumar,Sagar Viswanathan,Asp,Plac...</td>\n",
       "      <td>RGIQEG07R9HS2,R1SMWZQ86XIN8U,R2J3Y1WL29GWDE,RY...</td>\n",
       "      <td>A Good Braided Cable for Your Type C Device,Go...</td>\n",
       "      <td>I ordered this cable to connect my phone to An...</td>\n",
       "      <td>1186</td>\n",
       "      <td>i ordered this cable to connect my phone to an...</td>\n",
       "      <td>order cable connect phone android auto car cab...</td>\n",
       "    </tr>\n",
       "    <tr>\n",
       "      <th>2</th>\n",
       "      <td>B096MSW6CT</td>\n",
       "      <td>Sounce Fast Phone Charging Cable &amp; Data Sync U...</td>\n",
       "      <td>Computers&amp;Accessories</td>\n",
       "      <td>199.0</td>\n",
       "      <td>1899.0</td>\n",
       "      <td>90.0</td>\n",
       "      <td>3.9</td>\n",
       "      <td>7928</td>\n",
       "      <td>【 Fast Charger&amp; Data Sync】-With built-in safet...</td>\n",
       "      <td>AGU3BBQ2V2DDAMOAKGFAWDDQ6QHA,AESFLDV2PT363T2AQ...</td>\n",
       "      <td>Kunal,Himanshu,viswanath,sai niharka,saqib mal...</td>\n",
       "      <td>R3J3EQQ9TZI5ZJ,R3E7WBGK7ID0KV,RWU79XKQ6I1QF,R2...</td>\n",
       "      <td>Good speed for earlier versions,Good Product,W...</td>\n",
       "      <td>Not quite durable and sturdy,https://m.media-a...</td>\n",
       "      <td>271</td>\n",
       "      <td>not quite durable and sturdy , https : / / m ....</td>\n",
       "      <td>quite durable sturdy https medium amazon com i...</td>\n",
       "    </tr>\n",
       "    <tr>\n",
       "      <th>3</th>\n",
       "      <td>B08HDJ86NZ</td>\n",
       "      <td>boAt Deuce USB 300 2 in 1 Type-C &amp; Micro USB S...</td>\n",
       "      <td>Computers&amp;Accessories</td>\n",
       "      <td>329.0</td>\n",
       "      <td>699.0</td>\n",
       "      <td>53.0</td>\n",
       "      <td>4.2</td>\n",
       "      <td>94363</td>\n",
       "      <td>The boAt Deuce USB 300 2 in 1 cable is compati...</td>\n",
       "      <td>AEWAZDZZJLQUYVOVGBEUKSLXHQ5A,AG5HTSFRRE6NL3M5S...</td>\n",
       "      <td>Omkar dhale,JD,HEMALATHA,Ajwadh a.,amar singh ...</td>\n",
       "      <td>R3EEUZKKK9J36I,R3HJVYCLYOY554,REDECAZ7AMPQC,R1...</td>\n",
       "      <td>Good product,Good one,Nice,Really nice product...</td>\n",
       "      <td>Good product,long wire,Charges good,Nice,I bou...</td>\n",
       "      <td>443</td>\n",
       "      <td>good product , long wire , charges good , nice...</td>\n",
       "      <td>good product long wire charge good nice buy ca...</td>\n",
       "    </tr>\n",
       "    <tr>\n",
       "      <th>4</th>\n",
       "      <td>B08CF3B7N1</td>\n",
       "      <td>Portronics Konnect L 1.2M Fast Charging 3A 8 P...</td>\n",
       "      <td>Computers&amp;Accessories</td>\n",
       "      <td>154.0</td>\n",
       "      <td>399.0</td>\n",
       "      <td>61.0</td>\n",
       "      <td>4.2</td>\n",
       "      <td>16905</td>\n",
       "      <td>[CHARGE &amp; SYNC FUNCTION]- This cable comes wit...</td>\n",
       "      <td>AE3Q6KSUK5P75D5HFYHCRAOLODSA,AFUGIFH5ZAFXRDSZH...</td>\n",
       "      <td>rahuls6099,Swasat Borah,Ajay Wadke,Pranali,RVK...</td>\n",
       "      <td>R1BP4L2HH9TFUP,R16PVJEXKV6QZS,R2UPDB81N66T4P,R...</td>\n",
       "      <td>As good as original,Decent,Good one for second...</td>\n",
       "      <td>Bought this instead of original apple, does th...</td>\n",
       "      <td>2451</td>\n",
       "      <td>bought this instead of original apple , does t...</td>\n",
       "      <td>buy instead original apple work NUM rs fast ap...</td>\n",
       "    </tr>\n",
       "  </tbody>\n",
       "</table>\n",
       "</div>"
      ],
      "text/plain": [
       "  ID_producto                                           Producto  \\\n",
       "0  B07JW9H4J1  Wayona Nylon Braided USB to Lightning Fast Cha...   \n",
       "1  B098NS6PVG  Ambrane Unbreakable 60W / 3A Fast Charging 1.5...   \n",
       "2  B096MSW6CT  Sounce Fast Phone Charging Cable & Data Sync U...   \n",
       "3  B08HDJ86NZ  boAt Deuce USB 300 2 in 1 Type-C & Micro USB S...   \n",
       "4  B08CF3B7N1  Portronics Konnect L 1.2M Fast Charging 3A 8 P...   \n",
       "\n",
       "               Categoria  Precio_descontado  Precio_real  \\\n",
       "0  Computers&Accessories              399.0       1099.0   \n",
       "1  Computers&Accessories              199.0        349.0   \n",
       "2  Computers&Accessories              199.0       1899.0   \n",
       "3  Computers&Accessories              329.0        699.0   \n",
       "4  Computers&Accessories              154.0        399.0   \n",
       "\n",
       "   Porcentaje_descuento  Calificacion  Recuento_votos  \\\n",
       "0                  64.0           4.2           24269   \n",
       "1                  43.0           4.0           43994   \n",
       "2                  90.0           3.9            7928   \n",
       "3                  53.0           4.2           94363   \n",
       "4                  61.0           4.2           16905   \n",
       "\n",
       "                                Descripcion_producto  \\\n",
       "0  High Compatibility : Compatible With iPhone 12...   \n",
       "1  Compatible with all Type C enabled devices, be...   \n",
       "2  【 Fast Charger& Data Sync】-With built-in safet...   \n",
       "3  The boAt Deuce USB 300 2 in 1 cable is compati...   \n",
       "4  [CHARGE & SYNC FUNCTION]- This cable comes wit...   \n",
       "\n",
       "                                          ID_usuario  \\\n",
       "0  AG3D6O4STAQKAY2UVGEUV46KN35Q,AHMY5CWJMMK5BJRBB...   \n",
       "1  AECPFYFQVRUWC3KGNLJIOREFP5LQ,AGYYVPDD7YG7FYNBX...   \n",
       "2  AGU3BBQ2V2DDAMOAKGFAWDDQ6QHA,AESFLDV2PT363T2AQ...   \n",
       "3  AEWAZDZZJLQUYVOVGBEUKSLXHQ5A,AG5HTSFRRE6NL3M5S...   \n",
       "4  AE3Q6KSUK5P75D5HFYHCRAOLODSA,AFUGIFH5ZAFXRDSZH...   \n",
       "\n",
       "                                      Nombre_usuario  \\\n",
       "0  Manav,Adarsh gupta,Sundeep,S.Sayeed Ahmed,jasp...   \n",
       "1  ArdKn,Nirbhay kumar,Sagar Viswanathan,Asp,Plac...   \n",
       "2  Kunal,Himanshu,viswanath,sai niharka,saqib mal...   \n",
       "3  Omkar dhale,JD,HEMALATHA,Ajwadh a.,amar singh ...   \n",
       "4  rahuls6099,Swasat Borah,Ajay Wadke,Pranali,RVK...   \n",
       "\n",
       "                                           ID_reseña  \\\n",
       "0  R3HXWT0LRP0NMF,R2AJM3LFTLZHFO,R6AQJGUP6P86,R1K...   \n",
       "1  RGIQEG07R9HS2,R1SMWZQ86XIN8U,R2J3Y1WL29GWDE,RY...   \n",
       "2  R3J3EQQ9TZI5ZJ,R3E7WBGK7ID0KV,RWU79XKQ6I1QF,R2...   \n",
       "3  R3EEUZKKK9J36I,R3HJVYCLYOY554,REDECAZ7AMPQC,R1...   \n",
       "4  R1BP4L2HH9TFUP,R16PVJEXKV6QZS,R2UPDB81N66T4P,R...   \n",
       "\n",
       "                                       Titulo_reseña  \\\n",
       "0  Satisfied,Charging is really fast,Value for mo...   \n",
       "1  A Good Braided Cable for Your Type C Device,Go...   \n",
       "2  Good speed for earlier versions,Good Product,W...   \n",
       "3  Good product,Good one,Nice,Really nice product...   \n",
       "4  As good as original,Decent,Good one for second...   \n",
       "\n",
       "                                              Reseña  char_len  \\\n",
       "0  Looks durable Charging is fine tooNo complains...       483   \n",
       "1  I ordered this cable to connect my phone to An...      1186   \n",
       "2  Not quite durable and sturdy,https://m.media-a...       271   \n",
       "3  Good product,long wire,Charges good,Nice,I bou...       443   \n",
       "4  Bought this instead of original apple, does th...      2451   \n",
       "\n",
       "                                         Normalizado  \\\n",
       "0  looks durable charging is fine too ##no compla...   \n",
       "1  i ordered this cable to connect my phone to an...   \n",
       "2  not quite durable and sturdy , https : / / m ....   \n",
       "3  good product , long wire , charges good , nice...   \n",
       "4  bought this instead of original apple , does t...   \n",
       "\n",
       "                                  Texto_preprocesado  \n",
       "0  look durable charging fine complain charge rea...  \n",
       "1  order cable connect phone android auto car cab...  \n",
       "2  quite durable sturdy https medium amazon com i...  \n",
       "3  good product long wire charge good nice buy ca...  \n",
       "4  buy instead original apple work NUM rs fast ap...  "
      ]
     },
     "execution_count": 42,
     "metadata": {},
     "output_type": "execute_result"
    }
   ],
   "source": [
    "reviews.head()"
   ]
  },
  {
   "cell_type": "code",
   "execution_count": 43,
   "id": "2f022c5a-eaee-4cc6-9141-1fa58f6c9fbb",
   "metadata": {},
   "outputs": [],
   "source": [
    "txt_reviews = reviews['Texto_preprocesado'].to_list()\n",
    "combined_reviews = ','.join(txt_reviews)"
   ]
  },
  {
   "cell_type": "code",
   "execution_count": 44,
   "id": "671677ee-7d69-4f26-9637-4e747d4dae4c",
   "metadata": {
    "scrolled": true
   },
   "outputs": [
    {
     "data": {
      "image/jpeg": "[encoded data removed]",
      "image/png": "[encoded data removed]",
      "text/plain": [
       "<PIL.Image.Image image mode=RGB size=400x200>"
      ]
     },
     "execution_count": 44,
     "metadata": {},
     "output_type": "execute_result"
    }
   ],
   "source": [
    "wordcloud.generate(combined_reviews)\n",
    "wordcloud.to_image()"
   ]
  },
  {
   "cell_type": "markdown",
   "id": "0187d7e9-b49c-4d1b-8146-4b23afd2d863",
   "metadata": {},
   "source": [
    "**Se guardan los datos preprocesados en un csv**"
   ]
  },
  {
   "cell_type": "code",
   "execution_count": 45,
   "id": "8fb29e35-13ac-4f20-b805-fd811ad73813",
   "metadata": {},
   "outputs": [],
   "source": [
    "reviews.to_csv(\"C:\\\\Users\\\\danie\\\\Desktop\\\\TFM\\\\TFM-Reproducible\\\\Reviews\\\\procesado\\\\reviews_preprocessed.csv\", index= False)"
   ]
  },
  {
   "cell_type": "markdown",
   "id": "4d60386d-2d3a-4927-b20b-412588837171",
   "metadata": {},
   "source": [
    "## Creación de etiquetas y Vectorización\n",
    "De cara al entrenamiento y evaluación de modelos vamos a crear una nueva variable llamada *Sentimiento* que recogerá las etiquetas de cada reseña según si esta recoge un comentario Positivo, Negativo o Neutro. Para ello, nos vamos a ayudar de la variable *Calificacion* de forma que si el cliente da una puntuación entre 0 y 3 la etiqueta sea Negativo, entre 3 y 4 neutro, y entre 4 y 5 Positivo."
   ]
  },
  {
   "cell_type": "code",
   "execution_count": 46,
   "id": "5b429866-387a-45e2-ad11-87af58d237c1",
   "metadata": {},
   "outputs": [],
   "source": [
    "def clasificar_sentimiento(Calificacion):\n",
    "    if Calificacion >= 0.0 and Calificacion < 3.0:\n",
    "        return 'Negativo'\n",
    "    elif Calificacion >= 3.0 and Calificacion < 4.0:\n",
    "        return 'Neutro'\n",
    "    elif Calificacion >= 4.0 and Calificacion <= 5.0:\n",
    "        return 'Positivo'"
   ]
  },
  {
   "cell_type": "code",
   "execution_count": 47,
   "id": "dabd4205-62d6-4758-b0ce-0a5dadd0f1f4",
   "metadata": {},
   "outputs": [],
   "source": [
    "reviews['Sentimiento'] = reviews['Calificacion'].apply(clasificar_sentimiento)"
   ]
  },
  {
   "cell_type": "code",
   "execution_count": 48,
   "id": "6a338467-8052-4db1-a2fd-f84ee0802068",
   "metadata": {},
   "outputs": [
    {
     "data": {
      "text/plain": [
       "Sentimiento\n",
       "Positivo    790\n",
       "Neutro      291\n",
       "Negativo      6\n",
       "Name: count, dtype: int64"
      ]
     },
     "execution_count": 48,
     "metadata": {},
     "output_type": "execute_result"
    }
   ],
   "source": [
    "reviews.Sentimiento.value_counts()"
   ]
  },
  {
   "cell_type": "code",
   "execution_count": 49,
   "id": "93e2c072-5cf8-40c9-b448-7fdc78c331a1",
   "metadata": {
    "scrolled": true
   },
   "outputs": [
    {
     "name": "stdout",
     "output_type": "stream",
     "text": [
      "<class 'pandas.core.frame.DataFrame'>\n",
      "Index: 1087 entries, 0 to 1464\n",
      "Data columns (total 18 columns):\n",
      " #   Column                Non-Null Count  Dtype   \n",
      "---  ------                --------------  -----   \n",
      " 0   ID_producto           1087 non-null   object  \n",
      " 1   Producto              1087 non-null   object  \n",
      " 2   Categoria             1087 non-null   category\n",
      " 3   Precio_descontado     1087 non-null   float64 \n",
      " 4   Precio_real           1087 non-null   float64 \n",
      " 5   Porcentaje_descuento  1087 non-null   float64 \n",
      " 6   Calificacion          1087 non-null   float64 \n",
      " 7   Recuento_votos        1087 non-null   int32   \n",
      " 8   Descripcion_producto  1087 non-null   object  \n",
      " 9   ID_usuario            1087 non-null   object  \n",
      " 10  Nombre_usuario        1087 non-null   object  \n",
      " 11  ID_reseña             1087 non-null   object  \n",
      " 12  Titulo_reseña         1087 non-null   object  \n",
      " 13  Reseña                1087 non-null   object  \n",
      " 14  char_len              1087 non-null   int64   \n",
      " 15  Normalizado           1087 non-null   object  \n",
      " 16  Texto_preprocesado    1087 non-null   object  \n",
      " 17  Sentimiento           1087 non-null   object  \n",
      "dtypes: category(1), float64(4), int32(1), int64(1), object(11)\n",
      "memory usage: 150.0+ KB\n"
     ]
    }
   ],
   "source": [
    "reviews.info()"
   ]
  },
  {
   "cell_type": "markdown",
   "id": "26241645-7d2d-402d-a429-c9e388c5526c",
   "metadata": {},
   "source": [
    "Para generar los vectores de características vamos a utilizar el método TFID, al que le incorporaremos más adelante otras características:"
   ]
  },
  {
   "cell_type": "code",
   "execution_count": 50,
   "id": "21cf3fd6-7037-4c49-a07e-63c2e4b19780",
   "metadata": {},
   "outputs": [],
   "source": [
    "vectorizador = TfidfVectorizer(lowercase = False, stop_words =None,\n",
    "                               min_df=0.005, ngram_range = (1,3))\n",
    "\n",
    "vector_data = vectorizador.fit_transform(reviews['Texto_preprocesado'])"
   ]
  },
  {
   "cell_type": "markdown",
   "id": "49754c3b-50e1-4909-8f5a-97d3d8650b98",
   "metadata": {},
   "source": [
    "Generamos características adicionales:"
   ]
  },
  {
   "cell_type": "code",
   "execution_count": 51,
   "id": "66aafcfe-723f-4954-b9bd-0790c8574452",
   "metadata": {},
   "outputs": [],
   "source": [
    "def token_appearance(document, token = \"URL\"):\n",
    "  return len([x for x in document.split() if x == token])"
   ]
  },
  {
   "cell_type": "code",
   "execution_count": 52,
   "id": "a6257fdf-6a77-4dd1-bd27-97758b7c3377",
   "metadata": {
    "scrolled": true
   },
   "outputs": [
    {
     "name": "stderr",
     "output_type": "stream",
     "text": [
      "100%|██████████| 1087/1087 [00:00<00:00, 72794.76it/s]\n",
      "100%|██████████| 1087/1087 [00:00<00:00, 109514.75it/s]\n"
     ]
    }
   ],
   "source": [
    "reviews[\"num_URLS\"] = reviews[\"Texto_preprocesado\"].progress_apply(lambda x: token_appearance(x, token=\"URL\"))\n",
    "reviews[\"num_NUM\"] = reviews[\"Texto_preprocesado\"].progress_apply(lambda x: token_appearance(x, token=\"NUM\"))"
   ]
  },
  {
   "cell_type": "markdown",
   "id": "0d84c1b4-18b5-4abe-af7a-f8b2e17ddf9a",
   "metadata": {},
   "source": [
    "Ahora vamos a incorporar análisis de sentimiento a través del uso de diccionarios de sentimiento como TextBlob. Esta librería nos permitirá extraer el sentimiento que tiene un texto (polaridad y subjetividad)"
   ]
  },
  {
   "cell_type": "code",
   "execution_count": 53,
   "id": "507cc328-057a-4dec-88a2-0de7d5915e7d",
   "metadata": {},
   "outputs": [],
   "source": [
    "reviews[\"tweet_sentiment_polarity\"] = reviews[\"Texto_preprocesado\"].apply(lambda x: TextBlob(x).sentiment.polarity)\n",
    "reviews[\"tweet_sentiment_subjectivity\"] = reviews[\"Texto_preprocesado\"].apply(lambda x: TextBlob(x).sentiment.subjectivity)"
   ]
  },
  {
   "cell_type": "markdown",
   "id": "ed42f7ad-650b-459f-8999-f70d63568976",
   "metadata": {},
   "source": [
    "Denominamos extra_features al conjunto de estas variables que hemos obtenido y que queremos considerar para el entrenamiento:"
   ]
  },
  {
   "cell_type": "code",
   "execution_count": 54,
   "id": "6b2e85bf-57ca-4dec-9235-7e58f1117314",
   "metadata": {},
   "outputs": [],
   "source": [
    "extra_features = reviews[['num_URLS','num_NUM', 'tweet_sentiment_polarity', 'tweet_sentiment_subjectivity']]"
   ]
  },
  {
   "cell_type": "markdown",
   "id": "9233eccb-6866-49a3-81c8-65b6aa440fae",
   "metadata": {},
   "source": [
    "Observamos el dataset resultante para comprobar la presencia de todas las características adicionales:"
   ]
  },
  {
   "cell_type": "code",
   "execution_count": 55,
   "id": "a29429f3-5dee-4f8c-91a1-01c9da1131d1",
   "metadata": {
    "scrolled": true
   },
   "outputs": [
    {
     "data": {
      "text/html": [
       "<div>\n",
       "<style scoped>\n",
       "    .dataframe tbody tr th:only-of-type {\n",
       "        vertical-align: middle;\n",
       "    }\n",
       "\n",
       "    .dataframe tbody tr th {\n",
       "        vertical-align: top;\n",
       "    }\n",
       "\n",
       "    .dataframe thead th {\n",
       "        text-align: right;\n",
       "    }\n",
       "</style>\n",
       "<table border=\"1\" class=\"dataframe\">\n",
       "  <thead>\n",
       "    <tr style=\"text-align: right;\">\n",
       "      <th></th>\n",
       "      <th>ID_producto</th>\n",
       "      <th>Producto</th>\n",
       "      <th>Categoria</th>\n",
       "      <th>Precio_descontado</th>\n",
       "      <th>Precio_real</th>\n",
       "      <th>Porcentaje_descuento</th>\n",
       "      <th>Calificacion</th>\n",
       "      <th>Recuento_votos</th>\n",
       "      <th>Descripcion_producto</th>\n",
       "      <th>ID_usuario</th>\n",
       "      <th>...</th>\n",
       "      <th>Titulo_reseña</th>\n",
       "      <th>Reseña</th>\n",
       "      <th>char_len</th>\n",
       "      <th>Normalizado</th>\n",
       "      <th>Texto_preprocesado</th>\n",
       "      <th>Sentimiento</th>\n",
       "      <th>num_URLS</th>\n",
       "      <th>num_NUM</th>\n",
       "      <th>tweet_sentiment_polarity</th>\n",
       "      <th>tweet_sentiment_subjectivity</th>\n",
       "    </tr>\n",
       "  </thead>\n",
       "  <tbody>\n",
       "    <tr>\n",
       "      <th>0</th>\n",
       "      <td>B07JW9H4J1</td>\n",
       "      <td>Wayona Nylon Braided USB to Lightning Fast Cha...</td>\n",
       "      <td>Computers&amp;Accessories</td>\n",
       "      <td>399.0</td>\n",
       "      <td>1099.0</td>\n",
       "      <td>64.0</td>\n",
       "      <td>4.2</td>\n",
       "      <td>24269</td>\n",
       "      <td>High Compatibility : Compatible With iPhone 12...</td>\n",
       "      <td>AG3D6O4STAQKAY2UVGEUV46KN35Q,AHMY5CWJMMK5BJRBB...</td>\n",
       "      <td>...</td>\n",
       "      <td>Satisfied,Charging is really fast,Value for mo...</td>\n",
       "      <td>Looks durable Charging is fine tooNo complains...</td>\n",
       "      <td>483</td>\n",
       "      <td>looks durable charging is fine too ##no compla...</td>\n",
       "      <td>look durable charging fine complain charge rea...</td>\n",
       "      <td>Positivo</td>\n",
       "      <td>0</td>\n",
       "      <td>2</td>\n",
       "      <td>0.365741</td>\n",
       "      <td>0.616667</td>\n",
       "    </tr>\n",
       "    <tr>\n",
       "      <th>1</th>\n",
       "      <td>B098NS6PVG</td>\n",
       "      <td>Ambrane Unbreakable 60W / 3A Fast Charging 1.5...</td>\n",
       "      <td>Computers&amp;Accessories</td>\n",
       "      <td>199.0</td>\n",
       "      <td>349.0</td>\n",
       "      <td>43.0</td>\n",
       "      <td>4.0</td>\n",
       "      <td>43994</td>\n",
       "      <td>Compatible with all Type C enabled devices, be...</td>\n",
       "      <td>AECPFYFQVRUWC3KGNLJIOREFP5LQ,AGYYVPDD7YG7FYNBX...</td>\n",
       "      <td>...</td>\n",
       "      <td>A Good Braided Cable for Your Type C Device,Go...</td>\n",
       "      <td>I ordered this cable to connect my phone to An...</td>\n",
       "      <td>1186</td>\n",
       "      <td>i ordered this cable to connect my phone to an...</td>\n",
       "      <td>order cable connect phone android auto car cab...</td>\n",
       "      <td>Positivo</td>\n",
       "      <td>0</td>\n",
       "      <td>4</td>\n",
       "      <td>0.312788</td>\n",
       "      <td>0.539515</td>\n",
       "    </tr>\n",
       "    <tr>\n",
       "      <th>2</th>\n",
       "      <td>B096MSW6CT</td>\n",
       "      <td>Sounce Fast Phone Charging Cable &amp; Data Sync U...</td>\n",
       "      <td>Computers&amp;Accessories</td>\n",
       "      <td>199.0</td>\n",
       "      <td>1899.0</td>\n",
       "      <td>90.0</td>\n",
       "      <td>3.9</td>\n",
       "      <td>7928</td>\n",
       "      <td>【 Fast Charger&amp; Data Sync】-With built-in safet...</td>\n",
       "      <td>AGU3BBQ2V2DDAMOAKGFAWDDQ6QHA,AESFLDV2PT363T2AQ...</td>\n",
       "      <td>...</td>\n",
       "      <td>Good speed for earlier versions,Good Product,W...</td>\n",
       "      <td>Not quite durable and sturdy,https://m.media-a...</td>\n",
       "      <td>271</td>\n",
       "      <td>not quite durable and sturdy , https : / / m ....</td>\n",
       "      <td>quite durable sturdy https medium amazon com i...</td>\n",
       "      <td>Neutro</td>\n",
       "      <td>0</td>\n",
       "      <td>4</td>\n",
       "      <td>0.633333</td>\n",
       "      <td>0.866667</td>\n",
       "    </tr>\n",
       "    <tr>\n",
       "      <th>3</th>\n",
       "      <td>B08HDJ86NZ</td>\n",
       "      <td>boAt Deuce USB 300 2 in 1 Type-C &amp; Micro USB S...</td>\n",
       "      <td>Computers&amp;Accessories</td>\n",
       "      <td>329.0</td>\n",
       "      <td>699.0</td>\n",
       "      <td>53.0</td>\n",
       "      <td>4.2</td>\n",
       "      <td>94363</td>\n",
       "      <td>The boAt Deuce USB 300 2 in 1 cable is compati...</td>\n",
       "      <td>AEWAZDZZJLQUYVOVGBEUKSLXHQ5A,AG5HTSFRRE6NL3M5S...</td>\n",
       "      <td>...</td>\n",
       "      <td>Good product,Good one,Nice,Really nice product...</td>\n",
       "      <td>Good product,long wire,Charges good,Nice,I bou...</td>\n",
       "      <td>443</td>\n",
       "      <td>good product , long wire , charges good , nice...</td>\n",
       "      <td>good product long wire charge good nice buy ca...</td>\n",
       "      <td>Positivo</td>\n",
       "      <td>0</td>\n",
       "      <td>3</td>\n",
       "      <td>0.398611</td>\n",
       "      <td>0.616667</td>\n",
       "    </tr>\n",
       "    <tr>\n",
       "      <th>4</th>\n",
       "      <td>B08CF3B7N1</td>\n",
       "      <td>Portronics Konnect L 1.2M Fast Charging 3A 8 P...</td>\n",
       "      <td>Computers&amp;Accessories</td>\n",
       "      <td>154.0</td>\n",
       "      <td>399.0</td>\n",
       "      <td>61.0</td>\n",
       "      <td>4.2</td>\n",
       "      <td>16905</td>\n",
       "      <td>[CHARGE &amp; SYNC FUNCTION]- This cable comes wit...</td>\n",
       "      <td>AE3Q6KSUK5P75D5HFYHCRAOLODSA,AFUGIFH5ZAFXRDSZH...</td>\n",
       "      <td>...</td>\n",
       "      <td>As good as original,Decent,Good one for second...</td>\n",
       "      <td>Bought this instead of original apple, does th...</td>\n",
       "      <td>2451</td>\n",
       "      <td>bought this instead of original apple , does t...</td>\n",
       "      <td>buy instead original apple work NUM rs fast ap...</td>\n",
       "      <td>Positivo</td>\n",
       "      <td>0</td>\n",
       "      <td>10</td>\n",
       "      <td>0.355130</td>\n",
       "      <td>0.636067</td>\n",
       "    </tr>\n",
       "  </tbody>\n",
       "</table>\n",
       "<p>5 rows × 22 columns</p>\n",
       "</div>"
      ],
      "text/plain": [
       "  ID_producto                                           Producto  \\\n",
       "0  B07JW9H4J1  Wayona Nylon Braided USB to Lightning Fast Cha...   \n",
       "1  B098NS6PVG  Ambrane Unbreakable 60W / 3A Fast Charging 1.5...   \n",
       "2  B096MSW6CT  Sounce Fast Phone Charging Cable & Data Sync U...   \n",
       "3  B08HDJ86NZ  boAt Deuce USB 300 2 in 1 Type-C & Micro USB S...   \n",
       "4  B08CF3B7N1  Portronics Konnect L 1.2M Fast Charging 3A 8 P...   \n",
       "\n",
       "               Categoria  Precio_descontado  Precio_real  \\\n",
       "0  Computers&Accessories              399.0       1099.0   \n",
       "1  Computers&Accessories              199.0        349.0   \n",
       "2  Computers&Accessories              199.0       1899.0   \n",
       "3  Computers&Accessories              329.0        699.0   \n",
       "4  Computers&Accessories              154.0        399.0   \n",
       "\n",
       "   Porcentaje_descuento  Calificacion  Recuento_votos  \\\n",
       "0                  64.0           4.2           24269   \n",
       "1                  43.0           4.0           43994   \n",
       "2                  90.0           3.9            7928   \n",
       "3                  53.0           4.2           94363   \n",
       "4                  61.0           4.2           16905   \n",
       "\n",
       "                                Descripcion_producto  \\\n",
       "0  High Compatibility : Compatible With iPhone 12...   \n",
       "1  Compatible with all Type C enabled devices, be...   \n",
       "2  【 Fast Charger& Data Sync】-With built-in safet...   \n",
       "3  The boAt Deuce USB 300 2 in 1 cable is compati...   \n",
       "4  [CHARGE & SYNC FUNCTION]- This cable comes wit...   \n",
       "\n",
       "                                          ID_usuario  ...  \\\n",
       "0  AG3D6O4STAQKAY2UVGEUV46KN35Q,AHMY5CWJMMK5BJRBB...  ...   \n",
       "1  AECPFYFQVRUWC3KGNLJIOREFP5LQ,AGYYVPDD7YG7FYNBX...  ...   \n",
       "2  AGU3BBQ2V2DDAMOAKGFAWDDQ6QHA,AESFLDV2PT363T2AQ...  ...   \n",
       "3  AEWAZDZZJLQUYVOVGBEUKSLXHQ5A,AG5HTSFRRE6NL3M5S...  ...   \n",
       "4  AE3Q6KSUK5P75D5HFYHCRAOLODSA,AFUGIFH5ZAFXRDSZH...  ...   \n",
       "\n",
       "                                       Titulo_reseña  \\\n",
       "0  Satisfied,Charging is really fast,Value for mo...   \n",
       "1  A Good Braided Cable for Your Type C Device,Go...   \n",
       "2  Good speed for earlier versions,Good Product,W...   \n",
       "3  Good product,Good one,Nice,Really nice product...   \n",
       "4  As good as original,Decent,Good one for second...   \n",
       "\n",
       "                                              Reseña char_len  \\\n",
       "0  Looks durable Charging is fine tooNo complains...      483   \n",
       "1  I ordered this cable to connect my phone to An...     1186   \n",
       "2  Not quite durable and sturdy,https://m.media-a...      271   \n",
       "3  Good product,long wire,Charges good,Nice,I bou...      443   \n",
       "4  Bought this instead of original apple, does th...     2451   \n",
       "\n",
       "                                         Normalizado  \\\n",
       "0  looks durable charging is fine too ##no compla...   \n",
       "1  i ordered this cable to connect my phone to an...   \n",
       "2  not quite durable and sturdy , https : / / m ....   \n",
       "3  good product , long wire , charges good , nice...   \n",
       "4  bought this instead of original apple , does t...   \n",
       "\n",
       "                                  Texto_preprocesado Sentimiento num_URLS  \\\n",
       "0  look durable charging fine complain charge rea...    Positivo        0   \n",
       "1  order cable connect phone android auto car cab...    Positivo        0   \n",
       "2  quite durable sturdy https medium amazon com i...      Neutro        0   \n",
       "3  good product long wire charge good nice buy ca...    Positivo        0   \n",
       "4  buy instead original apple work NUM rs fast ap...    Positivo        0   \n",
       "\n",
       "  num_NUM  tweet_sentiment_polarity  tweet_sentiment_subjectivity  \n",
       "0       2                  0.365741                      0.616667  \n",
       "1       4                  0.312788                      0.539515  \n",
       "2       4                  0.633333                      0.866667  \n",
       "3       3                  0.398611                      0.616667  \n",
       "4      10                  0.355130                      0.636067  \n",
       "\n",
       "[5 rows x 22 columns]"
      ]
     },
     "execution_count": 55,
     "metadata": {},
     "output_type": "execute_result"
    }
   ],
   "source": [
    "reviews.head()"
   ]
  },
  {
   "cell_type": "markdown",
   "id": "abf4391e-a148-4e37-a668-bf2e6113614c",
   "metadata": {},
   "source": [
    "Unimos las características TFID con las que acabamos de definir:"
   ]
  },
  {
   "cell_type": "code",
   "execution_count": 56,
   "id": "113047f8-c3b9-44e7-ba5f-e5606f2c3df9",
   "metadata": {},
   "outputs": [],
   "source": [
    "reviews[\"Sentimiento\"] = reviews[\"Sentimiento\"].map({'Positivo': 1, 'Negativo': 0, 'Neutro': 2})\n",
    "\n",
    "y = reviews[\"Sentimiento\"].values.astype(np.float32)\n",
    "X = sp.sparse.hstack((vector_data,extra_features.values),format='csr')"
   ]
  },
  {
   "cell_type": "markdown",
   "id": "d601540d-b35a-4363-9c7f-bb542c30b7df",
   "metadata": {},
   "source": [
    "## División en train/test y Modelado"
   ]
  },
  {
   "cell_type": "markdown",
   "id": "17bece3d-4fa6-4803-9f18-380fe0b9eeae",
   "metadata": {
    "jp-MarkdownHeadingCollapsed": true
   },
   "source": [
    "Dividimos en Train y Test:"
   ]
  },
  {
   "cell_type": "code",
   "execution_count": 57,
   "id": "d5fd7e2f-a45f-4db7-9a82-79b69b5232cc",
   "metadata": {
    "scrolled": true
   },
   "outputs": [
    {
     "name": "stdout",
     "output_type": "stream",
     "text": [
      "(815, 3618)\n",
      "(272, 3618)\n"
     ]
    }
   ],
   "source": [
    "X_train, X_test, y_train, y_test = train_test_split(X, y , random_state=0,\n",
    "                                                    stratify = y)\n",
    "print(X_train.shape)\n",
    "print(X_test.shape)"
   ]
  },
  {
   "cell_type": "markdown",
   "id": "55592edd-2325-40b2-9852-f2caf5717dc3",
   "metadata": {},
   "source": [
    "\n",
    "Vamos a proceder a solucionar el problema que nos hemos encontrado respecto al desbalanceo de los datos. Para ello vamos a utilizar SMOTE:"
   ]
  },
  {
   "cell_type": "code",
   "execution_count": 58,
   "id": "cf85d24f-ca4b-4493-8c4d-f1586a7c8710",
   "metadata": {},
   "outputs": [],
   "source": [
    "sm = SMOTE(random_state=42, k_neighbors=3)\n",
    "\n",
    "X_res, y_res = sm.fit_resample(X_train, y_train)"
   ]
  },
  {
   "cell_type": "markdown",
   "id": "6321c866-418b-4904-93ae-40404664fac7",
   "metadata": {},
   "source": [
    "Comprobamos que está balanceado:"
   ]
  },
  {
   "cell_type": "code",
   "execution_count": 59,
   "id": "c2faf330-f121-4e16-a48f-1d34517f0a3c",
   "metadata": {},
   "outputs": [
    {
     "data": {
      "text/plain": [
       "array([[  0., 592.],\n",
       "       [  1., 592.],\n",
       "       [  2., 592.]])"
      ]
     },
     "execution_count": 59,
     "metadata": {},
     "output_type": "execute_result"
    }
   ],
   "source": [
    "np.array(np.unique(y_res, return_counts=True)).T"
   ]
  },
  {
   "cell_type": "markdown",
   "id": "a9a4dfa4-9753-4b44-866a-1203e4f3f14d",
   "metadata": {},
   "source": [
    "Definimos una función que nos ayudará a medir la calidad de varios modelos:"
   ]
  },
  {
   "cell_type": "code",
   "execution_count": 60,
   "id": "df0f9242-89ec-4bca-9784-452b1baf9a34",
   "metadata": {},
   "outputs": [],
   "source": [
    "def model_evaluation(models, score, X, y):\n",
    "      results = []\n",
    "      names = []\n",
    "\n",
    "      for name, model in models:\n",
    "          warnings.filterwarnings('ignore')\n",
    "\n",
    "          KF = KFold(n_splits = 10, shuffle = True, random_state = 98)\n",
    "\n",
    "\n",
    "          cv_results = cross_val_score(model, X, y, cv = KF, scoring = score, verbose = False)\n",
    "\n",
    "          results.append(cv_results)\n",
    "          names.append(name)\n",
    "\n",
    "          print('Metric: {} , KFold '.format(str(score)))\n",
    "          print(\"%s: %f (%f) \" % (name, cv_results.mean(), cv_results.std()))\n",
    "\n",
    "      return results, names"
   ]
  },
  {
   "cell_type": "markdown",
   "id": "f01de016-d064-4815-85c5-2a033a6d73f5",
   "metadata": {},
   "source": [
    "Y la utilizamos:"
   ]
  },
  {
   "cell_type": "code",
   "execution_count": 61,
   "id": "4bf02a17-6f41-415b-a405-1747c4949818",
   "metadata": {},
   "outputs": [
    {
     "name": "stdout",
     "output_type": "stream",
     "text": [
      "Metric: accuracy , KFold \n",
      "Logistic: 0.902047 (0.034116) \n",
      "Metric: accuracy , KFold \n",
      "GaussianNB: 0.957214 (0.013339) \n",
      "Metric: accuracy , KFold \n",
      "DecisionTree: 0.815286 (0.025131) \n",
      "Metric: accuracy , KFold \n",
      "RandomForest: 0.930182 (0.020024) \n"
     ]
    },
    {
     "data": {
      "text/plain": [
       "([array([0.90449438, 0.89325843, 0.88202247, 0.96067416, 0.88764045,\n",
       "         0.84831461, 0.94915254, 0.92090395, 0.91525424, 0.85875706]),\n",
       "  array([0.97191011, 0.9494382 , 0.94382022, 0.97752809, 0.9494382 ,\n",
       "         0.93820225, 0.97175141, 0.96045198, 0.96610169, 0.94350282]),\n",
       "  array([0.83707865, 0.80337079, 0.79213483, 0.85393258, 0.83146067,\n",
       "         0.8258427 , 0.83050847, 0.7740113 , 0.82485876, 0.77966102]),\n",
       "  array([0.93258427, 0.93258427, 0.8988764 , 0.96067416, 0.92134831,\n",
       "         0.93258427, 0.96045198, 0.91525424, 0.94350282, 0.9039548 ])],\n",
       " ['Logistic', 'GaussianNB', 'DecisionTree', 'RandomForest'])"
      ]
     },
     "execution_count": 61,
     "metadata": {},
     "output_type": "execute_result"
    }
   ],
   "source": [
    "models = [\n",
    "         (\"Logistic\",LogisticRegression(random_state=30)),\n",
    "         (\"GaussianNB\",GaussianNB()),\n",
    "         (\"DecisionTree\",DecisionTreeClassifier()),\n",
    "         (\"RandomForest\",RandomForestClassifier()),\n",
    "]\n",
    "\n",
    "evaluation_score = \"accuracy\"\n",
    "\n",
    "model_evaluation(models,  evaluation_score, X_res.toarray(), y_res)"
   ]
  },
  {
   "cell_type": "markdown",
   "id": "1d1fad60-4651-48a8-affc-cf8d19bd4828",
   "metadata": {},
   "source": [
    "Observamos claramente que `GaussianNB()` es la métrica que nos arroja mejores resultados, con un accuracy del 0.957779. Por lo tanto, intentaremos afinar los hiperparámetros de esta métrica:"
   ]
  },
  {
   "cell_type": "code",
   "execution_count": 62,
   "id": "61ec11d9-7941-4d6d-8567-fb2c8e9403f1",
   "metadata": {},
   "outputs": [],
   "source": [
    "model = GaussianNB()\n",
    "from collections import Counter\n",
    "\n",
    "class_distribution = Counter(y_train)\n",
    "total_samples = len(y_train)\n",
    "priors = [class_distribution[i] / total_samples for i in sorted(class_distribution.keys())]\n",
    "\n",
    "param_grid = {\n",
    "    'priors': [None, priors],  \n",
    "    'var_smoothing': [1e-9, 1e-8, 1e-7, 1e-6, 1e-5]  \n",
    "}\n",
    "cv = KFold(n_splits=10)\n",
    "grid_search = GridSearchCV(estimator=model, param_grid=param_grid, n_jobs=-1, cv=cv, scoring='accuracy',error_score=0)"
   ]
  },
  {
   "cell_type": "code",
   "execution_count": 63,
   "id": "0b69f274-6137-446b-9d96-82292dd4f633",
   "metadata": {},
   "outputs": [],
   "source": [
    "sm = SMOTE(random_state=42, k_neighbors=3)\n",
    "X_train_denso = X_train.toarray()\n",
    "X_res, y_res = sm.fit_resample(X_train_denso, y_train)"
   ]
  },
  {
   "cell_type": "code",
   "execution_count": 64,
   "id": "1828732c-4282-46a2-a4eb-9a680afb54b0",
   "metadata": {},
   "outputs": [
    {
     "name": "stdout",
     "output_type": "stream",
     "text": [
      "Mejor accuracy: 0.962921 usando los parámetros {'priors': None, 'var_smoothing': 1e-09}\n"
     ]
    }
   ],
   "source": [
    "grid_result = grid_search.fit(X_res, y_res)\n",
    "print(\"Mejor accuracy: %f usando los parámetros %s\" % (grid_result.best_score_, grid_result.best_params_))"
   ]
  },
  {
   "cell_type": "code",
   "execution_count": 65,
   "id": "a7b83d52-9ac5-4465-b21e-55d3bc9329e2",
   "metadata": {
    "scrolled": true
   },
   "outputs": [
    {
     "data": {
      "text/html": [
       "<style>#sk-container-id-1 {\n",
       "  /* Definition of color scheme common for light and dark mode */\n",
       "  --sklearn-color-text: black;\n",
       "  --sklearn-color-line: gray;\n",
       "  /* Definition of color scheme for unfitted estimators */\n",
       "  --sklearn-color-unfitted-level-0: #fff5e6;\n",
       "  --sklearn-color-unfitted-level-1: #f6e4d2;\n",
       "  --sklearn-color-unfitted-level-2: #ffe0b3;\n",
       "  --sklearn-color-unfitted-level-3: chocolate;\n",
       "  /* Definition of color scheme for fitted estimators */\n",
       "  --sklearn-color-fitted-level-0: #f0f8ff;\n",
       "  --sklearn-color-fitted-level-1: #d4ebff;\n",
       "  --sklearn-color-fitted-level-2: #b3dbfd;\n",
       "  --sklearn-color-fitted-level-3: cornflowerblue;\n",
       "\n",
       "  /* Specific color for light theme */\n",
       "  --sklearn-color-text-on-default-background: var(--sg-text-color, var(--theme-code-foreground, var(--jp-content-font-color1, black)));\n",
       "  --sklearn-color-background: var(--sg-background-color, var(--theme-background, var(--jp-layout-color0, white)));\n",
       "  --sklearn-color-border-box: var(--sg-text-color, var(--theme-code-foreground, var(--jp-content-font-color1, black)));\n",
       "  --sklearn-color-icon: #696969;\n",
       "\n",
       "  @media (prefers-color-scheme: dark) {\n",
       "    /* Redefinition of color scheme for dark theme */\n",
       "    --sklearn-color-text-on-default-background: var(--sg-text-color, var(--theme-code-foreground, var(--jp-content-font-color1, white)));\n",
       "    --sklearn-color-background: var(--sg-background-color, var(--theme-background, var(--jp-layout-color0, #111)));\n",
       "    --sklearn-color-border-box: var(--sg-text-color, var(--theme-code-foreground, var(--jp-content-font-color1, white)));\n",
       "    --sklearn-color-icon: #878787;\n",
       "  }\n",
       "}\n",
       "\n",
       "#sk-container-id-1 {\n",
       "  color: var(--sklearn-color-text);\n",
       "}\n",
       "\n",
       "#sk-container-id-1 pre {\n",
       "  padding: 0;\n",
       "}\n",
       "\n",
       "#sk-container-id-1 input.sk-hidden--visually {\n",
       "  border: 0;\n",
       "  clip: rect(1px 1px 1px 1px);\n",
       "  clip: rect(1px, 1px, 1px, 1px);\n",
       "  height: 1px;\n",
       "  margin: -1px;\n",
       "  overflow: hidden;\n",
       "  padding: 0;\n",
       "  position: absolute;\n",
       "  width: 1px;\n",
       "}\n",
       "\n",
       "#sk-container-id-1 div.sk-dashed-wrapped {\n",
       "  border: 1px dashed var(--sklearn-color-line);\n",
       "  margin: 0 0.4em 0.5em 0.4em;\n",
       "  box-sizing: border-box;\n",
       "  padding-bottom: 0.4em;\n",
       "  background-color: var(--sklearn-color-background);\n",
       "}\n",
       "\n",
       "#sk-container-id-1 div.sk-container {\n",
       "  /* jupyter's `normalize.less` sets `[hidden] { display: none; }`\n",
       "     but bootstrap.min.css set `[hidden] { display: none !important; }`\n",
       "     so we also need the `!important` here to be able to override the\n",
       "     default hidden behavior on the sphinx rendered scikit-learn.org.\n",
       "     See: https://github.com/scikit-learn/scikit-learn/issues/21755 */\n",
       "  display: inline-block !important;\n",
       "  position: relative;\n",
       "}\n",
       "\n",
       "#sk-container-id-1 div.sk-text-repr-fallback {\n",
       "  display: none;\n",
       "}\n",
       "\n",
       "div.sk-parallel-item,\n",
       "div.sk-serial,\n",
       "div.sk-item {\n",
       "  /* draw centered vertical line to link estimators */\n",
       "  background-image: linear-gradient(var(--sklearn-color-text-on-default-background), var(--sklearn-color-text-on-default-background));\n",
       "  background-size: 2px 100%;\n",
       "  background-repeat: no-repeat;\n",
       "  background-position: center center;\n",
       "}\n",
       "\n",
       "/* Parallel-specific style estimator block */\n",
       "\n",
       "#sk-container-id-1 div.sk-parallel-item::after {\n",
       "  content: \"\";\n",
       "  width: 100%;\n",
       "  border-bottom: 2px solid var(--sklearn-color-text-on-default-background);\n",
       "  flex-grow: 1;\n",
       "}\n",
       "\n",
       "#sk-container-id-1 div.sk-parallel {\n",
       "  display: flex;\n",
       "  align-items: stretch;\n",
       "  justify-content: center;\n",
       "  background-color: var(--sklearn-color-background);\n",
       "  position: relative;\n",
       "}\n",
       "\n",
       "#sk-container-id-1 div.sk-parallel-item {\n",
       "  display: flex;\n",
       "  flex-direction: column;\n",
       "}\n",
       "\n",
       "#sk-container-id-1 div.sk-parallel-item:first-child::after {\n",
       "  align-self: flex-end;\n",
       "  width: 50%;\n",
       "}\n",
       "\n",
       "#sk-container-id-1 div.sk-parallel-item:last-child::after {\n",
       "  align-self: flex-start;\n",
       "  width: 50%;\n",
       "}\n",
       "\n",
       "#sk-container-id-1 div.sk-parallel-item:only-child::after {\n",
       "  width: 0;\n",
       "}\n",
       "\n",
       "/* Serial-specific style estimator block */\n",
       "\n",
       "#sk-container-id-1 div.sk-serial {\n",
       "  display: flex;\n",
       "  flex-direction: column;\n",
       "  align-items: center;\n",
       "  background-color: var(--sklearn-color-background);\n",
       "  padding-right: 1em;\n",
       "  padding-left: 1em;\n",
       "}\n",
       "\n",
       "\n",
       "/* Toggleable style: style used for estimator/Pipeline/ColumnTransformer box that is\n",
       "clickable and can be expanded/collapsed.\n",
       "- Pipeline and ColumnTransformer use this feature and define the default style\n",
       "- Estimators will overwrite some part of the style using the `sk-estimator` class\n",
       "*/\n",
       "\n",
       "/* Pipeline and ColumnTransformer style (default) */\n",
       "\n",
       "#sk-container-id-1 div.sk-toggleable {\n",
       "  /* Default theme specific background. It is overwritten whether we have a\n",
       "  specific estimator or a Pipeline/ColumnTransformer */\n",
       "  background-color: var(--sklearn-color-background);\n",
       "}\n",
       "\n",
       "/* Toggleable label */\n",
       "#sk-container-id-1 label.sk-toggleable__label {\n",
       "  cursor: pointer;\n",
       "  display: block;\n",
       "  width: 100%;\n",
       "  margin-bottom: 0;\n",
       "  padding: 0.5em;\n",
       "  box-sizing: border-box;\n",
       "  text-align: center;\n",
       "}\n",
       "\n",
       "#sk-container-id-1 label.sk-toggleable__label-arrow:before {\n",
       "  /* Arrow on the left of the label */\n",
       "  content: \"▸\";\n",
       "  float: left;\n",
       "  margin-right: 0.25em;\n",
       "  color: var(--sklearn-color-icon);\n",
       "}\n",
       "\n",
       "#sk-container-id-1 label.sk-toggleable__label-arrow:hover:before {\n",
       "  color: var(--sklearn-color-text);\n",
       "}\n",
       "\n",
       "/* Toggleable content - dropdown */\n",
       "\n",
       "#sk-container-id-1 div.sk-toggleable__content {\n",
       "  max-height: 0;\n",
       "  max-width: 0;\n",
       "  overflow: hidden;\n",
       "  text-align: left;\n",
       "  /* unfitted */\n",
       "  background-color: var(--sklearn-color-unfitted-level-0);\n",
       "}\n",
       "\n",
       "#sk-container-id-1 div.sk-toggleable__content.fitted {\n",
       "  /* fitted */\n",
       "  background-color: var(--sklearn-color-fitted-level-0);\n",
       "}\n",
       "\n",
       "#sk-container-id-1 div.sk-toggleable__content pre {\n",
       "  margin: 0.2em;\n",
       "  border-radius: 0.25em;\n",
       "  color: var(--sklearn-color-text);\n",
       "  /* unfitted */\n",
       "  background-color: var(--sklearn-color-unfitted-level-0);\n",
       "}\n",
       "\n",
       "#sk-container-id-1 div.sk-toggleable__content.fitted pre {\n",
       "  /* unfitted */\n",
       "  background-color: var(--sklearn-color-fitted-level-0);\n",
       "}\n",
       "\n",
       "#sk-container-id-1 input.sk-toggleable__control:checked~div.sk-toggleable__content {\n",
       "  /* Expand drop-down */\n",
       "  max-height: 200px;\n",
       "  max-width: 100%;\n",
       "  overflow: auto;\n",
       "}\n",
       "\n",
       "#sk-container-id-1 input.sk-toggleable__control:checked~label.sk-toggleable__label-arrow:before {\n",
       "  content: \"▾\";\n",
       "}\n",
       "\n",
       "/* Pipeline/ColumnTransformer-specific style */\n",
       "\n",
       "#sk-container-id-1 div.sk-label input.sk-toggleable__control:checked~label.sk-toggleable__label {\n",
       "  color: var(--sklearn-color-text);\n",
       "  background-color: var(--sklearn-color-unfitted-level-2);\n",
       "}\n",
       "\n",
       "#sk-container-id-1 div.sk-label.fitted input.sk-toggleable__control:checked~label.sk-toggleable__label {\n",
       "  background-color: var(--sklearn-color-fitted-level-2);\n",
       "}\n",
       "\n",
       "/* Estimator-specific style */\n",
       "\n",
       "/* Colorize estimator box */\n",
       "#sk-container-id-1 div.sk-estimator input.sk-toggleable__control:checked~label.sk-toggleable__label {\n",
       "  /* unfitted */\n",
       "  background-color: var(--sklearn-color-unfitted-level-2);\n",
       "}\n",
       "\n",
       "#sk-container-id-1 div.sk-estimator.fitted input.sk-toggleable__control:checked~label.sk-toggleable__label {\n",
       "  /* fitted */\n",
       "  background-color: var(--sklearn-color-fitted-level-2);\n",
       "}\n",
       "\n",
       "#sk-container-id-1 div.sk-label label.sk-toggleable__label,\n",
       "#sk-container-id-1 div.sk-label label {\n",
       "  /* The background is the default theme color */\n",
       "  color: var(--sklearn-color-text-on-default-background);\n",
       "}\n",
       "\n",
       "/* On hover, darken the color of the background */\n",
       "#sk-container-id-1 div.sk-label:hover label.sk-toggleable__label {\n",
       "  color: var(--sklearn-color-text);\n",
       "  background-color: var(--sklearn-color-unfitted-level-2);\n",
       "}\n",
       "\n",
       "/* Label box, darken color on hover, fitted */\n",
       "#sk-container-id-1 div.sk-label.fitted:hover label.sk-toggleable__label.fitted {\n",
       "  color: var(--sklearn-color-text);\n",
       "  background-color: var(--sklearn-color-fitted-level-2);\n",
       "}\n",
       "\n",
       "/* Estimator label */\n",
       "\n",
       "#sk-container-id-1 div.sk-label label {\n",
       "  font-family: monospace;\n",
       "  font-weight: bold;\n",
       "  display: inline-block;\n",
       "  line-height: 1.2em;\n",
       "}\n",
       "\n",
       "#sk-container-id-1 div.sk-label-container {\n",
       "  text-align: center;\n",
       "}\n",
       "\n",
       "/* Estimator-specific */\n",
       "#sk-container-id-1 div.sk-estimator {\n",
       "  font-family: monospace;\n",
       "  border: 1px dotted var(--sklearn-color-border-box);\n",
       "  border-radius: 0.25em;\n",
       "  box-sizing: border-box;\n",
       "  margin-bottom: 0.5em;\n",
       "  /* unfitted */\n",
       "  background-color: var(--sklearn-color-unfitted-level-0);\n",
       "}\n",
       "\n",
       "#sk-container-id-1 div.sk-estimator.fitted {\n",
       "  /* fitted */\n",
       "  background-color: var(--sklearn-color-fitted-level-0);\n",
       "}\n",
       "\n",
       "/* on hover */\n",
       "#sk-container-id-1 div.sk-estimator:hover {\n",
       "  /* unfitted */\n",
       "  background-color: var(--sklearn-color-unfitted-level-2);\n",
       "}\n",
       "\n",
       "#sk-container-id-1 div.sk-estimator.fitted:hover {\n",
       "  /* fitted */\n",
       "  background-color: var(--sklearn-color-fitted-level-2);\n",
       "}\n",
       "\n",
       "/* Specification for estimator info (e.g. \"i\" and \"?\") */\n",
       "\n",
       "/* Common style for \"i\" and \"?\" */\n",
       "\n",
       ".sk-estimator-doc-link,\n",
       "a:link.sk-estimator-doc-link,\n",
       "a:visited.sk-estimator-doc-link {\n",
       "  float: right;\n",
       "  font-size: smaller;\n",
       "  line-height: 1em;\n",
       "  font-family: monospace;\n",
       "  background-color: var(--sklearn-color-background);\n",
       "  border-radius: 1em;\n",
       "  height: 1em;\n",
       "  width: 1em;\n",
       "  text-decoration: none !important;\n",
       "  margin-left: 1ex;\n",
       "  /* unfitted */\n",
       "  border: var(--sklearn-color-unfitted-level-1) 1pt solid;\n",
       "  color: var(--sklearn-color-unfitted-level-1);\n",
       "}\n",
       "\n",
       ".sk-estimator-doc-link.fitted,\n",
       "a:link.sk-estimator-doc-link.fitted,\n",
       "a:visited.sk-estimator-doc-link.fitted {\n",
       "  /* fitted */\n",
       "  border: var(--sklearn-color-fitted-level-1) 1pt solid;\n",
       "  color: var(--sklearn-color-fitted-level-1);\n",
       "}\n",
       "\n",
       "/* On hover */\n",
       "div.sk-estimator:hover .sk-estimator-doc-link:hover,\n",
       ".sk-estimator-doc-link:hover,\n",
       "div.sk-label-container:hover .sk-estimator-doc-link:hover,\n",
       ".sk-estimator-doc-link:hover {\n",
       "  /* unfitted */\n",
       "  background-color: var(--sklearn-color-unfitted-level-3);\n",
       "  color: var(--sklearn-color-background);\n",
       "  text-decoration: none;\n",
       "}\n",
       "\n",
       "div.sk-estimator.fitted:hover .sk-estimator-doc-link.fitted:hover,\n",
       ".sk-estimator-doc-link.fitted:hover,\n",
       "div.sk-label-container:hover .sk-estimator-doc-link.fitted:hover,\n",
       ".sk-estimator-doc-link.fitted:hover {\n",
       "  /* fitted */\n",
       "  background-color: var(--sklearn-color-fitted-level-3);\n",
       "  color: var(--sklearn-color-background);\n",
       "  text-decoration: none;\n",
       "}\n",
       "\n",
       "/* Span, style for the box shown on hovering the info icon */\n",
       ".sk-estimator-doc-link span {\n",
       "  display: none;\n",
       "  z-index: 9999;\n",
       "  position: relative;\n",
       "  font-weight: normal;\n",
       "  right: .2ex;\n",
       "  padding: .5ex;\n",
       "  margin: .5ex;\n",
       "  width: min-content;\n",
       "  min-width: 20ex;\n",
       "  max-width: 50ex;\n",
       "  color: var(--sklearn-color-text);\n",
       "  box-shadow: 2pt 2pt 4pt #999;\n",
       "  /* unfitted */\n",
       "  background: var(--sklearn-color-unfitted-level-0);\n",
       "  border: .5pt solid var(--sklearn-color-unfitted-level-3);\n",
       "}\n",
       "\n",
       ".sk-estimator-doc-link.fitted span {\n",
       "  /* fitted */\n",
       "  background: var(--sklearn-color-fitted-level-0);\n",
       "  border: var(--sklearn-color-fitted-level-3);\n",
       "}\n",
       "\n",
       ".sk-estimator-doc-link:hover span {\n",
       "  display: block;\n",
       "}\n",
       "\n",
       "/* \"?\"-specific style due to the `<a>` HTML tag */\n",
       "\n",
       "#sk-container-id-1 a.estimator_doc_link {\n",
       "  float: right;\n",
       "  font-size: 1rem;\n",
       "  line-height: 1em;\n",
       "  font-family: monospace;\n",
       "  background-color: var(--sklearn-color-background);\n",
       "  border-radius: 1rem;\n",
       "  height: 1rem;\n",
       "  width: 1rem;\n",
       "  text-decoration: none;\n",
       "  /* unfitted */\n",
       "  color: var(--sklearn-color-unfitted-level-1);\n",
       "  border: var(--sklearn-color-unfitted-level-1) 1pt solid;\n",
       "}\n",
       "\n",
       "#sk-container-id-1 a.estimator_doc_link.fitted {\n",
       "  /* fitted */\n",
       "  border: var(--sklearn-color-fitted-level-1) 1pt solid;\n",
       "  color: var(--sklearn-color-fitted-level-1);\n",
       "}\n",
       "\n",
       "/* On hover */\n",
       "#sk-container-id-1 a.estimator_doc_link:hover {\n",
       "  /* unfitted */\n",
       "  background-color: var(--sklearn-color-unfitted-level-3);\n",
       "  color: var(--sklearn-color-background);\n",
       "  text-decoration: none;\n",
       "}\n",
       "\n",
       "#sk-container-id-1 a.estimator_doc_link.fitted:hover {\n",
       "  /* fitted */\n",
       "  background-color: var(--sklearn-color-fitted-level-3);\n",
       "}\n",
       "</style><div id=\"sk-container-id-1\" class=\"sk-top-container\"><div class=\"sk-text-repr-fallback\"><pre>GaussianNB()</pre><b>In a Jupyter environment, please rerun this cell to show the HTML representation or trust the notebook. <br />On GitHub, the HTML representation is unable to render, please try loading this page with nbviewer.org.</b></div><div class=\"sk-container\" hidden><div class=\"sk-item\"><div class=\"sk-estimator fitted sk-toggleable\"><input class=\"sk-toggleable__control sk-hidden--visually\" id=\"sk-estimator-id-1\" type=\"checkbox\" checked><label for=\"sk-estimator-id-1\" class=\"sk-toggleable__label fitted sk-toggleable__label-arrow fitted\">&nbsp;&nbsp;GaussianNB<a class=\"sk-estimator-doc-link fitted\" rel=\"noreferrer\" target=\"_blank\" href=\"https://scikit-learn.org/1.4/modules/generated/sklearn.naive_bayes.GaussianNB.html\">?<span>Documentation for GaussianNB</span></a><span class=\"sk-estimator-doc-link fitted\">i<span>Fitted</span></span></label><div class=\"sk-toggleable__content fitted\"><pre>GaussianNB()</pre></div> </div></div></div></div>"
      ],
      "text/plain": [
       "GaussianNB()"
      ]
     },
     "execution_count": 65,
     "metadata": {},
     "output_type": "execute_result"
    }
   ],
   "source": [
    "model= GaussianNB()\n",
    "model.fit(X_res,y_res)"
   ]
  },
  {
   "cell_type": "markdown",
   "id": "05b80bd3-dae0-4b99-99b3-a310b79b5a25",
   "metadata": {},
   "source": [
    "## Predicción"
   ]
  },
  {
   "cell_type": "markdown",
   "id": "aa11c04c-44c1-445e-a159-625f5ec99545",
   "metadata": {},
   "source": [
    "Predecimos y sacamos el classification report:"
   ]
  },
  {
   "cell_type": "code",
   "execution_count": 66,
   "id": "2340e90e-d16a-4b15-b444-4822fba69940",
   "metadata": {
    "scrolled": true
   },
   "outputs": [
    {
     "name": "stdout",
     "output_type": "stream",
     "text": [
      "[[  0   1   0]\n",
      " [  0 195   3]\n",
      " [  0  61  12]]\n",
      "              precision    recall  f1-score   support\n",
      "\n",
      "         0.0       0.00      0.00      0.00         1\n",
      "         1.0       0.76      0.98      0.86       198\n",
      "         2.0       0.80      0.16      0.27        73\n",
      "\n",
      "    accuracy                           0.76       272\n",
      "   macro avg       0.52      0.38      0.38       272\n",
      "weighted avg       0.77      0.76      0.70       272\n",
      "\n"
     ]
    }
   ],
   "source": [
    "X_test_denso = X_test.toarray()\n",
    "y_pred = model.predict(X_test_denso)\n",
    "print(confusion_matrix(y_test,y_pred))\n",
    "print(classification_report(y_test,y_pred))"
   ]
  },
  {
   "cell_type": "markdown",
   "id": "363787a2-aed6-4193-8298-89e490f82874",
   "metadata": {},
   "source": [
    "Repetimos el proceso para los datos no balanceados, con el fin de comparar ambos resultados:"
   ]
  },
  {
   "cell_type": "code",
   "execution_count": 67,
   "id": "9d69c46c-e602-442a-800f-2cecfc57e2bc",
   "metadata": {},
   "outputs": [],
   "source": [
    "#models = [\n",
    "#         (\"Logistic\",LogisticRegression(random_state=30)),\n",
    "#         (\"GaussianNB\",GaussianNB()),\n",
    "#         (\"DecisionTree\",DecisionTreeClassifier()),\n",
    "#         (\"RandomForest\",RandomForestClassifier()),\n",
    "#]\n",
    "#\n",
    "#evaluation_score = \"accuracy\"\n",
    "#\n",
    "#model_evaluation(models,  evaluation_score, X_train.toarray(), y_train)"
   ]
  },
  {
   "cell_type": "code",
   "execution_count": 68,
   "id": "0c719ba3-ce2c-4392-aa17-b4900f4ef135",
   "metadata": {},
   "outputs": [],
   "source": [
    "#model= RandomForestClassifier()\n",
    "#model.fit(X_train,y_train)"
   ]
  },
  {
   "cell_type": "code",
   "execution_count": 69,
   "id": "bd2a672d-1a2c-48e5-8a23-38a70706c421",
   "metadata": {},
   "outputs": [],
   "source": [
    "#y_pred = model.predict(X_test)\n",
    "#print(confusion_matrix(y_test,y_pred))\n",
    "#print(classification_report(y_test,y_pred))"
   ]
  },
  {
   "cell_type": "markdown",
   "id": "775aadf9-9324-4d8b-ad4b-4b0d594da0bf",
   "metadata": {},
   "source": [
    "Con los datos no balanceados se obtiene un accuracy menor. \n",
    "\n",
    "Ahora se va a observar la precisión de la predicción de forma más detallada, para lo que se va a obtener la matriz de confusión:"
   ]
  },
  {
   "cell_type": "code",
   "execution_count": 70,
   "id": "7912a202-7353-4bec-8815-334111b82d29",
   "metadata": {},
   "outputs": [],
   "source": [
    "cm = confusion_matrix(y_test, y_pred) "
   ]
  },
  {
   "cell_type": "code",
   "execution_count": 71,
   "id": "18c2b878-0896-488e-aa86-7ff06ea74dd9",
   "metadata": {},
   "outputs": [
    {
     "data": {
      "image/png": "[encoded data removed]",
      "text/plain": [
       "<Figure size 640x480 with 2 Axes>"
      ]
     },
     "metadata": {},
     "output_type": "display_data"
    }
   ],
   "source": [
    "ConfusionMatrixDisplay(confusion_matrix=cm, display_labels=['Clase 0', 'Clase 1', 'Clase 2']).plot(cmap=plt.cm.Blues)\n",
    "plt.show()"
   ]
  },
  {
   "cell_type": "markdown",
   "id": "b8c7ba21-c222-4fb7-be70-823953bccd98",
   "metadata": {},
   "source": [
    "## Sistema de recomendación\n",
    "\n",
    "Se va a crear un sistema de recomendación que devuelva, introduciendo el ID de un usuario, diez recomendaciones de productos ordenados por sus respectivas puntuaciones.\n",
    "\n",
    "En primer lugar vamos a codificar la variable *ID_usuario* para poder crear el sistema de recomendación y que luego nos resulte más fácil ingresar el ID para ver las recomendaciones. Esta transformación a númerica la hacemos con la función ```LabelEncoder()```, que ya conocemos."
   ]
  },
  {
   "cell_type": "code",
   "execution_count": 72,
   "id": "dd614fb1-48fe-4cb4-bba9-753a8d67b015",
   "metadata": {},
   "outputs": [],
   "source": [
    "le = LabelEncoder()\n",
    "reviews['ID_usuario_codificado'] = le.fit_transform(reviews['ID_usuario'])"
   ]
  },
  {
   "cell_type": "markdown",
   "id": "74debc15-0078-4c3b-9776-2110da0a12a8",
   "metadata": {},
   "source": [
    "Ahora se va a crear un dataframe nuevo que recoja una tabla de frecuencias, es decir, que recoja la frecuencia de cada usuario."
   ]
  },
  {
   "cell_type": "code",
   "execution_count": 73,
   "id": "1f9e1741-a53c-42e4-bcb5-c7bfce257e96",
   "metadata": {},
   "outputs": [],
   "source": [
    "freq_table = pd.DataFrame({'ID_usuario': reviews['ID_usuario_codificado'].value_counts().index, \n",
    "                           'Frecuencia': reviews['ID_usuario_codificado'].value_counts().values})\n"
   ]
  },
  {
   "cell_type": "markdown",
   "id": "2061dbdd-bddb-4e27-93d2-6319dbccac13",
   "metadata": {},
   "source": [
    "Definiremos la función con la que luego ingresaremos el ID_usuario y nos devolverá las recomendaciones. "
   ]
  },
  {
   "cell_type": "code",
   "execution_count": 74,
   "id": "0679a470-4b40-46ff-b571-92851cb74a85",
   "metadata": {},
   "outputs": [],
   "source": [
    "def recommend_products(reviews, ID_usuario_codificado):\n",
    "    tfidf = TfidfVectorizer(stop_words='english')\n",
    "    reviews['Descripcion_producto'] = reviews['Descripcion_producto'].fillna('')\n",
    "    tfidf_matrix = tfidf.fit_transform(reviews['Descripcion_producto'])\n",
    "\n",
    "    historial = reviews[reviews['ID_usuario_codificado'] == ID_usuario_codificado]\n",
    "\n",
    "    indices = historial.index.tolist()\n",
    "\n",
    "    if indices:\n",
    "        cosine_sim_user = cosine_similarity(tfidf_matrix[indices], tfidf_matrix)\n",
    "        \n",
    "        products = reviews.iloc[indices]['Producto']\n",
    "        indices = pd.Series(products.index, index=products)\n",
    "\n",
    "        similarity_scores = list(enumerate(cosine_sim_user[-1]))\n",
    "        similarity_scores = [(i, score) for (i, score) in similarity_scores if i not in indices]\n",
    "\n",
    "        similarity_scores = sorted(similarity_scores, key=lambda x: x[1], reverse=True)\n",
    "\n",
    "        top_products = [i[0] for i in similarity_scores[1:11]]\n",
    "\n",
    "        productos_recomendados = reviews.iloc[top_products]['Producto'].tolist()\n",
    "\n",
    "        score = [similarity_scores[i][1] for i in range(10)]\n",
    "\n",
    "        results_df = pd.DataFrame({'Productos recomendados': productos_recomendados,\n",
    "                                   'Puntuación': score})\n",
    "\n",
    "        return results_df\n",
    "\n",
    "    else:\n",
    "        print(\"No hay resultados\")\n",
    "        return None"
   ]
  },
  {
   "cell_type": "markdown",
   "id": "4398fb1f-aa32-45a0-8415-91ad79be8398",
   "metadata": {},
   "source": [
    "Probamos el código:"
   ]
  },
  {
   "cell_type": "code",
   "execution_count": 75,
   "id": "ad0ab342-3094-49fe-8047-89a726557186",
   "metadata": {},
   "outputs": [
    {
     "data": {
      "text/html": [
       "<div>\n",
       "<style scoped>\n",
       "    .dataframe tbody tr th:only-of-type {\n",
       "        vertical-align: middle;\n",
       "    }\n",
       "\n",
       "    .dataframe tbody tr th {\n",
       "        vertical-align: top;\n",
       "    }\n",
       "\n",
       "    .dataframe thead th {\n",
       "        text-align: right;\n",
       "    }\n",
       "</style>\n",
       "<table border=\"1\" class=\"dataframe\">\n",
       "  <thead>\n",
       "    <tr style=\"text-align: right;\">\n",
       "      <th></th>\n",
       "      <th>Productos recomendados</th>\n",
       "      <th>Puntuación</th>\n",
       "    </tr>\n",
       "  </thead>\n",
       "  <tbody>\n",
       "    <tr>\n",
       "      <th>0</th>\n",
       "      <td>Wayona Nylon Braided (2 Pack) Lightning Fast U...</td>\n",
       "      <td>1.000000</td>\n",
       "    </tr>\n",
       "    <tr>\n",
       "      <th>1</th>\n",
       "      <td>ESR USB C to Lightning Cable, 10 ft (3 m), MFi...</td>\n",
       "      <td>0.431397</td>\n",
       "    </tr>\n",
       "    <tr>\n",
       "      <th>2</th>\n",
       "      <td>Wayona Nylon Braided USB to Lightning Fast Cha...</td>\n",
       "      <td>0.431182</td>\n",
       "    </tr>\n",
       "    <tr>\n",
       "      <th>3</th>\n",
       "      <td>Wayona Type C to Lightning MFI Certified 20W F...</td>\n",
       "      <td>0.422402</td>\n",
       "    </tr>\n",
       "    <tr>\n",
       "      <th>4</th>\n",
       "      <td>iPhone Original 20W C Type Fast PD Charger Com...</td>\n",
       "      <td>0.377856</td>\n",
       "    </tr>\n",
       "    <tr>\n",
       "      <th>5</th>\n",
       "      <td>Portronics Adapto 20 Type C 20W Fast PD/Type C...</td>\n",
       "      <td>0.347700</td>\n",
       "    </tr>\n",
       "    <tr>\n",
       "      <th>6</th>\n",
       "      <td>Wayona Usb Nylon Braided Data Sync And Chargin...</td>\n",
       "      <td>0.320295</td>\n",
       "    </tr>\n",
       "    <tr>\n",
       "      <th>7</th>\n",
       "      <td>Amazon Basics USB A to Lightning PVC Molded Ny...</td>\n",
       "      <td>0.305869</td>\n",
       "    </tr>\n",
       "    <tr>\n",
       "      <th>8</th>\n",
       "      <td>Amazon Basics USB A to Lightning MFi Certified...</td>\n",
       "      <td>0.305749</td>\n",
       "    </tr>\n",
       "    <tr>\n",
       "      <th>9</th>\n",
       "      <td>SWAPKART Fast Charging Cable and Data Sync USB...</td>\n",
       "      <td>0.298644</td>\n",
       "    </tr>\n",
       "  </tbody>\n",
       "</table>\n",
       "</div>"
      ],
      "text/plain": [
       "                              Productos recomendados  Puntuación\n",
       "0  Wayona Nylon Braided (2 Pack) Lightning Fast U...    1.000000\n",
       "1  ESR USB C to Lightning Cable, 10 ft (3 m), MFi...    0.431397\n",
       "2  Wayona Nylon Braided USB to Lightning Fast Cha...    0.431182\n",
       "3  Wayona Type C to Lightning MFI Certified 20W F...    0.422402\n",
       "4  iPhone Original 20W C Type Fast PD Charger Com...    0.377856\n",
       "5  Portronics Adapto 20 Type C 20W Fast PD/Type C...    0.347700\n",
       "6  Wayona Usb Nylon Braided Data Sync And Chargin...    0.320295\n",
       "7  Amazon Basics USB A to Lightning PVC Molded Ny...    0.305869\n",
       "8  Amazon Basics USB A to Lightning MFi Certified...    0.305749\n",
       "9  SWAPKART Fast Charging Cable and Data Sync USB...    0.298644"
      ]
     },
     "execution_count": 75,
     "metadata": {},
     "output_type": "execute_result"
    }
   ],
   "source": [
    "recommend_products(reviews, 562)"
   ]
  }
 ],
 "metadata": {
  "kernelspec": {
   "display_name": "Python 3 (ipykernel)",
   "language": "python",
   "name": "python3"
  },
  "language_info": {
   "codemirror_mode": {
    "name": "ipython",
    "version": 3
   },
   "file_extension": ".py",
   "mimetype": "text/x-python",
   "name": "python",
   "nbconvert_exporter": "python",
   "pygments_lexer": "ipython3",
   "version": "3.11.8"
  }
 },
 "nbformat": 4,
 "nbformat_minor": 5
}
