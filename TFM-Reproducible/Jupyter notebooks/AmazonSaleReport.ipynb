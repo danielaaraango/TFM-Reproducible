{
 "cells": [
  {
   "cell_type": "markdown",
   "id": "c1d6759b-8b69-455d-8df9-de6822c27d46",
   "metadata": {},
   "source": [
    "# E-Commerce Sales Dataset"
   ]
  },
  {
   "cell_type": "markdown",
   "id": "f78c005b-bbcd-4bee-b52a-33d75200320d",
   "metadata": {},
   "source": [
    "# Índice\n",
    "\n",
    "\n",
    "- [Depuración de los datos de entrenamiento](#Depuración-de-los-datos-de-entrenamiento)\n",
    "- [Análisis gráfico](#Análisis-gráfico)\n",
    "- [Depuración de los datos test](#Depuración-de-los-datos-test)\n",
    "- [Muestreo de datos](#Muestreo-de-datos)\n",
    "- [Modelo final y predicción](#Modelo-final-y-predicción)"
   ]
  },
  {
   "cell_type": "markdown",
   "id": "a5d8c023-a491-4184-985f-4dcea66f146b",
   "metadata": {},
   "source": [
    "## Librerías y carga de archivo"
   ]
  },
  {
   "cell_type": "code",
   "execution_count": 1,
   "id": "32f0e5f9-84c0-411d-ad08-c75afd76fbad",
   "metadata": {},
   "outputs": [],
   "source": [
    "import pandas as pd\n",
    "import numpy as np\n",
    "\n",
    "import plotly.express as px\n",
    "import seaborn as sns\n",
    "import matplotlib.pyplot as plt\n",
    "\n",
    "import missingno as msno  \n",
    "\n",
    "from sklearn.preprocessing import LabelEncoder\n",
    "from sklearn.preprocessing import OrdinalEncoder\n",
    "\n",
    "from sklearn.model_selection import train_test_split\n",
    "from sklearn.model_selection import train_test_split\n",
    "\n",
    "from sklearn.experimental import enable_iterative_imputer\n",
    "from sklearn.impute import SimpleImputer\n",
    "from sklearn.cluster import KMeans\n",
    "\n",
    "import sklearn.impute as skl_imp\n",
    "from sklearn.tree import DecisionTreeClassifier\n",
    "from sklearn.linear_model import LogisticRegression\n",
    "from sklearn.tree import DecisionTreeClassifier\n",
    "from sklearn.ensemble import RandomForestClassifier\n",
    "from sklearn.svm import LinearSVC\n",
    "\n",
    "from sklearn.preprocessing import scale\n",
    "from sklearn.metrics import silhouette_score\n",
    "\n",
    "import warnings\n",
    "warnings.filterwarnings('ignore')"
   ]
  },
  {
   "cell_type": "code",
   "execution_count": 2,
   "id": "0023f2ef-a214-4bd1-98c2-38df65f4017d",
   "metadata": {},
   "outputs": [],
   "source": [
    "sale_report_ = pd.read_csv('C:\\\\Users\\\\danie\\\\Desktop\\\\TFM\\\\Amazon Sale Report.csv')"
   ]
  },
  {
   "cell_type": "code",
   "execution_count": 3,
   "id": "8b3f834d-9021-47af-9845-c99574006617",
   "metadata": {},
   "outputs": [],
   "source": [
    "sale_report_train, sale_report_test = train_test_split(sale_report_, test_size=0.2, random_state=54)\n",
    "\n",
    "sale_report_test.to_csv('sale_report_test.csv', index=False) \n",
    "\n",
    "sale_report_train.to_csv('sale_report_train.csv', index=False)"
   ]
  },
  {
   "cell_type": "markdown",
   "id": "6ca1e84b-2b83-4eee-8cfa-0e5ade5eec10",
   "metadata": {},
   "source": [
    "Procedemos a depurar los datos de entrenamiento que acabamos de dividir. Para ello, ya hemos cargado el excel donde se han guardado los datos y renombramos las variables ya que algunas tenían espacios, por lo que aprovechamos y renombramos todas las demás para hacerlo más entendible."
   ]
  },
  {
   "cell_type": "code",
   "execution_count": 4,
   "id": "26ba79e9-c004-4a7e-bd1c-10f2f6ce32f0",
   "metadata": {},
   "outputs": [],
   "source": [
    "sale_report_train.rename({'Order ID': 'ID_Pedido', 'Date': 'Fecha', 'Status': 'Estado_venta', 'Fulfilment': 'Cumplimiento', \n",
    "                    'Sales Channel ': 'Canal_venta', 'ship-service-level': 'Nivel_servicio', 'Style': 'Style', \n",
    "                    'SKU': 'SKU', 'Category': 'Categoria', 'Size': 'Talla', 'ASIN': 'ASIN', \n",
    "                    'Courier Status': 'Estado_mensajeria', 'Qty': 'Cantidad', 'currency': 'Divisa', 'Amount':'Importe',\n",
    "                    'ship-city':'Ciudad', 'ship-state': 'Estado', 'ship-postal-code': 'Codigo_postal', 'ship-country': 'Pais',\n",
    "                    'promotion-ids': 'Promocion', 'B2B': 'B2B', 'fulfilled-by': 'Cumplido_por'}, axis=1, inplace= True)"
   ]
  },
  {
   "cell_type": "markdown",
   "id": "320f15cb-d0ad-4f72-9631-1f16322b8b2c",
   "metadata": {},
   "source": [
    "## Depuración de los datos de entrenamiento"
   ]
  },
  {
   "cell_type": "markdown",
   "id": "227d503c-3fb4-4400-84e6-b75bf0f052c2",
   "metadata": {},
   "source": [
    "En este proceso hay cuatro comprobaciones principales que debemos hacer sobre el dataset en cuestión. Estas son la **tipología de las variables**, los **valores mal codificados**, los **valores fuera de rango** y los factores con **categorías minoritarias**. \n",
    "\n",
    "Para comenzar, utilizaremos las funciones ```head()```, ```info()``` y ```nunique()```, que nos proporcionarán los primeros datos."
   ]
  },
  {
   "cell_type": "code",
   "execution_count": 5,
   "id": "1fe3987f-195f-4f71-88db-2e6aa518e70c",
   "metadata": {
    "scrolled": true
   },
   "outputs": [
    {
     "data": {
      "text/html": [
       "<div>\n",
       "<style scoped>\n",
       "    .dataframe tbody tr th:only-of-type {\n",
       "        vertical-align: middle;\n",
       "    }\n",
       "\n",
       "    .dataframe tbody tr th {\n",
       "        vertical-align: top;\n",
       "    }\n",
       "\n",
       "    .dataframe thead th {\n",
       "        text-align: right;\n",
       "    }\n",
       "</style>\n",
       "<table border=\"1\" class=\"dataframe\">\n",
       "  <thead>\n",
       "    <tr style=\"text-align: right;\">\n",
       "      <th></th>\n",
       "      <th>index</th>\n",
       "      <th>ID_Pedido</th>\n",
       "      <th>Fecha</th>\n",
       "      <th>Estado_venta</th>\n",
       "      <th>Cumplimiento</th>\n",
       "      <th>Canal_venta</th>\n",
       "      <th>Nivel_servicio</th>\n",
       "      <th>Style</th>\n",
       "      <th>SKU</th>\n",
       "      <th>Categoria</th>\n",
       "      <th>...</th>\n",
       "      <th>Divisa</th>\n",
       "      <th>Importe</th>\n",
       "      <th>Ciudad</th>\n",
       "      <th>Estado</th>\n",
       "      <th>Codigo_postal</th>\n",
       "      <th>Pais</th>\n",
       "      <th>Promocion</th>\n",
       "      <th>B2B</th>\n",
       "      <th>Cumplido_por</th>\n",
       "      <th>Unnamed: 22</th>\n",
       "    </tr>\n",
       "  </thead>\n",
       "  <tbody>\n",
       "    <tr>\n",
       "      <th>70951</th>\n",
       "      <td>70951</td>\n",
       "      <td>407-5196240-5441906</td>\n",
       "      <td>05-14-22</td>\n",
       "      <td>Cancelled</td>\n",
       "      <td>Merchant</td>\n",
       "      <td>Amazon.in</td>\n",
       "      <td>Standard</td>\n",
       "      <td>J0095</td>\n",
       "      <td>J0095-SET-XL</td>\n",
       "      <td>Set</td>\n",
       "      <td>...</td>\n",
       "      <td>INR</td>\n",
       "      <td>621.9</td>\n",
       "      <td>HYDERABAD</td>\n",
       "      <td>TELANGANA</td>\n",
       "      <td>500001.0</td>\n",
       "      <td>IN</td>\n",
       "      <td>NaN</td>\n",
       "      <td>False</td>\n",
       "      <td>Easy Ship</td>\n",
       "      <td>False</td>\n",
       "    </tr>\n",
       "    <tr>\n",
       "      <th>121464</th>\n",
       "      <td>121464</td>\n",
       "      <td>407-6385365-6840359</td>\n",
       "      <td>06-06-22</td>\n",
       "      <td>Shipped - Delivered to Buyer</td>\n",
       "      <td>Merchant</td>\n",
       "      <td>Amazon.in</td>\n",
       "      <td>Standard</td>\n",
       "      <td>J0157</td>\n",
       "      <td>J0157-DR-L</td>\n",
       "      <td>Western Dress</td>\n",
       "      <td>...</td>\n",
       "      <td>INR</td>\n",
       "      <td>956.0</td>\n",
       "      <td>pune</td>\n",
       "      <td>MAHARASHTRA</td>\n",
       "      <td>411048.0</td>\n",
       "      <td>IN</td>\n",
       "      <td>Amazon PLCC Free-Financing Universal Merchant ...</td>\n",
       "      <td>False</td>\n",
       "      <td>Easy Ship</td>\n",
       "      <td>False</td>\n",
       "    </tr>\n",
       "    <tr>\n",
       "      <th>96395</th>\n",
       "      <td>96395</td>\n",
       "      <td>407-2743590-4420328</td>\n",
       "      <td>06-25-22</td>\n",
       "      <td>Shipped</td>\n",
       "      <td>Amazon</td>\n",
       "      <td>Amazon.in</td>\n",
       "      <td>Expedited</td>\n",
       "      <td>J0008</td>\n",
       "      <td>J0008-SKD-L</td>\n",
       "      <td>Set</td>\n",
       "      <td>...</td>\n",
       "      <td>INR</td>\n",
       "      <td>1075.0</td>\n",
       "      <td>MULBAGAL</td>\n",
       "      <td>KARNATAKA</td>\n",
       "      <td>563131.0</td>\n",
       "      <td>IN</td>\n",
       "      <td>NaN</td>\n",
       "      <td>False</td>\n",
       "      <td>NaN</td>\n",
       "      <td>False</td>\n",
       "    </tr>\n",
       "    <tr>\n",
       "      <th>64300</th>\n",
       "      <td>64300</td>\n",
       "      <td>407-8825783-6029127</td>\n",
       "      <td>05-19-22</td>\n",
       "      <td>Shipped</td>\n",
       "      <td>Amazon</td>\n",
       "      <td>Amazon.in</td>\n",
       "      <td>Expedited</td>\n",
       "      <td>J0233</td>\n",
       "      <td>J0233-SKD-XXXL</td>\n",
       "      <td>Set</td>\n",
       "      <td>...</td>\n",
       "      <td>INR</td>\n",
       "      <td>1299.0</td>\n",
       "      <td>Ahemdabad</td>\n",
       "      <td>Gujarat</td>\n",
       "      <td>380058.0</td>\n",
       "      <td>IN</td>\n",
       "      <td>NaN</td>\n",
       "      <td>False</td>\n",
       "      <td>NaN</td>\n",
       "      <td>False</td>\n",
       "    </tr>\n",
       "    <tr>\n",
       "      <th>35014</th>\n",
       "      <td>35014</td>\n",
       "      <td>405-7659518-2763537</td>\n",
       "      <td>04-09-22</td>\n",
       "      <td>Shipped</td>\n",
       "      <td>Amazon</td>\n",
       "      <td>Amazon.in</td>\n",
       "      <td>Expedited</td>\n",
       "      <td>BL110</td>\n",
       "      <td>BL110-L</td>\n",
       "      <td>Blouse</td>\n",
       "      <td>...</td>\n",
       "      <td>INR</td>\n",
       "      <td>329.0</td>\n",
       "      <td>BENGALURU</td>\n",
       "      <td>KARNATAKA</td>\n",
       "      <td>560037.0</td>\n",
       "      <td>IN</td>\n",
       "      <td>IN Core Free Shipping 2015/04/08 23-48-5-108</td>\n",
       "      <td>False</td>\n",
       "      <td>NaN</td>\n",
       "      <td>NaN</td>\n",
       "    </tr>\n",
       "  </tbody>\n",
       "</table>\n",
       "<p>5 rows × 24 columns</p>\n",
       "</div>"
      ],
      "text/plain": [
       "         index            ID_Pedido     Fecha                  Estado_venta  \\\n",
       "70951    70951  407-5196240-5441906  05-14-22                     Cancelled   \n",
       "121464  121464  407-6385365-6840359  06-06-22  Shipped - Delivered to Buyer   \n",
       "96395    96395  407-2743590-4420328  06-25-22                       Shipped   \n",
       "64300    64300  407-8825783-6029127  05-19-22                       Shipped   \n",
       "35014    35014  405-7659518-2763537  04-09-22                       Shipped   \n",
       "\n",
       "       Cumplimiento Canal_venta Nivel_servicio  Style             SKU  \\\n",
       "70951      Merchant   Amazon.in       Standard  J0095    J0095-SET-XL   \n",
       "121464     Merchant   Amazon.in       Standard  J0157      J0157-DR-L   \n",
       "96395        Amazon   Amazon.in      Expedited  J0008     J0008-SKD-L   \n",
       "64300        Amazon   Amazon.in      Expedited  J0233  J0233-SKD-XXXL   \n",
       "35014        Amazon   Amazon.in      Expedited  BL110         BL110-L   \n",
       "\n",
       "            Categoria  ... Divisa Importe     Ciudad       Estado  \\\n",
       "70951             Set  ...    INR   621.9  HYDERABAD    TELANGANA   \n",
       "121464  Western Dress  ...    INR   956.0       pune  MAHARASHTRA   \n",
       "96395             Set  ...    INR  1075.0   MULBAGAL    KARNATAKA   \n",
       "64300             Set  ...    INR  1299.0  Ahemdabad      Gujarat   \n",
       "35014          Blouse  ...    INR   329.0  BENGALURU    KARNATAKA   \n",
       "\n",
       "       Codigo_postal  Pais                                          Promocion  \\\n",
       "70951       500001.0    IN                                                NaN   \n",
       "121464      411048.0    IN  Amazon PLCC Free-Financing Universal Merchant ...   \n",
       "96395       563131.0    IN                                                NaN   \n",
       "64300       380058.0    IN                                                NaN   \n",
       "35014       560037.0    IN       IN Core Free Shipping 2015/04/08 23-48-5-108   \n",
       "\n",
       "          B2B  Cumplido_por Unnamed: 22  \n",
       "70951   False     Easy Ship       False  \n",
       "121464  False     Easy Ship       False  \n",
       "96395   False           NaN       False  \n",
       "64300   False           NaN       False  \n",
       "35014   False           NaN         NaN  \n",
       "\n",
       "[5 rows x 24 columns]"
      ]
     },
     "execution_count": 5,
     "metadata": {},
     "output_type": "execute_result"
    }
   ],
   "source": [
    "sale_report_train.head()"
   ]
  },
  {
   "cell_type": "markdown",
   "id": "57202790-228e-42fb-8c14-2d1c7cec90a7",
   "metadata": {},
   "source": [
    "Con ```head()``` podemos echar un primer vistazo general, pero utilizamos ```info()``` para observar el tipo de cada variable y ```nunique()``` para observar los valores únicos."
   ]
  },
  {
   "cell_type": "code",
   "execution_count": 6,
   "id": "d745c91b-4b4d-4b5f-85da-57957fd52524",
   "metadata": {
    "scrolled": true
   },
   "outputs": [
    {
     "name": "stdout",
     "output_type": "stream",
     "text": [
      "<class 'pandas.core.frame.DataFrame'>\n",
      "Index: 103180 entries, 70951 to 72815\n",
      "Data columns (total 24 columns):\n",
      " #   Column             Non-Null Count   Dtype  \n",
      "---  ------             --------------   -----  \n",
      " 0   index              103180 non-null  int64  \n",
      " 1   ID_Pedido          103180 non-null  object \n",
      " 2   Fecha              103180 non-null  object \n",
      " 3   Estado_venta       103180 non-null  object \n",
      " 4   Cumplimiento       103180 non-null  object \n",
      " 5   Canal_venta        103180 non-null  object \n",
      " 6   Nivel_servicio     103180 non-null  object \n",
      " 7   Style              103180 non-null  object \n",
      " 8   SKU                103180 non-null  object \n",
      " 9   Categoria          103180 non-null  object \n",
      " 10  Talla              103180 non-null  object \n",
      " 11  ASIN               103180 non-null  object \n",
      " 12  Estado_mensajeria  97638 non-null   object \n",
      " 13  Cantidad           103180 non-null  int64  \n",
      " 14  Divisa             96958 non-null   object \n",
      " 15  Importe            96958 non-null   float64\n",
      " 16  Ciudad             103152 non-null  object \n",
      " 17  Estado             103152 non-null  object \n",
      " 18  Codigo_postal      103152 non-null  float64\n",
      " 19  Pais               103152 non-null  object \n",
      " 20  Promocion          63752 non-null   object \n",
      " 21  B2B                103180 non-null  bool   \n",
      " 22  Cumplido_por       31448 non-null   object \n",
      " 23  Unnamed: 22        63924 non-null   object \n",
      "dtypes: bool(1), float64(2), int64(2), object(19)\n",
      "memory usage: 19.0+ MB\n"
     ]
    }
   ],
   "source": [
    "sale_report_train.info()"
   ]
  },
  {
   "cell_type": "code",
   "execution_count": 7,
   "id": "2f0a5022-870a-41eb-92bb-d9dd73ec59f9",
   "metadata": {},
   "outputs": [
    {
     "data": {
      "text/plain": [
       "index                103180\n",
       "ID_Pedido             97487\n",
       "Fecha                    91\n",
       "Estado_venta             12\n",
       "Cumplimiento              2\n",
       "Canal_venta               2\n",
       "Nivel_servicio            2\n",
       "Style                  1348\n",
       "SKU                    6988\n",
       "Categoria                 9\n",
       "Talla                    11\n",
       "ASIN                   6984\n",
       "Estado_mensajeria         3\n",
       "Cantidad                  9\n",
       "Divisa                    1\n",
       "Importe                1346\n",
       "Ciudad                 8051\n",
       "Estado                   67\n",
       "Codigo_postal          8878\n",
       "Pais                      1\n",
       "Promocion              5236\n",
       "B2B                       2\n",
       "Cumplido_por              1\n",
       "Unnamed: 22               1\n",
       "dtype: int64"
      ]
     },
     "execution_count": 7,
     "metadata": {},
     "output_type": "execute_result"
    }
   ],
   "source": [
    "sale_report_train.nunique()"
   ]
  },
  {
   "cell_type": "markdown",
   "id": "6e052685-1915-464f-8f30-a8c3b32b9785",
   "metadata": {},
   "source": [
    "Antes que nada, nos podemos dar cuenta a simple vista de que hay variables que que no nos proporcionan información útil en un futuro modelo porque tienen un único valor. \n",
    "\n",
    "Estas variables son *Divisa*, *Unnamed:22* y *Pais*, que simplemente nos indican que estamos ante datos de la India donde la divisa es la rupia india, mientras que *Unnamed:22* directamente carece de sentido. Por otro lado tenemos *Canal_venta*, que lo único que nos dice es que el canal de venta es Amazon. Las eliminamos.\n"
   ]
  },
  {
   "cell_type": "code",
   "execution_count": 8,
   "id": "cfe78789-dd7e-4ebd-9914-ca946f6ffea0",
   "metadata": {},
   "outputs": [],
   "source": [
    "sale_report_train.drop(columns = [\"index\", \"Divisa\", \"Canal_venta\", \"Pais\", \"Unnamed: 22\"], inplace = True)"
   ]
  },
  {
   "cell_type": "markdown",
   "id": "bbccc020-8bb9-48a2-8247-9b5577547da7",
   "metadata": {},
   "source": [
    "También podemos ver una variable *Fecha* como tipo object. Para sacarle utilidad a dicha variable, primero la convertiremos a tipo datetime y así posteriormente sacaremos de ella tres variables (*Mes*, *Dia* y *Año*). Esta última deberíamos pasarla a tipo int, aunque la vamos a eliminar porque tiene un único valor que nos indica que todos los datos que manejamos son de 2022."
   ]
  },
  {
   "cell_type": "code",
   "execution_count": 9,
   "id": "591ae145-25a3-471e-b4c4-1230b7668dc5",
   "metadata": {},
   "outputs": [],
   "source": [
    "sale_report_train[\"Fecha\"] = pd.to_datetime(sale_report_train[\"Fecha\"])\n",
    "\n",
    "sale_report_train[\"Mes\"] = sale_report_train.Fecha.apply(lambda x: x.strftime(\"%B\"))\n",
    "sale_report_train[\"Dia\"] = sale_report_train.Fecha.apply(lambda x: x.strftime(\"%A\"))\n",
    "sale_report_train[\"Año\"] = sale_report_train.Fecha.apply(lambda x: x.strftime(\"%Y\"))\n",
    "sale_report_train[\"Año\"] = sale_report_train[\"Año\"].astype(np.int64)\n",
    "\n",
    "sale_report_train.drop(columns = [\"Fecha\", \"Año\"], inplace = True)"
   ]
  },
  {
   "cell_type": "markdown",
   "id": "22f1c22f-8617-4b9f-b751-e2057361d5cb",
   "metadata": {},
   "source": [
    "Volviendo al resultado obtenido con ```info()``` y ```nunique()```, hay evidentemente varias variables categóricas como tipo object. Las variables categóricas deben tener diez o menos valores únicos, pero en este caso hay dos variables cuya naturaleza se corresponde con una categórica pero que tienen 12 y 13 valores únicos. Las pasaremos también a tipo category y luego agruparemos categorías minoritarias para que cumplan la condición."
   ]
  },
  {
   "cell_type": "code",
   "execution_count": 10,
   "id": "32d5a31f-5d11-41cc-9a98-ccc69ff09c47",
   "metadata": {},
   "outputs": [
    {
     "data": {
      "text/plain": [
       "['Estado_venta',\n",
       " 'Cumplimiento',\n",
       " 'Nivel_servicio',\n",
       " 'Categoria',\n",
       " 'Talla',\n",
       " 'Estado_mensajeria',\n",
       " 'Cantidad',\n",
       " 'B2B',\n",
       " 'Cumplido_por',\n",
       " 'Mes',\n",
       " 'Dia']"
      ]
     },
     "execution_count": 10,
     "metadata": {},
     "output_type": "execute_result"
    }
   ],
   "source": [
    "categorical = list(sale_report_train.loc[:,sale_report_train.nunique() <= 13]);  \n",
    "categorical"
   ]
  },
  {
   "cell_type": "markdown",
   "id": "c6476650-60ff-4b7c-b540-d909e822a41d",
   "metadata": {},
   "source": [
    "Como la variable *Cantidad* cumple la condición impuesta para crear la lista, es importante que la eliminemos antes de convertir todas las variables de dicha lista a tipo category, ya que esta se trata de una variable evidentemente numérica."
   ]
  },
  {
   "cell_type": "code",
   "execution_count": 11,
   "id": "580e227a-4800-4292-a235-41ba7dafc6e4",
   "metadata": {},
   "outputs": [],
   "source": [
    "del categorical[6]\n",
    "\n",
    "for column in categorical:\n",
    "    sale_report_train[column] = sale_report_train[column].astype('category')"
   ]
  },
  {
   "cell_type": "markdown",
   "id": "a6d0de1a-3e3b-4f6d-9608-324fce474df7",
   "metadata": {},
   "source": [
    "La variable *Codigo_postal* se muestra como tipo float (un número con decimales), cuando realmente se trata de una variable tipo object. Lo corregimos."
   ]
  },
  {
   "cell_type": "code",
   "execution_count": 12,
   "id": "46432ba5-7666-4963-91b2-8148f4ac4135",
   "metadata": {},
   "outputs": [],
   "source": [
    "sale_report_train['Codigo_postal'] = sale_report_train['Codigo_postal'].astype('object')"
   ]
  },
  {
   "cell_type": "markdown",
   "id": "9e6c4d9d-9e32-45a9-99a3-3ceee210aaee",
   "metadata": {},
   "source": [
    "Utilizamos ```info()``` para observar los tipos de las variables corregidos y ```describe()``` para sacar los descriptivos básicos, en este caso, de las variables nominales."
   ]
  },
  {
   "cell_type": "code",
   "execution_count": 13,
   "id": "eb2a1e20-830d-4cba-a13e-c82e5ce5a5eb",
   "metadata": {},
   "outputs": [
    {
     "name": "stdout",
     "output_type": "stream",
     "text": [
      "<class 'pandas.core.frame.DataFrame'>\n",
      "Index: 103180 entries, 70951 to 72815\n",
      "Data columns (total 20 columns):\n",
      " #   Column             Non-Null Count   Dtype   \n",
      "---  ------             --------------   -----   \n",
      " 0   ID_Pedido          103180 non-null  object  \n",
      " 1   Estado_venta       103180 non-null  category\n",
      " 2   Cumplimiento       103180 non-null  category\n",
      " 3   Nivel_servicio     103180 non-null  category\n",
      " 4   Style              103180 non-null  object  \n",
      " 5   SKU                103180 non-null  object  \n",
      " 6   Categoria          103180 non-null  category\n",
      " 7   Talla              103180 non-null  category\n",
      " 8   ASIN               103180 non-null  object  \n",
      " 9   Estado_mensajeria  97638 non-null   category\n",
      " 10  Cantidad           103180 non-null  int64   \n",
      " 11  Importe            96958 non-null   float64 \n",
      " 12  Ciudad             103152 non-null  object  \n",
      " 13  Estado             103152 non-null  object  \n",
      " 14  Codigo_postal      103152 non-null  object  \n",
      " 15  Promocion          63752 non-null   object  \n",
      " 16  B2B                103180 non-null  category\n",
      " 17  Cumplido_por       31448 non-null   category\n",
      " 18  Mes                103180 non-null  category\n",
      " 19  Dia                103180 non-null  category\n",
      "dtypes: category(10), float64(1), int64(1), object(8)\n",
      "memory usage: 9.6+ MB\n"
     ]
    },
    {
     "data": {
      "text/html": [
       "<div>\n",
       "<style scoped>\n",
       "    .dataframe tbody tr th:only-of-type {\n",
       "        vertical-align: middle;\n",
       "    }\n",
       "\n",
       "    .dataframe tbody tr th {\n",
       "        vertical-align: top;\n",
       "    }\n",
       "\n",
       "    .dataframe thead th {\n",
       "        text-align: right;\n",
       "    }\n",
       "</style>\n",
       "<table border=\"1\" class=\"dataframe\">\n",
       "  <thead>\n",
       "    <tr style=\"text-align: right;\">\n",
       "      <th></th>\n",
       "      <th>ID_Pedido</th>\n",
       "      <th>Estado_venta</th>\n",
       "      <th>Cumplimiento</th>\n",
       "      <th>Nivel_servicio</th>\n",
       "      <th>Style</th>\n",
       "      <th>SKU</th>\n",
       "      <th>Categoria</th>\n",
       "      <th>Talla</th>\n",
       "      <th>ASIN</th>\n",
       "      <th>Estado_mensajeria</th>\n",
       "      <th>Ciudad</th>\n",
       "      <th>Estado</th>\n",
       "      <th>Codigo_postal</th>\n",
       "      <th>Promocion</th>\n",
       "      <th>B2B</th>\n",
       "      <th>Cumplido_por</th>\n",
       "      <th>Mes</th>\n",
       "      <th>Dia</th>\n",
       "    </tr>\n",
       "  </thead>\n",
       "  <tbody>\n",
       "    <tr>\n",
       "      <th>count</th>\n",
       "      <td>103180</td>\n",
       "      <td>103180</td>\n",
       "      <td>103180</td>\n",
       "      <td>103180</td>\n",
       "      <td>103180</td>\n",
       "      <td>103180</td>\n",
       "      <td>103180</td>\n",
       "      <td>103180</td>\n",
       "      <td>103180</td>\n",
       "      <td>97638</td>\n",
       "      <td>103152</td>\n",
       "      <td>103152</td>\n",
       "      <td>103152.0</td>\n",
       "      <td>63752</td>\n",
       "      <td>103180</td>\n",
       "      <td>31448</td>\n",
       "      <td>103180</td>\n",
       "      <td>103180</td>\n",
       "    </tr>\n",
       "    <tr>\n",
       "      <th>unique</th>\n",
       "      <td>97487</td>\n",
       "      <td>12</td>\n",
       "      <td>2</td>\n",
       "      <td>2</td>\n",
       "      <td>1348</td>\n",
       "      <td>6988</td>\n",
       "      <td>9</td>\n",
       "      <td>11</td>\n",
       "      <td>6984</td>\n",
       "      <td>3</td>\n",
       "      <td>8051</td>\n",
       "      <td>67</td>\n",
       "      <td>8878.0</td>\n",
       "      <td>5236</td>\n",
       "      <td>2</td>\n",
       "      <td>1</td>\n",
       "      <td>4</td>\n",
       "      <td>7</td>\n",
       "    </tr>\n",
       "    <tr>\n",
       "      <th>top</th>\n",
       "      <td>403-4984515-8861958</td>\n",
       "      <td>Shipped</td>\n",
       "      <td>Amazon</td>\n",
       "      <td>Expedited</td>\n",
       "      <td>JNE3797</td>\n",
       "      <td>JNE3797-KR-L</td>\n",
       "      <td>Set</td>\n",
       "      <td>M</td>\n",
       "      <td>B09SDXFFQ1</td>\n",
       "      <td>Shipped</td>\n",
       "      <td>BENGALURU</td>\n",
       "      <td>MAHARASHTRA</td>\n",
       "      <td>201301.0</td>\n",
       "      <td>IN Core Free Shipping 2015/04/08 23-48-5-108</td>\n",
       "      <td>False</td>\n",
       "      <td>Easy Ship</td>\n",
       "      <td>April</td>\n",
       "      <td>Sunday</td>\n",
       "    </tr>\n",
       "    <tr>\n",
       "      <th>freq</th>\n",
       "      <td>12</td>\n",
       "      <td>62206</td>\n",
       "      <td>71732</td>\n",
       "      <td>70842</td>\n",
       "      <td>3352</td>\n",
       "      <td>624</td>\n",
       "      <td>40291</td>\n",
       "      <td>18119</td>\n",
       "      <td>624</td>\n",
       "      <td>87516</td>\n",
       "      <td>8941</td>\n",
       "      <td>17872</td>\n",
       "      <td>814.0</td>\n",
       "      <td>36799</td>\n",
       "      <td>102477</td>\n",
       "      <td>31448</td>\n",
       "      <td>39273</td>\n",
       "      <td>15672</td>\n",
       "    </tr>\n",
       "  </tbody>\n",
       "</table>\n",
       "</div>"
      ],
      "text/plain": [
       "                  ID_Pedido Estado_venta Cumplimiento Nivel_servicio    Style  \\\n",
       "count                103180       103180       103180         103180   103180   \n",
       "unique                97487           12            2              2     1348   \n",
       "top     403-4984515-8861958      Shipped       Amazon      Expedited  JNE3797   \n",
       "freq                     12        62206        71732          70842     3352   \n",
       "\n",
       "                 SKU Categoria   Talla        ASIN Estado_mensajeria  \\\n",
       "count         103180    103180  103180      103180             97638   \n",
       "unique          6988         9      11        6984                 3   \n",
       "top     JNE3797-KR-L       Set       M  B09SDXFFQ1           Shipped   \n",
       "freq             624     40291   18119         624             87516   \n",
       "\n",
       "           Ciudad       Estado  Codigo_postal  \\\n",
       "count      103152       103152       103152.0   \n",
       "unique       8051           67         8878.0   \n",
       "top     BENGALURU  MAHARASHTRA       201301.0   \n",
       "freq         8941        17872          814.0   \n",
       "\n",
       "                                           Promocion     B2B Cumplido_por  \\\n",
       "count                                          63752  103180        31448   \n",
       "unique                                          5236       2            1   \n",
       "top     IN Core Free Shipping 2015/04/08 23-48-5-108   False    Easy Ship   \n",
       "freq                                           36799  102477        31448   \n",
       "\n",
       "           Mes     Dia  \n",
       "count   103180  103180  \n",
       "unique       4       7  \n",
       "top      April  Sunday  \n",
       "freq     39273   15672  "
      ]
     },
     "execution_count": 13,
     "metadata": {},
     "output_type": "execute_result"
    }
   ],
   "source": [
    "sale_report_train.info()\n",
    "sale_report_train.describe(exclude=np.number)"
   ]
  },
  {
   "cell_type": "markdown",
   "id": "f58e67fb-e9cc-423e-b780-39b1d16b65de",
   "metadata": {},
   "source": [
    "Otra cosa en la que podemos fijarnos es que la variable *Importe* está en rupias indias, así que quizás lo mejor sería pasarla a otra moneda, por ejemplo, a dólares estadounidenses, para tener una mayor familiarización con la moneda y comprender mejor los datos."
   ]
  },
  {
   "cell_type": "code",
   "execution_count": 14,
   "id": "1fc2a627-fb34-43d7-8c34-6ad17b01b1ff",
   "metadata": {},
   "outputs": [],
   "source": [
    "sale_report_train['Importe'] = sale_report_train['Importe'].apply(lambda x: x * 0.012)"
   ]
  },
  {
   "cell_type": "markdown",
   "id": "d6bc566d-9f74-4073-970c-303ed3038435",
   "metadata": {},
   "source": [
    "Esta vez usaremos el ```describe()``` con las variables númericas, que nos informará sobre cuartiles, media, máximos... "
   ]
  },
  {
   "cell_type": "code",
   "execution_count": 15,
   "id": "1cc8b6e9-2b62-460b-83fd-13020bd2f8a3",
   "metadata": {},
   "outputs": [
    {
     "data": {
      "text/html": [
       "<div>\n",
       "<style scoped>\n",
       "    .dataframe tbody tr th:only-of-type {\n",
       "        vertical-align: middle;\n",
       "    }\n",
       "\n",
       "    .dataframe tbody tr th {\n",
       "        vertical-align: top;\n",
       "    }\n",
       "\n",
       "    .dataframe thead th {\n",
       "        text-align: right;\n",
       "    }\n",
       "</style>\n",
       "<table border=\"1\" class=\"dataframe\">\n",
       "  <thead>\n",
       "    <tr style=\"text-align: right;\">\n",
       "      <th></th>\n",
       "      <th>Cantidad</th>\n",
       "      <th>Importe</th>\n",
       "    </tr>\n",
       "  </thead>\n",
       "  <tbody>\n",
       "    <tr>\n",
       "      <th>count</th>\n",
       "      <td>103180.000000</td>\n",
       "      <td>96958.000000</td>\n",
       "    </tr>\n",
       "    <tr>\n",
       "      <th>mean</th>\n",
       "      <td>0.904148</td>\n",
       "      <td>7.782351</td>\n",
       "    </tr>\n",
       "    <tr>\n",
       "      <th>std</th>\n",
       "      <td>0.312096</td>\n",
       "      <td>3.379065</td>\n",
       "    </tr>\n",
       "    <tr>\n",
       "      <th>min</th>\n",
       "      <td>0.000000</td>\n",
       "      <td>0.000000</td>\n",
       "    </tr>\n",
       "    <tr>\n",
       "      <th>25%</th>\n",
       "      <td>1.000000</td>\n",
       "      <td>5.388000</td>\n",
       "    </tr>\n",
       "    <tr>\n",
       "      <th>50%</th>\n",
       "      <td>1.000000</td>\n",
       "      <td>7.260000</td>\n",
       "    </tr>\n",
       "    <tr>\n",
       "      <th>75%</th>\n",
       "      <td>1.000000</td>\n",
       "      <td>9.456000</td>\n",
       "    </tr>\n",
       "    <tr>\n",
       "      <th>max</th>\n",
       "      <td>13.000000</td>\n",
       "      <td>67.008000</td>\n",
       "    </tr>\n",
       "  </tbody>\n",
       "</table>\n",
       "</div>"
      ],
      "text/plain": [
       "            Cantidad       Importe\n",
       "count  103180.000000  96958.000000\n",
       "mean        0.904148      7.782351\n",
       "std         0.312096      3.379065\n",
       "min         0.000000      0.000000\n",
       "25%         1.000000      5.388000\n",
       "50%         1.000000      7.260000\n",
       "75%         1.000000      9.456000\n",
       "max        13.000000     67.008000"
      ]
     },
     "execution_count": 15,
     "metadata": {},
     "output_type": "execute_result"
    }
   ],
   "source": [
    "sale_report_train.describe()"
   ]
  },
  {
   "cell_type": "markdown",
   "id": "8a59c771-0284-4f72-ab2a-04824594420b",
   "metadata": {},
   "source": [
    "En principio ninguna de las dos variables tendría valores fuera de rango (es decir, los valores son normales), aunque sí que es cierto que es probable que ambas tengan una distribución asimétrica positiva porque el máximo es alto si lo comparamos con la media.\n",
    "\n",
    "También debemos revisar si existen duplicados y eliminarlos."
   ]
  },
  {
   "cell_type": "code",
   "execution_count": 16,
   "id": "d0e5bbdf-ee4d-4d30-9a51-1a837e4f4631",
   "metadata": {},
   "outputs": [
    {
     "data": {
      "text/plain": [
       "3"
      ]
     },
     "execution_count": 16,
     "metadata": {},
     "output_type": "execute_result"
    }
   ],
   "source": [
    "sale_report_train.duplicated().sum()"
   ]
  },
  {
   "cell_type": "code",
   "execution_count": 17,
   "id": "a4abe542-0055-4e14-8a6b-49cd07a60e46",
   "metadata": {},
   "outputs": [],
   "source": [
    "sale_report_train.drop_duplicates(inplace= True)"
   ]
  },
  {
   "cell_type": "markdown",
   "id": "4ac225a2-f5ee-4893-bc17-36abcb4bedde",
   "metadata": {},
   "source": [
    "Llegado a este punto, vamos a proceder a la agrupación de categorías minoritarias de las dos variables que pasaban el umbral de 10 valores únicos. Para ello, usamos la función ```value_counts()```, que nos muestra los valores de la variable y la frecuencia de cada uno de ellos.\n",
    "\n",
    "1. **Talla**: una posible agrupación sería crear una categoría que englobe las tallas grandes, considerándose esta por ejemplo a partir de una 3XL."
   ]
  },
  {
   "cell_type": "code",
   "execution_count": 18,
   "id": "ca446ed5-6198-45d1-a26a-d1bad156f229",
   "metadata": {},
   "outputs": [
    {
     "data": {
      "text/plain": [
       "Talla\n",
       "M       18118\n",
       "L       17748\n",
       "XL      16739\n",
       "XXL     14488\n",
       "S       13660\n",
       "3XL     11823\n",
       "XS       8930\n",
       "6XL       585\n",
       "5XL       447\n",
       "4XL       340\n",
       "Free      299\n",
       "Name: count, dtype: int64"
      ]
     },
     "execution_count": 18,
     "metadata": {},
     "output_type": "execute_result"
    }
   ],
   "source": [
    "sale_report_train.Talla.value_counts()"
   ]
  },
  {
   "cell_type": "code",
   "execution_count": 19,
   "id": "ddfe45a6-2697-4783-b7c6-54a5a2c64aac",
   "metadata": {},
   "outputs": [],
   "source": [
    "Tallas_grandes = ['3XL', '4XL', '5XL', '6XL']\n",
    "sale_report_train['Talla'] = sale_report_train['Talla'].replace(Tallas_grandes, '3XL-6XL')\n",
    "\n",
    "# Reemplazamos la categoría 'Free' por 'Talla_unica', que es a lo que se refiere el término\n",
    "sale_report_train.Talla.replace('Free','Talla_unica',inplace=True)"
   ]
  },
  {
   "cell_type": "code",
   "execution_count": 20,
   "id": "f575196b-10f5-4c08-8eef-1aac35aae12d",
   "metadata": {},
   "outputs": [
    {
     "data": {
      "text/plain": [
       "Talla\n",
       "M              18118\n",
       "L              17748\n",
       "XL             16739\n",
       "XXL            14488\n",
       "S              13660\n",
       "3XL-6XL        13195\n",
       "XS              8930\n",
       "Talla_unica      299\n",
       "Name: count, dtype: int64"
      ]
     },
     "execution_count": 20,
     "metadata": {},
     "output_type": "execute_result"
    }
   ],
   "source": [
    "sale_report_train.Talla.value_counts()"
   ]
  },
  {
   "cell_type": "markdown",
   "id": "98f9f450-e9f5-4af4-bda0-1f128fa2fa2b",
   "metadata": {},
   "source": [
    "2. **Estado_venta**: vemos que el valor Shipped aparece tal cual y que luego hay otros valores que son como \"subestados\" de Shipped. Una posible agrupación sería juntar los valores de Shipped con menor frecuencia con la variable Shipped a secas en un nuevo valor Shipped - Other Status. "
   ]
  },
  {
   "cell_type": "code",
   "execution_count": 21,
   "id": "e26bfdf6-0638-4965-8cf1-256d2f5bea05",
   "metadata": {},
   "outputs": [
    {
     "data": {
      "text/plain": [
       "Estado_venta\n",
       "Shipped                          62205\n",
       "Shipped - Delivered to Buyer     22959\n",
       "Cancelled                        14727\n",
       "Shipped - Returned to Seller      1572\n",
       "Shipped - Picked Up                796\n",
       "Pending                            523\n",
       "Pending - Waiting for Pick Up      236\n",
       "Shipped - Returning to Seller      112\n",
       "Shipped - Out for Delivery          29\n",
       "Shipped - Rejected by Buyer          8\n",
       "Shipping                             7\n",
       "Shipped - Lost in Transit            3\n",
       "Name: count, dtype: int64"
      ]
     },
     "execution_count": 21,
     "metadata": {},
     "output_type": "execute_result"
    }
   ],
   "source": [
    "sale_report_train.Estado_venta.value_counts()"
   ]
  },
  {
   "cell_type": "code",
   "execution_count": 22,
   "id": "a00e7ac7-648f-40cd-aca5-512ae3ad08d6",
   "metadata": {},
   "outputs": [],
   "source": [
    "Shipped_ = ['Shipped', 'Shipped - Returning to Seller', 'Shipped - Rejected by Buyer', 'Shipped - Out for Delivery', 'Shipped - Lost in Transit', \n",
    "            'Shipped - Damaged']\n",
    "sale_report_train['Estado_venta'] = sale_report_train['Estado_venta'].replace(Shipped_, 'Shipped - Other Status')\n",
    "\n",
    "sale_report_train['Estado_venta'] = sale_report_train['Estado_venta'].cat.remove_categories('Shipping') #Eliminamos 'Shipping' ya que no tiene ningún registro"
   ]
  },
  {
   "cell_type": "code",
   "execution_count": 23,
   "id": "12a86c1b-75c7-419b-9817-6ed82e1fd2dd",
   "metadata": {},
   "outputs": [
    {
     "data": {
      "text/plain": [
       "Estado_venta\n",
       "Shipped - Other Status           62357\n",
       "Shipped - Delivered to Buyer     22959\n",
       "Cancelled                        14727\n",
       "Shipped - Returned to Seller      1572\n",
       "Shipped - Picked Up                796\n",
       "Pending                            523\n",
       "Pending - Waiting for Pick Up      236\n",
       "Name: count, dtype: int64"
      ]
     },
     "execution_count": 23,
     "metadata": {},
     "output_type": "execute_result"
    }
   ],
   "source": [
    "sale_report_train.Estado_venta.value_counts()"
   ]
  },
  {
   "cell_type": "markdown",
   "id": "acb34b92-8b40-462e-942d-aed4f7f3b8a7",
   "metadata": {},
   "source": [
    "También se ha realizado el ```value_counts()```de todas las demás variables para ver si había algo que destacar, y lo único destacable se encuentra en la variable *Cantidad*"
   ]
  },
  {
   "cell_type": "code",
   "execution_count": 24,
   "id": "7927b868-5189-436c-83b6-63ca52b4af34",
   "metadata": {
    "scrolled": true
   },
   "outputs": [
    {
     "data": {
      "text/plain": [
       "Cantidad\n",
       "1     92603\n",
       "0     10267\n",
       "2       267\n",
       "3        27\n",
       "4         9\n",
       "13        1\n",
       "5         1\n",
       "9         1\n",
       "8         1\n",
       "Name: count, dtype: int64"
      ]
     },
     "execution_count": 24,
     "metadata": {},
     "output_type": "execute_result"
    }
   ],
   "source": [
    "sale_report_train.Cantidad.value_counts()"
   ]
  },
  {
   "cell_type": "markdown",
   "id": "b8ffa373-2001-465d-a2f7-3fea9db9d1d7",
   "metadata": {},
   "source": [
    "3. **Cantidad**: vemos que hay varios pedidos con 0 unidades de producto. Debemos analizar más a fondo, y para ello filtramos el dataset de forma que podamos visualizar el resto de variables cuando la variable *Cantidad* es 0 para ver si se cumple algún tipo de regla o patrón. \n"
   ]
  },
  {
   "cell_type": "code",
   "execution_count": 25,
   "id": "e55db79b-df16-4888-9989-4abdd331e19b",
   "metadata": {},
   "outputs": [
    {
     "name": "stdout",
     "output_type": "stream",
     "text": [
      "                  ID_Pedido Estado_venta Cumplimiento Nivel_servicio    Style  \\\n",
      "70951   407-5196240-5441906    Cancelled     Merchant       Standard    J0095   \n",
      "24746   407-7883049-0289122    Cancelled     Merchant       Standard  JNE3294   \n",
      "84900   408-2942316-2406712    Cancelled       Amazon      Expedited    J0145   \n",
      "87458   407-9396397-6193939    Cancelled       Amazon      Expedited   SET347   \n",
      "120431  403-4474948-4214759    Cancelled       Amazon      Expedited    J0002   \n",
      "...                     ...          ...          ...            ...      ...   \n",
      "102770  408-6820580-3369900    Cancelled     Merchant       Standard    J0009   \n",
      "104990  408-2452696-0184335    Cancelled       Amazon      Expedited  MEN5002   \n",
      "128903  406-3923120-4345139    Cancelled       Amazon      Expedited  JNE3801   \n",
      "82818   406-9294183-5888310    Cancelled       Amazon      Expedited   SET278   \n",
      "105797  406-4933280-8570750    Cancelled       Amazon      Expedited  JNE3614   \n",
      "\n",
      "                     SKU Categoria    Talla        ASIN Estado_mensajeria  \\\n",
      "70951       J0095-SET-XL       Set       XL  B08CMN1K86               NaN   \n",
      "24746       JNE3294-KR-S     kurta        S  B07R5W78SS               NaN   \n",
      "84900      J0145-SET-XXL       Set      XXL  B08TZT5S3Y         Cancelled   \n",
      "87458    SET347-KR-NP-XS       Set       XS  B09RKFBMYD         Cancelled   \n",
      "120431      J0002-SKD-XL       Set       XL  B0894XKSM1         Cancelled   \n",
      "...                  ...       ...      ...         ...               ...   \n",
      "102770       J0009-SKD-M       Set        M  B0894Y7ZF8               NaN   \n",
      "104990      MEN5002-KR-M     kurta        M  B08YZ4WLT3         Cancelled   \n",
      "128903      JNE3801-KR-M     kurta        M  B09SDZ4FH9         Cancelled   \n",
      "82818   SET278-KR-NP-XXL       Set      XXL  B0983F1V7R         Cancelled   \n",
      "105797   JNE3614-KR-XXXL     kurta  3XL-6XL  B098129875         Cancelled   \n",
      "\n",
      "        Cantidad  Importe         Ciudad              Estado Codigo_postal  \\\n",
      "70951          0  7.46280      HYDERABAD           TELANGANA      500001.0   \n",
      "24746          0  4.93716         NAGPUR         MAHARASHTRA      440022.0   \n",
      "84900          0      NaN         KANPUR       UTTAR PRADESH      208027.0   \n",
      "87458          0      NaN        CUTTACK              ODISHA      753012.0   \n",
      "120431         0      NaN         Nagpur         MAHARASHTRA      440026.0   \n",
      "...          ...      ...            ...                 ...           ...   \n",
      "102770         0  9.46284     BAMBOOFLAT  ANDAMAN & NICOBAR       744107.0   \n",
      "104990         0      NaN       BHIMTAAL         UTTARAKHAND      263136.0   \n",
      "128903         0      NaN      ANANTAPUR      ANDHRA PRADESH      515001.0   \n",
      "82818          0      NaN  GREATER NOIDA       UTTAR PRADESH      201306.0   \n",
      "105797         0      NaN        CHENNAI          TAMIL NADU      600088.0   \n",
      "\n",
      "       Promocion    B2B Cumplido_por    Mes        Dia  \n",
      "70951        NaN  False    Easy Ship    May   Saturday  \n",
      "24746        NaN  False    Easy Ship  April     Friday  \n",
      "84900        NaN  False          NaN    May  Wednesday  \n",
      "87458        NaN  False          NaN    May     Monday  \n",
      "120431       NaN  False          NaN   June     Monday  \n",
      "...          ...    ...          ...    ...        ...  \n",
      "102770       NaN  False    Easy Ship   June     Sunday  \n",
      "104990       NaN  False          NaN   June     Friday  \n",
      "128903       NaN  False          NaN    May    Tuesday  \n",
      "82818        NaN  False          NaN    May   Thursday  \n",
      "105797       NaN  False          NaN   June     Friday  \n",
      "\n",
      "[10267 rows x 20 columns]\n"
     ]
    }
   ],
   "source": [
    "df_cantidad = sale_report_train[sale_report_train['Cantidad'] == 0 ]\n",
    "print(df_cantidad)"
   ]
  },
  {
   "cell_type": "markdown",
   "id": "dc8910e5-f4ac-4b4f-91b8-6bbb945f19f3",
   "metadata": {},
   "source": [
    "Podemos observar que se corresponden con los pedidos que han sido cancelados, por lo que seguramente el sistema haya reajustado automáticamente a 0 unidades al realizarse la cancelación. Lo dejamos así."
   ]
  },
  {
   "cell_type": "markdown",
   "id": "7c5742e4-7155-4ff1-9d26-b6ad1685fa6d",
   "metadata": {},
   "source": [
    "## Valores atípicos y missings\n",
    "Tras hacer todas las comprobaciones iniciales, el siguiente paso es gestionar los outliers y missings. Estos solo se gestionan de las input, es decir, tendremos que eliminar la variable objetivo *Cantidad*:"
   ]
  },
  {
   "cell_type": "code",
   "execution_count": 26,
   "id": "5351cce7-4970-4e37-8c1e-5a766f47ff85",
   "metadata": {
    "scrolled": true
   },
   "outputs": [
    {
     "data": {
      "text/html": [
       "<div>\n",
       "<style scoped>\n",
       "    .dataframe tbody tr th:only-of-type {\n",
       "        vertical-align: middle;\n",
       "    }\n",
       "\n",
       "    .dataframe tbody tr th {\n",
       "        vertical-align: top;\n",
       "    }\n",
       "\n",
       "    .dataframe thead th {\n",
       "        text-align: right;\n",
       "    }\n",
       "</style>\n",
       "<table border=\"1\" class=\"dataframe\">\n",
       "  <thead>\n",
       "    <tr style=\"text-align: right;\">\n",
       "      <th></th>\n",
       "      <th>ID_Pedido</th>\n",
       "      <th>Estado_venta</th>\n",
       "      <th>Cumplimiento</th>\n",
       "      <th>Nivel_servicio</th>\n",
       "      <th>Style</th>\n",
       "      <th>SKU</th>\n",
       "      <th>Categoria</th>\n",
       "      <th>Talla</th>\n",
       "      <th>ASIN</th>\n",
       "      <th>Estado_mensajeria</th>\n",
       "      <th>Importe</th>\n",
       "      <th>Ciudad</th>\n",
       "      <th>Estado</th>\n",
       "      <th>Codigo_postal</th>\n",
       "      <th>Promocion</th>\n",
       "      <th>B2B</th>\n",
       "      <th>Cumplido_por</th>\n",
       "      <th>Mes</th>\n",
       "      <th>Dia</th>\n",
       "    </tr>\n",
       "  </thead>\n",
       "  <tbody>\n",
       "    <tr>\n",
       "      <th>70951</th>\n",
       "      <td>407-5196240-5441906</td>\n",
       "      <td>Cancelled</td>\n",
       "      <td>Merchant</td>\n",
       "      <td>Standard</td>\n",
       "      <td>J0095</td>\n",
       "      <td>J0095-SET-XL</td>\n",
       "      <td>Set</td>\n",
       "      <td>XL</td>\n",
       "      <td>B08CMN1K86</td>\n",
       "      <td>NaN</td>\n",
       "      <td>7.4628</td>\n",
       "      <td>HYDERABAD</td>\n",
       "      <td>TELANGANA</td>\n",
       "      <td>500001.0</td>\n",
       "      <td>NaN</td>\n",
       "      <td>False</td>\n",
       "      <td>Easy Ship</td>\n",
       "      <td>May</td>\n",
       "      <td>Saturday</td>\n",
       "    </tr>\n",
       "    <tr>\n",
       "      <th>121464</th>\n",
       "      <td>407-6385365-6840359</td>\n",
       "      <td>Shipped - Delivered to Buyer</td>\n",
       "      <td>Merchant</td>\n",
       "      <td>Standard</td>\n",
       "      <td>J0157</td>\n",
       "      <td>J0157-DR-L</td>\n",
       "      <td>Western Dress</td>\n",
       "      <td>L</td>\n",
       "      <td>B09831FVYR</td>\n",
       "      <td>Shipped</td>\n",
       "      <td>11.4720</td>\n",
       "      <td>pune</td>\n",
       "      <td>MAHARASHTRA</td>\n",
       "      <td>411048.0</td>\n",
       "      <td>Amazon PLCC Free-Financing Universal Merchant ...</td>\n",
       "      <td>False</td>\n",
       "      <td>Easy Ship</td>\n",
       "      <td>June</td>\n",
       "      <td>Monday</td>\n",
       "    </tr>\n",
       "    <tr>\n",
       "      <th>96395</th>\n",
       "      <td>407-2743590-4420328</td>\n",
       "      <td>Shipped - Other Status</td>\n",
       "      <td>Amazon</td>\n",
       "      <td>Expedited</td>\n",
       "      <td>J0008</td>\n",
       "      <td>J0008-SKD-L</td>\n",
       "      <td>Set</td>\n",
       "      <td>L</td>\n",
       "      <td>B0894YB3B1</td>\n",
       "      <td>Shipped</td>\n",
       "      <td>12.9000</td>\n",
       "      <td>MULBAGAL</td>\n",
       "      <td>KARNATAKA</td>\n",
       "      <td>563131.0</td>\n",
       "      <td>NaN</td>\n",
       "      <td>False</td>\n",
       "      <td>NaN</td>\n",
       "      <td>June</td>\n",
       "      <td>Saturday</td>\n",
       "    </tr>\n",
       "    <tr>\n",
       "      <th>64300</th>\n",
       "      <td>407-8825783-6029127</td>\n",
       "      <td>Shipped - Other Status</td>\n",
       "      <td>Amazon</td>\n",
       "      <td>Expedited</td>\n",
       "      <td>J0233</td>\n",
       "      <td>J0233-SKD-XXXL</td>\n",
       "      <td>Set</td>\n",
       "      <td>3XL-6XL</td>\n",
       "      <td>B08XNHF3KB</td>\n",
       "      <td>Shipped</td>\n",
       "      <td>15.5880</td>\n",
       "      <td>Ahemdabad</td>\n",
       "      <td>Gujarat</td>\n",
       "      <td>380058.0</td>\n",
       "      <td>NaN</td>\n",
       "      <td>False</td>\n",
       "      <td>NaN</td>\n",
       "      <td>May</td>\n",
       "      <td>Thursday</td>\n",
       "    </tr>\n",
       "    <tr>\n",
       "      <th>35014</th>\n",
       "      <td>405-7659518-2763537</td>\n",
       "      <td>Shipped - Other Status</td>\n",
       "      <td>Amazon</td>\n",
       "      <td>Expedited</td>\n",
       "      <td>BL110</td>\n",
       "      <td>BL110-L</td>\n",
       "      <td>Blouse</td>\n",
       "      <td>L</td>\n",
       "      <td>B0928XH9S9</td>\n",
       "      <td>Shipped</td>\n",
       "      <td>3.9480</td>\n",
       "      <td>BENGALURU</td>\n",
       "      <td>KARNATAKA</td>\n",
       "      <td>560037.0</td>\n",
       "      <td>IN Core Free Shipping 2015/04/08 23-48-5-108</td>\n",
       "      <td>False</td>\n",
       "      <td>NaN</td>\n",
       "      <td>April</td>\n",
       "      <td>Saturday</td>\n",
       "    </tr>\n",
       "  </tbody>\n",
       "</table>\n",
       "</div>"
      ],
      "text/plain": [
       "                  ID_Pedido                  Estado_venta Cumplimiento  \\\n",
       "70951   407-5196240-5441906                     Cancelled     Merchant   \n",
       "121464  407-6385365-6840359  Shipped - Delivered to Buyer     Merchant   \n",
       "96395   407-2743590-4420328        Shipped - Other Status       Amazon   \n",
       "64300   407-8825783-6029127        Shipped - Other Status       Amazon   \n",
       "35014   405-7659518-2763537        Shipped - Other Status       Amazon   \n",
       "\n",
       "       Nivel_servicio  Style             SKU      Categoria    Talla  \\\n",
       "70951        Standard  J0095    J0095-SET-XL            Set       XL   \n",
       "121464       Standard  J0157      J0157-DR-L  Western Dress        L   \n",
       "96395       Expedited  J0008     J0008-SKD-L            Set        L   \n",
       "64300       Expedited  J0233  J0233-SKD-XXXL            Set  3XL-6XL   \n",
       "35014       Expedited  BL110         BL110-L         Blouse        L   \n",
       "\n",
       "              ASIN Estado_mensajeria  Importe     Ciudad       Estado  \\\n",
       "70951   B08CMN1K86               NaN   7.4628  HYDERABAD    TELANGANA   \n",
       "121464  B09831FVYR           Shipped  11.4720       pune  MAHARASHTRA   \n",
       "96395   B0894YB3B1           Shipped  12.9000   MULBAGAL    KARNATAKA   \n",
       "64300   B08XNHF3KB           Shipped  15.5880  Ahemdabad      Gujarat   \n",
       "35014   B0928XH9S9           Shipped   3.9480  BENGALURU    KARNATAKA   \n",
       "\n",
       "       Codigo_postal                                          Promocion  \\\n",
       "70951       500001.0                                                NaN   \n",
       "121464      411048.0  Amazon PLCC Free-Financing Universal Merchant ...   \n",
       "96395       563131.0                                                NaN   \n",
       "64300       380058.0                                                NaN   \n",
       "35014       560037.0       IN Core Free Shipping 2015/04/08 23-48-5-108   \n",
       "\n",
       "          B2B Cumplido_por    Mes       Dia  \n",
       "70951   False    Easy Ship    May  Saturday  \n",
       "121464  False    Easy Ship   June    Monday  \n",
       "96395   False          NaN   June  Saturday  \n",
       "64300   False          NaN    May  Thursday  \n",
       "35014   False          NaN  April  Saturday  "
      ]
     },
     "execution_count": 26,
     "metadata": {},
     "output_type": "execute_result"
    }
   ],
   "source": [
    "varObj = sale_report_train.Cantidad\n",
    "imput = sale_report_train.drop(['Cantidad'],axis=1)\n",
    "\n",
    "imput.head()"
   ]
  },
  {
   "cell_type": "markdown",
   "id": "8445b0c4-5531-4752-ab6d-54c10d59d844",
   "metadata": {},
   "source": [
    "### Valores atípicos o outliers\n",
    "Además de que estos valores solo se gestionan para las input, solo se gestionan para las variables numéricas. Para gestionar los valores atípicos o outliers primero hay que distinguir si las variables son o no simétricas para, en caso negativo, aplicar otros criterios. Las asimetrías en valor absoluto mayores a la unidad son signo de distribución significativamente sesgada a la derecha/positiva (+) o izquierda/negativa (-)"
   ]
  },
  {
   "cell_type": "code",
   "execution_count": 27,
   "id": "ff2eda2a-cbda-44ae-9f99-7ba0c507a379",
   "metadata": {
    "scrolled": true
   },
   "outputs": [
    {
     "data": {
      "text/plain": [
       "Importe    0.904703\n",
       "dtype: float64"
      ]
     },
     "execution_count": 27,
     "metadata": {},
     "output_type": "execute_result"
    }
   ],
   "source": [
    "imput.select_dtypes(include=np.number).apply(lambda x: x.skew())"
   ]
  },
  {
   "cell_type": "markdown",
   "id": "12a16dcd-ad4f-4dd7-beee-09aaf2629925",
   "metadata": {},
   "source": [
    "La variable *Importe* no tiene asimetría. Seguimos con los missings."
   ]
  },
  {
   "cell_type": "markdown",
   "id": "0f66c153-aa45-4c78-ac69-6c1de40bce50",
   "metadata": {},
   "source": [
    "### Missings\n",
    "Tras la gestión de outliers el siguiente paso es calcular el porcentaje de registros que se encuentran perdidos y tomar medidas en base a dicha información. A continuación observamos los missings por variable:"
   ]
  },
  {
   "cell_type": "code",
   "execution_count": 28,
   "id": "6d35d565-bdfc-4916-9b45-4cc703385bee",
   "metadata": {},
   "outputs": [
    {
     "data": {
      "text/plain": [
       "ID_Pedido             0.000000\n",
       "Estado_venta          0.006784\n",
       "Cumplimiento          0.000000\n",
       "Nivel_servicio        0.000000\n",
       "Style                 0.000000\n",
       "SKU                   0.000000\n",
       "Categoria             0.000000\n",
       "Talla                 0.000000\n",
       "ASIN                  0.000000\n",
       "Estado_mensajeria     5.371352\n",
       "Importe               6.028475\n",
       "Ciudad                0.027138\n",
       "Estado                0.027138\n",
       "Codigo_postal         0.027138\n",
       "Promocion            38.212005\n",
       "B2B                   0.000000\n",
       "Cumplido_por         69.520339\n",
       "Mes                   0.000000\n",
       "Dia                   0.000000\n",
       "dtype: float64"
      ]
     },
     "execution_count": 28,
     "metadata": {},
     "output_type": "execute_result"
    }
   ],
   "source": [
    "imput.apply(lambda x: x.isna().sum()/len(x)*100)"
   ]
  },
  {
   "cell_type": "markdown",
   "id": "c127eee8-8c8d-4cc6-87b9-2630c2971c13",
   "metadata": {},
   "source": [
    "Hay varias variables con valores pérdidos, pero la que más me preocupa sin duda es la variable *Cumplido_por*, que sin duda habrá que eliminar del dataset porque no podemos \"invertarnos\" el 70% de los datos. No hay ningún otro aspecto preocupante en cuanto al resto de variables, que más adelante veremos cómo gestionamos. \n",
    "\n",
    "Ahora vamos a obtener el porcentaje de missings por observación, tarea para la que nos puede ser de utilidad crear una variable nueva en nuestro dataset que recoja este valor e incluirla en el modelo. "
   ]
  },
  {
   "cell_type": "code",
   "execution_count": 29,
   "id": "95bbe013-92fd-4330-9500-bb910c916469",
   "metadata": {},
   "outputs": [],
   "source": [
    "imput['Prop_perdidos'] = imput.apply(lambda x: x.isna().sum()/imput.shape[1]*100,axis=1)"
   ]
  },
  {
   "cell_type": "markdown",
   "id": "c7ddd26c-fe35-4a67-8abb-b7e73fa9d6d1",
   "metadata": {},
   "source": [
    "Ordenamos el dataset por esta nueva variable:"
   ]
  },
  {
   "cell_type": "code",
   "execution_count": 30,
   "id": "2588eb00-de3b-44a9-9dcf-6098b209bf08",
   "metadata": {
    "scrolled": true
   },
   "outputs": [
    {
     "data": {
      "text/html": [
       "<div>\n",
       "<style scoped>\n",
       "    .dataframe tbody tr th:only-of-type {\n",
       "        vertical-align: middle;\n",
       "    }\n",
       "\n",
       "    .dataframe tbody tr th {\n",
       "        vertical-align: top;\n",
       "    }\n",
       "\n",
       "    .dataframe thead th {\n",
       "        text-align: right;\n",
       "    }\n",
       "</style>\n",
       "<table border=\"1\" class=\"dataframe\">\n",
       "  <thead>\n",
       "    <tr style=\"text-align: right;\">\n",
       "      <th></th>\n",
       "      <th>ID_Pedido</th>\n",
       "      <th>Estado_venta</th>\n",
       "      <th>Cumplimiento</th>\n",
       "      <th>Nivel_servicio</th>\n",
       "      <th>Style</th>\n",
       "      <th>SKU</th>\n",
       "      <th>Categoria</th>\n",
       "      <th>Talla</th>\n",
       "      <th>ASIN</th>\n",
       "      <th>Estado_mensajeria</th>\n",
       "      <th>Importe</th>\n",
       "      <th>Ciudad</th>\n",
       "      <th>Estado</th>\n",
       "      <th>Codigo_postal</th>\n",
       "      <th>Promocion</th>\n",
       "      <th>B2B</th>\n",
       "      <th>Cumplido_por</th>\n",
       "      <th>Mes</th>\n",
       "      <th>Dia</th>\n",
       "      <th>Prop_perdidos</th>\n",
       "    </tr>\n",
       "  </thead>\n",
       "  <tbody>\n",
       "    <tr>\n",
       "      <th>73911</th>\n",
       "      <td>405-3420451-5230744</td>\n",
       "      <td>Cancelled</td>\n",
       "      <td>Amazon</td>\n",
       "      <td>Expedited</td>\n",
       "      <td>SET374</td>\n",
       "      <td>SET374-KR-NP-M</td>\n",
       "      <td>Set</td>\n",
       "      <td>M</td>\n",
       "      <td>B09NDKJKPN</td>\n",
       "      <td>Cancelled</td>\n",
       "      <td>NaN</td>\n",
       "      <td>NaN</td>\n",
       "      <td>NaN</td>\n",
       "      <td>NaN</td>\n",
       "      <td>NaN</td>\n",
       "      <td>False</td>\n",
       "      <td>NaN</td>\n",
       "      <td>May</td>\n",
       "      <td>Wednesday</td>\n",
       "      <td>31.578947</td>\n",
       "    </tr>\n",
       "    <tr>\n",
       "      <th>84757</th>\n",
       "      <td>402-8651786-0683548</td>\n",
       "      <td>Shipped - Other Status</td>\n",
       "      <td>Amazon</td>\n",
       "      <td>Expedited</td>\n",
       "      <td>JNE3690</td>\n",
       "      <td>JNE3690-TU-XL</td>\n",
       "      <td>Top</td>\n",
       "      <td>XL</td>\n",
       "      <td>B094FKN153</td>\n",
       "      <td>Shipped</td>\n",
       "      <td>5.844</td>\n",
       "      <td>NaN</td>\n",
       "      <td>NaN</td>\n",
       "      <td>NaN</td>\n",
       "      <td>NaN</td>\n",
       "      <td>False</td>\n",
       "      <td>NaN</td>\n",
       "      <td>May</td>\n",
       "      <td>Wednesday</td>\n",
       "      <td>26.315789</td>\n",
       "    </tr>\n",
       "    <tr>\n",
       "      <th>13252</th>\n",
       "      <td>407-4532637-8415521</td>\n",
       "      <td>Cancelled</td>\n",
       "      <td>Merchant</td>\n",
       "      <td>Standard</td>\n",
       "      <td>JNE3405</td>\n",
       "      <td>JNE3405-KR-S</td>\n",
       "      <td>kurta</td>\n",
       "      <td>S</td>\n",
       "      <td>B081WX4G4Q</td>\n",
       "      <td>NaN</td>\n",
       "      <td>4.560</td>\n",
       "      <td>NaN</td>\n",
       "      <td>NaN</td>\n",
       "      <td>NaN</td>\n",
       "      <td>NaN</td>\n",
       "      <td>False</td>\n",
       "      <td>Easy Ship</td>\n",
       "      <td>April</td>\n",
       "      <td>Friday</td>\n",
       "      <td>26.315789</td>\n",
       "    </tr>\n",
       "    <tr>\n",
       "      <th>8752</th>\n",
       "      <td>406-4003386-8768363</td>\n",
       "      <td>Shipped - Other Status</td>\n",
       "      <td>Amazon</td>\n",
       "      <td>Expedited</td>\n",
       "      <td>JNE3376</td>\n",
       "      <td>JNE3376-KR-M</td>\n",
       "      <td>kurta</td>\n",
       "      <td>M</td>\n",
       "      <td>B082W7HW86</td>\n",
       "      <td>Shipped</td>\n",
       "      <td>5.184</td>\n",
       "      <td>NaN</td>\n",
       "      <td>NaN</td>\n",
       "      <td>NaN</td>\n",
       "      <td>NaN</td>\n",
       "      <td>False</td>\n",
       "      <td>NaN</td>\n",
       "      <td>April</td>\n",
       "      <td>Monday</td>\n",
       "      <td>26.315789</td>\n",
       "    </tr>\n",
       "    <tr>\n",
       "      <th>37964</th>\n",
       "      <td>407-3064376-9158743</td>\n",
       "      <td>Cancelled</td>\n",
       "      <td>Merchant</td>\n",
       "      <td>Standard</td>\n",
       "      <td>JNE3405</td>\n",
       "      <td>JNE3405-KR-S</td>\n",
       "      <td>kurta</td>\n",
       "      <td>S</td>\n",
       "      <td>B081WX4G4Q</td>\n",
       "      <td>NaN</td>\n",
       "      <td>4.560</td>\n",
       "      <td>NaN</td>\n",
       "      <td>NaN</td>\n",
       "      <td>NaN</td>\n",
       "      <td>NaN</td>\n",
       "      <td>False</td>\n",
       "      <td>Easy Ship</td>\n",
       "      <td>April</td>\n",
       "      <td>Friday</td>\n",
       "      <td>26.315789</td>\n",
       "    </tr>\n",
       "  </tbody>\n",
       "</table>\n",
       "</div>"
      ],
      "text/plain": [
       "                 ID_Pedido            Estado_venta Cumplimiento  \\\n",
       "73911  405-3420451-5230744               Cancelled       Amazon   \n",
       "84757  402-8651786-0683548  Shipped - Other Status       Amazon   \n",
       "13252  407-4532637-8415521               Cancelled     Merchant   \n",
       "8752   406-4003386-8768363  Shipped - Other Status       Amazon   \n",
       "37964  407-3064376-9158743               Cancelled     Merchant   \n",
       "\n",
       "      Nivel_servicio    Style             SKU Categoria Talla        ASIN  \\\n",
       "73911      Expedited   SET374  SET374-KR-NP-M       Set     M  B09NDKJKPN   \n",
       "84757      Expedited  JNE3690   JNE3690-TU-XL       Top    XL  B094FKN153   \n",
       "13252       Standard  JNE3405    JNE3405-KR-S     kurta     S  B081WX4G4Q   \n",
       "8752       Expedited  JNE3376    JNE3376-KR-M     kurta     M  B082W7HW86   \n",
       "37964       Standard  JNE3405    JNE3405-KR-S     kurta     S  B081WX4G4Q   \n",
       "\n",
       "      Estado_mensajeria  Importe Ciudad Estado Codigo_postal Promocion    B2B  \\\n",
       "73911         Cancelled      NaN    NaN    NaN           NaN       NaN  False   \n",
       "84757           Shipped    5.844    NaN    NaN           NaN       NaN  False   \n",
       "13252               NaN    4.560    NaN    NaN           NaN       NaN  False   \n",
       "8752            Shipped    5.184    NaN    NaN           NaN       NaN  False   \n",
       "37964               NaN    4.560    NaN    NaN           NaN       NaN  False   \n",
       "\n",
       "      Cumplido_por    Mes        Dia  Prop_perdidos  \n",
       "73911          NaN    May  Wednesday      31.578947  \n",
       "84757          NaN    May  Wednesday      26.315789  \n",
       "13252    Easy Ship  April     Friday      26.315789  \n",
       "8752           NaN  April     Monday      26.315789  \n",
       "37964    Easy Ship  April     Friday      26.315789  "
      ]
     },
     "execution_count": 30,
     "metadata": {},
     "output_type": "execute_result"
    }
   ],
   "source": [
    "imput.sort_values(by='Prop_perdidos', ascending=False).head()"
   ]
  },
  {
   "cell_type": "markdown",
   "id": "e0ab38ae-de5f-43be-b91b-6708fa2c98ad",
   "metadata": {},
   "source": [
    "Vemos que el porcentaje máximo de valores perdidos por observación es del 32% así que no nos resulta preocupante. Ahora vamos a proceder a la gestión de las variables:\n",
    "\n",
    "1. **Cumplido_por**: vamos a eliminarla porque aproximadamente el 70% de sus registros son nulos y no tendría sentido realizar ninguna imputación."
   ]
  },
  {
   "cell_type": "code",
   "execution_count": 31,
   "id": "f41557ae-9079-447d-a47b-cf0938e54e77",
   "metadata": {},
   "outputs": [],
   "source": [
    "imput.drop(columns = [\"Cumplido_por\"], inplace = True)"
   ]
  },
  {
   "cell_type": "markdown",
   "id": "61de048e-f30a-4fc7-86cb-0b963d294b75",
   "metadata": {},
   "source": [
    "2. **Estado_mensajeria**: vamos a aplicar un filtro para ver el resto del dataset cuando *Estado_mensajeria* tiene valor nulo. De esta manera veremos si podemos asociar estos nulos con los valores de alguna otra variable y otorgarle algún sentido que nos permita gestionarlos."
   ]
  },
  {
   "cell_type": "code",
   "execution_count": 32,
   "id": "9215fc62-7be7-4bcf-8a75-6ba409c572fe",
   "metadata": {},
   "outputs": [
    {
     "name": "stdout",
     "output_type": "stream",
     "text": [
      "                  ID_Pedido Estado_venta Cumplimiento Nivel_servicio    Style  \\\n",
      "70951   407-5196240-5441906    Cancelled     Merchant       Standard    J0095   \n",
      "24746   407-7883049-0289122    Cancelled     Merchant       Standard  JNE3294   \n",
      "29059   405-1452590-8005961    Cancelled     Merchant       Standard  JNE3568   \n",
      "6542    404-7698665-6881131    Cancelled     Merchant       Standard  JNE3439   \n",
      "94694   403-0384984-9877168    Cancelled     Merchant       Standard   SET291   \n",
      "...                     ...          ...          ...            ...      ...   \n",
      "17484   403-6072894-5146759    Cancelled     Merchant       Standard  JNE3440   \n",
      "128875  403-9524128-9243508    Cancelled     Merchant       Standard  JNE3797   \n",
      "98437   408-4733252-8190752    Cancelled     Merchant       Standard  JNE3887   \n",
      "39591   407-2788278-8549951    Cancelled     Merchant       Standard  MEN5025   \n",
      "102770  408-6820580-3369900    Cancelled     Merchant       Standard    J0009   \n",
      "\n",
      "                     SKU      Categoria    Talla        ASIN  \\\n",
      "70951       J0095-SET-XL            Set       XL  B08CMN1K86   \n",
      "24746       JNE3294-KR-S          kurta        S  B07R5W78SS   \n",
      "29059       JNE3568-KR-M          kurta        M  B08KRZRSCL   \n",
      "6542        JNE3439-KR-L          kurta        L  B081WZDHB3   \n",
      "94694   SET291-KR-PP-XXL            Set      XXL  B099NJQ8JQ   \n",
      "...                  ...            ...      ...         ...   \n",
      "17484     JNE3440-KR-N-M          kurta        M  B081WY1SP3   \n",
      "128875     JNE3797-KR-XL  Western Dress       XL  B09SDXRYBG   \n",
      "98437     JNE3887-KR-XXL          kurta      XXL  B09TZYFCNB   \n",
      "39591    MEN5025-KR-XXXL          kurta  3XL-6XL  B08YYQS8FH   \n",
      "102770       J0009-SKD-M            Set        M  B0894Y7ZF8   \n",
      "\n",
      "       Estado_mensajeria  Importe                Ciudad              Estado  \\\n",
      "70951                  0  7.46280             HYDERABAD           TELANGANA   \n",
      "24746                  0  4.93716                NAGPUR         MAHARASHTRA   \n",
      "29059                  0  4.56000              DEHRADUN         UTTARAKHAND   \n",
      "6542                   0  4.56000               Marcela                 GOA   \n",
      "94694                  0  6.50280                JHANSI       UTTAR PRADESH   \n",
      "...                  ...      ...                   ...                 ...   \n",
      "17484                  0  4.56000               CHENNAI          TAMIL NADU   \n",
      "128875                 0  8.81148             Barabanki       UTTAR PRADESH   \n",
      "98437                  0      NaN             BENGALURU           KARNATAKA   \n",
      "39591                  0  6.27432  DAKSHIN RAJYADHARPUR         WEST BENGAL   \n",
      "102770                 0  9.46284            BAMBOOFLAT  ANDAMAN & NICOBAR    \n",
      "\n",
      "       Codigo_postal Promocion    B2B    Mes        Dia  Prop_perdidos  \n",
      "70951       500001.0       NaN  False    May   Saturday      10.526316  \n",
      "24746       440022.0       NaN  False  April     Friday      10.526316  \n",
      "29059       248008.0       NaN  False  April  Wednesday      10.526316  \n",
      "6542        403107.0       NaN  False  April    Tuesday      10.526316  \n",
      "94694       284002.0       NaN  False   June     Sunday      10.526316  \n",
      "...              ...       ...    ...    ...        ...            ...  \n",
      "17484       600087.0       NaN  False  April  Wednesday      10.526316  \n",
      "128875      225001.0       NaN  False   June  Wednesday      10.526316  \n",
      "98437       560097.0       NaN  False   June   Thursday      15.789474  \n",
      "39591       712223.0       NaN  False  April  Wednesday      10.526316  \n",
      "102770      744107.0       NaN  False   June     Sunday      10.526316  \n",
      "\n",
      "[5542 rows x 19 columns]\n"
     ]
    }
   ],
   "source": [
    "imput['Estado_mensajeria'] = imput['Estado_mensajeria'].cat.add_categories([0])\n",
    "imput['Estado_mensajeria'].fillna(0, inplace = True)\n",
    "df_estado_mensajeria = imput[imput['Estado_mensajeria'] == 0 ]\n",
    "\n",
    "print(df_estado_mensajeria)"
   ]
  },
  {
   "cell_type": "markdown",
   "id": "63383316-806b-45fe-afd2-c02aeecb4eca",
   "metadata": {},
   "source": [
    "Se puede observar que *Estado_mensajeria* tiene un valor nulo cuando *Estado_venta* es Cancelled, por lo que podemos suponer que los valores nulos realmente son Cancelled que se habían extraviado."
   ]
  },
  {
   "cell_type": "code",
   "execution_count": 33,
   "id": "79780f4e-863c-42d0-8734-04ba227e3b50",
   "metadata": {},
   "outputs": [],
   "source": [
    "imput['Estado_mensajeria'].replace(0, 'Cancelled', inplace = True)"
   ]
  },
  {
   "cell_type": "markdown",
   "id": "273d5bb8-eaf9-49e4-be79-669c34335f05",
   "metadata": {},
   "source": [
    "3. **Ciudad, Estado y Codigo_postal**: vemos que el número de nulos en las variables \"Ciudad\", \"Estado\" y \"Codigo_postal\" son los mismos, por lo que suponemos que son registros de los que se desconoce completamente la ubicación. Les asignaremos \"Desconocido\"."
   ]
  },
  {
   "cell_type": "code",
   "execution_count": 34,
   "id": "f2e5957f-4ae2-4f38-9079-f1eb994453b2",
   "metadata": {},
   "outputs": [],
   "source": [
    "imput['Ciudad'].fillna('Desc', inplace = True)\n",
    "imput['Estado'].fillna('Desc', inplace = True)\n",
    "imput['Codigo_postal'].fillna('Desc', inplace = True)"
   ]
  },
  {
   "cell_type": "markdown",
   "id": "94bcb158-5a06-46fd-a275-b006efc37684",
   "metadata": {},
   "source": [
    "4. **Promocion**: en la variable *Promocion* podemos suponer que los nulos se corresponden con los pedidos en los que no se ha utilizado ninguna promoción. Vamos a realizar un ```value_counts()``` para ver sus valores."
   ]
  },
  {
   "cell_type": "code",
   "execution_count": 35,
   "id": "6b41bd72-f5fd-4d6d-bb5e-19f4809da86d",
   "metadata": {
    "scrolled": true
   },
   "outputs": [
    {
     "data": {
      "text/plain": [
       "Promocion\n",
       "IN Core Free Shipping 2015/04/08 23-48-5-108                                                                                                                                                                                                                                                                                                                                                                                                                                                                                                                                                                                                                                                                                                                                                                                                                                                                                                                                                                                                                                                                                                                                                                                                                                                                                                                                                                                                                                                                                                                                                                                                                                                                                                                                                                                                                                                                                                     36798\n",
       "Duplicated A12RHGVGRWOT3S 1560498941486                                                                                                                                                                                                                                                                                                                                                                                                                                                                                                                                                                                                                                                                                                                                                                                                                                                                                                                                                                                                                                                                                                                                                                                                                                                                                                                                                                                                                                                                                                                                                                                                                                                                                                                                                                                                                                                                                                            392\n",
       "Amazon PLCC Free-Financing Universal Merchant AAT-WNKTBO3K27EJC,Amazon PLCC Free-Financing Universal Merchant AAT-QX3UCCJESKPA2,Amazon PLCC Free-Financing Universal Merchant AAT-CXJHMC2YJUK76,Amazon PLCC Free-Financing Universal Merchant AAT-CC4FAVTYR4X7C,Amazon PLCC Free-Financing Universal Merchant AAT-XXRCW6NZEPZI4,Amazon PLCC Free-Financing Universal Merchant AAT-EOKPWFWYW7Y6I,Amazon PLCC Free-Financing Universal Merchant AAT-ZYL5UPUNW6T62,Amazon PLCC Free-Financing Universal Merchant AAT-G5ZRX4BZOIODU,Amazon PLCC Free-Financing Universal Merchant AAT-PZHUW6DZX4BPS,Amazon PLCC Free-Financing Universal Merchant AAT-XX7G3ZRJJJ5LG,Amazon PLCC Free-Financing Universal Merchant AAT-LEHCKNDBJG64E,Amazon PLCC Free-Financing Universal Merchant AAT-DJVHCEV7D7RQY,Amazon PLCC Free-Financing Universal Merchant AAT-BRSZZ45H6MHAO,Amazon PLCC Free-Financing Universal Merchant AAT-MKLXOOZWQL7GO,Amazon PLCC Free-Financing Universal Merchant AAT-CB7UNXEXGIJTC,Amazon PLCC Free-Financing Universal Merchant #MP-gzasho-1593152694811,Amazon PLCC Free-Financing Universal Merchant AAT-WLBA4GZ52EAH4                                                                                                                                                                                                                                                                                                                                                                                                                                                                                                                                                                                                                                                                                                                                                                                                             364\n",
       "Duplicated AYTJSBA8ZOP16 1567159860988                                                                                                                                                                                                                                                                                                                                                                                                                                                                                                                                                                                                                                                                                                                                                                                                                                                                                                                                                                                                                                                                                                                                                                                                                                                                                                                                                                                                                                                                                                                                                                                                                                                                                                                                                                                                                                                                                                             339\n",
       "Amazon PLCC Free-Financing Universal Merchant AAT-WNKTBO3K27EJC,Amazon PLCC Free-Financing Universal Merchant AAT-QX3UCCJESKPA2,Amazon PLCC Free-Financing Universal Merchant AAT-5QQ7BIYYQEDN2,Amazon PLCC Free-Financing Universal Merchant AAT-DSJ2QRXXWXVMQ,Amazon PLCC Free-Financing Universal Merchant AAT-CXJHMC2YJUK76,Amazon PLCC Free-Financing Universal Merchant AAT-CC4FAVTYR4X7C,Amazon PLCC Free-Financing Universal Merchant AAT-XXRCW6NZEPZI4,Amazon PLCC Free-Financing Universal Merchant AAT-EOKPWFWYW7Y6I,Amazon PLCC Free-Financing Universal Merchant AAT-ZYL5UPUNW6T62,Amazon PLCC Free-Financing Universal Merchant AAT-G5ZRX4BZOIODU,Amazon PLCC Free-Financing Universal Merchant AAT-PZHUW6DZX4BPS,Amazon PLCC Free-Financing Universal Merchant AAT-ETXQ3XXWMRXBG,Amazon PLCC Free-Financing Universal Merchant AAT-BRSZZ45H6MHAO,Amazon PLCC Free-Financing Universal Merchant AAT-MKLXOOZWQL7GO,Amazon PLCC Free-Financing Universal Merchant AAT-CB7UNXEXGIJTC,Amazon PLCC Free-Financing Universal Merchant #MP-gzasho-1593152694811,Amazon PLCC Free-Financing Universal Merchant AAT-WLBA4GZ52EAH4                                                                                                                                                                                                                                                                                                                                                                                                                                                                                                                                                                                                                                                                                                                                                                                                             255\n",
       "                                                                                                                                                                                                                                                                                                                                                                                                                                                                                                                                                                                                                                                                                                                                                                                                                                                                                                                                                                                                                                                                                                                                                                                                                                                                                                                                                                                                                                                                                                                                                                                                                                                                                                                                                                                                                                                                                                                                                 ...  \n",
       "Amazon PLCC Free-Financing Universal Merchant AAT-WNKTBO3K27EJC,Amazon PLCC Free-Financing Universal Merchant AAT-QX3UCCJESKPA2,Amazon PLCC Free-Financing Universal Merchant AAT-CXJHMC2YJUK76,Amazon PLCC Free-Financing Universal Merchant AAT-CC4FAVTYR4X7C,Amazon PLCC Free-Financing Universal Merchant AAT-XXRCW6NZEPZI4,Amazon PLCC Free-Financing Universal Merchant AAT-CXNSLNBROFDW4,Amazon PLCC Free-Financing Universal Merchant AAT-WSJLDN3X7KEMO,Amazon PLCC Free-Financing Universal Merchant AAT-VL6FGQVGQVXUS,Amazon PLCC Free-Financing Universal Merchant AAT-EOKPWFWYW7Y6I,Amazon PLCC Free-Financing Universal Merchant AAT-G5ZRX4BZOIODU,Amazon PLCC Free-Financing Universal Merchant AAT-ACZIPIA37BFIY,Amazon PLCC Free-Financing Universal Merchant AAT-YFJA6XMAMWZSK,Amazon PLCC Free-Financing Universal Merchant AAT-K66BSCE2J2V5E,Amazon PLCC Free-Financing Universal Merchant AAT-275LMAQ3T5REI,Amazon PLCC Free-Financing Universal Merchant AAT-4UKS7UWZY3AES,Amazon PLCC Free-Financing Universal Merchant AAT-BRSZZ45H6MHAO,Amazon PLCC Free-Financing Universal Merchant AAT-MKLXOOZWQL7GO,Amazon PLCC Free-Financing Universal Merchant AAT-CB7UNXEXGIJTC,Amazon PLCC Free-Financing Universal Merchant #MP-gzasho-1593152694811,Amazon PLCC Free-Financing Universal Merchant AAT-WLBA4GZ52EAH4                                                                                                                                                                                                                                                                                                                                                                                                                                                                                                                                                                                                               1\n",
       "Amazon PLCC Free-Financing Universal Merchant AAT-WNKTBO3K27EJC,Amazon PLCC Free-Financing Universal Merchant AAT-QX3UCCJESKPA2,Amazon PLCC Free-Financing Universal Merchant AAT-5QQ7BIYYQEDN2,Amazon PLCC Free-Financing Universal Merchant AAT-DSJ2QRXXWXVMQ,Amazon PLCC Free-Financing Universal Merchant AAT-CXJHMC2YJUK76,Amazon PLCC Free-Financing Universal Merchant AAT-CC4FAVTYR4X7C,Amazon PLCC Free-Financing Universal Merchant AAT-EWAPBB6BDRGM6,Amazon PLCC Free-Financing Universal Merchant AAT-WSJLDN3X7KEMO,Amazon PLCC Free-Financing Universal Merchant AAT-VL6FGQVGQVXUS,Amazon PLCC Free-Financing Universal Merchant AAT-EOKPWFWYW7Y6I,Amazon PLCC Free-Financing Universal Merchant AAT-3CSO6PTXOFDTO,Amazon PLCC Free-Financing Universal Merchant AAT-NT3ZJJGQ3JK3Q,Amazon PLCC Free-Financing Universal Merchant AAT-5SHH3G55USK5C,Amazon PLCC Free-Financing Universal Merchant AAT-6XVEGAWJUJYXG,Amazon PLCC Free-Financing Universal Merchant AAT-OKGJFROBK4ZB4,Amazon PLCC Free-Financing Universal Merchant AAT-BOWEMQBNNNHBK,Amazon PLCC Free-Financing Universal Merchant AAT-SKYXW7T3UZBGO,Amazon PLCC Free-Financing Universal Merchant AAT-ILWGDKTQOJRNA,Amazon PLCC Free-Financing Universal Merchant AAT-ONHQI6RQUNGB6,Amazon PLCC Free-Financing Universal Merchant AAT-BRSZZ45H6MHAO,Amazon PLCC Free-Financing Universal Merchant AAT-MKLXOOZWQL7GO,Amazon PLCC Free-Financing Universal Merchant AAT-CB7UNXEXGIJTC,Amazon PLCC Free-Financing Universal Merchant #MP-gzasho-1593152694811,Amazon PLCC Free-Financing Universal Merchant AAT-WLBA4GZ52EAH4                                                                                                                                                                                                                                                                                                                                               1\n",
       "Amazon PLCC Free-Financing Universal Merchant AAT-WNKTBO3K27EJC,Amazon PLCC Free-Financing Universal Merchant AAT-QX3UCCJESKPA2,Amazon PLCC Free-Financing Universal Merchant AAT-5QQ7BIYYQEDN2,Amazon PLCC Free-Financing Universal Merchant AAT-DSJ2QRXXWXVMQ,Amazon PLCC Free-Financing Universal Merchant AAT-CXJHMC2YJUK76,Amazon PLCC Free-Financing Universal Merchant AAT-SL3Y2YRMAUNFC,Amazon PLCC Free-Financing Universal Merchant AAT-CC4FAVTYR4X7C,Amazon PLCC Free-Financing Universal Merchant AAT-FYWJCQHU2XQ2U,Amazon PLCC Free-Financing Universal Merchant AAT-R7GXNZWISTRFA,Amazon PLCC Free-Financing Universal Merchant AAT-EOKPWFWYW7Y6I,Amazon PLCC Free-Financing Universal Merchant AAT-URPEBMPS7TSPE,Amazon PLCC Free-Financing Universal Merchant AAT-ME7D3ZA4R4KII,Amazon PLCC Free-Financing Universal Merchant AAT-L2DLP5YGE5766,Amazon PLCC Free-Financing Universal Merchant AAT-5ZEB2OGNZ32MC,Amazon PLCC Free-Financing Universal Merchant AAT-4ZN7U6MMDFGWM,Amazon PLCC Free-Financing Universal Merchant AAT-PAWHL2EB33U42,Amazon PLCC Free-Financing Universal Merchant AAT-7WX4JYESZISLU,Amazon PLCC Free-Financing Universal Merchant AAT-CIX56SGGAWUYW,Amazon PLCC Free-Financing Universal Merchant AAT-DMQVBJASKTAHS,Amazon PLCC Free-Financing Universal Merchant AAT-OZQCPML255CW2,Amazon PLCC Free-Financing Universal Merchant AAT-H7DZACP4NHMJM,Amazon PLCC Free-Financing Universal Merchant AAT-TNYBHEAO7HOHO,Amazon PLCC Free-Financing Universal Merchant AAT-BRSZZ45H6MHAO,Amazon PLCC Free-Financing Universal Merchant AAT-MKLXOOZWQL7GO,Amazon PLCC Free-Financing Universal Merchant AAT-CB7UNXEXGIJTC,Amazon PLCC Free-Financing Universal Merchant #MP-gzasho-1593152694811,Amazon PLCC Free-Financing Universal Merchant AAT-WLBA4GZ52EAH4,Amazon PLCC Free-Financing Universal Merchant AAT-QMFZ3M7T5NPDS,Amazon PLCC Free-Financing Universal Merchant #MP-pmilan-1601980554292        1\n",
       "Amazon PLCC Free-Financing Universal Merchant AAT-WNKTBO3K27EJC,Amazon PLCC Free-Financing Universal Merchant AAT-QX3UCCJESKPA2,Amazon PLCC Free-Financing Universal Merchant AAT-CXJHMC2YJUK76,Amazon PLCC Free-Financing Universal Merchant AAT-SL3Y2YRMAUNFC,Amazon PLCC Free-Financing Universal Merchant AAT-CC4FAVTYR4X7C,Amazon PLCC Free-Financing Universal Merchant SS-1640596961008,Amazon PLCC Free-Financing Universal Merchant AAT-XXRCW6NZEPZI4,Amazon PLCC Free-Financing Universal Merchant AAT-R7GXNZWISTRFA,Amazon PLCC Free-Financing Universal Merchant AAT-EOKPWFWYW7Y6I,Amazon PLCC Free-Financing Universal Merchant AAT-ZYL5UPUNW6T62,Amazon PLCC Free-Financing Universal Merchant AAT-G5ZRX4BZOIODU,Amazon PLCC Free-Financing Universal Merchant AAT-P3CSUAK4HTEP2,Amazon PLCC Free-Financing Universal Merchant AAT-YFJA6XMAMWZSK,Amazon PLCC Free-Financing Universal Merchant AAT-K66BSCE2J2V5E,Amazon PLCC Free-Financing Universal Merchant AAT-275LMAQ3T5REI,Amazon PLCC Free-Financing Universal Merchant SS-1649241544188,Amazon PLCC Free-Financing Universal Merchant AAT-TNYBHEAO7HOHO,Amazon PLCC Free-Financing Universal Merchant AAT-BRSZZ45H6MHAO,Amazon PLCC Free-Financing Universal Merchant AAT-MKLXOOZWQL7GO,Amazon PLCC Free-Financing Universal Merchant AAT-CB7UNXEXGIJTC,Amazon PLCC Free-Financing Universal Merchant #MP-gzasho-1593152694811,Amazon PLCC Free-Financing Universal Merchant AAT-WLBA4GZ52EAH4,Amazon PLCC Free-Financing Universal Merchant AAT-QMFZ3M7T5NPDS,Amazon PLCC Free-Financing Universal Merchant #MP-pmilan-1601980554292                                                                                                                                                                                                                                                                                                                                          1\n",
       "Amazon PLCC Free-Financing Universal Merchant AAT-WNKTBO3K27EJC,Amazon PLCC Free-Financing Universal Merchant AAT-QX3UCCJESKPA2,Amazon PLCC Free-Financing Universal Merchant AAT-5QQ7BIYYQEDN2,Amazon PLCC Free-Financing Universal Merchant AAT-DSJ2QRXXWXVMQ,Amazon PLCC Free-Financing Universal Merchant AAT-CXJHMC2YJUK76,Amazon PLCC Free-Financing Universal Merchant AAT-SL3Y2YRMAUNFC,Amazon PLCC Free-Financing Universal Merchant AAT-CC4FAVTYR4X7C,Amazon PLCC Free-Financing Universal Merchant AAT-FYWJCQHU2XQ2U,Amazon PLCC Free-Financing Universal Merchant AAT-EOKPWFWYW7Y6I,Amazon PLCC Free-Financing Universal Merchant AAT-VY2G7AISPNM5O,Amazon PLCC Free-Financing Universal Merchant AAT-W5I5VO555W3V6,Amazon PLCC Free-Financing Universal Merchant AAT-H56TELQ6BG7EC,Amazon PLCC Free-Financing Universal Merchant AAT-URPEBMPS7TSPE,Amazon PLCC Free-Financing Universal Merchant AAT-3R6UGYISJQCKA,Amazon PLCC Free-Financing Universal Merchant AAT-ME7D3ZA4R4KII,Amazon PLCC Free-Financing Universal Merchant AAT-TNYBHEAO7HOHO,Amazon PLCC Free-Financing Universal Merchant AAT-BRSZZ45H6MHAO,Amazon PLCC Free-Financing Universal Merchant AAT-MKLXOOZWQL7GO,Amazon PLCC Free-Financing Universal Merchant AAT-CB7UNXEXGIJTC,Amazon PLCC Free-Financing Universal Merchant #MP-gzasho-1593152694811,Amazon PLCC Free-Financing Universal Merchant AAT-WLBA4GZ52EAH4,Amazon PLCC Free-Financing Universal Merchant AAT-QMFZ3M7T5NPDS,Amazon PLCC Free-Financing Universal Merchant #MP-pmilan-1601980554292                                                                                                                                                                                                                                                                                                                                                                                                        1\n",
       "Name: count, Length: 5236, dtype: int64"
      ]
     },
     "execution_count": 35,
     "metadata": {},
     "output_type": "execute_result"
    }
   ],
   "source": [
    "imput.Promocion.value_counts()"
   ]
  },
  {
   "cell_type": "code",
   "execution_count": 36,
   "id": "c7724c8b-9097-4760-8652-1e79443a514d",
   "metadata": {},
   "outputs": [],
   "source": [
    "imput['Promocion'].fillna('No promo', inplace = True)"
   ]
  },
  {
   "cell_type": "markdown",
   "id": "31b69121-8092-464c-8904-23066c52f763",
   "metadata": {},
   "source": [
    "Además, nos damos cuenta de que realmente la variable *Promocion* es categórica, ya que a pesar de tener 5.788 valores únicos si observamos sus valores vemos que estos se pueden agrupar perfectamente en cinco grupos principales. Realizamos dichas agrupaciones y cambiamos la variable a tipo 'category'"
   ]
  },
  {
   "cell_type": "code",
   "execution_count": 37,
   "id": "034e7a2f-0c1f-4fe8-85fc-5cb54193df8c",
   "metadata": {
    "scrolled": true
   },
   "outputs": [
    {
     "name": "stdout",
     "output_type": "stream",
     "text": [
      "Promocion\n",
      "No promocion             39426\n",
      "IN Core Free Shipping    36880\n",
      "PLCC Free_Financing      25859\n",
      "Duplicated                 731\n",
      "Otros                      281\n",
      "Name: count, dtype: int64\n"
     ]
    }
   ],
   "source": [
    "def agrupar_categorias(Promocion):\n",
    "    if Promocion.startswith('Amazon'):\n",
    "        return 'PLCC Free_Financing'\n",
    "    elif Promocion.startswith('IN'):\n",
    "        return 'IN Core Free Shipping'\n",
    "    elif Promocion.startswith('Duplicated'):\n",
    "        return 'Duplicated'\n",
    "    elif Promocion.startswith('No'):\n",
    "        return 'No promocion'\n",
    "    else: \n",
    "        return 'Otros'\n",
    "\n",
    "imput['Promocion'] = imput['Promocion'].apply(agrupar_categorias)\n",
    "\n",
    "print(imput['Promocion'].value_counts())"
   ]
  },
  {
   "cell_type": "code",
   "execution_count": 38,
   "id": "bf17cf22-6af3-4add-8ff7-cf224450355f",
   "metadata": {},
   "outputs": [],
   "source": [
    "imput['Promocion'] = imput['Promocion'].astype('category')"
   ]
  },
  {
   "cell_type": "markdown",
   "id": "a80aa380-3cda-4e31-afbe-72ba7c791d55",
   "metadata": {},
   "source": [
    "5. **Estado_venta**: los nulos en esta variable apenas representan un 1% de los registros, por lo que lo más sencillo es eliminar las filas que contengan esos nulos con un riesgo insignificante de pérdida de información. "
   ]
  },
  {
   "cell_type": "code",
   "execution_count": 39,
   "id": "09a74535-f334-4f77-a751-0ed748934a00",
   "metadata": {},
   "outputs": [],
   "source": [
    "imput.dropna(subset=['Estado_venta'], inplace=True)"
   ]
  },
  {
   "cell_type": "markdown",
   "id": "887ae967-7370-44ac-a1de-49b87dc9c34b",
   "metadata": {},
   "source": [
    "6. **Importe**: como los nulos en esta variable representaran un porcentaje más alto, valoramos otras opciones como la imputación basada en la técnica de los k vecinos más cercanos para las variables numéricas."
   ]
  },
  {
   "cell_type": "code",
   "execution_count": 40,
   "id": "37bea387-c95e-40e9-89b6-f2d99912b858",
   "metadata": {},
   "outputs": [],
   "source": [
    "import sklearn.impute as skl_imp\n",
    "from sklearn.experimental import enable_iterative_imputer"
   ]
  },
  {
   "cell_type": "code",
   "execution_count": 41,
   "id": "7dd38491-57a1-4449-8f55-b46d4c4c2d26",
   "metadata": {},
   "outputs": [],
   "source": [
    "imputer_knn = skl_imp.KNNImputer(n_neighbors=3)\n",
    "importe_values = imput[['Importe']]\n",
    "imputed_importe = imputer_knn.fit_transform(importe_values)\n",
    "imput['Importe'] = imputed_importe"
   ]
  },
  {
   "cell_type": "markdown",
   "id": "eea5d977-b6b7-4a67-9537-2d2cbcbc2ffa",
   "metadata": {},
   "source": [
    "Observamos nuestro dataset totalmente depurado:"
   ]
  },
  {
   "cell_type": "code",
   "execution_count": 42,
   "id": "5065f1c0-d8b2-4fd8-9a1a-06fcb6458eb2",
   "metadata": {
    "scrolled": true
   },
   "outputs": [
    {
     "data": {
      "text/plain": [
       "ID_Pedido            0.0\n",
       "Estado_venta         0.0\n",
       "Cumplimiento         0.0\n",
       "Nivel_servicio       0.0\n",
       "Style                0.0\n",
       "SKU                  0.0\n",
       "Categoria            0.0\n",
       "Talla                0.0\n",
       "ASIN                 0.0\n",
       "Estado_mensajeria    0.0\n",
       "Importe              0.0\n",
       "Ciudad               0.0\n",
       "Estado               0.0\n",
       "Codigo_postal        0.0\n",
       "Promocion            0.0\n",
       "B2B                  0.0\n",
       "Mes                  0.0\n",
       "Dia                  0.0\n",
       "Prop_perdidos        0.0\n",
       "dtype: float64"
      ]
     },
     "execution_count": 42,
     "metadata": {},
     "output_type": "execute_result"
    }
   ],
   "source": [
    "imput.apply(lambda x: x.isna().sum()/len(x)*100)"
   ]
  },
  {
   "cell_type": "code",
   "execution_count": 43,
   "id": "0cc06a9e-e20b-48ed-97a5-1f30e24efa0d",
   "metadata": {},
   "outputs": [
    {
     "data": {
      "text/html": [
       "<div>\n",
       "<style scoped>\n",
       "    .dataframe tbody tr th:only-of-type {\n",
       "        vertical-align: middle;\n",
       "    }\n",
       "\n",
       "    .dataframe tbody tr th {\n",
       "        vertical-align: top;\n",
       "    }\n",
       "\n",
       "    .dataframe thead th {\n",
       "        text-align: right;\n",
       "    }\n",
       "</style>\n",
       "<table border=\"1\" class=\"dataframe\">\n",
       "  <thead>\n",
       "    <tr style=\"text-align: right;\">\n",
       "      <th></th>\n",
       "      <th>ID_Pedido</th>\n",
       "      <th>Estado_venta</th>\n",
       "      <th>Cumplimiento</th>\n",
       "      <th>Nivel_servicio</th>\n",
       "      <th>Style</th>\n",
       "      <th>SKU</th>\n",
       "      <th>Categoria</th>\n",
       "      <th>Talla</th>\n",
       "      <th>ASIN</th>\n",
       "      <th>Estado_mensajeria</th>\n",
       "      <th>Importe</th>\n",
       "      <th>Ciudad</th>\n",
       "      <th>Estado</th>\n",
       "      <th>Codigo_postal</th>\n",
       "      <th>Promocion</th>\n",
       "      <th>B2B</th>\n",
       "      <th>Mes</th>\n",
       "      <th>Dia</th>\n",
       "      <th>Prop_perdidos</th>\n",
       "    </tr>\n",
       "  </thead>\n",
       "  <tbody>\n",
       "    <tr>\n",
       "      <th>70951</th>\n",
       "      <td>407-5196240-5441906</td>\n",
       "      <td>Cancelled</td>\n",
       "      <td>Merchant</td>\n",
       "      <td>Standard</td>\n",
       "      <td>J0095</td>\n",
       "      <td>J0095-SET-XL</td>\n",
       "      <td>Set</td>\n",
       "      <td>XL</td>\n",
       "      <td>B08CMN1K86</td>\n",
       "      <td>Cancelled</td>\n",
       "      <td>7.4628</td>\n",
       "      <td>HYDERABAD</td>\n",
       "      <td>TELANGANA</td>\n",
       "      <td>500001.0</td>\n",
       "      <td>No promocion</td>\n",
       "      <td>False</td>\n",
       "      <td>May</td>\n",
       "      <td>Saturday</td>\n",
       "      <td>10.526316</td>\n",
       "    </tr>\n",
       "    <tr>\n",
       "      <th>121464</th>\n",
       "      <td>407-6385365-6840359</td>\n",
       "      <td>Shipped - Delivered to Buyer</td>\n",
       "      <td>Merchant</td>\n",
       "      <td>Standard</td>\n",
       "      <td>J0157</td>\n",
       "      <td>J0157-DR-L</td>\n",
       "      <td>Western Dress</td>\n",
       "      <td>L</td>\n",
       "      <td>B09831FVYR</td>\n",
       "      <td>Shipped</td>\n",
       "      <td>11.4720</td>\n",
       "      <td>pune</td>\n",
       "      <td>MAHARASHTRA</td>\n",
       "      <td>411048.0</td>\n",
       "      <td>PLCC Free_Financing</td>\n",
       "      <td>False</td>\n",
       "      <td>June</td>\n",
       "      <td>Monday</td>\n",
       "      <td>0.000000</td>\n",
       "    </tr>\n",
       "    <tr>\n",
       "      <th>96395</th>\n",
       "      <td>407-2743590-4420328</td>\n",
       "      <td>Shipped - Other Status</td>\n",
       "      <td>Amazon</td>\n",
       "      <td>Expedited</td>\n",
       "      <td>J0008</td>\n",
       "      <td>J0008-SKD-L</td>\n",
       "      <td>Set</td>\n",
       "      <td>L</td>\n",
       "      <td>B0894YB3B1</td>\n",
       "      <td>Shipped</td>\n",
       "      <td>12.9000</td>\n",
       "      <td>MULBAGAL</td>\n",
       "      <td>KARNATAKA</td>\n",
       "      <td>563131.0</td>\n",
       "      <td>No promocion</td>\n",
       "      <td>False</td>\n",
       "      <td>June</td>\n",
       "      <td>Saturday</td>\n",
       "      <td>10.526316</td>\n",
       "    </tr>\n",
       "    <tr>\n",
       "      <th>64300</th>\n",
       "      <td>407-8825783-6029127</td>\n",
       "      <td>Shipped - Other Status</td>\n",
       "      <td>Amazon</td>\n",
       "      <td>Expedited</td>\n",
       "      <td>J0233</td>\n",
       "      <td>J0233-SKD-XXXL</td>\n",
       "      <td>Set</td>\n",
       "      <td>3XL-6XL</td>\n",
       "      <td>B08XNHF3KB</td>\n",
       "      <td>Shipped</td>\n",
       "      <td>15.5880</td>\n",
       "      <td>Ahemdabad</td>\n",
       "      <td>Gujarat</td>\n",
       "      <td>380058.0</td>\n",
       "      <td>No promocion</td>\n",
       "      <td>False</td>\n",
       "      <td>May</td>\n",
       "      <td>Thursday</td>\n",
       "      <td>10.526316</td>\n",
       "    </tr>\n",
       "    <tr>\n",
       "      <th>35014</th>\n",
       "      <td>405-7659518-2763537</td>\n",
       "      <td>Shipped - Other Status</td>\n",
       "      <td>Amazon</td>\n",
       "      <td>Expedited</td>\n",
       "      <td>BL110</td>\n",
       "      <td>BL110-L</td>\n",
       "      <td>Blouse</td>\n",
       "      <td>L</td>\n",
       "      <td>B0928XH9S9</td>\n",
       "      <td>Shipped</td>\n",
       "      <td>3.9480</td>\n",
       "      <td>BENGALURU</td>\n",
       "      <td>KARNATAKA</td>\n",
       "      <td>560037.0</td>\n",
       "      <td>IN Core Free Shipping</td>\n",
       "      <td>False</td>\n",
       "      <td>April</td>\n",
       "      <td>Saturday</td>\n",
       "      <td>5.263158</td>\n",
       "    </tr>\n",
       "  </tbody>\n",
       "</table>\n",
       "</div>"
      ],
      "text/plain": [
       "                  ID_Pedido                  Estado_venta Cumplimiento  \\\n",
       "70951   407-5196240-5441906                     Cancelled     Merchant   \n",
       "121464  407-6385365-6840359  Shipped - Delivered to Buyer     Merchant   \n",
       "96395   407-2743590-4420328        Shipped - Other Status       Amazon   \n",
       "64300   407-8825783-6029127        Shipped - Other Status       Amazon   \n",
       "35014   405-7659518-2763537        Shipped - Other Status       Amazon   \n",
       "\n",
       "       Nivel_servicio  Style             SKU      Categoria    Talla  \\\n",
       "70951        Standard  J0095    J0095-SET-XL            Set       XL   \n",
       "121464       Standard  J0157      J0157-DR-L  Western Dress        L   \n",
       "96395       Expedited  J0008     J0008-SKD-L            Set        L   \n",
       "64300       Expedited  J0233  J0233-SKD-XXXL            Set  3XL-6XL   \n",
       "35014       Expedited  BL110         BL110-L         Blouse        L   \n",
       "\n",
       "              ASIN Estado_mensajeria  Importe     Ciudad       Estado  \\\n",
       "70951   B08CMN1K86         Cancelled   7.4628  HYDERABAD    TELANGANA   \n",
       "121464  B09831FVYR           Shipped  11.4720       pune  MAHARASHTRA   \n",
       "96395   B0894YB3B1           Shipped  12.9000   MULBAGAL    KARNATAKA   \n",
       "64300   B08XNHF3KB           Shipped  15.5880  Ahemdabad      Gujarat   \n",
       "35014   B0928XH9S9           Shipped   3.9480  BENGALURU    KARNATAKA   \n",
       "\n",
       "       Codigo_postal              Promocion    B2B    Mes       Dia  \\\n",
       "70951       500001.0           No promocion  False    May  Saturday   \n",
       "121464      411048.0    PLCC Free_Financing  False   June    Monday   \n",
       "96395       563131.0           No promocion  False   June  Saturday   \n",
       "64300       380058.0           No promocion  False    May  Thursday   \n",
       "35014       560037.0  IN Core Free Shipping  False  April  Saturday   \n",
       "\n",
       "        Prop_perdidos  \n",
       "70951       10.526316  \n",
       "121464       0.000000  \n",
       "96395       10.526316  \n",
       "64300       10.526316  \n",
       "35014        5.263158  "
      ]
     },
     "execution_count": 43,
     "metadata": {},
     "output_type": "execute_result"
    }
   ],
   "source": [
    "imput.head()"
   ]
  },
  {
   "cell_type": "code",
   "execution_count": 44,
   "id": "5fc7d353-8f7b-4992-bd96-3468b0acce54",
   "metadata": {
    "scrolled": true
   },
   "outputs": [
    {
     "name": "stdout",
     "output_type": "stream",
     "text": [
      "<class 'pandas.core.frame.DataFrame'>\n",
      "Index: 103170 entries, 70951 to 72815\n",
      "Data columns (total 19 columns):\n",
      " #   Column             Non-Null Count   Dtype   \n",
      "---  ------             --------------   -----   \n",
      " 0   ID_Pedido          103170 non-null  object  \n",
      " 1   Estado_venta       103170 non-null  category\n",
      " 2   Cumplimiento       103170 non-null  category\n",
      " 3   Nivel_servicio     103170 non-null  category\n",
      " 4   Style              103170 non-null  object  \n",
      " 5   SKU                103170 non-null  object  \n",
      " 6   Categoria          103170 non-null  category\n",
      " 7   Talla              103170 non-null  category\n",
      " 8   ASIN               103170 non-null  object  \n",
      " 9   Estado_mensajeria  103170 non-null  category\n",
      " 10  Importe            103170 non-null  float64 \n",
      " 11  Ciudad             103170 non-null  object  \n",
      " 12  Estado             103170 non-null  object  \n",
      " 13  Codigo_postal      103170 non-null  object  \n",
      " 14  Promocion          103170 non-null  category\n",
      " 15  B2B                103170 non-null  category\n",
      " 16  Mes                103170 non-null  category\n",
      " 17  Dia                103170 non-null  category\n",
      " 18  Prop_perdidos      103170 non-null  float64 \n",
      "dtypes: category(10), float64(2), object(7)\n",
      "memory usage: 8.9+ MB\n"
     ]
    }
   ],
   "source": [
    "imput.info()"
   ]
  },
  {
   "cell_type": "markdown",
   "id": "d2456815-0cf2-4302-b2a3-fec64b08df8c",
   "metadata": {},
   "source": [
    "## Análisis gráfico\n",
    "\n",
    "En este caso también vamos a obtener unas visualizaciones gráficas sencillas para saber más acerca de nuestro dataset."
   ]
  },
  {
   "cell_type": "code",
   "execution_count": 45,
   "id": "78866a81-b511-499c-9df1-8ef73b0f83ca",
   "metadata": {},
   "outputs": [
    {
     "data": {
      "image/png": "[encoded data removed]",
      "text/plain": [
       "<Figure size 1400x1000 with 4 Axes>"
      ]
     },
     "metadata": {},
     "output_type": "display_data"
    }
   ],
   "source": [
    "fig, axs = plt.subplots(2, 2, figsize=(14, 10)) \n",
    "\n",
    "# Primer gráfico\n",
    "sns.histplot(data=imput, x='Importe', kde=True, bins=14, ax=axs[0,0])\n",
    "axs[0, 0].set_title('Importe del pedido')\n",
    "axs[0, 0].set_xlabel('Importe')\n",
    "axs[0, 0].set_ylabel('Número de pedidos')\n",
    "axs[0, 0].set_xlim(0, 20)\n",
    "\n",
    "# Segundo gráfico\n",
    "sns.countplot(data=imput, y='Talla', ax=axs[0,1]) \n",
    "axs[0, 1].set_title('Frecuencia de tallas')\n",
    "axs[0, 1].set_ylabel(\"\")\n",
    "axs[0, 1].set_xlabel('Número de pedidos')\n",
    "\n",
    "# Tercer gráfico\n",
    "conteo = imput['Estado_venta'].value_counts()\n",
    "\n",
    "# Crear el gráfico circular\n",
    "axs[1, 0].pie(conteo, labels=conteo.index, autopct='%1.1f%%')\n",
    "axs[1, 0].set_title('Estado de las ventas')\n",
    "\n",
    "# Cuarto gráfico\n",
    "sns.countplot(data=imput, x='Estado_mensajeria', hue= 'Nivel_servicio', ax=axs[1,1])\n",
    "axs[1, 1].set_title('Datos del estado de la mensajería')\n",
    "axs[1, 1].set_ylabel('Número de pedidos')\n",
    "axs[1, 1].set_xlabel('Estado de la mensajería')\n",
    "\n",
    "plt.tight_layout() # función que ajusta los márgenes entre los gráficos\n",
    "\n",
    "plt.show()"
   ]
  },
  {
   "cell_type": "markdown",
   "id": "88e5ab67-6111-4e4c-bc7d-e9fb955f5078",
   "metadata": {},
   "source": [
    "### Transformación de variables a numéricas\n",
    "Vamos a proceder ahora a la codificación de todas las variables, de manera que finalmente nos queden de tipo numérico para poder realizar el posterior modelo con el que realizaremos la predicción. Ya sabemos que hay varias formas de transformar las variables."
   ]
  },
  {
   "cell_type": "code",
   "execution_count": 46,
   "id": "f0ae84be-8875-496c-87d0-6b8b396ff721",
   "metadata": {
    "scrolled": true
   },
   "outputs": [],
   "source": [
    "# ID_Pedido: quitar los guiones, convertir a int usando la biblioteca numpy porque esta soporta números enteros grandes \n",
    "\n",
    "#imput['ID_Pedido'] = imput['ID_Pedido'].str.replace('-','')\n",
    "#imput['ID_Pedido'] = imput['ID_Pedido'].astype(np.int64)"
   ]
  },
  {
   "cell_type": "markdown",
   "id": "82f44371-b3fe-403e-ab5a-548782689c89",
   "metadata": {},
   "source": [
    "* **LabelEncoder()**: creamos una lista con las variables que vamos a codificar a través de esta función y luego recorremos la lista transformando a numérica cada valor gracias a la función ```fit_transform```"
   ]
  },
  {
   "cell_type": "code",
   "execution_count": 47,
   "id": "f193ec2f-7443-41bc-b45a-44776a271254",
   "metadata": {},
   "outputs": [],
   "source": [
    "le = LabelEncoder()\n",
    "variables_le = ['Estado_venta', 'Categoria', 'Promocion', 'Style', 'SKU', 'ASIN']\n",
    "for m in variables_le:\n",
    "    imput[m] = le.fit_transform(imput[m])"
   ]
  },
  {
   "cell_type": "markdown",
   "id": "dc654cf8-601e-422b-8113-3717d2493820",
   "metadata": {},
   "source": [
    "* **map()**: esta función nos permite asignarle un valor númerico personalizado a cada categoría a través de un diccionario. Es importante tener en cuenta que después de asignar estos valores la variable estará preparada para ser convertida a tipo int."
   ]
  },
  {
   "cell_type": "code",
   "execution_count": 48,
   "id": "6f98b7ff-8801-4b63-be4d-c671666c23db",
   "metadata": {},
   "outputs": [],
   "source": [
    "imput['Cumplimiento'] = imput['Cumplimiento'].map({'Amazon': 1, 'Merchant': 0})\n",
    "imput['Nivel_servicio'] = imput['Nivel_servicio'].map({'Expedited': 1, 'Standard': 0})\n",
    "imput['Estado_mensajeria'] = imput['Estado_mensajeria'].map({'Shipped': 1, 'Unshipped': 0, 'Cancelled': 2})\n",
    "#imput['B2B'] = imput['B2B'].map({'True': 1, 'False': 0})"
   ]
  },
  {
   "cell_type": "markdown",
   "id": "0e98dd39-8ea6-41c5-83f0-2114ef90b7a3",
   "metadata": {},
   "source": [
    "* **OrdinalEncoder()**: este método es adecuado para codificar variables categóricas ordinales, donde el orden es un factor importante."
   ]
  },
  {
   "cell_type": "code",
   "execution_count": 49,
   "id": "ac2db340-d4cd-4eef-8fd9-ecb1abe7a3e1",
   "metadata": {},
   "outputs": [],
   "source": [
    "oe = OrdinalEncoder()\n",
    "\n",
    "oe_Dia = OrdinalEncoder(categories=[['Monday','Tuesday','Wednesday','Thursday','Friday','Saturday','Sunday']]) \n",
    "imput['Dia'] = oe.fit_transform(imput[['Dia']])\n",
    "\n",
    "oe_Mes = OrdinalEncoder(categories=[['March','April','May','June']])\n",
    "imput['Mes'] = oe.fit_transform(imput[['Mes']])\n",
    "\n",
    "oe_Talla = OrdinalEncoder(categories=[['S','M','L','XL','XXL','3XL-6XL','Talla_unica']])\n",
    "imput['Talla'] = oe.fit_transform(imput[['Talla']])"
   ]
  },
  {
   "cell_type": "markdown",
   "id": "45dac1ab-9d83-4f5c-a5e2-7cd486f3b2db",
   "metadata": {},
   "source": [
    "* **astype()**: creamos una lista con las variables que vamos a pasar a tipo int con esta función. En esta lista introducimos todas las variables a las que en las celdas anteriores les hemos asignado valores numéricos y el resto de variables que nos quedaban por codificar de nuestro dataset."
   ]
  },
  {
   "cell_type": "code",
   "execution_count": 50,
   "id": "584e9928-9489-401f-9738-ba94a2f8666d",
   "metadata": {},
   "outputs": [],
   "source": [
    "cols_a_int = ['Cumplimiento', 'Nivel_servicio', 'Estado_mensajeria', 'B2B', 'Talla', 'Dia', 'Mes', 'Codigo_postal']\n",
    "cols_a_round = ['Talla', 'Dia', 'Mes', 'Codigo_postal', 'Importe', 'Prop_perdidos']\n",
    "imput[cols_a_round] = imput[cols_a_round].round(2)\n",
    "imput['Codigo_postal'] = imput['Codigo_postal'].replace('Desc', 000000)\n",
    "imput[cols_a_int] = imput[cols_a_int].astype(int)"
   ]
  },
  {
   "cell_type": "markdown",
   "id": "841f2992-9908-4374-baa2-878c4d507158",
   "metadata": {},
   "source": [
    "* **Frequency encoding**: este método consiste en reemplazar cada categoría con el recuento de su frecuencia. Es ideal para aquellas variables que tienen demasiados valores únicos.\n",
    "\n",
    "  Como se ha observado que hay numerosos valores dentro de esta variable que se repiten el mismo número de veces (lo que haría que recibieran el mismo valor numérico) lo que vamos a hacer es agrupar en este caso las ciudades y los estados que tengan un valor único."
   ]
  },
  {
   "cell_type": "code",
   "execution_count": 51,
   "id": "6acb8733-4c7f-46ea-a2a1-da1e103098c9",
   "metadata": {},
   "outputs": [],
   "source": [
    "frecuencia1 = imput['Ciudad'].value_counts()\n",
    "ciudades_valor_unico = frecuencia1[frecuencia1 < 5130]\n",
    "imput['Ciudad'] = imput['Ciudad'].apply(lambda x: 'Otras' if x in ciudades_valor_unico else x)\n",
    "\n",
    "frecuencia2 = imput['Estado'].value_counts()\n",
    "estado_valor_unico = frecuencia2[frecuencia2 < 9946]\n",
    "imput['Estado'] = imput['Estado'].apply(lambda x: 'Otros' if x in estado_valor_unico else x)\n",
    "\n",
    "imput['Ciudad'] = imput['Ciudad'].map(imput['Ciudad'].value_counts())\n",
    "imput['Estado'] = imput['Estado'].map(imput['Estado'].value_counts())"
   ]
  },
  {
   "cell_type": "markdown",
   "id": "62243c91-8bf0-463b-a01f-4c792acecbd1",
   "metadata": {},
   "source": [
    "Observamos el resultado:"
   ]
  },
  {
   "cell_type": "code",
   "execution_count": 52,
   "id": "a99b2550-4f72-4773-9de2-f1971b018440",
   "metadata": {},
   "outputs": [
    {
     "name": "stdout",
     "output_type": "stream",
     "text": [
      "<class 'pandas.core.frame.DataFrame'>\n",
      "Index: 103170 entries, 70951 to 72815\n",
      "Data columns (total 19 columns):\n",
      " #   Column             Non-Null Count   Dtype  \n",
      "---  ------             --------------   -----  \n",
      " 0   ID_Pedido          103170 non-null  object \n",
      " 1   Estado_venta       103170 non-null  int32  \n",
      " 2   Cumplimiento       103170 non-null  int32  \n",
      " 3   Nivel_servicio     103170 non-null  int32  \n",
      " 4   Style              103170 non-null  int32  \n",
      " 5   SKU                103170 non-null  int32  \n",
      " 6   Categoria          103170 non-null  int32  \n",
      " 7   Talla              103170 non-null  int32  \n",
      " 8   ASIN               103170 non-null  int32  \n",
      " 9   Estado_mensajeria  103170 non-null  int32  \n",
      " 10  Importe            103170 non-null  float64\n",
      " 11  Ciudad             103170 non-null  int64  \n",
      " 12  Estado             103170 non-null  int64  \n",
      " 13  Codigo_postal      103170 non-null  int32  \n",
      " 14  Promocion          103170 non-null  int32  \n",
      " 15  B2B                103170 non-null  int32  \n",
      " 16  Mes                103170 non-null  int32  \n",
      " 17  Dia                103170 non-null  int32  \n",
      " 18  Prop_perdidos      103170 non-null  float64\n",
      "dtypes: float64(2), int32(14), int64(2), object(1)\n",
      "memory usage: 10.2+ MB\n"
     ]
    }
   ],
   "source": [
    "imput.info()"
   ]
  },
  {
   "cell_type": "markdown",
   "id": "cf207e52-83f9-4af2-9243-87700b297147",
   "metadata": {},
   "source": [
    "### Datos depurados y codificados, unimos a la target\n",
    "Una vez todos los datos están depurados y codificados, lo que nos queda es unirlos a la target, es decir, a la variable objetivo. Es importante tener en cuenta que hemos eliminado filas para gestionar los missings de la variable *Estado_venta*, por lo que es crucial que eliminemos las mismas filas para la variable objetivo."
   ]
  },
  {
   "cell_type": "code",
   "execution_count": 53,
   "id": "79e591f6-28ed-455b-960b-0aff42c56c10",
   "metadata": {},
   "outputs": [],
   "source": [
    "sale_report_target = sale_report_train\n",
    "sale_report_target.dropna(subset=['Estado_venta'], inplace=True)\n",
    "sale_report_target = sale_report_train[['ID_Pedido', 'Cantidad']]\n",
    "\n",
    "# Guardamos en un excel la target \"Cantidad\" por ID\n",
    "sale_report_target.to_csv('target_sale_report.csv', index = False)"
   ]
  },
  {
   "cell_type": "code",
   "execution_count": 54,
   "id": "ecbde6d9-93ee-4152-9546-a4ad567f0acb",
   "metadata": {
    "scrolled": true
   },
   "outputs": [
    {
     "name": "stdout",
     "output_type": "stream",
     "text": [
      "<class 'pandas.core.frame.DataFrame'>\n",
      "Index: 103170 entries, 70951 to 72815\n",
      "Data columns (total 2 columns):\n",
      " #   Column     Non-Null Count   Dtype \n",
      "---  ------     --------------   ----- \n",
      " 0   ID_Pedido  103170 non-null  object\n",
      " 1   Cantidad   103170 non-null  int64 \n",
      "dtypes: int64(1), object(1)\n",
      "memory usage: 2.4+ MB\n"
     ]
    }
   ],
   "source": [
    "sale_report_target.info()"
   ]
  },
  {
   "cell_type": "markdown",
   "id": "bf2984e8-6f3e-442e-bc2f-fc7061aa9fdc",
   "metadata": {},
   "source": [
    "Juntamos el dataset depurado y el que acabamos de crear con la variable objetivo por ID."
   ]
  },
  {
   "cell_type": "code",
   "execution_count": 55,
   "id": "4f95fd46-d9a3-489b-ba4e-2c9787daa352",
   "metadata": {},
   "outputs": [],
   "source": [
    "training_values_target = pd.merge(imput, sale_report_target, on = \"ID_Pedido\", how = \"left\")"
   ]
  },
  {
   "cell_type": "code",
   "execution_count": 56,
   "id": "647779d3-a753-4438-9950-9a419984e1ea",
   "metadata": {},
   "outputs": [],
   "source": [
    "training_values_target.set_index('ID_Pedido', inplace=True)"
   ]
  },
  {
   "cell_type": "markdown",
   "id": "58108082-9b63-4075-a1c5-24216dd9c232",
   "metadata": {},
   "source": [
    "No nos hace falta codificar la target porque ya es una variable tipo int"
   ]
  },
  {
   "cell_type": "code",
   "execution_count": 57,
   "id": "180fbfac-1abf-454a-9e60-a36b06ba9dfb",
   "metadata": {
    "scrolled": true
   },
   "outputs": [
    {
     "data": {
      "text/html": [
       "<div>\n",
       "<style scoped>\n",
       "    .dataframe tbody tr th:only-of-type {\n",
       "        vertical-align: middle;\n",
       "    }\n",
       "\n",
       "    .dataframe tbody tr th {\n",
       "        vertical-align: top;\n",
       "    }\n",
       "\n",
       "    .dataframe thead th {\n",
       "        text-align: right;\n",
       "    }\n",
       "</style>\n",
       "<table border=\"1\" class=\"dataframe\">\n",
       "  <thead>\n",
       "    <tr style=\"text-align: right;\">\n",
       "      <th></th>\n",
       "      <th>Estado_venta</th>\n",
       "      <th>Cumplimiento</th>\n",
       "      <th>Nivel_servicio</th>\n",
       "      <th>Style</th>\n",
       "      <th>SKU</th>\n",
       "      <th>Categoria</th>\n",
       "      <th>Talla</th>\n",
       "      <th>ASIN</th>\n",
       "      <th>Estado_mensajeria</th>\n",
       "      <th>Importe</th>\n",
       "      <th>Ciudad</th>\n",
       "      <th>Estado</th>\n",
       "      <th>Codigo_postal</th>\n",
       "      <th>Promocion</th>\n",
       "      <th>B2B</th>\n",
       "      <th>Mes</th>\n",
       "      <th>Dia</th>\n",
       "      <th>Prop_perdidos</th>\n",
       "      <th>Cantidad</th>\n",
       "    </tr>\n",
       "    <tr>\n",
       "      <th>ID_Pedido</th>\n",
       "      <th></th>\n",
       "      <th></th>\n",
       "      <th></th>\n",
       "      <th></th>\n",
       "      <th></th>\n",
       "      <th></th>\n",
       "      <th></th>\n",
       "      <th></th>\n",
       "      <th></th>\n",
       "      <th></th>\n",
       "      <th></th>\n",
       "      <th></th>\n",
       "      <th></th>\n",
       "      <th></th>\n",
       "      <th></th>\n",
       "      <th></th>\n",
       "      <th></th>\n",
       "      <th></th>\n",
       "      <th></th>\n",
       "    </tr>\n",
       "  </thead>\n",
       "  <tbody>\n",
       "    <tr>\n",
       "      <th>407-5196240-5441906</th>\n",
       "      <td>0</td>\n",
       "      <td>0</td>\n",
       "      <td>0</td>\n",
       "      <td>177</td>\n",
       "      <td>629</td>\n",
       "      <td>5</td>\n",
       "      <td>5</td>\n",
       "      <td>1608</td>\n",
       "      <td>2</td>\n",
       "      <td>7.46</td>\n",
       "      <td>6408</td>\n",
       "      <td>71492</td>\n",
       "      <td>500001</td>\n",
       "      <td>2</td>\n",
       "      <td>0</td>\n",
       "      <td>3</td>\n",
       "      <td>2</td>\n",
       "      <td>10.53</td>\n",
       "      <td>0</td>\n",
       "    </tr>\n",
       "    <tr>\n",
       "      <th>407-6385365-6840359</th>\n",
       "      <td>3</td>\n",
       "      <td>0</td>\n",
       "      <td>0</td>\n",
       "      <td>231</td>\n",
       "      <td>937</td>\n",
       "      <td>7</td>\n",
       "      <td>1</td>\n",
       "      <td>3970</td>\n",
       "      <td>1</td>\n",
       "      <td>11.47</td>\n",
       "      <td>87822</td>\n",
       "      <td>17871</td>\n",
       "      <td>411048</td>\n",
       "      <td>4</td>\n",
       "      <td>0</td>\n",
       "      <td>1</td>\n",
       "      <td>1</td>\n",
       "      <td>0.00</td>\n",
       "      <td>1</td>\n",
       "    </tr>\n",
       "    <tr>\n",
       "      <th>407-2743590-4420328</th>\n",
       "      <td>4</td>\n",
       "      <td>1</td>\n",
       "      <td>1</td>\n",
       "      <td>112</td>\n",
       "      <td>354</td>\n",
       "      <td>5</td>\n",
       "      <td>1</td>\n",
       "      <td>1262</td>\n",
       "      <td>1</td>\n",
       "      <td>12.90</td>\n",
       "      <td>87822</td>\n",
       "      <td>13807</td>\n",
       "      <td>563131</td>\n",
       "      <td>2</td>\n",
       "      <td>0</td>\n",
       "      <td>1</td>\n",
       "      <td>2</td>\n",
       "      <td>10.53</td>\n",
       "      <td>1</td>\n",
       "    </tr>\n",
       "    <tr>\n",
       "      <th>407-8825783-6029127</th>\n",
       "      <td>4</td>\n",
       "      <td>1</td>\n",
       "      <td>1</td>\n",
       "      <td>299</td>\n",
       "      <td>1302</td>\n",
       "      <td>5</td>\n",
       "      <td>0</td>\n",
       "      <td>2757</td>\n",
       "      <td>1</td>\n",
       "      <td>15.59</td>\n",
       "      <td>87822</td>\n",
       "      <td>71492</td>\n",
       "      <td>380058</td>\n",
       "      <td>2</td>\n",
       "      <td>0</td>\n",
       "      <td>3</td>\n",
       "      <td>4</td>\n",
       "      <td>10.53</td>\n",
       "      <td>1</td>\n",
       "    </tr>\n",
       "    <tr>\n",
       "      <th>405-7659518-2763537</th>\n",
       "      <td>4</td>\n",
       "      <td>1</td>\n",
       "      <td>1</td>\n",
       "      <td>63</td>\n",
       "      <td>138</td>\n",
       "      <td>0</td>\n",
       "      <td>1</td>\n",
       "      <td>3452</td>\n",
       "      <td>1</td>\n",
       "      <td>3.95</td>\n",
       "      <td>8940</td>\n",
       "      <td>13807</td>\n",
       "      <td>560037</td>\n",
       "      <td>1</td>\n",
       "      <td>0</td>\n",
       "      <td>0</td>\n",
       "      <td>2</td>\n",
       "      <td>5.26</td>\n",
       "      <td>1</td>\n",
       "    </tr>\n",
       "    <tr>\n",
       "      <th>...</th>\n",
       "      <td>...</td>\n",
       "      <td>...</td>\n",
       "      <td>...</td>\n",
       "      <td>...</td>\n",
       "      <td>...</td>\n",
       "      <td>...</td>\n",
       "      <td>...</td>\n",
       "      <td>...</td>\n",
       "      <td>...</td>\n",
       "      <td>...</td>\n",
       "      <td>...</td>\n",
       "      <td>...</td>\n",
       "      <td>...</td>\n",
       "      <td>...</td>\n",
       "      <td>...</td>\n",
       "      <td>...</td>\n",
       "      <td>...</td>\n",
       "      <td>...</td>\n",
       "      <td>...</td>\n",
       "    </tr>\n",
       "    <tr>\n",
       "      <th>402-1252447-3033103</th>\n",
       "      <td>4</td>\n",
       "      <td>1</td>\n",
       "      <td>1</td>\n",
       "      <td>282</td>\n",
       "      <td>1203</td>\n",
       "      <td>3</td>\n",
       "      <td>2</td>\n",
       "      <td>3949</td>\n",
       "      <td>1</td>\n",
       "      <td>9.49</td>\n",
       "      <td>87822</td>\n",
       "      <td>71492</td>\n",
       "      <td>751002</td>\n",
       "      <td>1</td>\n",
       "      <td>0</td>\n",
       "      <td>0</td>\n",
       "      <td>6</td>\n",
       "      <td>5.26</td>\n",
       "      <td>1</td>\n",
       "    </tr>\n",
       "    <tr>\n",
       "      <th>406-1854012-5828335</th>\n",
       "      <td>3</td>\n",
       "      <td>0</td>\n",
       "      <td>0</td>\n",
       "      <td>658</td>\n",
       "      <td>3224</td>\n",
       "      <td>8</td>\n",
       "      <td>5</td>\n",
       "      <td>2152</td>\n",
       "      <td>1</td>\n",
       "      <td>6.53</td>\n",
       "      <td>87822</td>\n",
       "      <td>17871</td>\n",
       "      <td>421001</td>\n",
       "      <td>4</td>\n",
       "      <td>0</td>\n",
       "      <td>3</td>\n",
       "      <td>3</td>\n",
       "      <td>0.00</td>\n",
       "      <td>1</td>\n",
       "    </tr>\n",
       "    <tr>\n",
       "      <th>406-9294183-5888310</th>\n",
       "      <td>0</td>\n",
       "      <td>1</td>\n",
       "      <td>1</td>\n",
       "      <td>1221</td>\n",
       "      <td>6174</td>\n",
       "      <td>5</td>\n",
       "      <td>7</td>\n",
       "      <td>4061</td>\n",
       "      <td>2</td>\n",
       "      <td>7.78</td>\n",
       "      <td>87822</td>\n",
       "      <td>71492</td>\n",
       "      <td>201306</td>\n",
       "      <td>2</td>\n",
       "      <td>0</td>\n",
       "      <td>3</td>\n",
       "      <td>4</td>\n",
       "      <td>15.79</td>\n",
       "      <td>0</td>\n",
       "    </tr>\n",
       "    <tr>\n",
       "      <th>406-4933280-8570750</th>\n",
       "      <td>0</td>\n",
       "      <td>1</td>\n",
       "      <td>1</td>\n",
       "      <td>688</td>\n",
       "      <td>3413</td>\n",
       "      <td>8</td>\n",
       "      <td>0</td>\n",
       "      <td>3886</td>\n",
       "      <td>2</td>\n",
       "      <td>7.78</td>\n",
       "      <td>87822</td>\n",
       "      <td>71492</td>\n",
       "      <td>600088</td>\n",
       "      <td>2</td>\n",
       "      <td>0</td>\n",
       "      <td>1</td>\n",
       "      <td>0</td>\n",
       "      <td>15.79</td>\n",
       "      <td>0</td>\n",
       "    </tr>\n",
       "    <tr>\n",
       "      <th>403-1953339-4696307</th>\n",
       "      <td>4</td>\n",
       "      <td>1</td>\n",
       "      <td>1</td>\n",
       "      <td>522</td>\n",
       "      <td>2528</td>\n",
       "      <td>8</td>\n",
       "      <td>3</td>\n",
       "      <td>633</td>\n",
       "      <td>1</td>\n",
       "      <td>4.24</td>\n",
       "      <td>87822</td>\n",
       "      <td>71492</td>\n",
       "      <td>700107</td>\n",
       "      <td>2</td>\n",
       "      <td>0</td>\n",
       "      <td>3</td>\n",
       "      <td>4</td>\n",
       "      <td>10.53</td>\n",
       "      <td>1</td>\n",
       "    </tr>\n",
       "  </tbody>\n",
       "</table>\n",
       "<p>117608 rows × 19 columns</p>\n",
       "</div>"
      ],
      "text/plain": [
       "                     Estado_venta  Cumplimiento  Nivel_servicio  Style   SKU  \\\n",
       "ID_Pedido                                                                      \n",
       "407-5196240-5441906             0             0               0    177   629   \n",
       "407-6385365-6840359             3             0               0    231   937   \n",
       "407-2743590-4420328             4             1               1    112   354   \n",
       "407-8825783-6029127             4             1               1    299  1302   \n",
       "405-7659518-2763537             4             1               1     63   138   \n",
       "...                           ...           ...             ...    ...   ...   \n",
       "402-1252447-3033103             4             1               1    282  1203   \n",
       "406-1854012-5828335             3             0               0    658  3224   \n",
       "406-9294183-5888310             0             1               1   1221  6174   \n",
       "406-4933280-8570750             0             1               1    688  3413   \n",
       "403-1953339-4696307             4             1               1    522  2528   \n",
       "\n",
       "                     Categoria  Talla  ASIN  Estado_mensajeria  Importe  \\\n",
       "ID_Pedido                                                                 \n",
       "407-5196240-5441906          5      5  1608                  2     7.46   \n",
       "407-6385365-6840359          7      1  3970                  1    11.47   \n",
       "407-2743590-4420328          5      1  1262                  1    12.90   \n",
       "407-8825783-6029127          5      0  2757                  1    15.59   \n",
       "405-7659518-2763537          0      1  3452                  1     3.95   \n",
       "...                        ...    ...   ...                ...      ...   \n",
       "402-1252447-3033103          3      2  3949                  1     9.49   \n",
       "406-1854012-5828335          8      5  2152                  1     6.53   \n",
       "406-9294183-5888310          5      7  4061                  2     7.78   \n",
       "406-4933280-8570750          8      0  3886                  2     7.78   \n",
       "403-1953339-4696307          8      3   633                  1     4.24   \n",
       "\n",
       "                     Ciudad  Estado  Codigo_postal  Promocion  B2B  Mes  Dia  \\\n",
       "ID_Pedido                                                                      \n",
       "407-5196240-5441906    6408   71492         500001          2    0    3    2   \n",
       "407-6385365-6840359   87822   17871         411048          4    0    1    1   \n",
       "407-2743590-4420328   87822   13807         563131          2    0    1    2   \n",
       "407-8825783-6029127   87822   71492         380058          2    0    3    4   \n",
       "405-7659518-2763537    8940   13807         560037          1    0    0    2   \n",
       "...                     ...     ...            ...        ...  ...  ...  ...   \n",
       "402-1252447-3033103   87822   71492         751002          1    0    0    6   \n",
       "406-1854012-5828335   87822   17871         421001          4    0    3    3   \n",
       "406-9294183-5888310   87822   71492         201306          2    0    3    4   \n",
       "406-4933280-8570750   87822   71492         600088          2    0    1    0   \n",
       "403-1953339-4696307   87822   71492         700107          2    0    3    4   \n",
       "\n",
       "                     Prop_perdidos  Cantidad  \n",
       "ID_Pedido                                     \n",
       "407-5196240-5441906          10.53         0  \n",
       "407-6385365-6840359           0.00         1  \n",
       "407-2743590-4420328          10.53         1  \n",
       "407-8825783-6029127          10.53         1  \n",
       "405-7659518-2763537           5.26         1  \n",
       "...                            ...       ...  \n",
       "402-1252447-3033103           5.26         1  \n",
       "406-1854012-5828335           0.00         1  \n",
       "406-9294183-5888310          15.79         0  \n",
       "406-4933280-8570750          15.79         0  \n",
       "403-1953339-4696307          10.53         1  \n",
       "\n",
       "[117608 rows x 19 columns]"
      ]
     },
     "execution_count": 57,
     "metadata": {},
     "output_type": "execute_result"
    }
   ],
   "source": [
    "training_values_target"
   ]
  },
  {
   "cell_type": "markdown",
   "id": "0b954b31-409f-4363-be51-492835fb3a78",
   "metadata": {},
   "source": [
    "**Se guardan los datos preprocesados en un csv**"
   ]
  },
  {
   "cell_type": "code",
   "execution_count": 58,
   "id": "9e42df0b-74c9-46ac-847e-c292d4983636",
   "metadata": {},
   "outputs": [],
   "source": [
    "training_values_target.to_csv(\"C:\\\\Users\\\\danie\\\\Desktop\\\\TFM\\\\TFM-Reproducible\\\\Sale Report\\\\procesado\\\\salereport_train_preprocessed.csv\", index= False)"
   ]
  },
  {
   "cell_type": "markdown",
   "id": "d0a5d77c-65bd-4f42-89aa-b10f5167fc2c",
   "metadata": {},
   "source": [
    "## Depuración de los datos test"
   ]
  },
  {
   "cell_type": "markdown",
   "id": "0e9c58cf-6849-4f0b-bb40-84b399b97f14",
   "metadata": {},
   "source": [
    "Antes de realizar el modelo de predicción debemos depurar los datos de test tal y como hemos depurado los datos de entrenamiento. Para ello cargamos el excel donde se han guardado los datos y repetimos todo el proceso."
   ]
  },
  {
   "cell_type": "code",
   "execution_count": 59,
   "id": "e10ae069-7403-4c9a-a06d-8100f1de78e3",
   "metadata": {},
   "outputs": [],
   "source": [
    "sale_report_test.rename({'Order ID': 'ID_Pedido', 'Date': 'Fecha', 'Status': 'Estado_venta', 'Fulfilment': 'Cumplimiento', \n",
    "                    'Sales Channel ': 'Canal_venta', 'ship-service-level': 'Nivel_servicio', 'Style': 'Style', \n",
    "                    'SKU': 'SKU', 'Category': 'Categoria', 'Size': 'Talla', 'ASIN': 'ASIN', \n",
    "                    'Courier Status': 'Estado_mensajeria', 'Qty': 'Cantidad', 'currency': 'Divisa', 'Amount':'Importe',\n",
    "                    'ship-city':'Ciudad', 'ship-state': 'Estado', 'ship-postal-code': 'Codigo_postal', 'ship-country': 'Pais',\n",
    "                    'promotion-ids': 'Promocion', 'B2B': 'B2B', 'fulfilled-by': 'Cumplido_por'}, axis=1, inplace= True)"
   ]
  },
  {
   "cell_type": "code",
   "execution_count": 60,
   "id": "7880d009-3024-44d6-ad80-3f6867da7c6d",
   "metadata": {
    "scrolled": true
   },
   "outputs": [
    {
     "data": {
      "text/html": [
       "<div>\n",
       "<style scoped>\n",
       "    .dataframe tbody tr th:only-of-type {\n",
       "        vertical-align: middle;\n",
       "    }\n",
       "\n",
       "    .dataframe tbody tr th {\n",
       "        vertical-align: top;\n",
       "    }\n",
       "\n",
       "    .dataframe thead th {\n",
       "        text-align: right;\n",
       "    }\n",
       "</style>\n",
       "<table border=\"1\" class=\"dataframe\">\n",
       "  <thead>\n",
       "    <tr style=\"text-align: right;\">\n",
       "      <th></th>\n",
       "      <th>index</th>\n",
       "      <th>ID_Pedido</th>\n",
       "      <th>Fecha</th>\n",
       "      <th>Estado_venta</th>\n",
       "      <th>Cumplimiento</th>\n",
       "      <th>Canal_venta</th>\n",
       "      <th>Nivel_servicio</th>\n",
       "      <th>Style</th>\n",
       "      <th>SKU</th>\n",
       "      <th>Categoria</th>\n",
       "      <th>...</th>\n",
       "      <th>Divisa</th>\n",
       "      <th>Importe</th>\n",
       "      <th>Ciudad</th>\n",
       "      <th>Estado</th>\n",
       "      <th>Codigo_postal</th>\n",
       "      <th>Pais</th>\n",
       "      <th>Promocion</th>\n",
       "      <th>B2B</th>\n",
       "      <th>Cumplido_por</th>\n",
       "      <th>Unnamed: 22</th>\n",
       "    </tr>\n",
       "  </thead>\n",
       "  <tbody>\n",
       "    <tr>\n",
       "      <th>76504</th>\n",
       "      <td>76504</td>\n",
       "      <td>402-0424416-5169145</td>\n",
       "      <td>05-09-22</td>\n",
       "      <td>Shipped</td>\n",
       "      <td>Amazon</td>\n",
       "      <td>Amazon.in</td>\n",
       "      <td>Expedited</td>\n",
       "      <td>JNE2205</td>\n",
       "      <td>JNE2205-KR-467-A-XXXL</td>\n",
       "      <td>kurta</td>\n",
       "      <td>...</td>\n",
       "      <td>INR</td>\n",
       "      <td>356.0</td>\n",
       "      <td>VISAKHAPATNAM</td>\n",
       "      <td>ANDHRA PRADESH</td>\n",
       "      <td>530013.0</td>\n",
       "      <td>IN</td>\n",
       "      <td>NaN</td>\n",
       "      <td>False</td>\n",
       "      <td>NaN</td>\n",
       "      <td>False</td>\n",
       "    </tr>\n",
       "    <tr>\n",
       "      <th>32185</th>\n",
       "      <td>32185</td>\n",
       "      <td>404-6920467-2129930</td>\n",
       "      <td>04-11-22</td>\n",
       "      <td>Shipped - Delivered to Buyer</td>\n",
       "      <td>Merchant</td>\n",
       "      <td>Amazon.in</td>\n",
       "      <td>Standard</td>\n",
       "      <td>JNE3546</td>\n",
       "      <td>JNE3546-KR-L</td>\n",
       "      <td>kurta</td>\n",
       "      <td>...</td>\n",
       "      <td>INR</td>\n",
       "      <td>458.0</td>\n",
       "      <td>PUNE</td>\n",
       "      <td>MAHARASHTRA</td>\n",
       "      <td>411043.0</td>\n",
       "      <td>IN</td>\n",
       "      <td>Amazon PLCC Free-Financing Universal Merchant ...</td>\n",
       "      <td>False</td>\n",
       "      <td>Easy Ship</td>\n",
       "      <td>NaN</td>\n",
       "    </tr>\n",
       "    <tr>\n",
       "      <th>102139</th>\n",
       "      <td>102139</td>\n",
       "      <td>404-3958319-2885914</td>\n",
       "      <td>06-20-22</td>\n",
       "      <td>Shipped - Delivered to Buyer</td>\n",
       "      <td>Merchant</td>\n",
       "      <td>Amazon.in</td>\n",
       "      <td>Standard</td>\n",
       "      <td>J0152</td>\n",
       "      <td>J0152-DR-L</td>\n",
       "      <td>Western Dress</td>\n",
       "      <td>...</td>\n",
       "      <td>INR</td>\n",
       "      <td>845.0</td>\n",
       "      <td>CHENNAI</td>\n",
       "      <td>TAMIL NADU</td>\n",
       "      <td>600020.0</td>\n",
       "      <td>IN</td>\n",
       "      <td>Amazon PLCC Free-Financing Universal Merchant ...</td>\n",
       "      <td>False</td>\n",
       "      <td>Easy Ship</td>\n",
       "      <td>False</td>\n",
       "    </tr>\n",
       "    <tr>\n",
       "      <th>37170</th>\n",
       "      <td>37170</td>\n",
       "      <td>405-4580013-5361162</td>\n",
       "      <td>04-08-22</td>\n",
       "      <td>Shipped</td>\n",
       "      <td>Amazon</td>\n",
       "      <td>Amazon.in</td>\n",
       "      <td>Expedited</td>\n",
       "      <td>JNE3399</td>\n",
       "      <td>JNE3399-KR-XS</td>\n",
       "      <td>kurta</td>\n",
       "      <td>...</td>\n",
       "      <td>INR</td>\n",
       "      <td>435.0</td>\n",
       "      <td>SALEM</td>\n",
       "      <td>TAMIL NADU</td>\n",
       "      <td>636001.0</td>\n",
       "      <td>IN</td>\n",
       "      <td>NaN</td>\n",
       "      <td>False</td>\n",
       "      <td>NaN</td>\n",
       "      <td>NaN</td>\n",
       "    </tr>\n",
       "    <tr>\n",
       "      <th>14578</th>\n",
       "      <td>14578</td>\n",
       "      <td>404-2737275-5447529</td>\n",
       "      <td>04-21-22</td>\n",
       "      <td>Shipped</td>\n",
       "      <td>Amazon</td>\n",
       "      <td>Amazon.in</td>\n",
       "      <td>Expedited</td>\n",
       "      <td>JNE3613</td>\n",
       "      <td>JNE3613-KR-L</td>\n",
       "      <td>kurta</td>\n",
       "      <td>...</td>\n",
       "      <td>INR</td>\n",
       "      <td>399.0</td>\n",
       "      <td>DALTONGANJ</td>\n",
       "      <td>JHARKHAND</td>\n",
       "      <td>822101.0</td>\n",
       "      <td>IN</td>\n",
       "      <td>IN Core Free Shipping 2015/04/08 23-48-5-108</td>\n",
       "      <td>False</td>\n",
       "      <td>NaN</td>\n",
       "      <td>NaN</td>\n",
       "    </tr>\n",
       "  </tbody>\n",
       "</table>\n",
       "<p>5 rows × 24 columns</p>\n",
       "</div>"
      ],
      "text/plain": [
       "         index            ID_Pedido     Fecha                  Estado_venta  \\\n",
       "76504    76504  402-0424416-5169145  05-09-22                       Shipped   \n",
       "32185    32185  404-6920467-2129930  04-11-22  Shipped - Delivered to Buyer   \n",
       "102139  102139  404-3958319-2885914  06-20-22  Shipped - Delivered to Buyer   \n",
       "37170    37170  405-4580013-5361162  04-08-22                       Shipped   \n",
       "14578    14578  404-2737275-5447529  04-21-22                       Shipped   \n",
       "\n",
       "       Cumplimiento Canal_venta Nivel_servicio    Style  \\\n",
       "76504        Amazon   Amazon.in      Expedited  JNE2205   \n",
       "32185      Merchant   Amazon.in       Standard  JNE3546   \n",
       "102139     Merchant   Amazon.in       Standard    J0152   \n",
       "37170        Amazon   Amazon.in      Expedited  JNE3399   \n",
       "14578        Amazon   Amazon.in      Expedited  JNE3613   \n",
       "\n",
       "                          SKU      Categoria  ... Divisa Importe  \\\n",
       "76504   JNE2205-KR-467-A-XXXL          kurta  ...    INR   356.0   \n",
       "32185            JNE3546-KR-L          kurta  ...    INR   458.0   \n",
       "102139             J0152-DR-L  Western Dress  ...    INR   845.0   \n",
       "37170           JNE3399-KR-XS          kurta  ...    INR   435.0   \n",
       "14578            JNE3613-KR-L          kurta  ...    INR   399.0   \n",
       "\n",
       "               Ciudad          Estado Codigo_postal  Pais  \\\n",
       "76504   VISAKHAPATNAM  ANDHRA PRADESH      530013.0    IN   \n",
       "32185            PUNE     MAHARASHTRA      411043.0    IN   \n",
       "102139        CHENNAI      TAMIL NADU      600020.0    IN   \n",
       "37170           SALEM      TAMIL NADU      636001.0    IN   \n",
       "14578      DALTONGANJ       JHARKHAND      822101.0    IN   \n",
       "\n",
       "                                                Promocion    B2B  \\\n",
       "76504                                                 NaN  False   \n",
       "32185   Amazon PLCC Free-Financing Universal Merchant ...  False   \n",
       "102139  Amazon PLCC Free-Financing Universal Merchant ...  False   \n",
       "37170                                                 NaN  False   \n",
       "14578        IN Core Free Shipping 2015/04/08 23-48-5-108  False   \n",
       "\n",
       "        Cumplido_por Unnamed: 22  \n",
       "76504            NaN       False  \n",
       "32185      Easy Ship         NaN  \n",
       "102139     Easy Ship       False  \n",
       "37170            NaN         NaN  \n",
       "14578            NaN         NaN  \n",
       "\n",
       "[5 rows x 24 columns]"
      ]
     },
     "execution_count": 60,
     "metadata": {},
     "output_type": "execute_result"
    }
   ],
   "source": [
    "sale_report_test.head()"
   ]
  },
  {
   "cell_type": "code",
   "execution_count": 61,
   "id": "d463baad-82da-4795-9cdf-5cd57c1f47f4",
   "metadata": {
    "scrolled": true
   },
   "outputs": [
    {
     "name": "stdout",
     "output_type": "stream",
     "text": [
      "<class 'pandas.core.frame.DataFrame'>\n",
      "Index: 25795 entries, 76504 to 31685\n",
      "Data columns (total 24 columns):\n",
      " #   Column             Non-Null Count  Dtype  \n",
      "---  ------             --------------  -----  \n",
      " 0   index              25795 non-null  int64  \n",
      " 1   ID_Pedido          25795 non-null  object \n",
      " 2   Fecha              25795 non-null  object \n",
      " 3   Estado_venta       25795 non-null  object \n",
      " 4   Cumplimiento       25795 non-null  object \n",
      " 5   Canal_venta        25795 non-null  object \n",
      " 6   Nivel_servicio     25795 non-null  object \n",
      " 7   Style              25795 non-null  object \n",
      " 8   SKU                25795 non-null  object \n",
      " 9   Categoria          25795 non-null  object \n",
      " 10  Talla              25795 non-null  object \n",
      " 11  ASIN               25795 non-null  object \n",
      " 12  Estado_mensajeria  24465 non-null  object \n",
      " 13  Cantidad           25795 non-null  int64  \n",
      " 14  Divisa             24222 non-null  object \n",
      " 15  Importe            24222 non-null  float64\n",
      " 16  Ciudad             25790 non-null  object \n",
      " 17  Estado             25790 non-null  object \n",
      " 18  Codigo_postal      25790 non-null  float64\n",
      " 19  Pais               25790 non-null  object \n",
      " 20  Promocion          16070 non-null  object \n",
      " 21  B2B                25795 non-null  bool   \n",
      " 22  Cumplido_por       7829 non-null   object \n",
      " 23  Unnamed: 22        16001 non-null  object \n",
      "dtypes: bool(1), float64(2), int64(2), object(19)\n",
      "memory usage: 4.7+ MB\n"
     ]
    }
   ],
   "source": [
    "sale_report_test.info()"
   ]
  },
  {
   "cell_type": "code",
   "execution_count": 62,
   "id": "8c22f53b-5ffe-454f-b6c9-0fc22dbcea93",
   "metadata": {},
   "outputs": [
    {
     "data": {
      "text/plain": [
       "index                25795\n",
       "ID_Pedido            25393\n",
       "Fecha                   91\n",
       "Estado_venta            13\n",
       "Cumplimiento             2\n",
       "Canal_venta              2\n",
       "Nivel_servicio           2\n",
       "Style                 1169\n",
       "SKU                   5137\n",
       "Categoria                9\n",
       "Talla                   11\n",
       "ASIN                  5134\n",
       "Estado_mensajeria        3\n",
       "Cantidad                 6\n",
       "Divisa                   1\n",
       "Importe                977\n",
       "Ciudad                3765\n",
       "Estado                  50\n",
       "Codigo_postal         5343\n",
       "Pais                     1\n",
       "Promocion             2448\n",
       "B2B                      2\n",
       "Cumplido_por             1\n",
       "Unnamed: 22              1\n",
       "dtype: int64"
      ]
     },
     "execution_count": 62,
     "metadata": {},
     "output_type": "execute_result"
    }
   ],
   "source": [
    "sale_report_test.nunique()"
   ]
  },
  {
   "cell_type": "code",
   "execution_count": 63,
   "id": "9f801c0d-faa4-40dd-a95b-0bdff51021cf",
   "metadata": {},
   "outputs": [],
   "source": [
    "sale_report_test.drop(columns = [\"index\", \"Divisa\", \"Canal_venta\", \"Pais\", \"Unnamed: 22\"], inplace = True)"
   ]
  },
  {
   "cell_type": "code",
   "execution_count": 64,
   "id": "ea8fd217-6029-42cf-a6c9-460a3e5c0114",
   "metadata": {},
   "outputs": [],
   "source": [
    "sale_report_test[\"Fecha\"] = pd.to_datetime(sale_report_test[\"Fecha\"])\n",
    "\n",
    "sale_report_test[\"Mes\"] = sale_report_test.Fecha.apply(lambda x: x.strftime(\"%B\"))\n",
    "sale_report_test[\"Dia\"] = sale_report_test.Fecha.apply(lambda x: x.strftime(\"%A\"))\n",
    "sale_report_test[\"Año\"] = sale_report_test.Fecha.apply(lambda x: x.strftime(\"%Y\"))\n",
    "sale_report_test[\"Año\"] = sale_report_test[\"Año\"].astype(np.int64)\n",
    "\n",
    "sale_report_test.drop(columns = [\"Fecha\", \"Año\"], inplace = True)"
   ]
  },
  {
   "cell_type": "code",
   "execution_count": 65,
   "id": "1aef3f67-1496-4007-84fc-72cff7da93fc",
   "metadata": {},
   "outputs": [
    {
     "data": {
      "text/plain": [
       "['Estado_venta',\n",
       " 'Cumplimiento',\n",
       " 'Nivel_servicio',\n",
       " 'Categoria',\n",
       " 'Talla',\n",
       " 'Estado_mensajeria',\n",
       " 'Cantidad',\n",
       " 'B2B',\n",
       " 'Cumplido_por',\n",
       " 'Mes',\n",
       " 'Dia']"
      ]
     },
     "execution_count": 65,
     "metadata": {},
     "output_type": "execute_result"
    }
   ],
   "source": [
    "categorical = list(sale_report_test.loc[:,sale_report_test.nunique() <= 13]);  \n",
    "categorical"
   ]
  },
  {
   "cell_type": "code",
   "execution_count": 66,
   "id": "146bb995-a6f4-40e2-8feb-e52b6135eb3e",
   "metadata": {},
   "outputs": [],
   "source": [
    "del categorical[6]\n",
    "\n",
    "for column in categorical:\n",
    "    sale_report_test[column] = sale_report_test[column].astype('category')"
   ]
  },
  {
   "cell_type": "code",
   "execution_count": 67,
   "id": "54a9c3ff-74a8-4037-b53a-592ec6643c2e",
   "metadata": {},
   "outputs": [],
   "source": [
    "sale_report_test['Codigo_postal'] = sale_report_test['Codigo_postal'].astype('object')"
   ]
  },
  {
   "cell_type": "code",
   "execution_count": 68,
   "id": "8dbf0a8f-129a-4c87-b754-8c9edbd5df2b",
   "metadata": {},
   "outputs": [
    {
     "name": "stdout",
     "output_type": "stream",
     "text": [
      "<class 'pandas.core.frame.DataFrame'>\n",
      "Index: 25795 entries, 76504 to 31685\n",
      "Data columns (total 20 columns):\n",
      " #   Column             Non-Null Count  Dtype   \n",
      "---  ------             --------------  -----   \n",
      " 0   ID_Pedido          25795 non-null  object  \n",
      " 1   Estado_venta       25795 non-null  category\n",
      " 2   Cumplimiento       25795 non-null  category\n",
      " 3   Nivel_servicio     25795 non-null  category\n",
      " 4   Style              25795 non-null  object  \n",
      " 5   SKU                25795 non-null  object  \n",
      " 6   Categoria          25795 non-null  category\n",
      " 7   Talla              25795 non-null  category\n",
      " 8   ASIN               25795 non-null  object  \n",
      " 9   Estado_mensajeria  24465 non-null  category\n",
      " 10  Cantidad           25795 non-null  int64   \n",
      " 11  Importe            24222 non-null  float64 \n",
      " 12  Ciudad             25790 non-null  object  \n",
      " 13  Estado             25790 non-null  object  \n",
      " 14  Codigo_postal      25790 non-null  object  \n",
      " 15  Promocion          16070 non-null  object  \n",
      " 16  B2B                25795 non-null  category\n",
      " 17  Cumplido_por       7829 non-null   category\n",
      " 18  Mes                25795 non-null  category\n",
      " 19  Dia                25795 non-null  category\n",
      "dtypes: category(10), float64(1), int64(1), object(8)\n",
      "memory usage: 2.4+ MB\n"
     ]
    },
    {
     "data": {
      "text/html": [
       "<div>\n",
       "<style scoped>\n",
       "    .dataframe tbody tr th:only-of-type {\n",
       "        vertical-align: middle;\n",
       "    }\n",
       "\n",
       "    .dataframe tbody tr th {\n",
       "        vertical-align: top;\n",
       "    }\n",
       "\n",
       "    .dataframe thead th {\n",
       "        text-align: right;\n",
       "    }\n",
       "</style>\n",
       "<table border=\"1\" class=\"dataframe\">\n",
       "  <thead>\n",
       "    <tr style=\"text-align: right;\">\n",
       "      <th></th>\n",
       "      <th>ID_Pedido</th>\n",
       "      <th>Estado_venta</th>\n",
       "      <th>Cumplimiento</th>\n",
       "      <th>Nivel_servicio</th>\n",
       "      <th>Style</th>\n",
       "      <th>SKU</th>\n",
       "      <th>Categoria</th>\n",
       "      <th>Talla</th>\n",
       "      <th>ASIN</th>\n",
       "      <th>Estado_mensajeria</th>\n",
       "      <th>Ciudad</th>\n",
       "      <th>Estado</th>\n",
       "      <th>Codigo_postal</th>\n",
       "      <th>Promocion</th>\n",
       "      <th>B2B</th>\n",
       "      <th>Cumplido_por</th>\n",
       "      <th>Mes</th>\n",
       "      <th>Dia</th>\n",
       "    </tr>\n",
       "  </thead>\n",
       "  <tbody>\n",
       "    <tr>\n",
       "      <th>count</th>\n",
       "      <td>25795</td>\n",
       "      <td>25795</td>\n",
       "      <td>25795</td>\n",
       "      <td>25795</td>\n",
       "      <td>25795</td>\n",
       "      <td>25795</td>\n",
       "      <td>25795</td>\n",
       "      <td>25795</td>\n",
       "      <td>25795</td>\n",
       "      <td>24465</td>\n",
       "      <td>25790</td>\n",
       "      <td>25790</td>\n",
       "      <td>25790.0</td>\n",
       "      <td>16070</td>\n",
       "      <td>25795</td>\n",
       "      <td>7829</td>\n",
       "      <td>25795</td>\n",
       "      <td>25795</td>\n",
       "    </tr>\n",
       "    <tr>\n",
       "      <th>unique</th>\n",
       "      <td>25393</td>\n",
       "      <td>13</td>\n",
       "      <td>2</td>\n",
       "      <td>2</td>\n",
       "      <td>1169</td>\n",
       "      <td>5137</td>\n",
       "      <td>9</td>\n",
       "      <td>11</td>\n",
       "      <td>5134</td>\n",
       "      <td>3</td>\n",
       "      <td>3765</td>\n",
       "      <td>50</td>\n",
       "      <td>5343.0</td>\n",
       "      <td>2448</td>\n",
       "      <td>2</td>\n",
       "      <td>1</td>\n",
       "      <td>4</td>\n",
       "      <td>7</td>\n",
       "    </tr>\n",
       "    <tr>\n",
       "      <th>top</th>\n",
       "      <td>171-9095417-7292313</td>\n",
       "      <td>Shipped</td>\n",
       "      <td>Amazon</td>\n",
       "      <td>Expedited</td>\n",
       "      <td>JNE3797</td>\n",
       "      <td>JNE3797-KR-L</td>\n",
       "      <td>Set</td>\n",
       "      <td>M</td>\n",
       "      <td>B09SDXFFQ1</td>\n",
       "      <td>Shipped</td>\n",
       "      <td>BENGALURU</td>\n",
       "      <td>MAHARASHTRA</td>\n",
       "      <td>201301.0</td>\n",
       "      <td>IN Core Free Shipping 2015/04/08 23-48-5-108</td>\n",
       "      <td>False</td>\n",
       "      <td>Easy Ship</td>\n",
       "      <td>April</td>\n",
       "      <td>Sunday</td>\n",
       "    </tr>\n",
       "    <tr>\n",
       "      <th>freq</th>\n",
       "      <td>4</td>\n",
       "      <td>15598</td>\n",
       "      <td>17966</td>\n",
       "      <td>17773</td>\n",
       "      <td>872</td>\n",
       "      <td>149</td>\n",
       "      <td>9993</td>\n",
       "      <td>4592</td>\n",
       "      <td>149</td>\n",
       "      <td>21971</td>\n",
       "      <td>2276</td>\n",
       "      <td>4388</td>\n",
       "      <td>192.0</td>\n",
       "      <td>9301</td>\n",
       "      <td>25627</td>\n",
       "      <td>7829</td>\n",
       "      <td>9794</td>\n",
       "      <td>3947</td>\n",
       "    </tr>\n",
       "  </tbody>\n",
       "</table>\n",
       "</div>"
      ],
      "text/plain": [
       "                  ID_Pedido Estado_venta Cumplimiento Nivel_servicio    Style  \\\n",
       "count                 25795        25795        25795          25795    25795   \n",
       "unique                25393           13            2              2     1169   \n",
       "top     171-9095417-7292313      Shipped       Amazon      Expedited  JNE3797   \n",
       "freq                      4        15598        17966          17773      872   \n",
       "\n",
       "                 SKU Categoria  Talla        ASIN Estado_mensajeria  \\\n",
       "count          25795     25795  25795       25795             24465   \n",
       "unique          5137         9     11        5134                 3   \n",
       "top     JNE3797-KR-L       Set      M  B09SDXFFQ1           Shipped   \n",
       "freq             149      9993   4592         149             21971   \n",
       "\n",
       "           Ciudad       Estado  Codigo_postal  \\\n",
       "count       25790        25790        25790.0   \n",
       "unique       3765           50         5343.0   \n",
       "top     BENGALURU  MAHARASHTRA       201301.0   \n",
       "freq         2276         4388          192.0   \n",
       "\n",
       "                                           Promocion    B2B Cumplido_por  \\\n",
       "count                                          16070  25795         7829   \n",
       "unique                                          2448      2            1   \n",
       "top     IN Core Free Shipping 2015/04/08 23-48-5-108  False    Easy Ship   \n",
       "freq                                            9301  25627         7829   \n",
       "\n",
       "          Mes     Dia  \n",
       "count   25795   25795  \n",
       "unique      4       7  \n",
       "top     April  Sunday  \n",
       "freq     9794    3947  "
      ]
     },
     "execution_count": 68,
     "metadata": {},
     "output_type": "execute_result"
    }
   ],
   "source": [
    "sale_report_test.info()\n",
    "sale_report_test.describe(exclude=np.number)"
   ]
  },
  {
   "cell_type": "code",
   "execution_count": 69,
   "id": "61acd49f-c703-447f-a0b0-c8dbb5b70d35",
   "metadata": {},
   "outputs": [],
   "source": [
    "sale_report_test['Importe'] = sale_report_test['Importe'].apply(lambda x: x * 0.012)"
   ]
  },
  {
   "cell_type": "markdown",
   "id": "5bec6735-856d-4986-b8a8-f20015dcd0bf",
   "metadata": {},
   "source": [
    "Esta vez usaremos el ```describe()``` con las variables númericas, que nos informará sobre cuartiles, media, máximos... "
   ]
  },
  {
   "cell_type": "code",
   "execution_count": 70,
   "id": "5202a23f-a02d-4ffd-96df-869adfc22bb6",
   "metadata": {},
   "outputs": [
    {
     "data": {
      "text/html": [
       "<div>\n",
       "<style scoped>\n",
       "    .dataframe tbody tr th:only-of-type {\n",
       "        vertical-align: middle;\n",
       "    }\n",
       "\n",
       "    .dataframe tbody tr th {\n",
       "        vertical-align: top;\n",
       "    }\n",
       "\n",
       "    .dataframe thead th {\n",
       "        text-align: right;\n",
       "    }\n",
       "</style>\n",
       "<table border=\"1\" class=\"dataframe\">\n",
       "  <thead>\n",
       "    <tr style=\"text-align: right;\">\n",
       "      <th></th>\n",
       "      <th>Cantidad</th>\n",
       "      <th>Importe</th>\n",
       "    </tr>\n",
       "  </thead>\n",
       "  <tbody>\n",
       "    <tr>\n",
       "      <th>count</th>\n",
       "      <td>25795.000000</td>\n",
       "      <td>24222.000000</td>\n",
       "    </tr>\n",
       "    <tr>\n",
       "      <th>mean</th>\n",
       "      <td>0.905563</td>\n",
       "      <td>7.784285</td>\n",
       "    </tr>\n",
       "    <tr>\n",
       "      <th>std</th>\n",
       "      <td>0.318339</td>\n",
       "      <td>3.356434</td>\n",
       "    </tr>\n",
       "    <tr>\n",
       "      <th>min</th>\n",
       "      <td>0.000000</td>\n",
       "      <td>0.000000</td>\n",
       "    </tr>\n",
       "    <tr>\n",
       "      <th>25%</th>\n",
       "      <td>1.000000</td>\n",
       "      <td>5.388000</td>\n",
       "    </tr>\n",
       "    <tr>\n",
       "      <th>50%</th>\n",
       "      <td>1.000000</td>\n",
       "      <td>7.258560</td>\n",
       "    </tr>\n",
       "    <tr>\n",
       "      <th>75%</th>\n",
       "      <td>1.000000</td>\n",
       "      <td>9.456000</td>\n",
       "    </tr>\n",
       "    <tr>\n",
       "      <th>max</th>\n",
       "      <td>15.000000</td>\n",
       "      <td>32.376000</td>\n",
       "    </tr>\n",
       "  </tbody>\n",
       "</table>\n",
       "</div>"
      ],
      "text/plain": [
       "           Cantidad       Importe\n",
       "count  25795.000000  24222.000000\n",
       "mean       0.905563      7.784285\n",
       "std        0.318339      3.356434\n",
       "min        0.000000      0.000000\n",
       "25%        1.000000      5.388000\n",
       "50%        1.000000      7.258560\n",
       "75%        1.000000      9.456000\n",
       "max       15.000000     32.376000"
      ]
     },
     "execution_count": 70,
     "metadata": {},
     "output_type": "execute_result"
    }
   ],
   "source": [
    "sale_report_test.describe()"
   ]
  },
  {
   "cell_type": "code",
   "execution_count": 71,
   "id": "333a613e-1af4-4f83-9c5f-518ee1b13e82",
   "metadata": {},
   "outputs": [
    {
     "data": {
      "text/plain": [
       "0"
      ]
     },
     "execution_count": 71,
     "metadata": {},
     "output_type": "execute_result"
    }
   ],
   "source": [
    "sale_report_test.duplicated().sum()"
   ]
  },
  {
   "cell_type": "code",
   "execution_count": 72,
   "id": "5bc36cb1-50eb-44d5-929e-cec4d3a043f5",
   "metadata": {},
   "outputs": [],
   "source": [
    "sale_report_test.drop_duplicates(inplace= True)"
   ]
  },
  {
   "cell_type": "markdown",
   "id": "837cd818-acc0-4807-9962-59165e68e181",
   "metadata": {},
   "source": [
    "1. **Talla**"
   ]
  },
  {
   "cell_type": "code",
   "execution_count": 73,
   "id": "4105567b-f4d3-48c3-a269-ec11fa8e2b71",
   "metadata": {},
   "outputs": [
    {
     "data": {
      "text/plain": [
       "Talla\n",
       "M       4592\n",
       "L       4383\n",
       "XL      4136\n",
       "XXL     3608\n",
       "S       3430\n",
       "3XL     2993\n",
       "XS      2231\n",
       "6XL      153\n",
       "5XL      103\n",
       "4XL       87\n",
       "Free      79\n",
       "Name: count, dtype: int64"
      ]
     },
     "execution_count": 73,
     "metadata": {},
     "output_type": "execute_result"
    }
   ],
   "source": [
    "sale_report_test.Talla.value_counts()"
   ]
  },
  {
   "cell_type": "code",
   "execution_count": 74,
   "id": "351cb495-821a-4065-832f-bcea9313b9e3",
   "metadata": {},
   "outputs": [],
   "source": [
    "Tallas_grandes = ['3XL', '4XL', '5XL', '6XL']\n",
    "sale_report_test['Talla'] = sale_report_test['Talla'].replace(Tallas_grandes, '3XL-6XL')\n",
    "\n",
    "# Reemplazamos la categoría 'Free' por 'Talla_unica', que es a lo que se refiere el término\n",
    "sale_report_test.Talla.replace('Free','Talla_unica',inplace=True)"
   ]
  },
  {
   "cell_type": "code",
   "execution_count": 75,
   "id": "cdab358c-1f20-4629-9267-9fe1a9676a5d",
   "metadata": {},
   "outputs": [
    {
     "data": {
      "text/plain": [
       "Talla\n",
       "M              4592\n",
       "L              4383\n",
       "XL             4136\n",
       "XXL            3608\n",
       "S              3430\n",
       "3XL-6XL        3336\n",
       "XS             2231\n",
       "Talla_unica      79\n",
       "Name: count, dtype: int64"
      ]
     },
     "execution_count": 75,
     "metadata": {},
     "output_type": "execute_result"
    }
   ],
   "source": [
    "sale_report_test.Talla.value_counts()"
   ]
  },
  {
   "cell_type": "markdown",
   "id": "303d6bc3-6b89-4b79-a63d-e86138d13373",
   "metadata": {},
   "source": [
    "2. **Estado_venta**"
   ]
  },
  {
   "cell_type": "code",
   "execution_count": 76,
   "id": "66b0be48-85e0-4922-9d6a-9827dd882986",
   "metadata": {},
   "outputs": [
    {
     "data": {
      "text/plain": [
       "Estado_venta\n",
       "Shipped                          15598\n",
       "Shipped - Delivered to Buyer      5810\n",
       "Cancelled                         3603\n",
       "Shipped - Returned to Seller       381\n",
       "Shipped - Picked Up                177\n",
       "Pending                            135\n",
       "Pending - Waiting for Pick Up       45\n",
       "Shipped - Returning to Seller       33\n",
       "Shipped - Out for Delivery           6\n",
       "Shipped - Rejected by Buyer          3\n",
       "Shipped - Lost in Transit            2\n",
       "Shipped - Damaged                    1\n",
       "Shipping                             1\n",
       "Name: count, dtype: int64"
      ]
     },
     "execution_count": 76,
     "metadata": {},
     "output_type": "execute_result"
    }
   ],
   "source": [
    "sale_report_test.Estado_venta.value_counts()"
   ]
  },
  {
   "cell_type": "code",
   "execution_count": 77,
   "id": "07617771-34d9-4d51-bfd6-14a9a7a4101e",
   "metadata": {},
   "outputs": [],
   "source": [
    "Shipped_ = ['Shipped', 'Shipped - Returning to Seller', 'Shipped - Rejected by Buyer', 'Shipped - Out for Delivery', 'Shipped - Lost in Transit', \n",
    "            'Shipped - Damaged']\n",
    "sale_report_test['Estado_venta'] = sale_report_test['Estado_venta'].replace(Shipped_, 'Shipped - Other Status')\n",
    "\n",
    "sale_report_test['Estado_venta'] = sale_report_test['Estado_venta'].cat.remove_categories('Shipping') #Eliminamos 'Shipping' ya que no tiene ningún registro"
   ]
  },
  {
   "cell_type": "code",
   "execution_count": 78,
   "id": "2151e89b-6fa6-4bec-adf1-12b69c3e6b0d",
   "metadata": {},
   "outputs": [
    {
     "data": {
      "text/plain": [
       "Estado_venta\n",
       "Shipped - Other Status           15643\n",
       "Shipped - Delivered to Buyer      5810\n",
       "Cancelled                         3603\n",
       "Shipped - Returned to Seller       381\n",
       "Shipped - Picked Up                177\n",
       "Pending                            135\n",
       "Pending - Waiting for Pick Up       45\n",
       "Name: count, dtype: int64"
      ]
     },
     "execution_count": 78,
     "metadata": {},
     "output_type": "execute_result"
    }
   ],
   "source": [
    "sale_report_test.Estado_venta.value_counts()"
   ]
  },
  {
   "cell_type": "code",
   "execution_count": 79,
   "id": "d2b2c933-dff5-4aed-aeaa-0a58bb525364",
   "metadata": {
    "scrolled": true
   },
   "outputs": [
    {
     "data": {
      "text/plain": [
       "Cantidad\n",
       "1     23176\n",
       "0      2538\n",
       "2        74\n",
       "3         5\n",
       "5         1\n",
       "15        1\n",
       "Name: count, dtype: int64"
      ]
     },
     "execution_count": 79,
     "metadata": {},
     "output_type": "execute_result"
    }
   ],
   "source": [
    "sale_report_test.Cantidad.value_counts()"
   ]
  },
  {
   "cell_type": "markdown",
   "id": "a2814036-84e3-4178-8c04-c9ab33e725de",
   "metadata": {},
   "source": [
    "3. **Cantidad**\n"
   ]
  },
  {
   "cell_type": "code",
   "execution_count": 80,
   "id": "90e2e1ae-6ec6-463c-8dcd-f570156b602e",
   "metadata": {},
   "outputs": [
    {
     "name": "stdout",
     "output_type": "stream",
     "text": [
      "                  ID_Pedido Estado_venta Cumplimiento Nivel_servicio    Style  \\\n",
      "13282   404-7269327-8145966    Cancelled       Amazon      Expedited   SET184   \n",
      "63624   402-3386194-3830762    Cancelled     Merchant       Standard   BTM043   \n",
      "40801   406-4154203-7396316    Cancelled     Merchant       Standard   SET183   \n",
      "7337    406-2851982-3618760    Cancelled     Merchant       Standard  MEN5001   \n",
      "42595   171-8605762-0017940    Cancelled       Amazon      Expedited  JNE3567   \n",
      "...                     ...          ...          ...            ...      ...   \n",
      "120900  406-7254766-2710724    Cancelled       Amazon      Expedited  JNE3579   \n",
      "118161  408-5906661-2988333    Cancelled     Merchant       Standard  JNE3797   \n",
      "9072    404-6353044-6230723    Cancelled       Amazon      Expedited   SET278   \n",
      "34963   405-4176633-5485956    Cancelled       Amazon      Expedited   SET366   \n",
      "31685   405-3141252-5135511    Cancelled     Merchant       Standard    J0117   \n",
      "\n",
      "                     SKU      Categoria    Talla        ASIN  \\\n",
      "13282    SET184-KR-PP-XS            Set       XS  B08W9F5KML   \n",
      "63624       BTM043-PP-XL         Bottom       XL  B08L3SHYZH   \n",
      "40801     SET183-KR-DH-M            Set        M  B08B3Z2YY3   \n",
      "7337       MEN5001-KR-XL          kurta       XL  B08YYRH2Q6   \n",
      "42595       JNE3567-KR-M          kurta        M  B08KRXV1QR   \n",
      "...                  ...            ...      ...         ...   \n",
      "120900   JNE3579-KR-XXXL          kurta  3XL-6XL  B08QGJTZQS   \n",
      "118161      JNE3797-KR-L  Western Dress        L  B09SDXFFQ1   \n",
      "9072      SET278-KR-NP-M            Set        M  B0983F3BLZ   \n",
      "34963   SET366-KR-NP-XXL            Set      XXL  B09QJMSLD1   \n",
      "31685         J0117-TP-M            Top        M  B08N4TGTRV   \n",
      "\n",
      "       Estado_mensajeria  Cantidad  Importe     Ciudad          Estado  \\\n",
      "13282          Cancelled         0      NaN    Kolkata     WEST BENGAL   \n",
      "63624                NaN         0      NaN     NAGPUR     MAHARASHTRA   \n",
      "40801                NaN         0  8.67432  New Delhi           DELHI   \n",
      "7337                 NaN         0  5.70288    LUCKNOW   UTTAR PRADESH   \n",
      "42595          Cancelled         0      NaN    CHENNAI      TAMIL NADU   \n",
      "...                  ...       ...      ...        ...             ...   \n",
      "120900         Cancelled         0      NaN      THANE     MAHARASHTRA   \n",
      "118161               NaN         0      NaN  GOLUGONDA  ANDHRA PRADESH   \n",
      "9072           Cancelled         0      NaN     KOLLAM          KERALA   \n",
      "34963          Cancelled         0      NaN  NEW DELHI           DELHI   \n",
      "31685                NaN         0      NaN  HYDERABAD       TELANGANA   \n",
      "\n",
      "       Codigo_postal Promocion    B2B Cumplido_por    Mes        Dia  \n",
      "13282       700024.0       NaN  False          NaN  April     Friday  \n",
      "63624       440001.0       NaN  False    Easy Ship    May     Friday  \n",
      "40801       110068.0       NaN  False    Easy Ship  April  Wednesday  \n",
      "7337        226006.0       NaN  False    Easy Ship  April    Tuesday  \n",
      "42595       600100.0       NaN  False          NaN  April    Tuesday  \n",
      "...              ...       ...    ...          ...    ...        ...  \n",
      "120900      401107.0       NaN  False          NaN   June     Monday  \n",
      "118161      531084.0       NaN  False    Easy Ship   June  Wednesday  \n",
      "9072        691004.0       NaN  False          NaN  April     Sunday  \n",
      "34963       110028.0       NaN  False          NaN  April   Saturday  \n",
      "31685       500076.0       NaN  False    Easy Ship  April     Monday  \n",
      "\n",
      "[2538 rows x 20 columns]\n"
     ]
    }
   ],
   "source": [
    "df_cantidad = sale_report_test[sale_report_test['Cantidad'] == 0 ]\n",
    "print(df_cantidad)"
   ]
  },
  {
   "cell_type": "markdown",
   "id": "9ea6b98c-8e3c-45be-a0ce-b0fb4ce37c25",
   "metadata": {},
   "source": [
    "## Valores atípicos y missings"
   ]
  },
  {
   "cell_type": "code",
   "execution_count": 81,
   "id": "21f107c1-06c5-4011-8e28-2b8af7595e32",
   "metadata": {
    "scrolled": true
   },
   "outputs": [
    {
     "data": {
      "text/html": [
       "<div>\n",
       "<style scoped>\n",
       "    .dataframe tbody tr th:only-of-type {\n",
       "        vertical-align: middle;\n",
       "    }\n",
       "\n",
       "    .dataframe tbody tr th {\n",
       "        vertical-align: top;\n",
       "    }\n",
       "\n",
       "    .dataframe thead th {\n",
       "        text-align: right;\n",
       "    }\n",
       "</style>\n",
       "<table border=\"1\" class=\"dataframe\">\n",
       "  <thead>\n",
       "    <tr style=\"text-align: right;\">\n",
       "      <th></th>\n",
       "      <th>ID_Pedido</th>\n",
       "      <th>Estado_venta</th>\n",
       "      <th>Cumplimiento</th>\n",
       "      <th>Nivel_servicio</th>\n",
       "      <th>Style</th>\n",
       "      <th>SKU</th>\n",
       "      <th>Categoria</th>\n",
       "      <th>Talla</th>\n",
       "      <th>ASIN</th>\n",
       "      <th>Estado_mensajeria</th>\n",
       "      <th>Importe</th>\n",
       "      <th>Ciudad</th>\n",
       "      <th>Estado</th>\n",
       "      <th>Codigo_postal</th>\n",
       "      <th>Promocion</th>\n",
       "      <th>B2B</th>\n",
       "      <th>Cumplido_por</th>\n",
       "      <th>Mes</th>\n",
       "      <th>Dia</th>\n",
       "    </tr>\n",
       "  </thead>\n",
       "  <tbody>\n",
       "    <tr>\n",
       "      <th>76504</th>\n",
       "      <td>402-0424416-5169145</td>\n",
       "      <td>Shipped - Other Status</td>\n",
       "      <td>Amazon</td>\n",
       "      <td>Expedited</td>\n",
       "      <td>JNE2205</td>\n",
       "      <td>JNE2205-KR-467-A-XXXL</td>\n",
       "      <td>kurta</td>\n",
       "      <td>3XL-6XL</td>\n",
       "      <td>B07FVMT2G5</td>\n",
       "      <td>Shipped</td>\n",
       "      <td>4.272</td>\n",
       "      <td>VISAKHAPATNAM</td>\n",
       "      <td>ANDHRA PRADESH</td>\n",
       "      <td>530013.0</td>\n",
       "      <td>NaN</td>\n",
       "      <td>False</td>\n",
       "      <td>NaN</td>\n",
       "      <td>May</td>\n",
       "      <td>Monday</td>\n",
       "    </tr>\n",
       "    <tr>\n",
       "      <th>32185</th>\n",
       "      <td>404-6920467-2129930</td>\n",
       "      <td>Shipped - Delivered to Buyer</td>\n",
       "      <td>Merchant</td>\n",
       "      <td>Standard</td>\n",
       "      <td>JNE3546</td>\n",
       "      <td>JNE3546-KR-L</td>\n",
       "      <td>kurta</td>\n",
       "      <td>L</td>\n",
       "      <td>B08HHJRFQP</td>\n",
       "      <td>Shipped</td>\n",
       "      <td>5.496</td>\n",
       "      <td>PUNE</td>\n",
       "      <td>MAHARASHTRA</td>\n",
       "      <td>411043.0</td>\n",
       "      <td>Amazon PLCC Free-Financing Universal Merchant ...</td>\n",
       "      <td>False</td>\n",
       "      <td>Easy Ship</td>\n",
       "      <td>April</td>\n",
       "      <td>Monday</td>\n",
       "    </tr>\n",
       "    <tr>\n",
       "      <th>102139</th>\n",
       "      <td>404-3958319-2885914</td>\n",
       "      <td>Shipped - Delivered to Buyer</td>\n",
       "      <td>Merchant</td>\n",
       "      <td>Standard</td>\n",
       "      <td>J0152</td>\n",
       "      <td>J0152-DR-L</td>\n",
       "      <td>Western Dress</td>\n",
       "      <td>L</td>\n",
       "      <td>B08V197XLZ</td>\n",
       "      <td>Shipped</td>\n",
       "      <td>10.140</td>\n",
       "      <td>CHENNAI</td>\n",
       "      <td>TAMIL NADU</td>\n",
       "      <td>600020.0</td>\n",
       "      <td>Amazon PLCC Free-Financing Universal Merchant ...</td>\n",
       "      <td>False</td>\n",
       "      <td>Easy Ship</td>\n",
       "      <td>June</td>\n",
       "      <td>Monday</td>\n",
       "    </tr>\n",
       "    <tr>\n",
       "      <th>37170</th>\n",
       "      <td>405-4580013-5361162</td>\n",
       "      <td>Shipped - Other Status</td>\n",
       "      <td>Amazon</td>\n",
       "      <td>Expedited</td>\n",
       "      <td>JNE3399</td>\n",
       "      <td>JNE3399-KR-XS</td>\n",
       "      <td>kurta</td>\n",
       "      <td>XS</td>\n",
       "      <td>B082W8DNQX</td>\n",
       "      <td>Shipped</td>\n",
       "      <td>5.220</td>\n",
       "      <td>SALEM</td>\n",
       "      <td>TAMIL NADU</td>\n",
       "      <td>636001.0</td>\n",
       "      <td>NaN</td>\n",
       "      <td>False</td>\n",
       "      <td>NaN</td>\n",
       "      <td>April</td>\n",
       "      <td>Friday</td>\n",
       "    </tr>\n",
       "    <tr>\n",
       "      <th>14578</th>\n",
       "      <td>404-2737275-5447529</td>\n",
       "      <td>Shipped - Other Status</td>\n",
       "      <td>Amazon</td>\n",
       "      <td>Expedited</td>\n",
       "      <td>JNE3613</td>\n",
       "      <td>JNE3613-KR-L</td>\n",
       "      <td>kurta</td>\n",
       "      <td>L</td>\n",
       "      <td>B08XVFSDR2</td>\n",
       "      <td>Shipped</td>\n",
       "      <td>4.788</td>\n",
       "      <td>DALTONGANJ</td>\n",
       "      <td>JHARKHAND</td>\n",
       "      <td>822101.0</td>\n",
       "      <td>IN Core Free Shipping 2015/04/08 23-48-5-108</td>\n",
       "      <td>False</td>\n",
       "      <td>NaN</td>\n",
       "      <td>April</td>\n",
       "      <td>Thursday</td>\n",
       "    </tr>\n",
       "  </tbody>\n",
       "</table>\n",
       "</div>"
      ],
      "text/plain": [
       "                  ID_Pedido                  Estado_venta Cumplimiento  \\\n",
       "76504   402-0424416-5169145        Shipped - Other Status       Amazon   \n",
       "32185   404-6920467-2129930  Shipped - Delivered to Buyer     Merchant   \n",
       "102139  404-3958319-2885914  Shipped - Delivered to Buyer     Merchant   \n",
       "37170   405-4580013-5361162        Shipped - Other Status       Amazon   \n",
       "14578   404-2737275-5447529        Shipped - Other Status       Amazon   \n",
       "\n",
       "       Nivel_servicio    Style                    SKU      Categoria    Talla  \\\n",
       "76504       Expedited  JNE2205  JNE2205-KR-467-A-XXXL          kurta  3XL-6XL   \n",
       "32185        Standard  JNE3546           JNE3546-KR-L          kurta        L   \n",
       "102139       Standard    J0152             J0152-DR-L  Western Dress        L   \n",
       "37170       Expedited  JNE3399          JNE3399-KR-XS          kurta       XS   \n",
       "14578       Expedited  JNE3613           JNE3613-KR-L          kurta        L   \n",
       "\n",
       "              ASIN Estado_mensajeria  Importe         Ciudad          Estado  \\\n",
       "76504   B07FVMT2G5           Shipped    4.272  VISAKHAPATNAM  ANDHRA PRADESH   \n",
       "32185   B08HHJRFQP           Shipped    5.496           PUNE     MAHARASHTRA   \n",
       "102139  B08V197XLZ           Shipped   10.140        CHENNAI      TAMIL NADU   \n",
       "37170   B082W8DNQX           Shipped    5.220          SALEM      TAMIL NADU   \n",
       "14578   B08XVFSDR2           Shipped    4.788     DALTONGANJ       JHARKHAND   \n",
       "\n",
       "       Codigo_postal                                          Promocion  \\\n",
       "76504       530013.0                                                NaN   \n",
       "32185       411043.0  Amazon PLCC Free-Financing Universal Merchant ...   \n",
       "102139      600020.0  Amazon PLCC Free-Financing Universal Merchant ...   \n",
       "37170       636001.0                                                NaN   \n",
       "14578       822101.0       IN Core Free Shipping 2015/04/08 23-48-5-108   \n",
       "\n",
       "          B2B Cumplido_por    Mes       Dia  \n",
       "76504   False          NaN    May    Monday  \n",
       "32185   False    Easy Ship  April    Monday  \n",
       "102139  False    Easy Ship   June    Monday  \n",
       "37170   False          NaN  April    Friday  \n",
       "14578   False          NaN  April  Thursday  "
      ]
     },
     "execution_count": 81,
     "metadata": {},
     "output_type": "execute_result"
    }
   ],
   "source": [
    "varObj = sale_report_test.Cantidad\n",
    "imput_test = sale_report_test.drop(['Cantidad'],axis=1)\n",
    "\n",
    "imput_test.head()"
   ]
  },
  {
   "cell_type": "markdown",
   "id": "7e293e6a-3b74-4c2d-a3ce-e03e633c168e",
   "metadata": {},
   "source": [
    "### Valores atípicos o outliers"
   ]
  },
  {
   "cell_type": "code",
   "execution_count": 82,
   "id": "ccbd1a1b-3cc5-45d9-a66a-3fb79becad7f",
   "metadata": {
    "scrolled": true
   },
   "outputs": [
    {
     "data": {
      "text/plain": [
       "Importe    0.807112\n",
       "dtype: float64"
      ]
     },
     "execution_count": 82,
     "metadata": {},
     "output_type": "execute_result"
    }
   ],
   "source": [
    "imput_test.select_dtypes(include=np.number).apply(lambda x: x.skew())"
   ]
  },
  {
   "cell_type": "markdown",
   "id": "2d33f44c-69a1-4c60-bc31-103a4c641d3d",
   "metadata": {},
   "source": [
    "### Missings"
   ]
  },
  {
   "cell_type": "code",
   "execution_count": 83,
   "id": "c517315e-4dd5-4e9a-b429-962e73e913bf",
   "metadata": {},
   "outputs": [
    {
     "data": {
      "text/plain": [
       "ID_Pedido             0.000000\n",
       "Estado_venta          0.003877\n",
       "Cumplimiento          0.000000\n",
       "Nivel_servicio        0.000000\n",
       "Style                 0.000000\n",
       "SKU                   0.000000\n",
       "Categoria             0.000000\n",
       "Talla                 0.000000\n",
       "ASIN                  0.000000\n",
       "Estado_mensajeria     5.156038\n",
       "Importe               6.098081\n",
       "Ciudad                0.019384\n",
       "Estado                0.019384\n",
       "Codigo_postal         0.019384\n",
       "Promocion            37.701105\n",
       "B2B                   0.000000\n",
       "Cumplido_por         69.649157\n",
       "Mes                   0.000000\n",
       "Dia                   0.000000\n",
       "dtype: float64"
      ]
     },
     "execution_count": 83,
     "metadata": {},
     "output_type": "execute_result"
    }
   ],
   "source": [
    "imput_test.apply(lambda x: x.isna().sum()/len(x)*100)"
   ]
  },
  {
   "cell_type": "code",
   "execution_count": 84,
   "id": "4eb82f5f-4603-4651-8e65-d292959f1d1e",
   "metadata": {},
   "outputs": [],
   "source": [
    "imput_test['Prop_perdidos'] = imput_test.apply(lambda x: x.isna().sum()/imput_test.shape[1]*100,axis=1)"
   ]
  },
  {
   "cell_type": "code",
   "execution_count": 85,
   "id": "bedaa566-e1d9-4edf-b3b5-4e5f24528685",
   "metadata": {
    "scrolled": true
   },
   "outputs": [
    {
     "data": {
      "text/html": [
       "<div>\n",
       "<style scoped>\n",
       "    .dataframe tbody tr th:only-of-type {\n",
       "        vertical-align: middle;\n",
       "    }\n",
       "\n",
       "    .dataframe tbody tr th {\n",
       "        vertical-align: top;\n",
       "    }\n",
       "\n",
       "    .dataframe thead th {\n",
       "        text-align: right;\n",
       "    }\n",
       "</style>\n",
       "<table border=\"1\" class=\"dataframe\">\n",
       "  <thead>\n",
       "    <tr style=\"text-align: right;\">\n",
       "      <th></th>\n",
       "      <th>ID_Pedido</th>\n",
       "      <th>Estado_venta</th>\n",
       "      <th>Cumplimiento</th>\n",
       "      <th>Nivel_servicio</th>\n",
       "      <th>Style</th>\n",
       "      <th>SKU</th>\n",
       "      <th>Categoria</th>\n",
       "      <th>Talla</th>\n",
       "      <th>ASIN</th>\n",
       "      <th>Estado_mensajeria</th>\n",
       "      <th>Importe</th>\n",
       "      <th>Ciudad</th>\n",
       "      <th>Estado</th>\n",
       "      <th>Codigo_postal</th>\n",
       "      <th>Promocion</th>\n",
       "      <th>B2B</th>\n",
       "      <th>Cumplido_por</th>\n",
       "      <th>Mes</th>\n",
       "      <th>Dia</th>\n",
       "      <th>Prop_perdidos</th>\n",
       "    </tr>\n",
       "  </thead>\n",
       "  <tbody>\n",
       "    <tr>\n",
       "      <th>124215</th>\n",
       "      <td>405-0340492-2359532</td>\n",
       "      <td>Cancelled</td>\n",
       "      <td>Amazon</td>\n",
       "      <td>Expedited</td>\n",
       "      <td>JNE3465</td>\n",
       "      <td>JNE3465-KR-L</td>\n",
       "      <td>kurta</td>\n",
       "      <td>L</td>\n",
       "      <td>B08BFLKNGJ</td>\n",
       "      <td>Unshipped</td>\n",
       "      <td>5.892</td>\n",
       "      <td>NaN</td>\n",
       "      <td>NaN</td>\n",
       "      <td>NaN</td>\n",
       "      <td>NaN</td>\n",
       "      <td>False</td>\n",
       "      <td>NaN</td>\n",
       "      <td>June</td>\n",
       "      <td>Saturday</td>\n",
       "      <td>26.315789</td>\n",
       "    </tr>\n",
       "    <tr>\n",
       "      <th>73772</th>\n",
       "      <td>406-7680604-5439529</td>\n",
       "      <td>Shipped - Other Status</td>\n",
       "      <td>Amazon</td>\n",
       "      <td>Expedited</td>\n",
       "      <td>PJNE3368</td>\n",
       "      <td>PJNE3368-KR-4XL</td>\n",
       "      <td>kurta</td>\n",
       "      <td>3XL-6XL</td>\n",
       "      <td>B09PY691XK</td>\n",
       "      <td>Shipped</td>\n",
       "      <td>10.428</td>\n",
       "      <td>NaN</td>\n",
       "      <td>NaN</td>\n",
       "      <td>NaN</td>\n",
       "      <td>IN Core Free Shipping 2015/04/08 23-48-5-108</td>\n",
       "      <td>False</td>\n",
       "      <td>NaN</td>\n",
       "      <td>May</td>\n",
       "      <td>Wednesday</td>\n",
       "      <td>21.052632</td>\n",
       "    </tr>\n",
       "    <tr>\n",
       "      <th>107957</th>\n",
       "      <td>S02-1023968-2239723</td>\n",
       "      <td>NaN</td>\n",
       "      <td>Amazon</td>\n",
       "      <td>Standard</td>\n",
       "      <td>J0008</td>\n",
       "      <td>J0008-SKD-XL</td>\n",
       "      <td>Set</td>\n",
       "      <td>XL</td>\n",
       "      <td>B0894X711G</td>\n",
       "      <td>Unshipped</td>\n",
       "      <td>NaN</td>\n",
       "      <td>Surat</td>\n",
       "      <td>Gujarat</td>\n",
       "      <td>394210.0</td>\n",
       "      <td>NaN</td>\n",
       "      <td>False</td>\n",
       "      <td>NaN</td>\n",
       "      <td>June</td>\n",
       "      <td>Wednesday</td>\n",
       "      <td>21.052632</td>\n",
       "    </tr>\n",
       "    <tr>\n",
       "      <th>98062</th>\n",
       "      <td>171-1461942-4857123</td>\n",
       "      <td>Cancelled</td>\n",
       "      <td>Amazon</td>\n",
       "      <td>Expedited</td>\n",
       "      <td>J0349</td>\n",
       "      <td>J0349-SET-L</td>\n",
       "      <td>Set</td>\n",
       "      <td>L</td>\n",
       "      <td>B099NMQR6C</td>\n",
       "      <td>Cancelled</td>\n",
       "      <td>NaN</td>\n",
       "      <td>THANE(W), thane</td>\n",
       "      <td>MAHARASHTRA</td>\n",
       "      <td>400615.0</td>\n",
       "      <td>NaN</td>\n",
       "      <td>False</td>\n",
       "      <td>NaN</td>\n",
       "      <td>June</td>\n",
       "      <td>Thursday</td>\n",
       "      <td>15.789474</td>\n",
       "    </tr>\n",
       "    <tr>\n",
       "      <th>75779</th>\n",
       "      <td>171-5173728-8341156</td>\n",
       "      <td>Cancelled</td>\n",
       "      <td>Merchant</td>\n",
       "      <td>Standard</td>\n",
       "      <td>JNE3703</td>\n",
       "      <td>JNE3703-KR-M</td>\n",
       "      <td>kurta</td>\n",
       "      <td>M</td>\n",
       "      <td>B099FCVXXD</td>\n",
       "      <td>NaN</td>\n",
       "      <td>NaN</td>\n",
       "      <td>PRODDATUR</td>\n",
       "      <td>ANDHRA PRADESH</td>\n",
       "      <td>516360.0</td>\n",
       "      <td>NaN</td>\n",
       "      <td>False</td>\n",
       "      <td>Easy Ship</td>\n",
       "      <td>May</td>\n",
       "      <td>Tuesday</td>\n",
       "      <td>15.789474</td>\n",
       "    </tr>\n",
       "  </tbody>\n",
       "</table>\n",
       "</div>"
      ],
      "text/plain": [
       "                  ID_Pedido            Estado_venta Cumplimiento  \\\n",
       "124215  405-0340492-2359532               Cancelled       Amazon   \n",
       "73772   406-7680604-5439529  Shipped - Other Status       Amazon   \n",
       "107957  S02-1023968-2239723                     NaN       Amazon   \n",
       "98062   171-1461942-4857123               Cancelled       Amazon   \n",
       "75779   171-5173728-8341156               Cancelled     Merchant   \n",
       "\n",
       "       Nivel_servicio     Style              SKU Categoria    Talla  \\\n",
       "124215      Expedited   JNE3465     JNE3465-KR-L     kurta        L   \n",
       "73772       Expedited  PJNE3368  PJNE3368-KR-4XL     kurta  3XL-6XL   \n",
       "107957       Standard     J0008     J0008-SKD-XL       Set       XL   \n",
       "98062       Expedited     J0349      J0349-SET-L       Set        L   \n",
       "75779        Standard   JNE3703     JNE3703-KR-M     kurta        M   \n",
       "\n",
       "              ASIN Estado_mensajeria  Importe           Ciudad  \\\n",
       "124215  B08BFLKNGJ         Unshipped    5.892              NaN   \n",
       "73772   B09PY691XK           Shipped   10.428              NaN   \n",
       "107957  B0894X711G         Unshipped      NaN            Surat   \n",
       "98062   B099NMQR6C         Cancelled      NaN  THANE(W), thane   \n",
       "75779   B099FCVXXD               NaN      NaN        PRODDATUR   \n",
       "\n",
       "                Estado Codigo_postal  \\\n",
       "124215             NaN           NaN   \n",
       "73772              NaN           NaN   \n",
       "107957         Gujarat      394210.0   \n",
       "98062      MAHARASHTRA      400615.0   \n",
       "75779   ANDHRA PRADESH      516360.0   \n",
       "\n",
       "                                           Promocion    B2B Cumplido_por  \\\n",
       "124215                                           NaN  False          NaN   \n",
       "73772   IN Core Free Shipping 2015/04/08 23-48-5-108  False          NaN   \n",
       "107957                                           NaN  False          NaN   \n",
       "98062                                            NaN  False          NaN   \n",
       "75779                                            NaN  False    Easy Ship   \n",
       "\n",
       "         Mes        Dia  Prop_perdidos  \n",
       "124215  June   Saturday      26.315789  \n",
       "73772    May  Wednesday      21.052632  \n",
       "107957  June  Wednesday      21.052632  \n",
       "98062   June   Thursday      15.789474  \n",
       "75779    May    Tuesday      15.789474  "
      ]
     },
     "execution_count": 85,
     "metadata": {},
     "output_type": "execute_result"
    }
   ],
   "source": [
    "imput_test.sort_values(by='Prop_perdidos', ascending=False).head()"
   ]
  },
  {
   "cell_type": "markdown",
   "id": "cd75824f-0b23-4c08-b39d-194309356275",
   "metadata": {},
   "source": [
    "1. **Cumplido_por**"
   ]
  },
  {
   "cell_type": "code",
   "execution_count": 86,
   "id": "bdd1c598-fddc-4c65-89fd-c315c952d4c2",
   "metadata": {},
   "outputs": [],
   "source": [
    "imput_test.drop(columns = [\"Cumplido_por\"], inplace = True)"
   ]
  },
  {
   "cell_type": "markdown",
   "id": "70d1deae-b244-4110-915c-8a76c1e07570",
   "metadata": {},
   "source": [
    "2. **Estado_mensajeria**"
   ]
  },
  {
   "cell_type": "code",
   "execution_count": 87,
   "id": "4e22351a-c65a-4803-8d6d-11a0342faf7f",
   "metadata": {},
   "outputs": [
    {
     "name": "stdout",
     "output_type": "stream",
     "text": [
      "                  ID_Pedido Estado_venta Cumplimiento Nivel_servicio    Style  \\\n",
      "63624   402-3386194-3830762    Cancelled     Merchant       Standard   BTM043   \n",
      "40801   406-4154203-7396316    Cancelled     Merchant       Standard   SET183   \n",
      "7337    406-2851982-3618760    Cancelled     Merchant       Standard  MEN5001   \n",
      "69934   404-8699922-5281155    Cancelled     Merchant       Standard   SET377   \n",
      "112444  402-9235557-2730732    Cancelled     Merchant       Standard  JNE3797   \n",
      "...                     ...          ...          ...            ...      ...   \n",
      "8962    171-6514723-6694747    Cancelled     Merchant       Standard   SET288   \n",
      "60817   406-6262880-8897146    Cancelled     Merchant       Standard   SET397   \n",
      "16055   406-6248521-9005133    Cancelled     Merchant       Standard    J0117   \n",
      "118161  408-5906661-2988333    Cancelled     Merchant       Standard  JNE3797   \n",
      "31685   405-3141252-5135511    Cancelled     Merchant       Standard    J0117   \n",
      "\n",
      "                      SKU      Categoria    Talla        ASIN  \\\n",
      "63624        BTM043-PP-XL         Bottom       XL  B08L3SHYZH   \n",
      "40801      SET183-KR-DH-M            Set        M  B08B3Z2YY3   \n",
      "7337        MEN5001-KR-XL          kurta       XL  B08YYRH2Q6   \n",
      "69934     SET377-KR-NP-XS            Set       XS  B09TZV58PW   \n",
      "112444   JNE3797-KR-A-XXL  Western Dress      XXL  B09TH3MNW7   \n",
      "...                   ...            ...      ...         ...   \n",
      "8962    SET288-KR-NP-XXXL            Set  3XL-6XL  B09M6STTBC   \n",
      "60817     SET397-KR-NP-XL            Set       XL  B09RKDB8SB   \n",
      "16055       J0117-TP-XXXL            Top  3XL-6XL  B08N498WCX   \n",
      "118161       JNE3797-KR-L  Western Dress        L  B09SDXFFQ1   \n",
      "31685          J0117-TP-M            Top        M  B08N4TGTRV   \n",
      "\n",
      "       Estado_mensajeria   Importe          Ciudad          Estado  \\\n",
      "63624                  0       NaN          NAGPUR     MAHARASHTRA   \n",
      "40801                  0   8.67432       New Delhi           DELHI   \n",
      "7337                   0   5.70288         LUCKNOW   UTTAR PRADESH   \n",
      "69934                  0  11.44284       KHERAGARH   UTTAR PRADESH   \n",
      "112444                 0       NaN         VARKALA          KERALA   \n",
      "...                  ...       ...             ...             ...   \n",
      "8962                   0       NaN         CHENNAI      TAMIL NADU   \n",
      "60817                  0       NaN       NEW DELHI           DELHI   \n",
      "16055                  0   5.91996  PATHANAMTHITTA          KERALA   \n",
      "118161                 0       NaN       GOLUGONDA  ANDHRA PRADESH   \n",
      "31685                  0       NaN       HYDERABAD       TELANGANA   \n",
      "\n",
      "       Codigo_postal Promocion    B2B    Mes        Dia  Prop_perdidos  \n",
      "63624       440001.0       NaN  False    May     Friday      15.789474  \n",
      "40801       110068.0       NaN  False  April  Wednesday      10.526316  \n",
      "7337        226006.0       NaN  False  April    Tuesday      10.526316  \n",
      "69934       283121.0       NaN  False    May     Sunday      10.526316  \n",
      "112444      695143.0       NaN  False   June     Sunday      15.789474  \n",
      "...              ...       ...    ...    ...        ...            ...  \n",
      "8962        600044.0       NaN  False  April     Monday      15.789474  \n",
      "60817       110085.0       NaN  False    May     Sunday      15.789474  \n",
      "16055       689532.0       NaN  False  April   Thursday      10.526316  \n",
      "118161      531084.0       NaN  False   June  Wednesday      15.789474  \n",
      "31685       500076.0       NaN  False  April     Monday      15.789474  \n",
      "\n",
      "[1330 rows x 19 columns]\n"
     ]
    }
   ],
   "source": [
    "imput_test['Estado_mensajeria'] = imput_test['Estado_mensajeria'].cat.add_categories([0])\n",
    "imput_test['Estado_mensajeria'].fillna(0, inplace = True)\n",
    "df_estado_mensajeria = imput_test[imput_test['Estado_mensajeria'] == 0 ]\n",
    "\n",
    "print(df_estado_mensajeria)"
   ]
  },
  {
   "cell_type": "code",
   "execution_count": 88,
   "id": "203fcf02-d537-4ccc-8e63-e9f0eeffe710",
   "metadata": {},
   "outputs": [],
   "source": [
    "imput_test['Estado_mensajeria'].replace(0, 'Cancelled', inplace = True)"
   ]
  },
  {
   "cell_type": "markdown",
   "id": "5f8303ed-1330-4f0c-bedf-4f4cba66a793",
   "metadata": {},
   "source": [
    "3. **Ciudad, Estado y Codigo_postal**"
   ]
  },
  {
   "cell_type": "code",
   "execution_count": 89,
   "id": "167febab-dcd6-4c90-bbfb-cc95c8489cce",
   "metadata": {},
   "outputs": [],
   "source": [
    "imput_test['Ciudad'].fillna('Desc', inplace = True)\n",
    "imput_test['Estado'].fillna('Desc', inplace = True)\n",
    "imput_test['Codigo_postal'].fillna('Desc', inplace = True)"
   ]
  },
  {
   "cell_type": "markdown",
   "id": "1d4fab6f-8bb2-41d5-ab0f-f71b7a54f27f",
   "metadata": {},
   "source": [
    "4. **Promocion**"
   ]
  },
  {
   "cell_type": "code",
   "execution_count": 90,
   "id": "f1d4fc62-2764-4009-9694-f88a9f6a5779",
   "metadata": {
    "scrolled": true
   },
   "outputs": [
    {
     "data": {
      "text/plain": [
       "Promocion\n",
       "IN Core Free Shipping 2015/04/08 23-48-5-108                                                                                                                                                                                                                                                                                                                                                                                                                                                                                                                                                                                                                                                                                                                                                                                                                                                                                                                                                                                                                                                                                                                                                                                                                                                                                                                                                                                                                                                                                                                                                                                                                                                                                                     9301\n",
       "Duplicated A12RHGVGRWOT3S 1560498941486                                                                                                                                                                                                                                                                                                                                                                                                                                                                                                                                                                                                                                                                                                                                                                                                                                                                                                                                                                                                                                                                                                                                                                                                                                                                                                                                                                                                                                                                                                                                                                                                                                                                                                            97\n",
       "Amazon PLCC Free-Financing Universal Merchant AAT-WNKTBO3K27EJC,Amazon PLCC Free-Financing Universal Merchant AAT-QX3UCCJESKPA2,Amazon PLCC Free-Financing Universal Merchant AAT-CXJHMC2YJUK76,Amazon PLCC Free-Financing Universal Merchant AAT-CC4FAVTYR4X7C,Amazon PLCC Free-Financing Universal Merchant AAT-XXRCW6NZEPZI4,Amazon PLCC Free-Financing Universal Merchant AAT-EOKPWFWYW7Y6I,Amazon PLCC Free-Financing Universal Merchant AAT-ZYL5UPUNW6T62,Amazon PLCC Free-Financing Universal Merchant AAT-G5ZRX4BZOIODU,Amazon PLCC Free-Financing Universal Merchant AAT-PZHUW6DZX4BPS,Amazon PLCC Free-Financing Universal Merchant AAT-XX7G3ZRJJJ5LG,Amazon PLCC Free-Financing Universal Merchant AAT-LEHCKNDBJG64E,Amazon PLCC Free-Financing Universal Merchant AAT-DJVHCEV7D7RQY,Amazon PLCC Free-Financing Universal Merchant AAT-BRSZZ45H6MHAO,Amazon PLCC Free-Financing Universal Merchant AAT-MKLXOOZWQL7GO,Amazon PLCC Free-Financing Universal Merchant AAT-CB7UNXEXGIJTC,Amazon PLCC Free-Financing Universal Merchant #MP-gzasho-1593152694811,Amazon PLCC Free-Financing Universal Merchant AAT-WLBA4GZ52EAH4                                                                                                                                                                                                                                                                                                                                                                                                                                                                                                                                                                                                             94\n",
       "Duplicated AYTJSBA8ZOP16 1567159860988                                                                                                                                                                                                                                                                                                                                                                                                                                                                                                                                                                                                                                                                                                                                                                                                                                                                                                                                                                                                                                                                                                                                                                                                                                                                                                                                                                                                                                                                                                                                                                                                                                                                                                             94\n",
       "Amazon PLCC Free-Financing Universal Merchant AAT-WNKTBO3K27EJC,Amazon PLCC Free-Financing Universal Merchant AAT-QX3UCCJESKPA2,Amazon PLCC Free-Financing Universal Merchant AAT-CXJHMC2YJUK76,Amazon PLCC Free-Financing Universal Merchant AAT-CC4FAVTYR4X7C,Amazon PLCC Free-Financing Universal Merchant AAT-XXRCW6NZEPZI4,Amazon PLCC Free-Financing Universal Merchant AAT-EOKPWFWYW7Y6I,Amazon PLCC Free-Financing Universal Merchant AAT-ZYL5UPUNW6T62,Amazon PLCC Free-Financing Universal Merchant AAT-G5ZRX4BZOIODU,Amazon PLCC Free-Financing Universal Merchant AAT-PZHUW6DZX4BPS,Amazon PLCC Free-Financing Universal Merchant AAT-BRSZZ45H6MHAO,Amazon PLCC Free-Financing Universal Merchant AAT-MKLXOOZWQL7GO,Amazon PLCC Free-Financing Universal Merchant AAT-CB7UNXEXGIJTC,Amazon PLCC Free-Financing Universal Merchant #MP-gzasho-1593152694811,Amazon PLCC Free-Financing Universal Merchant AAT-WLBA4GZ52EAH4                                                                                                                                                                                                                                                                                                                                                                                                                                                                                                                                                                                                                                                                                                                                                                                                             61\n",
       "                                                                                                                                                                                                                                                                                                                                                                                                                                                                                                                                                                                                                                                                                                                                                                                                                                                                                                                                                                                                                                                                                                                                                                                                                                                                                                                                                                                                                                                                                                                                                                                                                                                                                                                                                 ... \n",
       "Amazon PLCC Free-Financing Universal Merchant AAT-WNKTBO3K27EJC,Amazon PLCC Free-Financing Universal Merchant AAT-QX3UCCJESKPA2,Amazon PLCC Free-Financing Universal Merchant AAT-5QQ7BIYYQEDN2,Amazon PLCC Free-Financing Universal Merchant AAT-DSJ2QRXXWXVMQ,Amazon PLCC Free-Financing Universal Merchant AAT-CXJHMC2YJUK76,Amazon PLCC Free-Financing Universal Merchant AAT-CC4FAVTYR4X7C,Amazon PLCC Free-Financing Universal Merchant AAT-FYWJCQHU2XQ2U,Amazon PLCC Free-Financing Universal Merchant AAT-R7GXNZWISTRFA,Amazon PLCC Free-Financing Universal Merchant AAT-EOKPWFWYW7Y6I,Amazon PLCC Free-Financing Universal Merchant AAT-L2DLP5YGE5766,Amazon PLCC Free-Financing Universal Merchant AAT-ZF7YE6D3FPHMI,Amazon PLCC Free-Financing Universal Merchant AAT-TNYHCYLOWRIHK,Amazon PLCC Free-Financing Universal Merchant AAT-BRSZZ45H6MHAO,Amazon PLCC Free-Financing Universal Merchant AAT-MKLXOOZWQL7GO,Amazon PLCC Free-Financing Universal Merchant AAT-CB7UNXEXGIJTC,Amazon PLCC Free-Financing Universal Merchant #MP-gzasho-1593152694811,Amazon PLCC Free-Financing Universal Merchant AAT-WLBA4GZ52EAH4                                                                                                                                                                                                                                                                                                                                                                                                                                                                                                                                                                                                              1\n",
       "Amazon PLCC Free-Financing Universal Merchant AAT-WNKTBO3K27EJC,Amazon PLCC Free-Financing Universal Merchant AAT-QX3UCCJESKPA2,Amazon PLCC Free-Financing Universal Merchant AAT-5QQ7BIYYQEDN2,Amazon PLCC Free-Financing Universal Merchant AAT-DSJ2QRXXWXVMQ,Amazon PLCC Free-Financing Universal Merchant AAT-CXJHMC2YJUK76,Amazon PLCC Free-Financing Universal Merchant AAT-CC4FAVTYR4X7C,Amazon PLCC Free-Financing Universal Merchant AAT-EWAPBB6BDRGM6,Amazon PLCC Free-Financing Universal Merchant AAT-EOKPWFWYW7Y6I,Amazon PLCC Free-Financing Universal Merchant AAT-3CSO6PTXOFDTO,Amazon PLCC Free-Financing Universal Merchant AAT-5SHH3G55USK5C,Amazon PLCC Free-Financing Universal Merchant AAT-7IFG6TWAZNCBQ,Amazon PLCC Free-Financing Universal Merchant AAT-BOWEMQBNNNHBK,Amazon PLCC Free-Financing Universal Merchant AAT-SKYXW7T3UZBGO,Amazon PLCC Free-Financing Universal Merchant AAT-ONHQI6RQUNGB6,Amazon PLCC Free-Financing Universal Merchant AAT-UFMRPWCRGE2ZM,Amazon PLCC Free-Financing Universal Merchant AAT-SF4YGC5K3O574,Amazon PLCC Free-Financing Universal Merchant AAT-SUBB5QVZKACYG,Amazon PLCC Free-Financing Universal Merchant AAT-CF5ZF57364I7G,Amazon PLCC Free-Financing Universal Merchant AAT-TNYBHEAO7HOHO,Amazon PLCC Free-Financing Universal Merchant AAT-BRSZZ45H6MHAO,Amazon PLCC Free-Financing Universal Merchant AAT-MKLXOOZWQL7GO,Amazon PLCC Free-Financing Universal Merchant AAT-CB7UNXEXGIJTC,Amazon PLCC Free-Financing Universal Merchant #MP-gzasho-1593152694811,Amazon PLCC Free-Financing Universal Merchant AAT-WLBA4GZ52EAH4,Amazon PLCC Free-Financing Universal Merchant AAT-QMFZ3M7T5NPDS,Amazon PLCC Free-Financing Universal Merchant #MP-pmilan-1601980554292       1\n",
       "Amazon PLCC Free-Financing Universal Merchant AAT-WNKTBO3K27EJC,Amazon PLCC Free-Financing Universal Merchant AAT-QX3UCCJESKPA2,Amazon PLCC Free-Financing Universal Merchant AAT-5QQ7BIYYQEDN2,Amazon PLCC Free-Financing Universal Merchant AAT-DSJ2QRXXWXVMQ,Amazon PLCC Free-Financing Universal Merchant AAT-CXJHMC2YJUK76,Amazon PLCC Free-Financing Universal Merchant AAT-SL3Y2YRMAUNFC,Amazon PLCC Free-Financing Universal Merchant AAT-CC4FAVTYR4X7C,Amazon PLCC Free-Financing Universal Merchant AAT-EWAPBB6BDRGM6,Amazon PLCC Free-Financing Universal Merchant AAT-WSJLDN3X7KEMO,Amazon PLCC Free-Financing Universal Merchant AAT-VL6FGQVGQVXUS,Amazon PLCC Free-Financing Universal Merchant AAT-EOKPWFWYW7Y6I,Amazon PLCC Free-Financing Universal Merchant AAT-AMKH7SAAONETC,Amazon PLCC Free-Financing Universal Merchant AAT-56XNPXK2K7OLI,Amazon PLCC Free-Financing Universal Merchant AAT-BOWEMQBNNNHBK,Amazon PLCC Free-Financing Universal Merchant AAT-SKYXW7T3UZBGO,Amazon PLCC Free-Financing Universal Merchant AAT-ILWGDKTQOJRNA,Amazon PLCC Free-Financing Universal Merchant AAT-BRSZZ45H6MHAO,Amazon PLCC Free-Financing Universal Merchant AAT-MKLXOOZWQL7GO,Amazon PLCC Free-Financing Universal Merchant AAT-CB7UNXEXGIJTC,Amazon PLCC Free-Financing Universal Merchant #MP-gzasho-1593152694811,Amazon PLCC Free-Financing Universal Merchant AAT-WLBA4GZ52EAH4                                                                                                                                                                                                                                                                                                                                              1\n",
       "Amazon PLCC Free-Financing Universal Merchant AAT-WNKTBO3K27EJC,Amazon PLCC Free-Financing Universal Merchant AAT-QX3UCCJESKPA2,Amazon PLCC Free-Financing Universal Merchant AAT-5QQ7BIYYQEDN2,Amazon PLCC Free-Financing Universal Merchant AAT-DSJ2QRXXWXVMQ,Amazon PLCC Free-Financing Universal Merchant AAT-CXJHMC2YJUK76,Amazon PLCC Free-Financing Universal Merchant AAT-CC4FAVTYR4X7C,Amazon PLCC Free-Financing Universal Merchant AAT-FYWJCQHU2XQ2U,Amazon PLCC Free-Financing Universal Merchant AAT-WSJLDN3X7KEMO,Amazon PLCC Free-Financing Universal Merchant AAT-VL6FGQVGQVXUS,Amazon PLCC Free-Financing Universal Merchant AAT-EOKPWFWYW7Y6I,Amazon PLCC Free-Financing Universal Merchant AAT-URPEBMPS7TSPE,Amazon PLCC Free-Financing Universal Merchant AAT-5ZEB2OGNZ32MC,Amazon PLCC Free-Financing Universal Merchant AAT-5VXFLMD6EKIFC,Amazon PLCC Free-Financing Universal Merchant AAT-BRSZZ45H6MHAO,Amazon PLCC Free-Financing Universal Merchant AAT-MKLXOOZWQL7GO,Amazon PLCC Free-Financing Universal Merchant AAT-CB7UNXEXGIJTC,Amazon PLCC Free-Financing Universal Merchant #MP-gzasho-1593152694811,Amazon PLCC Free-Financing Universal Merchant AAT-WLBA4GZ52EAH4                                                                                                                                                                                                                                                                                                                                                                                                                                                                                                                                              1\n",
       "Amazon PLCC Free-Financing Universal Merchant AAT-WNKTBO3K27EJC,Amazon PLCC Free-Financing Universal Merchant AAT-QX3UCCJESKPA2,Amazon PLCC Free-Financing Universal Merchant AAT-5QQ7BIYYQEDN2,Amazon PLCC Free-Financing Universal Merchant AAT-DSJ2QRXXWXVMQ,Amazon PLCC Free-Financing Universal Merchant AAT-CXJHMC2YJUK76,Amazon PLCC Free-Financing Universal Merchant AAT-CC4FAVTYR4X7C,Amazon PLCC Free-Financing Universal Merchant AAT-EWAPBB6BDRGM6,Amazon PLCC Free-Financing Universal Merchant AAT-EOKPWFWYW7Y6I,Amazon PLCC Free-Financing Universal Merchant AAT-Z7SKZOEIDWRU4,Amazon PLCC Free-Financing Universal Merchant AAT-BRSZZ45H6MHAO,Amazon PLCC Free-Financing Universal Merchant AAT-MKLXOOZWQL7GO,Amazon PLCC Free-Financing Universal Merchant AAT-CB7UNXEXGIJTC,Amazon PLCC Free-Financing Universal Merchant #MP-gzasho-1593152694811,Amazon PLCC Free-Financing Universal Merchant AAT-WLBA4GZ52EAH4,Amazon PLCC Free-Financing Universal Merchant #MP-pmilan-1601980554292                                                                                                                                                                                                                                                                                                                                                                                                                                                                                                                                                                                                                                                                                                                                       1\n",
       "Name: count, Length: 2448, dtype: int64"
      ]
     },
     "execution_count": 90,
     "metadata": {},
     "output_type": "execute_result"
    }
   ],
   "source": [
    "imput_test.Promocion.value_counts()"
   ]
  },
  {
   "cell_type": "code",
   "execution_count": 91,
   "id": "988b0e57-2b03-40ea-8528-34fb4d5168ef",
   "metadata": {},
   "outputs": [],
   "source": [
    "imput_test['Promocion'].fillna('No promo', inplace = True)"
   ]
  },
  {
   "cell_type": "code",
   "execution_count": 92,
   "id": "099cd522-1aaf-498a-b795-45d56bb19755",
   "metadata": {
    "scrolled": true
   },
   "outputs": [
    {
     "name": "stdout",
     "output_type": "stream",
     "text": [
      "Promocion\n",
      "No promocion             9725\n",
      "IN Core Free Shipping    9317\n",
      "PLCC Free_Financing      6489\n",
      "Duplicated                191\n",
      "Otros                      73\n",
      "Name: count, dtype: int64\n"
     ]
    }
   ],
   "source": [
    "def agrupar_categorias(Promocion):\n",
    "    if Promocion.startswith('Amazon'):\n",
    "        return 'PLCC Free_Financing'\n",
    "    elif Promocion.startswith('IN'):\n",
    "        return 'IN Core Free Shipping'\n",
    "    elif Promocion.startswith('Duplicated'):\n",
    "        return 'Duplicated'\n",
    "    elif Promocion.startswith('No'):\n",
    "        return 'No promocion'\n",
    "    else: \n",
    "        return 'Otros'\n",
    "\n",
    "imput_test['Promocion'] = imput_test['Promocion'].apply(agrupar_categorias)\n",
    "\n",
    "print(imput_test['Promocion'].value_counts())"
   ]
  },
  {
   "cell_type": "code",
   "execution_count": 93,
   "id": "4974998e-55c5-4ddc-abbc-37fb676c60e4",
   "metadata": {},
   "outputs": [],
   "source": [
    "imput_test['Promocion'] = imput_test['Promocion'].astype('category')"
   ]
  },
  {
   "cell_type": "markdown",
   "id": "1ee5ad50-ba58-418a-a9fa-d659d2dd04c8",
   "metadata": {},
   "source": [
    "5. **Estado_venta**"
   ]
  },
  {
   "cell_type": "code",
   "execution_count": 94,
   "id": "610d4f1b-f497-43d7-a67d-90bd7c5972f7",
   "metadata": {},
   "outputs": [],
   "source": [
    "imput_test.dropna(subset=['Estado_venta'], inplace=True)"
   ]
  },
  {
   "cell_type": "markdown",
   "id": "47ca2a31-b5bd-4bcc-bd05-1313b29c0890",
   "metadata": {},
   "source": [
    "6. **Importe**"
   ]
  },
  {
   "cell_type": "code",
   "execution_count": 95,
   "id": "81426b82-e26a-4c60-aa42-0579863691fe",
   "metadata": {},
   "outputs": [],
   "source": [
    "imputer_knn = skl_imp.KNNImputer(n_neighbors=3)\n",
    "importe_values_ = imput_test[['Importe']]\n",
    "imputed_importe_ = imputer_knn.fit_transform(importe_values_)\n",
    "imput_test['Importe'] = imputed_importe_"
   ]
  },
  {
   "cell_type": "code",
   "execution_count": 96,
   "id": "6131d9c8-6c04-4981-9a5c-99f3d822aa32",
   "metadata": {
    "scrolled": true
   },
   "outputs": [
    {
     "data": {
      "text/plain": [
       "ID_Pedido            0.0\n",
       "Estado_venta         0.0\n",
       "Cumplimiento         0.0\n",
       "Nivel_servicio       0.0\n",
       "Style                0.0\n",
       "SKU                  0.0\n",
       "Categoria            0.0\n",
       "Talla                0.0\n",
       "ASIN                 0.0\n",
       "Estado_mensajeria    0.0\n",
       "Importe              0.0\n",
       "Ciudad               0.0\n",
       "Estado               0.0\n",
       "Codigo_postal        0.0\n",
       "Promocion            0.0\n",
       "B2B                  0.0\n",
       "Mes                  0.0\n",
       "Dia                  0.0\n",
       "Prop_perdidos        0.0\n",
       "dtype: float64"
      ]
     },
     "execution_count": 96,
     "metadata": {},
     "output_type": "execute_result"
    }
   ],
   "source": [
    "imput_test.apply(lambda x: x.isna().sum()/len(x)*100)"
   ]
  },
  {
   "cell_type": "code",
   "execution_count": 97,
   "id": "428efe59-2995-4b9f-91ee-95d34dc4323a",
   "metadata": {},
   "outputs": [
    {
     "data": {
      "text/html": [
       "<div>\n",
       "<style scoped>\n",
       "    .dataframe tbody tr th:only-of-type {\n",
       "        vertical-align: middle;\n",
       "    }\n",
       "\n",
       "    .dataframe tbody tr th {\n",
       "        vertical-align: top;\n",
       "    }\n",
       "\n",
       "    .dataframe thead th {\n",
       "        text-align: right;\n",
       "    }\n",
       "</style>\n",
       "<table border=\"1\" class=\"dataframe\">\n",
       "  <thead>\n",
       "    <tr style=\"text-align: right;\">\n",
       "      <th></th>\n",
       "      <th>ID_Pedido</th>\n",
       "      <th>Estado_venta</th>\n",
       "      <th>Cumplimiento</th>\n",
       "      <th>Nivel_servicio</th>\n",
       "      <th>Style</th>\n",
       "      <th>SKU</th>\n",
       "      <th>Categoria</th>\n",
       "      <th>Talla</th>\n",
       "      <th>ASIN</th>\n",
       "      <th>Estado_mensajeria</th>\n",
       "      <th>Importe</th>\n",
       "      <th>Ciudad</th>\n",
       "      <th>Estado</th>\n",
       "      <th>Codigo_postal</th>\n",
       "      <th>Promocion</th>\n",
       "      <th>B2B</th>\n",
       "      <th>Mes</th>\n",
       "      <th>Dia</th>\n",
       "      <th>Prop_perdidos</th>\n",
       "    </tr>\n",
       "  </thead>\n",
       "  <tbody>\n",
       "    <tr>\n",
       "      <th>76504</th>\n",
       "      <td>402-0424416-5169145</td>\n",
       "      <td>Shipped - Other Status</td>\n",
       "      <td>Amazon</td>\n",
       "      <td>Expedited</td>\n",
       "      <td>JNE2205</td>\n",
       "      <td>JNE2205-KR-467-A-XXXL</td>\n",
       "      <td>kurta</td>\n",
       "      <td>3XL-6XL</td>\n",
       "      <td>B07FVMT2G5</td>\n",
       "      <td>Shipped</td>\n",
       "      <td>4.272</td>\n",
       "      <td>VISAKHAPATNAM</td>\n",
       "      <td>ANDHRA PRADESH</td>\n",
       "      <td>530013.0</td>\n",
       "      <td>No promocion</td>\n",
       "      <td>False</td>\n",
       "      <td>May</td>\n",
       "      <td>Monday</td>\n",
       "      <td>10.526316</td>\n",
       "    </tr>\n",
       "    <tr>\n",
       "      <th>32185</th>\n",
       "      <td>404-6920467-2129930</td>\n",
       "      <td>Shipped - Delivered to Buyer</td>\n",
       "      <td>Merchant</td>\n",
       "      <td>Standard</td>\n",
       "      <td>JNE3546</td>\n",
       "      <td>JNE3546-KR-L</td>\n",
       "      <td>kurta</td>\n",
       "      <td>L</td>\n",
       "      <td>B08HHJRFQP</td>\n",
       "      <td>Shipped</td>\n",
       "      <td>5.496</td>\n",
       "      <td>PUNE</td>\n",
       "      <td>MAHARASHTRA</td>\n",
       "      <td>411043.0</td>\n",
       "      <td>PLCC Free_Financing</td>\n",
       "      <td>False</td>\n",
       "      <td>April</td>\n",
       "      <td>Monday</td>\n",
       "      <td>0.000000</td>\n",
       "    </tr>\n",
       "    <tr>\n",
       "      <th>102139</th>\n",
       "      <td>404-3958319-2885914</td>\n",
       "      <td>Shipped - Delivered to Buyer</td>\n",
       "      <td>Merchant</td>\n",
       "      <td>Standard</td>\n",
       "      <td>J0152</td>\n",
       "      <td>J0152-DR-L</td>\n",
       "      <td>Western Dress</td>\n",
       "      <td>L</td>\n",
       "      <td>B08V197XLZ</td>\n",
       "      <td>Shipped</td>\n",
       "      <td>10.140</td>\n",
       "      <td>CHENNAI</td>\n",
       "      <td>TAMIL NADU</td>\n",
       "      <td>600020.0</td>\n",
       "      <td>PLCC Free_Financing</td>\n",
       "      <td>False</td>\n",
       "      <td>June</td>\n",
       "      <td>Monday</td>\n",
       "      <td>0.000000</td>\n",
       "    </tr>\n",
       "    <tr>\n",
       "      <th>37170</th>\n",
       "      <td>405-4580013-5361162</td>\n",
       "      <td>Shipped - Other Status</td>\n",
       "      <td>Amazon</td>\n",
       "      <td>Expedited</td>\n",
       "      <td>JNE3399</td>\n",
       "      <td>JNE3399-KR-XS</td>\n",
       "      <td>kurta</td>\n",
       "      <td>XS</td>\n",
       "      <td>B082W8DNQX</td>\n",
       "      <td>Shipped</td>\n",
       "      <td>5.220</td>\n",
       "      <td>SALEM</td>\n",
       "      <td>TAMIL NADU</td>\n",
       "      <td>636001.0</td>\n",
       "      <td>No promocion</td>\n",
       "      <td>False</td>\n",
       "      <td>April</td>\n",
       "      <td>Friday</td>\n",
       "      <td>10.526316</td>\n",
       "    </tr>\n",
       "    <tr>\n",
       "      <th>14578</th>\n",
       "      <td>404-2737275-5447529</td>\n",
       "      <td>Shipped - Other Status</td>\n",
       "      <td>Amazon</td>\n",
       "      <td>Expedited</td>\n",
       "      <td>JNE3613</td>\n",
       "      <td>JNE3613-KR-L</td>\n",
       "      <td>kurta</td>\n",
       "      <td>L</td>\n",
       "      <td>B08XVFSDR2</td>\n",
       "      <td>Shipped</td>\n",
       "      <td>4.788</td>\n",
       "      <td>DALTONGANJ</td>\n",
       "      <td>JHARKHAND</td>\n",
       "      <td>822101.0</td>\n",
       "      <td>IN Core Free Shipping</td>\n",
       "      <td>False</td>\n",
       "      <td>April</td>\n",
       "      <td>Thursday</td>\n",
       "      <td>5.263158</td>\n",
       "    </tr>\n",
       "  </tbody>\n",
       "</table>\n",
       "</div>"
      ],
      "text/plain": [
       "                  ID_Pedido                  Estado_venta Cumplimiento  \\\n",
       "76504   402-0424416-5169145        Shipped - Other Status       Amazon   \n",
       "32185   404-6920467-2129930  Shipped - Delivered to Buyer     Merchant   \n",
       "102139  404-3958319-2885914  Shipped - Delivered to Buyer     Merchant   \n",
       "37170   405-4580013-5361162        Shipped - Other Status       Amazon   \n",
       "14578   404-2737275-5447529        Shipped - Other Status       Amazon   \n",
       "\n",
       "       Nivel_servicio    Style                    SKU      Categoria    Talla  \\\n",
       "76504       Expedited  JNE2205  JNE2205-KR-467-A-XXXL          kurta  3XL-6XL   \n",
       "32185        Standard  JNE3546           JNE3546-KR-L          kurta        L   \n",
       "102139       Standard    J0152             J0152-DR-L  Western Dress        L   \n",
       "37170       Expedited  JNE3399          JNE3399-KR-XS          kurta       XS   \n",
       "14578       Expedited  JNE3613           JNE3613-KR-L          kurta        L   \n",
       "\n",
       "              ASIN Estado_mensajeria  Importe         Ciudad          Estado  \\\n",
       "76504   B07FVMT2G5           Shipped    4.272  VISAKHAPATNAM  ANDHRA PRADESH   \n",
       "32185   B08HHJRFQP           Shipped    5.496           PUNE     MAHARASHTRA   \n",
       "102139  B08V197XLZ           Shipped   10.140        CHENNAI      TAMIL NADU   \n",
       "37170   B082W8DNQX           Shipped    5.220          SALEM      TAMIL NADU   \n",
       "14578   B08XVFSDR2           Shipped    4.788     DALTONGANJ       JHARKHAND   \n",
       "\n",
       "       Codigo_postal              Promocion    B2B    Mes       Dia  \\\n",
       "76504       530013.0           No promocion  False    May    Monday   \n",
       "32185       411043.0    PLCC Free_Financing  False  April    Monday   \n",
       "102139      600020.0    PLCC Free_Financing  False   June    Monday   \n",
       "37170       636001.0           No promocion  False  April    Friday   \n",
       "14578       822101.0  IN Core Free Shipping  False  April  Thursday   \n",
       "\n",
       "        Prop_perdidos  \n",
       "76504       10.526316  \n",
       "32185        0.000000  \n",
       "102139       0.000000  \n",
       "37170       10.526316  \n",
       "14578        5.263158  "
      ]
     },
     "execution_count": 97,
     "metadata": {},
     "output_type": "execute_result"
    }
   ],
   "source": [
    "imput_test.head()"
   ]
  },
  {
   "cell_type": "code",
   "execution_count": 98,
   "id": "92acf080-4e23-4c63-9c50-64747fb58d73",
   "metadata": {},
   "outputs": [
    {
     "name": "stdout",
     "output_type": "stream",
     "text": [
      "<class 'pandas.core.frame.DataFrame'>\n",
      "Index: 25794 entries, 76504 to 31685\n",
      "Data columns (total 19 columns):\n",
      " #   Column             Non-Null Count  Dtype   \n",
      "---  ------             --------------  -----   \n",
      " 0   ID_Pedido          25794 non-null  object  \n",
      " 1   Estado_venta       25794 non-null  category\n",
      " 2   Cumplimiento       25794 non-null  category\n",
      " 3   Nivel_servicio     25794 non-null  category\n",
      " 4   Style              25794 non-null  object  \n",
      " 5   SKU                25794 non-null  object  \n",
      " 6   Categoria          25794 non-null  category\n",
      " 7   Talla              25794 non-null  category\n",
      " 8   ASIN               25794 non-null  object  \n",
      " 9   Estado_mensajeria  25794 non-null  category\n",
      " 10  Importe            25794 non-null  float64 \n",
      " 11  Ciudad             25794 non-null  object  \n",
      " 12  Estado             25794 non-null  object  \n",
      " 13  Codigo_postal      25794 non-null  object  \n",
      " 14  Promocion          25794 non-null  category\n",
      " 15  B2B                25794 non-null  category\n",
      " 16  Mes                25794 non-null  category\n",
      " 17  Dia                25794 non-null  category\n",
      " 18  Prop_perdidos      25794 non-null  float64 \n",
      "dtypes: category(10), float64(2), object(7)\n",
      "memory usage: 2.2+ MB\n"
     ]
    }
   ],
   "source": [
    "imput_test.info()"
   ]
  },
  {
   "cell_type": "markdown",
   "id": "1939d491-812a-414b-b4f1-c68cc27bff01",
   "metadata": {},
   "source": [
    "### Transformación de variables a numéricas"
   ]
  },
  {
   "cell_type": "markdown",
   "id": "292e026d-b24d-4c2c-abc1-c7199f64b627",
   "metadata": {},
   "source": [
    "* **LabelEncoder()**"
   ]
  },
  {
   "cell_type": "code",
   "execution_count": 99,
   "id": "e1999f89-5010-4d17-b4ac-83ed68f41aa0",
   "metadata": {},
   "outputs": [],
   "source": [
    "le = LabelEncoder()\n",
    "variables_le = ['Estado_venta', 'Categoria', 'Promocion', 'Style', 'SKU', 'ASIN']\n",
    "for m in variables_le:\n",
    "    imput_test[m] = le.fit_transform(imput_test[m])"
   ]
  },
  {
   "cell_type": "markdown",
   "id": "34e7ef71-386b-404a-9871-5e771efae654",
   "metadata": {},
   "source": [
    "* **map()**"
   ]
  },
  {
   "cell_type": "code",
   "execution_count": 100,
   "id": "b6bf5587-2ba1-4707-b270-e2c8e3489930",
   "metadata": {},
   "outputs": [],
   "source": [
    "imput_test['Cumplimiento'] = imput_test['Cumplimiento'].map({'Amazon': 1, 'Merchant': 0})\n",
    "imput_test['Nivel_servicio'] = imput_test['Nivel_servicio'].map({'Expedited': 1, 'Standard': 0})\n",
    "imput_test['Estado_mensajeria'] = imput_test['Estado_mensajeria'].map({'Shipped': 1, 'Unshipped': 0, 'Cancelled': 2})\n",
    "#imput['B2B'] = imput['B2B'].map({'True': 1, 'False': 0})"
   ]
  },
  {
   "cell_type": "markdown",
   "id": "26f3ac2e-3e65-41ed-900e-37745a9a8472",
   "metadata": {},
   "source": [
    "* **OrdinalEncoder()**"
   ]
  },
  {
   "cell_type": "code",
   "execution_count": 101,
   "id": "425d4478-f8cd-4ed5-bc1d-fea43f0c1334",
   "metadata": {},
   "outputs": [],
   "source": [
    "oe = OrdinalEncoder()\n",
    "\n",
    "oe_Dia = OrdinalEncoder(categories=[['Monday','Tuesday','Wednesday','Thursday','Friday','Saturday','Sunday']]) \n",
    "imput_test['Dia'] = oe.fit_transform(imput_test[['Dia']])\n",
    "\n",
    "oe_Mes = OrdinalEncoder(categories=[['March','April','May','June']])\n",
    "imput_test['Mes'] = oe.fit_transform(imput_test[['Mes']])\n",
    "\n",
    "oe_Talla = OrdinalEncoder(categories=[['S','M','L','XL','XXL','3XL-6XL','Talla_unica']])\n",
    "imput_test['Talla'] = oe.fit_transform(imput_test[['Talla']])"
   ]
  },
  {
   "cell_type": "markdown",
   "id": "905ebafb-8602-4c6a-a010-7d0a76470e47",
   "metadata": {},
   "source": [
    "* **astype()**"
   ]
  },
  {
   "cell_type": "code",
   "execution_count": 102,
   "id": "f74c7a3c-ce56-436c-b3f6-5018929e39fc",
   "metadata": {},
   "outputs": [],
   "source": [
    "cols_a_int = ['Cumplimiento', 'Nivel_servicio', 'Estado_mensajeria', 'B2B', 'Talla', 'Dia', 'Mes', 'Codigo_postal']\n",
    "cols_a_round = ['Talla', 'Dia', 'Mes', 'Codigo_postal', 'Importe', 'Prop_perdidos']\n",
    "imput_test[cols_a_round] = imput_test[cols_a_round].round(2)\n",
    "imput_test['Codigo_postal'] = imput_test['Codigo_postal'].replace('Desc', 000000)\n",
    "imput_test[cols_a_int] = imput_test[cols_a_int].astype(int)"
   ]
  },
  {
   "cell_type": "markdown",
   "id": "b5f6fab7-6cb3-4f17-8a16-77887c6fe4df",
   "metadata": {},
   "source": [
    "* **Frequency encoding**"
   ]
  },
  {
   "cell_type": "code",
   "execution_count": 103,
   "id": "28279fb9-0d37-4ce8-91ed-258b498c1dad",
   "metadata": {},
   "outputs": [],
   "source": [
    "frecuencia1 = imput_test['Ciudad'].value_counts()\n",
    "ciudades_valor_unico = frecuencia1[frecuencia1 < 5130]\n",
    "imput_test['Ciudad'] = imput_test['Ciudad'].apply(lambda x: 'Otras' if x in ciudades_valor_unico else x)\n",
    "\n",
    "frecuencia2 = imput_test['Estado'].value_counts()\n",
    "estado_valor_unico = frecuencia2[frecuencia2 < 9946]\n",
    "imput_test['Estado'] = imput_test['Estado'].apply(lambda x: 'Otros' if x in estado_valor_unico else x)\n",
    "\n",
    "imput_test['Ciudad'] = imput_test['Ciudad'].map(imput_test['Ciudad'].value_counts())\n",
    "imput_test['Estado'] = imput_test['Estado'].map(imput_test['Estado'].value_counts())"
   ]
  },
  {
   "cell_type": "code",
   "execution_count": 104,
   "id": "dd1ba267-e993-45f5-9102-ab621a36bd93",
   "metadata": {},
   "outputs": [
    {
     "name": "stdout",
     "output_type": "stream",
     "text": [
      "<class 'pandas.core.frame.DataFrame'>\n",
      "Index: 25794 entries, 76504 to 31685\n",
      "Data columns (total 19 columns):\n",
      " #   Column             Non-Null Count  Dtype  \n",
      "---  ------             --------------  -----  \n",
      " 0   ID_Pedido          25794 non-null  object \n",
      " 1   Estado_venta       25794 non-null  int32  \n",
      " 2   Cumplimiento       25794 non-null  int32  \n",
      " 3   Nivel_servicio     25794 non-null  int32  \n",
      " 4   Style              25794 non-null  int32  \n",
      " 5   SKU                25794 non-null  int32  \n",
      " 6   Categoria          25794 non-null  int32  \n",
      " 7   Talla              25794 non-null  int32  \n",
      " 8   ASIN               25794 non-null  int32  \n",
      " 9   Estado_mensajeria  25794 non-null  int32  \n",
      " 10  Importe            25794 non-null  float64\n",
      " 11  Ciudad             25794 non-null  int64  \n",
      " 12  Estado             25794 non-null  int64  \n",
      " 13  Codigo_postal      25794 non-null  int32  \n",
      " 14  Promocion          25794 non-null  int32  \n",
      " 15  B2B                25794 non-null  int32  \n",
      " 16  Mes                25794 non-null  int32  \n",
      " 17  Dia                25794 non-null  int32  \n",
      " 18  Prop_perdidos      25794 non-null  float64\n",
      "dtypes: float64(2), int32(14), int64(2), object(1)\n",
      "memory usage: 2.6+ MB\n"
     ]
    }
   ],
   "source": [
    "imput_test.info()"
   ]
  },
  {
   "cell_type": "code",
   "execution_count": 105,
   "id": "ebaaf974-8ee9-4539-8ba3-729b0342ac50",
   "metadata": {},
   "outputs": [],
   "source": [
    "imput_test.set_index('ID_Pedido', inplace=True)"
   ]
  },
  {
   "cell_type": "markdown",
   "id": "f5dd665e-57b8-4401-b674-107bf833dc32",
   "metadata": {},
   "source": [
    "**Se guardan los datos preprocesados en un csv**"
   ]
  },
  {
   "cell_type": "code",
   "execution_count": 106,
   "id": "edabdb39-0bf1-4983-a8d6-778894d54f8b",
   "metadata": {},
   "outputs": [],
   "source": [
    "imput_test.to_csv(\"C:\\\\Users\\\\danie\\\\Desktop\\\\TFM\\\\TFM-Reproducible\\\\Sale Report\\\\procesado\\\\salereport_test_preprocessed.csv\", index= False)"
   ]
  },
  {
   "cell_type": "markdown",
   "id": "a4f694c6-44cd-4dcf-9d39-66196a7643a8",
   "metadata": {},
   "source": [
    "## Muestreo de datos\n",
    "Una vez terminado el preprocesado, lo que queremos es realizar un muestreo estratificado de nuestros datos.  Para ello nos ayudamos de la función ```train_test_split()```, con la que indicamos nuestras X e Y de train y test. "
   ]
  },
  {
   "cell_type": "code",
   "execution_count": 107,
   "id": "288a153d-4302-4693-b988-2901abad91d8",
   "metadata": {
    "scrolled": true
   },
   "outputs": [
    {
     "data": {
      "text/plain": [
       "Cantidad\n",
       "1     105526\n",
       "0      11672\n",
       "2        349\n",
       "3         39\n",
       "4         18\n",
       "13         1\n",
       "5          1\n",
       "9          1\n",
       "8          1\n",
       "Name: count, dtype: int64"
      ]
     },
     "execution_count": 107,
     "metadata": {},
     "output_type": "execute_result"
    }
   ],
   "source": [
    "training_values_target.Cantidad.value_counts()"
   ]
  },
  {
   "cell_type": "code",
   "execution_count": 108,
   "id": "7eb6b953-138c-48a9-9add-96ef37fad968",
   "metadata": {},
   "outputs": [],
   "source": [
    "cantidad_counts = training_values_target.Cantidad.value_counts()\n",
    "\n",
    "to_remove = cantidad_counts[cantidad_counts == 1].index\n",
    "\n",
    "new_training_values_target = training_values_target[~training_values_target.Cantidad.isin(to_remove)]\n",
    "\n",
    "# Dividir el conjunto de datos filtrado en entrenamiento y prueba\n",
    "X_train, X_test, y_train, y_test = train_test_split(\n",
    "    new_training_values_target.drop('Cantidad', axis=1),\n",
    "    new_training_values_target.Cantidad,\n",
    "    test_size=0.2,\n",
    "    random_state=0,\n",
    "    stratify=new_training_values_target.Cantidad\n",
    ")"
   ]
  },
  {
   "cell_type": "markdown",
   "id": "e0f6caa0-0255-48bb-95b8-fca66ff90638",
   "metadata": {},
   "source": [
    "Una vez definidas nuestras X e Y de train y test, el siguiente paso es construir un modelo analítico que nos permita predecir la cantidad de cada producto. Vamos a utilizar diferentes criterios para predecir, obteniendo el accuracy de cada uno de ellos que será lo que nos permitirá saber cuál es el mejor.*"
   ]
  },
  {
   "cell_type": "code",
   "execution_count": 109,
   "id": "7f19c186-9cec-4289-bdbb-f45bc1a0e309",
   "metadata": {},
   "outputs": [],
   "source": [
    "from sklearn.metrics import accuracy_score, auc, confusion_matrix, f1_score, precision_score, recall_score, roc_curve, classification_report"
   ]
  },
  {
   "cell_type": "code",
   "execution_count": 110,
   "id": "d74088f7-80c6-4f71-a3e2-284edcd02562",
   "metadata": {},
   "outputs": [
    {
     "name": "stdout",
     "output_type": "stream",
     "text": [
      "              precision    recall  f1-score   support\n",
      "\n",
      "           0       0.98      0.99      0.98      2334\n",
      "           1       1.00      1.00      1.00     21105\n",
      "           2       0.51      0.34      0.41        70\n",
      "           3       0.25      0.38      0.30         8\n",
      "           4       0.00      0.00      0.00         4\n",
      "\n",
      "    accuracy                           0.99     23521\n",
      "   macro avg       0.55      0.54      0.54     23521\n",
      "weighted avg       0.99      0.99      0.99     23521\n",
      "\n"
     ]
    }
   ],
   "source": [
    "tree_mod = DecisionTreeClassifier(criterion=\"gini\").fit(X_train, y_train)\n",
    "tree_pred = tree_mod.predict(X_test)\n",
    "print(classification_report(y_test, tree_pred))"
   ]
  },
  {
   "cell_type": "code",
   "execution_count": 111,
   "id": "96695cc4-71b3-49e8-a59e-aa78e45843bc",
   "metadata": {},
   "outputs": [
    {
     "name": "stdout",
     "output_type": "stream",
     "text": [
      "              precision    recall  f1-score   support\n",
      "\n",
      "           0       0.99      0.99      0.99      2334\n",
      "           1       1.00      1.00      1.00     21105\n",
      "           2       0.45      0.19      0.26        70\n",
      "           3       0.25      0.25      0.25         8\n",
      "           4       0.00      0.00      0.00         4\n",
      "\n",
      "    accuracy                           0.99     23521\n",
      "   macro avg       0.54      0.48      0.50     23521\n",
      "weighted avg       0.99      0.99      0.99     23521\n",
      "\n"
     ]
    }
   ],
   "source": [
    "classifier2 = RandomForestClassifier().fit(X_train, y_train)\n",
    "pred2 = classifier2.predict(X_test)\n",
    "print(classification_report(y_test, pred2))"
   ]
  },
  {
   "cell_type": "code",
   "execution_count": 112,
   "id": "335f66f5-027e-4286-8ef3-7dec294c6b7e",
   "metadata": {},
   "outputs": [
    {
     "name": "stdout",
     "output_type": "stream",
     "text": [
      "              precision    recall  f1-score   support\n",
      "\n",
      "           0       1.00      0.99      0.99      2334\n",
      "           1       1.00      1.00      1.00     21105\n",
      "           2       0.00      0.00      0.00        70\n",
      "           3       0.00      0.00      0.00         8\n",
      "           4       0.00      0.00      0.00         4\n",
      "\n",
      "    accuracy                           1.00     23521\n",
      "   macro avg       0.40      0.40      0.40     23521\n",
      "weighted avg       0.99      1.00      0.99     23521\n",
      "\n"
     ]
    }
   ],
   "source": [
    "classifier3 = LinearSVC(penalty='l1', dual= False).fit(X_train, y_train)\n",
    "pred3 = classifier3.predict(X_test)\n",
    "print(classification_report(y_test, pred3))"
   ]
  },
  {
   "cell_type": "code",
   "execution_count": 113,
   "id": "47d578ef-450d-4730-a971-ba12c261abf8",
   "metadata": {},
   "outputs": [
    {
     "name": "stdout",
     "output_type": "stream",
     "text": [
      "              precision    recall  f1-score   support\n",
      "\n",
      "           0       1.00      0.00      0.00      2334\n",
      "           1       0.90      1.00      0.95     21105\n",
      "           2       0.00      0.00      0.00        70\n",
      "           3       0.00      0.00      0.00         8\n",
      "           4       0.00      0.00      0.00         4\n",
      "\n",
      "    accuracy                           0.90     23521\n",
      "   macro avg       0.38      0.20      0.19     23521\n",
      "weighted avg       0.90      0.90      0.85     23521\n",
      "\n"
     ]
    }
   ],
   "source": [
    "classifier4 = LogisticRegression(max_iter=10000).fit(X_train, y_train)\n",
    "pred4 = classifier4.predict(X_test)\n",
    "print(classification_report(y_test, pred4))"
   ]
  },
  {
   "cell_type": "markdown",
   "id": "2d00f796-a247-407b-a053-d899b45a1efa",
   "metadata": {},
   "source": [
    "## Modelo final y predicción\n",
    "Definiremos entonces el modelo con el que vamos a predecir:"
   ]
  },
  {
   "cell_type": "code",
   "execution_count": 114,
   "id": "25eb9ae0-ffd9-4aa0-b44b-9a2df2e42a95",
   "metadata": {},
   "outputs": [],
   "source": [
    "prediccion = classifier3.predict(imput_test)\n",
    "prediccion = (pd.DataFrame(prediccion,columns=['Cantidad'],index=imput_test.index))\n",
    "prediccion.sort_values(by=['Cantidad'],ascending=False,axis=0,inplace=True)"
   ]
  },
  {
   "cell_type": "code",
   "execution_count": 115,
   "id": "14fc22e3-3480-43c7-a491-5da32b3cf630",
   "metadata": {},
   "outputs": [
    {
     "data": {
      "text/html": [
       "<div>\n",
       "<style scoped>\n",
       "    .dataframe tbody tr th:only-of-type {\n",
       "        vertical-align: middle;\n",
       "    }\n",
       "\n",
       "    .dataframe tbody tr th {\n",
       "        vertical-align: top;\n",
       "    }\n",
       "\n",
       "    .dataframe thead th {\n",
       "        text-align: right;\n",
       "    }\n",
       "</style>\n",
       "<table border=\"1\" class=\"dataframe\">\n",
       "  <thead>\n",
       "    <tr style=\"text-align: right;\">\n",
       "      <th></th>\n",
       "      <th>Cantidad</th>\n",
       "    </tr>\n",
       "    <tr>\n",
       "      <th>ID_Pedido</th>\n",
       "      <th></th>\n",
       "    </tr>\n",
       "  </thead>\n",
       "  <tbody>\n",
       "    <tr>\n",
       "      <th>402-0424416-5169145</th>\n",
       "      <td>1</td>\n",
       "    </tr>\n",
       "    <tr>\n",
       "      <th>403-4357826-9377934</th>\n",
       "      <td>1</td>\n",
       "    </tr>\n",
       "    <tr>\n",
       "      <th>406-4294288-1374736</th>\n",
       "      <td>1</td>\n",
       "    </tr>\n",
       "    <tr>\n",
       "      <th>406-3405844-7542758</th>\n",
       "      <td>1</td>\n",
       "    </tr>\n",
       "    <tr>\n",
       "      <th>171-9368643-4137150</th>\n",
       "      <td>1</td>\n",
       "    </tr>\n",
       "    <tr>\n",
       "      <th>...</th>\n",
       "      <td>...</td>\n",
       "    </tr>\n",
       "    <tr>\n",
       "      <th>402-9228360-8117943</th>\n",
       "      <td>0</td>\n",
       "    </tr>\n",
       "    <tr>\n",
       "      <th>403-4920319-1661129</th>\n",
       "      <td>0</td>\n",
       "    </tr>\n",
       "    <tr>\n",
       "      <th>403-9281128-6587508</th>\n",
       "      <td>0</td>\n",
       "    </tr>\n",
       "    <tr>\n",
       "      <th>406-2733771-0751503</th>\n",
       "      <td>0</td>\n",
       "    </tr>\n",
       "    <tr>\n",
       "      <th>405-3141252-5135511</th>\n",
       "      <td>0</td>\n",
       "    </tr>\n",
       "  </tbody>\n",
       "</table>\n",
       "<p>25794 rows × 1 columns</p>\n",
       "</div>"
      ],
      "text/plain": [
       "                     Cantidad\n",
       "ID_Pedido                    \n",
       "402-0424416-5169145         1\n",
       "403-4357826-9377934         1\n",
       "406-4294288-1374736         1\n",
       "406-3405844-7542758         1\n",
       "171-9368643-4137150         1\n",
       "...                       ...\n",
       "402-9228360-8117943         0\n",
       "403-4920319-1661129         0\n",
       "403-9281128-6587508         0\n",
       "406-2733771-0751503         0\n",
       "405-3141252-5135511         0\n",
       "\n",
       "[25794 rows x 1 columns]"
      ]
     },
     "execution_count": 115,
     "metadata": {},
     "output_type": "execute_result"
    }
   ],
   "source": [
    "prediccion"
   ]
  }
 ],
 "metadata": {
  "kernelspec": {
   "display_name": "Python 3 (ipykernel)",
   "language": "python",
   "name": "python3"
  },
  "language_info": {
   "codemirror_mode": {
    "name": "ipython",
    "version": 3
   },
   "file_extension": ".py",
   "mimetype": "text/x-python",
   "name": "python",
   "nbconvert_exporter": "python",
   "pygments_lexer": "ipython3",
   "version": "3.11.8"
  }
 },
 "nbformat": 4,
 "nbformat_minor": 5
}
